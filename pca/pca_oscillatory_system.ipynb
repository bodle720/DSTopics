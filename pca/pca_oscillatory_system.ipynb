{
 "cells": [
  {
   "cell_type": "markdown",
   "id": "e2353c52-ff45-4946-a306-b6116d7705c3",
   "metadata": {},
   "source": [
    "## Principal Component Analysis (PCA)\n",
    "\n",
    "> PCA is a dimensionality reduction technique useful for gaining insight into the behavior of a data set. The resulting lower dimensional feature space can be used for further downstream ML tasks such as classification.\n",
    "\n",
    "There are multiple derivations of the results. The problem can be framed in equivalent ways, such as obtaining the eigenvector/eigenvalue pairs of the data's covariance matric, the calulation of the Singular Value Decomposition (SVD), and solving an optimization problem. In this notebook, we briefly summarize the calulation of the Principal Components in a non-rigorous way, generate a contrived example from a system of differential equations, and see what inferences can be made from PCA in a purely data driven approach to analyszing that system.\n",
    "\n",
    "Before doing this, there are two important considerations prior to implementing PCA: _feature preprocessing_ and *assumptions of the algorithm*.\n",
    "\n",
    "<u>__Requirements__<u>\n",
    "\n",
    "- Data should be shifted to a mean of zero (subtract the mean of each feature).\n",
    "- Data should be recorded on the same scale. If they are different units or scales, then one may dominante te algorithm and return bad results. In this case the approach it often to standardize the data (subtract the mean and divide by the standard deviation)\n",
    "- There must be a linear correlation between the features.*\n",
    "\n",
    "*Imagine a case of independent Gaussian variables in $R^3$. Then after centering and standardizing, PCA would be acting on a ball centered at the origin, and hence not return significant results. Valuable reults might still be obtained in this case if not standardizing. This is however a rare case.\n",
    "\n",
    "<u>__Algorithm__<u>\n",
    "\n",
    "Assume observed data is organized in a matrix $X \\in R^{n \\times m}$, with $n$ samples of $m$ features each.\n",
    "\n",
    "PCA aims to find _p_ orthogonal directions on which to project the data, with $p<m$. These directions will capture the maximum variability in the data. In order to accomplish this, we caluclate the covariance matrix of $X$:\n",
    "$$C \\equiv Cov(X) = X^TX \\in R^{m \\times m}$$\n",
    "This is a symmetric matrix with off diagonals non-zero. We can diagonalize $C$ by finding its corresponding eigevectors and eigenvalues:\n",
    "$$C = V \\Lambda V^{-1}$$\n",
    "\n",
    "The entries in the diagonal matrix $\\Lambda$ give the variances in each principal direction and the column vectors in $V$ give the principal directions we wish to project the data onto. This projection of our data is called the _principal components_ and is calulated as $Y = XV$. The data in this new space can be shown to have a diagonal covariance matrix (by calulating $Y^{T}Y$). This means the data features are now independent in this eigenbasis.\n",
    "\n",
    "<u>__Application__<u>\n",
    "\n",
    "Consider the linear system of differential equations given by $A \\in R^{2 \\times 2}$: $$\\dot{\\vec{y}} = A \\vec{y}$$\n",
    "\n",
    "The solution $\\vec{y}(t) = [x_1(t), x_2(t)]^T$ for some initial condition at $t = 0$ has the form: $$\\vec{y} = e^{At}\\vec{y(0)}$$\n",
    "The matrix exponential evaluates to a matrix and can be calculated using the power series definition of $e^x$.\n",
    "\n",
    "The value of the matrix $A$ determines what type of system we have. We choose $A$ carefully so that it has purely imaginary (of the form $\\pm bi$ for some b) eigenvalues. This guarantees the solution isa _center_ (elliptical solutions about the origin) and will not spiral to infinity or zero. Such a requirement is satisfied by setting: $$A = \\begin{bmatrix}0&1\\cr-9&0\\end{bmatrix}$$\n",
    "\n",
    "In this case, the eigenvalues are $\\pm 3i$. The corresponding eigenvectors are also complex because the eigenvalue is complex. They also come in conjugate pairs: $$\\vec{v} = \\begin{pmatrix} \\pm i /3 \\cr1\\cr\\end{pmatrix}$$\n",
    "\n",
    "Given the complex eigenvalues, we know this system has two linearly independent solutions that are real-valued. They will take the form\n",
    "$\\vec{s_1} = \\operatorname{Re}(s^*)$ and $\\vec{s_2} = \\operatorname{Im}(s^*) $, where $$s^* = \\begin{pmatrix} -i /3 \\cr1\\cr\\end{pmatrix} e^{3it} $$ \n",
    "\n",
    "The general solution is therefore given by: $$\\vec{y}(t) = c_1\\vec{s_1} + c_2\\vec{s_2}$$\n",
    "\n",
    "This gives us the general solution:\n",
    "\n",
    "$$\\vec{y(t)} = c_1 \\begin{pmatrix} sin(3t)/3 \\cr cos(3t) \\cr\\end{pmatrix} + c_2 \\begin{pmatrix} -cos(3t)/3 \\cr sin(3t) \\cr\\end{pmatrix}  $$\n",
    "\n",
    "If we start at the coordinate $\\begin{pmatrix} 3 \\cr3\\cr\\end{pmatrix} $, then out specific solution is parameterized by: $$ \\vec{y(t)} = \\begin{pmatrix} sin(3t) + 3cos(3t) \\cr 3cos(3t) -9sin(3t) \\cr\\end{pmatrix} $$\n",
    "\n",
    "This corresponds to an ellipse oscillating around the origin in the $x$ and $y$ directions. The following image shows the vector field of this system and the unique solution to our initial condition (gray square is the starting point, moving clockwise). The image is generated by the phase plane plotter [located here](https://aeb019.hosted.uark.edu/pplane.html) by Ariel Barton.\n",
    "\n",
    "<center><img src=\"oscillation_pca.png\"/></center><br>\n",
    "\n",
    "Note if $y = 0$, there is no motion is the x direction. Further, if $x = 0$, there is no motion in the y direction. This is consistent with the $A$ matrix above.\n",
    "\n",
    "At this point, it is worth pointing out that the derivatives of each feature are related in a linear way by $A$, however the variables themselves are not linearly related. They are ellipses in $x$ and $y$ (quadratics). Generally, PCA is not the approach for this type of problem. Generally a system like this is unstable and swirls around the origin, making PCA useless. In this special case, however, the system is stable and is centered at the origin, so PCA might return _something_ valuable.\n",
    "\n",
    "Another observation is that minus the inside of the ellipse being empty, this might be reminiscent of two independent Gaussian variables in $x$ and $y$. Recall that for independent Gaussian variables, PCA has no use since the covariance matrix will show $0$ correlation between variables and hence already be diagonal. In this case, you can simply project onto the axis (axes) with the highest variance as they will already be orthogonal. If you were to apply PCA, you would need to do so without standardizing due to the reason (*) mentioned above. PCA would then pick out these axes for you, which should be the unit axes with eigenvalues equal to the respective variances. If you had Gaussians that were linearly related (imagine a rotated $3D$ ellipse/cloud made from Gaussians, for example), then PCA will do the same thing, but apply a rotation to the data first. Standardizing in this case is acceptable. These cases are unlikely as we assume some relationship between variables when applying PCA, but instructive nevertheless.\n",
    "\n",
    "The actual distribution for $x$ and $y$ will depend on the time dynamics of the problem. For example, it might turn the top and bottom corners more slowly than transversing the curve in the vertical direction. The quantity we see will depend on the interval of time we sample from and the sampling frequency (see below histograms). "
   ]
  },
  {
   "cell_type": "markdown",
   "id": "88fce6dc-25b2-490e-bf72-d8b1de2af26f",
   "metadata": {},
   "source": [
    "<u>__Truth Plots__<u>\n",
    "\n",
    "First, we take the solutions in time and plot them to better understand the system dynamics. Since one period of oscillation is $\\frac{2\\pi}{3}$ units of time, we plot from $t = 0$ to $t = p\\frac{2\\pi}{3} $ to visualize $p$ periods, coded below to be configurable. Note plotly allows you to hover over charts to view the values and labels."
   ]
  },
  {
   "cell_type": "code",
   "execution_count": 16,
   "id": "fc73798c-4dd9-4296-8080-c4f9ef292b44",
   "metadata": {},
   "outputs": [],
   "source": [
    "# imports\n",
    "import numpy as np\n",
    "import plotly.express as px"
   ]
  },
  {
   "cell_type": "code",
   "execution_count": 17,
   "id": "0b4bfee3-8fd6-4745-8f3b-22c66a6d0236",
   "metadata": {},
   "outputs": [
    {
     "data": {
      "application/vnd.plotly.v1+json": {
       "config": {
        "plotlyServerURL": "https://plot.ly"
       },
       "data": [
        {
         "hovertemplate": "variable=x(t)<br>t=%{x}<br>value=%{y}<extra></extra>",
         "legendgroup": "x(t)",
         "line": {
          "color": "#636efa",
          "dash": "solid"
         },
         "marker": {
          "symbol": "circle"
         },
         "mode": "lines",
         "name": "x(t)",
         "orientation": "v",
         "showlegend": true,
         "type": "scatter",
         "x": [
          0,
          0.1,
          0.2,
          0.30000000000000004,
          0.4,
          0.5,
          0.6000000000000001,
          0.7000000000000001,
          0.8,
          0.9,
          1,
          1.1,
          1.2000000000000002,
          1.3,
          1.4000000000000001,
          1.5,
          1.6,
          1.7000000000000002,
          1.8,
          1.9000000000000001,
          2,
          2.1,
          2.2,
          2.3000000000000003,
          2.4000000000000004,
          2.5,
          2.6,
          2.7,
          2.8000000000000003,
          2.9000000000000004,
          3,
          3.1,
          3.2,
          3.3000000000000003,
          3.4000000000000004,
          3.5,
          3.6,
          3.7,
          3.8000000000000003,
          3.9000000000000004,
          4,
          4.1000000000000005,
          4.2,
          4.3,
          4.4,
          4.5,
          4.6000000000000005,
          4.7,
          4.800000000000001,
          4.9,
          5,
          5.1000000000000005,
          5.2,
          5.300000000000001,
          5.4,
          5.5,
          5.6000000000000005,
          5.7,
          5.800000000000001,
          5.9,
          6,
          6.1000000000000005,
          6.2,
          6.300000000000001,
          6.4,
          6.5,
          6.6000000000000005,
          6.7,
          6.800000000000001,
          6.9,
          7,
          7.1000000000000005,
          7.2,
          7.300000000000001,
          7.4,
          7.5,
          7.6000000000000005,
          7.7,
          7.800000000000001,
          7.9,
          8,
          8.1,
          8.200000000000001,
          8.3,
          8.4,
          8.5,
          8.6,
          8.700000000000001,
          8.8,
          8.9,
          9,
          9.1,
          9.200000000000001,
          9.3,
          9.4,
          9.5,
          9.600000000000001,
          9.700000000000001,
          9.8,
          9.9,
          10,
          10.100000000000001,
          10.200000000000001,
          10.3,
          10.4,
          10.5
         ],
         "xaxis": "x",
         "y": [
          3,
          3.1615296740381575,
          3.0406493181240704,
          2.648156814439477,
          2.0191123493972465,
          1.2097065916071632,
          0.2922413467989332,
          -0.651328947150699,
          -1.5367179660725867,
          -2.2848365458173534,
          -2.828857481741469,
          -3.120185003869843,
          -3.132795692297293,
          -2.8655630717843934,
          -2.3423582364356865,
          -1.6099175159574362,
          -0.7336676585174988,
          0.20811854581121103,
          1.131314140271917,
          1.953452811919842,
          2.601095361752172,
          3.016389809634596,
          3.1622391393889666,
          3.0256150647642706,
          2.6187218074459153,
          1.9779059302798163,
          1.1604096070625516,
          0.23925734963770728,
          -0.703267054261776,
          -1.5829707067100176,
          -2.321272300412274,
          -2.8522215528507484,
          -3.128390348605361,
          -3.125109351651404,
          -2.842671643675141,
          -2.3063065439596477,
          -1.563925949432496,
          -0.6818445076068931,
          0.2611440733789969,
          1.1808054320425998,
          1.9949889581970415,
          2.630966062294028,
          3.0319268037241525,
          3.162054553617275,
          3.0097253876285737,
          2.588546416481297,
          1.9361403032912456,
          1.1107845431203915,
          0.18620570790800428,
          -0.7550063286244243,
          -1.628775898419347,
          -2.3570517681122674,
          -2.8747792232520037,
          -3.135711212193343,
          -3.1165394574851684,
          -2.8189765148772636,
          -2.269602795815592,
          -1.5174922184509905,
          -0.6298285806851998,
          0.3140957684054664,
          1.2299628779605642,
          2.035961066765888,
          2.660092917080529,
          3.046606589537319,
          3.1609759689105075,
          2.9929847791614335,
          2.557639172950412,
          1.8938272767116973,
          1.0608454301377077,
          0.13310142075370412,
          -0.8065321421367492,
          -1.6741205908254675,
          -2.392164833087425,
          -2.896524115277495,
          -3.142145524826282,
          -3.1070884327410564,
          -2.7944843846489626,
          -2.2322573691526815,
          -1.4706294510932054,
          -0.5776345840715179,
          0.3669586600043673,
          1.2787725798771366,
          2.0763575536954866,
          2.6884676911566086,
          3.060425016698869,
          3.1590036902139342,
          2.9753979723887634,
          2.526008815172713,
          1.8509788135861027,
          1.01060638726174,
          0.07995950220299441,
          -0.85782992704806,
          -1.7189919637489517,
          -2.4266015679180373,
          -2.9174500810540644,
          -3.14769146734877,
          -3.0967589494811376,
          -2.7692021775824536,
          -2.194280822540067,
          -1.423350896739695,
          -0.5252772744301097,
          0.41971780239665957,
          1.3272207379603675,
          2.1161669977988575,
          2.7160823622009014,
          3.0733781783631215
         ],
         "yaxis": "y"
        },
        {
         "hovertemplate": "variable=y(t)<br>t=%{x}<br>value=%{y}<extra></extra>",
         "legendgroup": "y(t)",
         "line": {
          "color": "#EF553B",
          "dash": "solid"
         },
         "marker": {
          "symbol": "circle"
         },
         "mode": "lines",
         "name": "y(t)",
         "orientation": "v",
         "showlegend": true,
         "type": "scatter",
         "x": [
          0,
          0.1,
          0.2,
          0.30000000000000004,
          0.4,
          0.5,
          0.6000000000000001,
          0.7000000000000001,
          0.8,
          0.9,
          1,
          1.1,
          1.2000000000000002,
          1.3,
          1.4000000000000001,
          1.5,
          1.6,
          1.7000000000000002,
          1.8,
          1.9000000000000001,
          2,
          2.1,
          2.2,
          2.3000000000000003,
          2.4000000000000004,
          2.5,
          2.6,
          2.7,
          2.8000000000000003,
          2.9000000000000004,
          3,
          3.1,
          3.2,
          3.3000000000000003,
          3.4000000000000004,
          3.5,
          3.6,
          3.7,
          3.8000000000000003,
          3.9000000000000004,
          4,
          4.1000000000000005,
          4.2,
          4.3,
          4.4,
          4.5,
          4.6000000000000005,
          4.7,
          4.800000000000001,
          4.9,
          5,
          5.1000000000000005,
          5.2,
          5.300000000000001,
          5.4,
          5.5,
          5.6000000000000005,
          5.7,
          5.800000000000001,
          5.9,
          6,
          6.1000000000000005,
          6.2,
          6.300000000000001,
          6.4,
          6.5,
          6.6000000000000005,
          6.7,
          6.800000000000001,
          6.9,
          7,
          7.1000000000000005,
          7.2,
          7.300000000000001,
          7.4,
          7.5,
          7.6000000000000005,
          7.7,
          7.800000000000001,
          7.9,
          8,
          8.1,
          8.200000000000001,
          8.3,
          8.4,
          8.5,
          8.6,
          8.700000000000001,
          8.8,
          8.9,
          9,
          9.1,
          9.200000000000001,
          9.3,
          9.4,
          9.5,
          9.600000000000001,
          9.700000000000001,
          9.8,
          9.9,
          10,
          10.100000000000001,
          10.200000000000001,
          10.3,
          10.4,
          10.5
         ],
         "xaxis": "x",
         "y": [
          3,
          0.20632760742476197,
          -2.6057754158262845,
          -5.185112281835359,
          -7.301278510275018,
          -8.76524327443338,
          -9.446234961983018,
          -9.283422613639436,
          -8.291349771584093,
          -6.558635348155652,
          -4.240057562340141,
          -1.5427280624373565,
          1.2924087406512355,
          4.012098520055348,
          6.373399487700196,
          8.165383660693534,
          9.227978429840906,
          9.466265369088532,
          8.858959015831788,
          7.460308237896218,
          5.395250343741431,
          2.84825080479109,
          0.04682550425517995,
          -2.7587825791177307,
          -5.3179568310456204,
          -7.402093837467572,
          -8.825023846683498,
          -9.459640758813151,
          -9.24925613514458,
          -8.212663007531837,
          -6.44245715282984,
          -4.096765787921366,
          -1.3851225363755473,
          1.4502495861018092,
          4.156075232260296,
          6.490651055757053,
          8.245436351232419,
          9.263681374432997,
          9.454429330025755,
          8.800641271232921,
          7.360718138201391,
          5.263283975952038,
          2.6956963315127678,
          -0.11268983775963815,
          -2.911009759443671,
          -5.449297849034913,
          -7.500816391149803,
          -8.882309344358786,
          -9.470372057584767,
          -9.212474640053758,
          -8.131654299990515,
          -6.324457499418388,
          -3.952315746246427,
          -1.2271253984514319,
          1.607680406499524,
          4.298876908813967,
          6.6060675399994535,
          8.323157832365444,
          9.296765224021128,
          9.439920266317296,
          8.739835345677326,
          7.259046963033203,
          5.1298295344467375,
          2.5423797114691715,
          -0.27217331928847965,
          -3.0624139180345775,
          -5.579098202120642,
          -7.597418259767248,
          -8.937083571288985,
          -9.478425824267452,
          -9.17308852749731,
          -8.048346552327857,
          -6.204669749636826,
          -3.8067482772759385,
          -1.06878131875866,
          1.764656691864039,
          4.440463175793487,
          6.719616309044137,
          8.398526130113288,
          9.327220624900042,
          9.422742280070604,
          8.676558430656094,
          7.155323457601707,
          4.994924750430531,
          2.388344291444084,
          -0.43157985000774834,
          -3.2129522488116016,
          -5.707321192208102,
          -7.691872131340878,
          -8.989331041308466,
          -9.483799781842036,
          -9.131108933001867,
          -7.9627633179128665,
          -6.083127770744218,
          -3.6601045368976424,
          -0.9101350654808056,
          1.9211340607246337,
          4.580794002905323,
          6.8312652595618015,
          8.471519935805661,
          9.355038966498508,
          9.402900227970191,
          8.610828416276302,
          7.04957694736661,
          4.858607765159744,
          2.2336336214456534
         ],
         "yaxis": "y"
        }
       ],
       "layout": {
        "autosize": true,
        "legend": {
         "title": {
          "text": "variable"
         },
         "tracegroupgap": 0
        },
        "shapes": [
         {
          "type": "line",
          "x0": 2.0943951023931953,
          "x1": 2.0943951023931953,
          "xref": "x",
          "y0": 0,
          "y1": 1,
          "yref": "y domain"
         },
         {
          "type": "line",
          "x0": 4.1887902047863905,
          "x1": 4.1887902047863905,
          "xref": "x",
          "y0": 0,
          "y1": 1,
          "yref": "y domain"
         },
         {
          "type": "line",
          "x0": 6.283185307179586,
          "x1": 6.283185307179586,
          "xref": "x",
          "y0": 0,
          "y1": 1,
          "yref": "y domain"
         },
         {
          "type": "line",
          "x0": 8.377580409572781,
          "x1": 8.377580409572781,
          "xref": "x",
          "y0": 0,
          "y1": 1,
          "yref": "y domain"
         },
         {
          "type": "line",
          "x0": 10.471975511965978,
          "x1": 10.471975511965978,
          "xref": "x",
          "y0": 0,
          "y1": 1,
          "yref": "y domain"
         }
        ],
        "template": {
         "data": {
          "bar": [
           {
            "error_x": {
             "color": "#2a3f5f"
            },
            "error_y": {
             "color": "#2a3f5f"
            },
            "marker": {
             "line": {
              "color": "#E5ECF6",
              "width": 0.5
             },
             "pattern": {
              "fillmode": "overlay",
              "size": 10,
              "solidity": 0.2
             }
            },
            "type": "bar"
           }
          ],
          "barpolar": [
           {
            "marker": {
             "line": {
              "color": "#E5ECF6",
              "width": 0.5
             },
             "pattern": {
              "fillmode": "overlay",
              "size": 10,
              "solidity": 0.2
             }
            },
            "type": "barpolar"
           }
          ],
          "carpet": [
           {
            "aaxis": {
             "endlinecolor": "#2a3f5f",
             "gridcolor": "white",
             "linecolor": "white",
             "minorgridcolor": "white",
             "startlinecolor": "#2a3f5f"
            },
            "baxis": {
             "endlinecolor": "#2a3f5f",
             "gridcolor": "white",
             "linecolor": "white",
             "minorgridcolor": "white",
             "startlinecolor": "#2a3f5f"
            },
            "type": "carpet"
           }
          ],
          "choropleth": [
           {
            "colorbar": {
             "outlinewidth": 0,
             "ticks": ""
            },
            "type": "choropleth"
           }
          ],
          "contour": [
           {
            "colorbar": {
             "outlinewidth": 0,
             "ticks": ""
            },
            "colorscale": [
             [
              0,
              "#0d0887"
             ],
             [
              0.1111111111111111,
              "#46039f"
             ],
             [
              0.2222222222222222,
              "#7201a8"
             ],
             [
              0.3333333333333333,
              "#9c179e"
             ],
             [
              0.4444444444444444,
              "#bd3786"
             ],
             [
              0.5555555555555556,
              "#d8576b"
             ],
             [
              0.6666666666666666,
              "#ed7953"
             ],
             [
              0.7777777777777778,
              "#fb9f3a"
             ],
             [
              0.8888888888888888,
              "#fdca26"
             ],
             [
              1,
              "#f0f921"
             ]
            ],
            "type": "contour"
           }
          ],
          "contourcarpet": [
           {
            "colorbar": {
             "outlinewidth": 0,
             "ticks": ""
            },
            "type": "contourcarpet"
           }
          ],
          "heatmap": [
           {
            "colorbar": {
             "outlinewidth": 0,
             "ticks": ""
            },
            "colorscale": [
             [
              0,
              "#0d0887"
             ],
             [
              0.1111111111111111,
              "#46039f"
             ],
             [
              0.2222222222222222,
              "#7201a8"
             ],
             [
              0.3333333333333333,
              "#9c179e"
             ],
             [
              0.4444444444444444,
              "#bd3786"
             ],
             [
              0.5555555555555556,
              "#d8576b"
             ],
             [
              0.6666666666666666,
              "#ed7953"
             ],
             [
              0.7777777777777778,
              "#fb9f3a"
             ],
             [
              0.8888888888888888,
              "#fdca26"
             ],
             [
              1,
              "#f0f921"
             ]
            ],
            "type": "heatmap"
           }
          ],
          "heatmapgl": [
           {
            "colorbar": {
             "outlinewidth": 0,
             "ticks": ""
            },
            "colorscale": [
             [
              0,
              "#0d0887"
             ],
             [
              0.1111111111111111,
              "#46039f"
             ],
             [
              0.2222222222222222,
              "#7201a8"
             ],
             [
              0.3333333333333333,
              "#9c179e"
             ],
             [
              0.4444444444444444,
              "#bd3786"
             ],
             [
              0.5555555555555556,
              "#d8576b"
             ],
             [
              0.6666666666666666,
              "#ed7953"
             ],
             [
              0.7777777777777778,
              "#fb9f3a"
             ],
             [
              0.8888888888888888,
              "#fdca26"
             ],
             [
              1,
              "#f0f921"
             ]
            ],
            "type": "heatmapgl"
           }
          ],
          "histogram": [
           {
            "marker": {
             "pattern": {
              "fillmode": "overlay",
              "size": 10,
              "solidity": 0.2
             }
            },
            "type": "histogram"
           }
          ],
          "histogram2d": [
           {
            "colorbar": {
             "outlinewidth": 0,
             "ticks": ""
            },
            "colorscale": [
             [
              0,
              "#0d0887"
             ],
             [
              0.1111111111111111,
              "#46039f"
             ],
             [
              0.2222222222222222,
              "#7201a8"
             ],
             [
              0.3333333333333333,
              "#9c179e"
             ],
             [
              0.4444444444444444,
              "#bd3786"
             ],
             [
              0.5555555555555556,
              "#d8576b"
             ],
             [
              0.6666666666666666,
              "#ed7953"
             ],
             [
              0.7777777777777778,
              "#fb9f3a"
             ],
             [
              0.8888888888888888,
              "#fdca26"
             ],
             [
              1,
              "#f0f921"
             ]
            ],
            "type": "histogram2d"
           }
          ],
          "histogram2dcontour": [
           {
            "colorbar": {
             "outlinewidth": 0,
             "ticks": ""
            },
            "colorscale": [
             [
              0,
              "#0d0887"
             ],
             [
              0.1111111111111111,
              "#46039f"
             ],
             [
              0.2222222222222222,
              "#7201a8"
             ],
             [
              0.3333333333333333,
              "#9c179e"
             ],
             [
              0.4444444444444444,
              "#bd3786"
             ],
             [
              0.5555555555555556,
              "#d8576b"
             ],
             [
              0.6666666666666666,
              "#ed7953"
             ],
             [
              0.7777777777777778,
              "#fb9f3a"
             ],
             [
              0.8888888888888888,
              "#fdca26"
             ],
             [
              1,
              "#f0f921"
             ]
            ],
            "type": "histogram2dcontour"
           }
          ],
          "mesh3d": [
           {
            "colorbar": {
             "outlinewidth": 0,
             "ticks": ""
            },
            "type": "mesh3d"
           }
          ],
          "parcoords": [
           {
            "line": {
             "colorbar": {
              "outlinewidth": 0,
              "ticks": ""
             }
            },
            "type": "parcoords"
           }
          ],
          "pie": [
           {
            "automargin": true,
            "type": "pie"
           }
          ],
          "scatter": [
           {
            "fillpattern": {
             "fillmode": "overlay",
             "size": 10,
             "solidity": 0.2
            },
            "type": "scatter"
           }
          ],
          "scatter3d": [
           {
            "line": {
             "colorbar": {
              "outlinewidth": 0,
              "ticks": ""
             }
            },
            "marker": {
             "colorbar": {
              "outlinewidth": 0,
              "ticks": ""
             }
            },
            "type": "scatter3d"
           }
          ],
          "scattercarpet": [
           {
            "marker": {
             "colorbar": {
              "outlinewidth": 0,
              "ticks": ""
             }
            },
            "type": "scattercarpet"
           }
          ],
          "scattergeo": [
           {
            "marker": {
             "colorbar": {
              "outlinewidth": 0,
              "ticks": ""
             }
            },
            "type": "scattergeo"
           }
          ],
          "scattergl": [
           {
            "marker": {
             "colorbar": {
              "outlinewidth": 0,
              "ticks": ""
             }
            },
            "type": "scattergl"
           }
          ],
          "scattermapbox": [
           {
            "marker": {
             "colorbar": {
              "outlinewidth": 0,
              "ticks": ""
             }
            },
            "type": "scattermapbox"
           }
          ],
          "scatterpolar": [
           {
            "marker": {
             "colorbar": {
              "outlinewidth": 0,
              "ticks": ""
             }
            },
            "type": "scatterpolar"
           }
          ],
          "scatterpolargl": [
           {
            "marker": {
             "colorbar": {
              "outlinewidth": 0,
              "ticks": ""
             }
            },
            "type": "scatterpolargl"
           }
          ],
          "scatterternary": [
           {
            "marker": {
             "colorbar": {
              "outlinewidth": 0,
              "ticks": ""
             }
            },
            "type": "scatterternary"
           }
          ],
          "surface": [
           {
            "colorbar": {
             "outlinewidth": 0,
             "ticks": ""
            },
            "colorscale": [
             [
              0,
              "#0d0887"
             ],
             [
              0.1111111111111111,
              "#46039f"
             ],
             [
              0.2222222222222222,
              "#7201a8"
             ],
             [
              0.3333333333333333,
              "#9c179e"
             ],
             [
              0.4444444444444444,
              "#bd3786"
             ],
             [
              0.5555555555555556,
              "#d8576b"
             ],
             [
              0.6666666666666666,
              "#ed7953"
             ],
             [
              0.7777777777777778,
              "#fb9f3a"
             ],
             [
              0.8888888888888888,
              "#fdca26"
             ],
             [
              1,
              "#f0f921"
             ]
            ],
            "type": "surface"
           }
          ],
          "table": [
           {
            "cells": {
             "fill": {
              "color": "#EBF0F8"
             },
             "line": {
              "color": "white"
             }
            },
            "header": {
             "fill": {
              "color": "#C8D4E3"
             },
             "line": {
              "color": "white"
             }
            },
            "type": "table"
           }
          ]
         },
         "layout": {
          "annotationdefaults": {
           "arrowcolor": "#2a3f5f",
           "arrowhead": 0,
           "arrowwidth": 1
          },
          "autotypenumbers": "strict",
          "coloraxis": {
           "colorbar": {
            "outlinewidth": 0,
            "ticks": ""
           }
          },
          "colorscale": {
           "diverging": [
            [
             0,
             "#8e0152"
            ],
            [
             0.1,
             "#c51b7d"
            ],
            [
             0.2,
             "#de77ae"
            ],
            [
             0.3,
             "#f1b6da"
            ],
            [
             0.4,
             "#fde0ef"
            ],
            [
             0.5,
             "#f7f7f7"
            ],
            [
             0.6,
             "#e6f5d0"
            ],
            [
             0.7,
             "#b8e186"
            ],
            [
             0.8,
             "#7fbc41"
            ],
            [
             0.9,
             "#4d9221"
            ],
            [
             1,
             "#276419"
            ]
           ],
           "sequential": [
            [
             0,
             "#0d0887"
            ],
            [
             0.1111111111111111,
             "#46039f"
            ],
            [
             0.2222222222222222,
             "#7201a8"
            ],
            [
             0.3333333333333333,
             "#9c179e"
            ],
            [
             0.4444444444444444,
             "#bd3786"
            ],
            [
             0.5555555555555556,
             "#d8576b"
            ],
            [
             0.6666666666666666,
             "#ed7953"
            ],
            [
             0.7777777777777778,
             "#fb9f3a"
            ],
            [
             0.8888888888888888,
             "#fdca26"
            ],
            [
             1,
             "#f0f921"
            ]
           ],
           "sequentialminus": [
            [
             0,
             "#0d0887"
            ],
            [
             0.1111111111111111,
             "#46039f"
            ],
            [
             0.2222222222222222,
             "#7201a8"
            ],
            [
             0.3333333333333333,
             "#9c179e"
            ],
            [
             0.4444444444444444,
             "#bd3786"
            ],
            [
             0.5555555555555556,
             "#d8576b"
            ],
            [
             0.6666666666666666,
             "#ed7953"
            ],
            [
             0.7777777777777778,
             "#fb9f3a"
            ],
            [
             0.8888888888888888,
             "#fdca26"
            ],
            [
             1,
             "#f0f921"
            ]
           ]
          },
          "colorway": [
           "#636efa",
           "#EF553B",
           "#00cc96",
           "#ab63fa",
           "#FFA15A",
           "#19d3f3",
           "#FF6692",
           "#B6E880",
           "#FF97FF",
           "#FECB52"
          ],
          "font": {
           "color": "#2a3f5f"
          },
          "geo": {
           "bgcolor": "white",
           "lakecolor": "white",
           "landcolor": "#E5ECF6",
           "showlakes": true,
           "showland": true,
           "subunitcolor": "white"
          },
          "hoverlabel": {
           "align": "left"
          },
          "hovermode": "closest",
          "mapbox": {
           "style": "light"
          },
          "paper_bgcolor": "white",
          "plot_bgcolor": "#E5ECF6",
          "polar": {
           "angularaxis": {
            "gridcolor": "white",
            "linecolor": "white",
            "ticks": ""
           },
           "bgcolor": "#E5ECF6",
           "radialaxis": {
            "gridcolor": "white",
            "linecolor": "white",
            "ticks": ""
           }
          },
          "scene": {
           "xaxis": {
            "backgroundcolor": "#E5ECF6",
            "gridcolor": "white",
            "gridwidth": 2,
            "linecolor": "white",
            "showbackground": true,
            "ticks": "",
            "zerolinecolor": "white"
           },
           "yaxis": {
            "backgroundcolor": "#E5ECF6",
            "gridcolor": "white",
            "gridwidth": 2,
            "linecolor": "white",
            "showbackground": true,
            "ticks": "",
            "zerolinecolor": "white"
           },
           "zaxis": {
            "backgroundcolor": "#E5ECF6",
            "gridcolor": "white",
            "gridwidth": 2,
            "linecolor": "white",
            "showbackground": true,
            "ticks": "",
            "zerolinecolor": "white"
           }
          },
          "shapedefaults": {
           "line": {
            "color": "#2a3f5f"
           }
          },
          "ternary": {
           "aaxis": {
            "gridcolor": "white",
            "linecolor": "white",
            "ticks": ""
           },
           "baxis": {
            "gridcolor": "white",
            "linecolor": "white",
            "ticks": ""
           },
           "bgcolor": "#E5ECF6",
           "caxis": {
            "gridcolor": "white",
            "linecolor": "white",
            "ticks": ""
           }
          },
          "title": {
           "x": 0.05
          },
          "xaxis": {
           "automargin": true,
           "gridcolor": "white",
           "linecolor": "white",
           "ticks": "",
           "title": {
            "standoff": 15
           },
           "zerolinecolor": "white",
           "zerolinewidth": 2
          },
          "yaxis": {
           "automargin": true,
           "gridcolor": "white",
           "linecolor": "white",
           "ticks": "",
           "title": {
            "standoff": 15
           },
           "zerolinecolor": "white",
           "zerolinewidth": 2
          }
         }
        },
        "title": {
         "text": "Solutions in time with 5 periods shown"
        },
        "xaxis": {
         "anchor": "y",
         "autorange": true,
         "domain": [
          0,
          1
         ],
         "range": [
          0,
          10.5
         ],
         "title": {
          "text": "t"
         },
         "type": "linear"
        },
        "yaxis": {
         "anchor": "x",
         "autorange": true,
         "domain": [
          0,
          1
         ],
         "range": [
          -10.536581179115956,
          10.519046766362452
         ],
         "title": {
          "text": "value"
         },
         "type": "linear"
        }
       }
      },
      "text/html": [
       "<div>                            <div id=\"3cca7236-6bb9-4efe-b48b-33e38135a83f\" class=\"plotly-graph-div\" style=\"height:525px; width:100%;\"></div>            <script type=\"text/javascript\">                require([\"plotly\"], function(Plotly) {                    window.PLOTLYENV=window.PLOTLYENV || {};                                    if (document.getElementById(\"3cca7236-6bb9-4efe-b48b-33e38135a83f\")) {                    Plotly.newPlot(                        \"3cca7236-6bb9-4efe-b48b-33e38135a83f\",                        [{\"hovertemplate\":\"variable=x(t)\\u003cbr\\u003et=%{x}\\u003cbr\\u003evalue=%{y}\\u003cextra\\u003e\\u003c\\u002fextra\\u003e\",\"legendgroup\":\"x(t)\",\"line\":{\"color\":\"#636efa\",\"dash\":\"solid\"},\"marker\":{\"symbol\":\"circle\"},\"mode\":\"lines\",\"name\":\"x(t)\",\"orientation\":\"v\",\"showlegend\":true,\"x\":[0.0,0.1,0.2,0.30000000000000004,0.4,0.5,0.6000000000000001,0.7000000000000001,0.8,0.9,1.0,1.1,1.2000000000000002,1.3,1.4000000000000001,1.5,1.6,1.7000000000000002,1.8,1.9000000000000001,2.0,2.1,2.2,2.3000000000000003,2.4000000000000004,2.5,2.6,2.7,2.8000000000000003,2.9000000000000004,3.0,3.1,3.2,3.3000000000000003,3.4000000000000004,3.5,3.6,3.7,3.8000000000000003,3.9000000000000004,4.0,4.1000000000000005,4.2,4.3,4.4,4.5,4.6000000000000005,4.7,4.800000000000001,4.9,5.0,5.1000000000000005,5.2,5.300000000000001,5.4,5.5,5.6000000000000005,5.7,5.800000000000001,5.9,6.0,6.1000000000000005,6.2,6.300000000000001,6.4,6.5,6.6000000000000005,6.7,6.800000000000001,6.9,7.0,7.1000000000000005,7.2,7.300000000000001,7.4,7.5,7.6000000000000005,7.7,7.800000000000001,7.9,8.0,8.1,8.200000000000001,8.3,8.4,8.5,8.6,8.700000000000001,8.8,8.9,9.0,9.1,9.200000000000001,9.3,9.4,9.5,9.600000000000001,9.700000000000001,9.8,9.9,10.0,10.100000000000001,10.200000000000001,10.3,10.4,10.5],\"xaxis\":\"x\",\"y\":[3.0,3.1615296740381575,3.0406493181240704,2.648156814439477,2.0191123493972465,1.2097065916071632,0.2922413467989332,-0.651328947150699,-1.5367179660725867,-2.2848365458173534,-2.828857481741469,-3.120185003869843,-3.132795692297293,-2.8655630717843934,-2.3423582364356865,-1.6099175159574362,-0.7336676585174988,0.20811854581121103,1.131314140271917,1.953452811919842,2.601095361752172,3.016389809634596,3.1622391393889666,3.0256150647642706,2.6187218074459153,1.9779059302798163,1.1604096070625516,0.23925734963770728,-0.703267054261776,-1.5829707067100176,-2.321272300412274,-2.8522215528507484,-3.128390348605361,-3.125109351651404,-2.842671643675141,-2.3063065439596477,-1.563925949432496,-0.6818445076068931,0.2611440733789969,1.1808054320425998,1.9949889581970415,2.630966062294028,3.0319268037241525,3.162054553617275,3.0097253876285737,2.588546416481297,1.9361403032912456,1.1107845431203915,0.18620570790800428,-0.7550063286244243,-1.628775898419347,-2.3570517681122674,-2.8747792232520037,-3.135711212193343,-3.1165394574851684,-2.8189765148772636,-2.269602795815592,-1.5174922184509905,-0.6298285806851998,0.3140957684054664,1.2299628779605642,2.035961066765888,2.660092917080529,3.046606589537319,3.1609759689105075,2.9929847791614335,2.557639172950412,1.8938272767116973,1.0608454301377077,0.13310142075370412,-0.8065321421367492,-1.6741205908254675,-2.392164833087425,-2.896524115277495,-3.142145524826282,-3.1070884327410564,-2.7944843846489626,-2.2322573691526815,-1.4706294510932054,-0.5776345840715179,0.3669586600043673,1.2787725798771366,2.0763575536954866,2.6884676911566086,3.060425016698869,3.1590036902139342,2.9753979723887634,2.526008815172713,1.8509788135861027,1.01060638726174,0.07995950220299441,-0.85782992704806,-1.7189919637489517,-2.4266015679180373,-2.9174500810540644,-3.14769146734877,-3.0967589494811376,-2.7692021775824536,-2.194280822540067,-1.423350896739695,-0.5252772744301097,0.41971780239665957,1.3272207379603675,2.1161669977988575,2.7160823622009014,3.0733781783631215],\"yaxis\":\"y\",\"type\":\"scatter\"},{\"hovertemplate\":\"variable=y(t)\\u003cbr\\u003et=%{x}\\u003cbr\\u003evalue=%{y}\\u003cextra\\u003e\\u003c\\u002fextra\\u003e\",\"legendgroup\":\"y(t)\",\"line\":{\"color\":\"#EF553B\",\"dash\":\"solid\"},\"marker\":{\"symbol\":\"circle\"},\"mode\":\"lines\",\"name\":\"y(t)\",\"orientation\":\"v\",\"showlegend\":true,\"x\":[0.0,0.1,0.2,0.30000000000000004,0.4,0.5,0.6000000000000001,0.7000000000000001,0.8,0.9,1.0,1.1,1.2000000000000002,1.3,1.4000000000000001,1.5,1.6,1.7000000000000002,1.8,1.9000000000000001,2.0,2.1,2.2,2.3000000000000003,2.4000000000000004,2.5,2.6,2.7,2.8000000000000003,2.9000000000000004,3.0,3.1,3.2,3.3000000000000003,3.4000000000000004,3.5,3.6,3.7,3.8000000000000003,3.9000000000000004,4.0,4.1000000000000005,4.2,4.3,4.4,4.5,4.6000000000000005,4.7,4.800000000000001,4.9,5.0,5.1000000000000005,5.2,5.300000000000001,5.4,5.5,5.6000000000000005,5.7,5.800000000000001,5.9,6.0,6.1000000000000005,6.2,6.300000000000001,6.4,6.5,6.6000000000000005,6.7,6.800000000000001,6.9,7.0,7.1000000000000005,7.2,7.300000000000001,7.4,7.5,7.6000000000000005,7.7,7.800000000000001,7.9,8.0,8.1,8.200000000000001,8.3,8.4,8.5,8.6,8.700000000000001,8.8,8.9,9.0,9.1,9.200000000000001,9.3,9.4,9.5,9.600000000000001,9.700000000000001,9.8,9.9,10.0,10.100000000000001,10.200000000000001,10.3,10.4,10.5],\"xaxis\":\"x\",\"y\":[3.0,0.20632760742476197,-2.6057754158262845,-5.185112281835359,-7.301278510275018,-8.76524327443338,-9.446234961983018,-9.283422613639436,-8.291349771584093,-6.558635348155652,-4.240057562340141,-1.5427280624373565,1.2924087406512355,4.012098520055348,6.373399487700196,8.165383660693534,9.227978429840906,9.466265369088532,8.858959015831788,7.460308237896218,5.395250343741431,2.84825080479109,0.04682550425517995,-2.7587825791177307,-5.3179568310456204,-7.402093837467572,-8.825023846683498,-9.459640758813151,-9.24925613514458,-8.212663007531837,-6.44245715282984,-4.096765787921366,-1.3851225363755473,1.4502495861018092,4.156075232260296,6.490651055757053,8.245436351232419,9.263681374432997,9.454429330025755,8.800641271232921,7.360718138201391,5.263283975952038,2.6956963315127678,-0.11268983775963815,-2.911009759443671,-5.449297849034913,-7.500816391149803,-8.882309344358786,-9.470372057584767,-9.212474640053758,-8.131654299990515,-6.324457499418388,-3.952315746246427,-1.2271253984514319,1.607680406499524,4.298876908813967,6.6060675399994535,8.323157832365444,9.296765224021128,9.439920266317296,8.739835345677326,7.259046963033203,5.1298295344467375,2.5423797114691715,-0.27217331928847965,-3.0624139180345775,-5.579098202120642,-7.597418259767248,-8.937083571288985,-9.478425824267452,-9.17308852749731,-8.048346552327857,-6.204669749636826,-3.8067482772759385,-1.06878131875866,1.764656691864039,4.440463175793487,6.719616309044137,8.398526130113288,9.327220624900042,9.422742280070604,8.676558430656094,7.155323457601707,4.994924750430531,2.388344291444084,-0.43157985000774834,-3.2129522488116016,-5.707321192208102,-7.691872131340878,-8.989331041308466,-9.483799781842036,-9.131108933001867,-7.9627633179128665,-6.083127770744218,-3.6601045368976424,-0.9101350654808056,1.9211340607246337,4.580794002905323,6.8312652595618015,8.471519935805661,9.355038966498508,9.402900227970191,8.610828416276302,7.04957694736661,4.858607765159744,2.2336336214456534],\"yaxis\":\"y\",\"type\":\"scatter\"}],                        {\"template\":{\"data\":{\"histogram2dcontour\":[{\"type\":\"histogram2dcontour\",\"colorbar\":{\"outlinewidth\":0,\"ticks\":\"\"},\"colorscale\":[[0.0,\"#0d0887\"],[0.1111111111111111,\"#46039f\"],[0.2222222222222222,\"#7201a8\"],[0.3333333333333333,\"#9c179e\"],[0.4444444444444444,\"#bd3786\"],[0.5555555555555556,\"#d8576b\"],[0.6666666666666666,\"#ed7953\"],[0.7777777777777778,\"#fb9f3a\"],[0.8888888888888888,\"#fdca26\"],[1.0,\"#f0f921\"]]}],\"choropleth\":[{\"type\":\"choropleth\",\"colorbar\":{\"outlinewidth\":0,\"ticks\":\"\"}}],\"histogram2d\":[{\"type\":\"histogram2d\",\"colorbar\":{\"outlinewidth\":0,\"ticks\":\"\"},\"colorscale\":[[0.0,\"#0d0887\"],[0.1111111111111111,\"#46039f\"],[0.2222222222222222,\"#7201a8\"],[0.3333333333333333,\"#9c179e\"],[0.4444444444444444,\"#bd3786\"],[0.5555555555555556,\"#d8576b\"],[0.6666666666666666,\"#ed7953\"],[0.7777777777777778,\"#fb9f3a\"],[0.8888888888888888,\"#fdca26\"],[1.0,\"#f0f921\"]]}],\"heatmap\":[{\"type\":\"heatmap\",\"colorbar\":{\"outlinewidth\":0,\"ticks\":\"\"},\"colorscale\":[[0.0,\"#0d0887\"],[0.1111111111111111,\"#46039f\"],[0.2222222222222222,\"#7201a8\"],[0.3333333333333333,\"#9c179e\"],[0.4444444444444444,\"#bd3786\"],[0.5555555555555556,\"#d8576b\"],[0.6666666666666666,\"#ed7953\"],[0.7777777777777778,\"#fb9f3a\"],[0.8888888888888888,\"#fdca26\"],[1.0,\"#f0f921\"]]}],\"heatmapgl\":[{\"type\":\"heatmapgl\",\"colorbar\":{\"outlinewidth\":0,\"ticks\":\"\"},\"colorscale\":[[0.0,\"#0d0887\"],[0.1111111111111111,\"#46039f\"],[0.2222222222222222,\"#7201a8\"],[0.3333333333333333,\"#9c179e\"],[0.4444444444444444,\"#bd3786\"],[0.5555555555555556,\"#d8576b\"],[0.6666666666666666,\"#ed7953\"],[0.7777777777777778,\"#fb9f3a\"],[0.8888888888888888,\"#fdca26\"],[1.0,\"#f0f921\"]]}],\"contourcarpet\":[{\"type\":\"contourcarpet\",\"colorbar\":{\"outlinewidth\":0,\"ticks\":\"\"}}],\"contour\":[{\"type\":\"contour\",\"colorbar\":{\"outlinewidth\":0,\"ticks\":\"\"},\"colorscale\":[[0.0,\"#0d0887\"],[0.1111111111111111,\"#46039f\"],[0.2222222222222222,\"#7201a8\"],[0.3333333333333333,\"#9c179e\"],[0.4444444444444444,\"#bd3786\"],[0.5555555555555556,\"#d8576b\"],[0.6666666666666666,\"#ed7953\"],[0.7777777777777778,\"#fb9f3a\"],[0.8888888888888888,\"#fdca26\"],[1.0,\"#f0f921\"]]}],\"surface\":[{\"type\":\"surface\",\"colorbar\":{\"outlinewidth\":0,\"ticks\":\"\"},\"colorscale\":[[0.0,\"#0d0887\"],[0.1111111111111111,\"#46039f\"],[0.2222222222222222,\"#7201a8\"],[0.3333333333333333,\"#9c179e\"],[0.4444444444444444,\"#bd3786\"],[0.5555555555555556,\"#d8576b\"],[0.6666666666666666,\"#ed7953\"],[0.7777777777777778,\"#fb9f3a\"],[0.8888888888888888,\"#fdca26\"],[1.0,\"#f0f921\"]]}],\"mesh3d\":[{\"type\":\"mesh3d\",\"colorbar\":{\"outlinewidth\":0,\"ticks\":\"\"}}],\"scatter\":[{\"fillpattern\":{\"fillmode\":\"overlay\",\"size\":10,\"solidity\":0.2},\"type\":\"scatter\"}],\"parcoords\":[{\"type\":\"parcoords\",\"line\":{\"colorbar\":{\"outlinewidth\":0,\"ticks\":\"\"}}}],\"scatterpolargl\":[{\"type\":\"scatterpolargl\",\"marker\":{\"colorbar\":{\"outlinewidth\":0,\"ticks\":\"\"}}}],\"bar\":[{\"error_x\":{\"color\":\"#2a3f5f\"},\"error_y\":{\"color\":\"#2a3f5f\"},\"marker\":{\"line\":{\"color\":\"#E5ECF6\",\"width\":0.5},\"pattern\":{\"fillmode\":\"overlay\",\"size\":10,\"solidity\":0.2}},\"type\":\"bar\"}],\"scattergeo\":[{\"type\":\"scattergeo\",\"marker\":{\"colorbar\":{\"outlinewidth\":0,\"ticks\":\"\"}}}],\"scatterpolar\":[{\"type\":\"scatterpolar\",\"marker\":{\"colorbar\":{\"outlinewidth\":0,\"ticks\":\"\"}}}],\"histogram\":[{\"marker\":{\"pattern\":{\"fillmode\":\"overlay\",\"size\":10,\"solidity\":0.2}},\"type\":\"histogram\"}],\"scattergl\":[{\"type\":\"scattergl\",\"marker\":{\"colorbar\":{\"outlinewidth\":0,\"ticks\":\"\"}}}],\"scatter3d\":[{\"type\":\"scatter3d\",\"line\":{\"colorbar\":{\"outlinewidth\":0,\"ticks\":\"\"}},\"marker\":{\"colorbar\":{\"outlinewidth\":0,\"ticks\":\"\"}}}],\"scattermapbox\":[{\"type\":\"scattermapbox\",\"marker\":{\"colorbar\":{\"outlinewidth\":0,\"ticks\":\"\"}}}],\"scatterternary\":[{\"type\":\"scatterternary\",\"marker\":{\"colorbar\":{\"outlinewidth\":0,\"ticks\":\"\"}}}],\"scattercarpet\":[{\"type\":\"scattercarpet\",\"marker\":{\"colorbar\":{\"outlinewidth\":0,\"ticks\":\"\"}}}],\"carpet\":[{\"aaxis\":{\"endlinecolor\":\"#2a3f5f\",\"gridcolor\":\"white\",\"linecolor\":\"white\",\"minorgridcolor\":\"white\",\"startlinecolor\":\"#2a3f5f\"},\"baxis\":{\"endlinecolor\":\"#2a3f5f\",\"gridcolor\":\"white\",\"linecolor\":\"white\",\"minorgridcolor\":\"white\",\"startlinecolor\":\"#2a3f5f\"},\"type\":\"carpet\"}],\"table\":[{\"cells\":{\"fill\":{\"color\":\"#EBF0F8\"},\"line\":{\"color\":\"white\"}},\"header\":{\"fill\":{\"color\":\"#C8D4E3\"},\"line\":{\"color\":\"white\"}},\"type\":\"table\"}],\"barpolar\":[{\"marker\":{\"line\":{\"color\":\"#E5ECF6\",\"width\":0.5},\"pattern\":{\"fillmode\":\"overlay\",\"size\":10,\"solidity\":0.2}},\"type\":\"barpolar\"}],\"pie\":[{\"automargin\":true,\"type\":\"pie\"}]},\"layout\":{\"autotypenumbers\":\"strict\",\"colorway\":[\"#636efa\",\"#EF553B\",\"#00cc96\",\"#ab63fa\",\"#FFA15A\",\"#19d3f3\",\"#FF6692\",\"#B6E880\",\"#FF97FF\",\"#FECB52\"],\"font\":{\"color\":\"#2a3f5f\"},\"hovermode\":\"closest\",\"hoverlabel\":{\"align\":\"left\"},\"paper_bgcolor\":\"white\",\"plot_bgcolor\":\"#E5ECF6\",\"polar\":{\"bgcolor\":\"#E5ECF6\",\"angularaxis\":{\"gridcolor\":\"white\",\"linecolor\":\"white\",\"ticks\":\"\"},\"radialaxis\":{\"gridcolor\":\"white\",\"linecolor\":\"white\",\"ticks\":\"\"}},\"ternary\":{\"bgcolor\":\"#E5ECF6\",\"aaxis\":{\"gridcolor\":\"white\",\"linecolor\":\"white\",\"ticks\":\"\"},\"baxis\":{\"gridcolor\":\"white\",\"linecolor\":\"white\",\"ticks\":\"\"},\"caxis\":{\"gridcolor\":\"white\",\"linecolor\":\"white\",\"ticks\":\"\"}},\"coloraxis\":{\"colorbar\":{\"outlinewidth\":0,\"ticks\":\"\"}},\"colorscale\":{\"sequential\":[[0.0,\"#0d0887\"],[0.1111111111111111,\"#46039f\"],[0.2222222222222222,\"#7201a8\"],[0.3333333333333333,\"#9c179e\"],[0.4444444444444444,\"#bd3786\"],[0.5555555555555556,\"#d8576b\"],[0.6666666666666666,\"#ed7953\"],[0.7777777777777778,\"#fb9f3a\"],[0.8888888888888888,\"#fdca26\"],[1.0,\"#f0f921\"]],\"sequentialminus\":[[0.0,\"#0d0887\"],[0.1111111111111111,\"#46039f\"],[0.2222222222222222,\"#7201a8\"],[0.3333333333333333,\"#9c179e\"],[0.4444444444444444,\"#bd3786\"],[0.5555555555555556,\"#d8576b\"],[0.6666666666666666,\"#ed7953\"],[0.7777777777777778,\"#fb9f3a\"],[0.8888888888888888,\"#fdca26\"],[1.0,\"#f0f921\"]],\"diverging\":[[0,\"#8e0152\"],[0.1,\"#c51b7d\"],[0.2,\"#de77ae\"],[0.3,\"#f1b6da\"],[0.4,\"#fde0ef\"],[0.5,\"#f7f7f7\"],[0.6,\"#e6f5d0\"],[0.7,\"#b8e186\"],[0.8,\"#7fbc41\"],[0.9,\"#4d9221\"],[1,\"#276419\"]]},\"xaxis\":{\"gridcolor\":\"white\",\"linecolor\":\"white\",\"ticks\":\"\",\"title\":{\"standoff\":15},\"zerolinecolor\":\"white\",\"automargin\":true,\"zerolinewidth\":2},\"yaxis\":{\"gridcolor\":\"white\",\"linecolor\":\"white\",\"ticks\":\"\",\"title\":{\"standoff\":15},\"zerolinecolor\":\"white\",\"automargin\":true,\"zerolinewidth\":2},\"scene\":{\"xaxis\":{\"backgroundcolor\":\"#E5ECF6\",\"gridcolor\":\"white\",\"linecolor\":\"white\",\"showbackground\":true,\"ticks\":\"\",\"zerolinecolor\":\"white\",\"gridwidth\":2},\"yaxis\":{\"backgroundcolor\":\"#E5ECF6\",\"gridcolor\":\"white\",\"linecolor\":\"white\",\"showbackground\":true,\"ticks\":\"\",\"zerolinecolor\":\"white\",\"gridwidth\":2},\"zaxis\":{\"backgroundcolor\":\"#E5ECF6\",\"gridcolor\":\"white\",\"linecolor\":\"white\",\"showbackground\":true,\"ticks\":\"\",\"zerolinecolor\":\"white\",\"gridwidth\":2}},\"shapedefaults\":{\"line\":{\"color\":\"#2a3f5f\"}},\"annotationdefaults\":{\"arrowcolor\":\"#2a3f5f\",\"arrowhead\":0,\"arrowwidth\":1},\"geo\":{\"bgcolor\":\"white\",\"landcolor\":\"#E5ECF6\",\"subunitcolor\":\"white\",\"showland\":true,\"showlakes\":true,\"lakecolor\":\"white\"},\"title\":{\"x\":0.05},\"mapbox\":{\"style\":\"light\"}}},\"xaxis\":{\"anchor\":\"y\",\"domain\":[0.0,1.0],\"title\":{\"text\":\"t\"}},\"yaxis\":{\"anchor\":\"x\",\"domain\":[0.0,1.0],\"title\":{\"text\":\"value\"}},\"legend\":{\"title\":{\"text\":\"variable\"},\"tracegroupgap\":0},\"title\":{\"text\":\"Solutions in time with 5 periods shown\"},\"shapes\":[{\"type\":\"line\",\"x0\":2.0943951023931953,\"x1\":2.0943951023931953,\"xref\":\"x\",\"y0\":0,\"y1\":1,\"yref\":\"y domain\"},{\"type\":\"line\",\"x0\":4.1887902047863905,\"x1\":4.1887902047863905,\"xref\":\"x\",\"y0\":0,\"y1\":1,\"yref\":\"y domain\"},{\"type\":\"line\",\"x0\":6.283185307179586,\"x1\":6.283185307179586,\"xref\":\"x\",\"y0\":0,\"y1\":1,\"yref\":\"y domain\"},{\"type\":\"line\",\"x0\":8.377580409572781,\"x1\":8.377580409572781,\"xref\":\"x\",\"y0\":0,\"y1\":1,\"yref\":\"y domain\"},{\"type\":\"line\",\"x0\":10.471975511965978,\"x1\":10.471975511965978,\"xref\":\"x\",\"y0\":0,\"y1\":1,\"yref\":\"y domain\"}]},                        {\"responsive\": true}                    ).then(function(){\n",
       "                            \n",
       "var gd = document.getElementById('3cca7236-6bb9-4efe-b48b-33e38135a83f');\n",
       "var x = new MutationObserver(function (mutations, observer) {{\n",
       "        var display = window.getComputedStyle(gd).display;\n",
       "        if (!display || display === 'none') {{\n",
       "            console.log([gd, 'removed!']);\n",
       "            Plotly.purge(gd);\n",
       "            observer.disconnect();\n",
       "        }}\n",
       "}});\n",
       "\n",
       "// Listen for the removal of the full notebook cells\n",
       "var notebookContainer = gd.closest('#notebook-container');\n",
       "if (notebookContainer) {{\n",
       "    x.observe(notebookContainer, {childList: true});\n",
       "}}\n",
       "\n",
       "// Listen for the clearing of the current output cell\n",
       "var outputEl = gd.closest('.output');\n",
       "if (outputEl) {{\n",
       "    x.observe(outputEl, {childList: true});\n",
       "}}\n",
       "\n",
       "                        })                };                });            </script>        </div>"
      ]
     },
     "metadata": {},
     "output_type": "display_data"
    }
   ],
   "source": [
    "p = 5 # p >= 1\n",
    "L = p*(2*np.pi/3 + 0.01)\n",
    "t = np.arange(0, L , 0.1)\n",
    "x_t = np.sin(3*t) + 3*np.cos(3*t)\n",
    "y_t = 3*np.cos(3*t) - 9*np.sin(3*t)\n",
    "\n",
    "fig = px.line({'t': t, 'x(t)': x_t, 'y(t)':y_t}, x='t', y = ['x(t)', 'y(t)'], title = f'Solutions in time with {p} periods shown')\n",
    "for i in range(1, p + 1):\n",
    "    fig.add_vline(x = i*2*np.pi/3)\n",
    "fig.show()"
   ]
  },
  {
   "cell_type": "markdown",
   "id": "d6214a6f-a16e-47cd-80cb-61662158aa54",
   "metadata": {},
   "source": [
    "Now we visualize the distribution of $x$ and $y$ for a simulated trip around the ellipse by setting a specific sampling frequency $\\Delta t$ and $p$ periods of revolution. We can see the solution will have a distribution heavily weighted towards the ends for both $y$ and $x$ as 'corners' are turned."
   ]
  },
  {
   "cell_type": "code",
   "execution_count": 18,
   "id": "81a5b7bc-3e46-4c61-bde5-9ab56d2bdfd4",
   "metadata": {},
   "outputs": [
    {
     "data": {
      "application/vnd.plotly.v1+json": {
       "config": {
        "plotlyServerURL": "https://plot.ly"
       },
       "data": [
        {
         "alignmentgroup": "True",
         "bingroup": "x",
         "hovertemplate": "variable=x(t)<br>value=%{x}<br>count=%{y}<extra></extra>",
         "legendgroup": "x(t)",
         "marker": {
          "color": "#636efa",
          "opacity": 0.5,
          "pattern": {
           "shape": ""
          }
         },
         "name": "x(t)",
         "nbinsx": 100,
         "offsetgroup": "x(t)",
         "orientation": "v",
         "showlegend": true,
         "type": "histogram",
         "x": [
          3,
          3.0286456014494583,
          3.054565626285057,
          3.077736748233994,
          3.098138114850518,
          3.1157513662817258,
          3.1305606517901885,
          3.1425526440185445,
          3.1517165509832235,
          3.1580441257865024,
          3.1615296740381575,
          3.1621700589800295,
          3.1599647043088943,
          3.1549155946951006,
          3.1470272739964953,
          3.1363068411692607,
          3.1227639438793355,
          3.1064107698201613,
          3.0872620357445855,
          3.0653349742207756,
          3.0406493181240704,
          3.013227282878725,
          2.983093546465529,
          2.9502752272132877,
          2.9148018593941583,
          2.8767053666447966,
          2.8360200332372423,
          2.7927824732253836,
          2.7470315974947837,
          2.698808578745509,
          2.648156814439477,
          2.595121887745672,
          2.5397515265183683,
          2.4820955603452832,
          2.4222058757043117,
          2.3601363692691977,
          2.2959428994061675,
          2.2296832359051684,
          2.1614170079909574,
          2.0912056506608265,
          2.0191123493972465,
          1.9452019833052052,
          1.8695410667253838,
          1.7921976893757454,
          1.713241455075384,
          1.6327434191057835,
          1.5507760242658626,
          1.4674130356783435,
          1.3827294744061231,
          1.296801549938376,
          1.2097065916071632,
          1.121522978996249,
          1.0323300714047685,
          0.9422081364292129,
          0.8512382777280123,
          0.7595023620337167,
          0.6670829454784619,
          0.5740631992990247,
          0.48052683498832316,
          0.38655802896071845,
          0.29224134679893454,
          0.19766166715072941,
          0.10290410534385219,
          0.008053936787983051,
          -0.08680347976736968,
          -0.1815827790499921,
          -0.2761986660879382,
          -0.37056599296925685,
          -0.46459983546935624,
          -0.5582155694770825,
          -0.651328947150699,
          -0.7438561727352644,
          -0.8357139779731549,
          -0.9268196970398694,
          -1.017091340937701,
          -1.1064476712802964,
          -1.1948082734017156,
          -1.282093628724212,
          -1.3682251863195796,
          -1.4531254335996908,
          -1.5367179660725867,
          -1.6189275561013665,
          -1.6996802206039867,
          -1.7789032876330384,
          -1.856525461775588,
          -1.9324768883142496,
          -2.006689216091706,
          -2.079095659022137,
          -2.1496310561941963,
          -2.218231930511423,
          -2.2848365458173534,
          -2.3493849624538883,
          -2.411819091202943,
          -2.4720827455628185,
          -2.5301216923122682,
          -2.5858837003167268,
          -2.6393185875328133,
          -2.690378266168782,
          -2.739016785960282,
          -2.7851903755225056,
          -2.828857481741469,
          -2.869978807169017,
          -2.9085173453878705,
          -2.944438414314906,
          -2.977709687412689,
          -3.008301222781175,
          -3.036185490103398,
          -3.0613373954209004,
          -3.0837343037165996,
          -3.1033560592847746,
          -3.120185003869843,
          -3.134205992557598,
          -3.1454064074046095,
          -3.1537761687935197,
          -3.1593077445040203,
          -3.1619961564913437,
          -3.1618389853661615,
          -3.158836372571879,
          -3.1529910202573403,
          -3.1443081888450797,
          -3.1327956922972935,
          -3.118463891083805,
          -3.1013256828583393,
          -3.081396490851505,
          -3.0586942499909275,
          -3.0332393907610258,
          -3.005054820816956,
          -2.9741659043692668,
          -2.940600439357821,
          -2.9043886324355275,
          -2.8655630717843934,
          -2.8241586977883593,
          -2.780212771589308,
          -2.733764841554559,
          -2.684856707686001,
          -2.633532384002917,
          -2.5798380589323346,
          -2.523822053742557,
          -2.465534779057289,
          -2.4050286894894755,
          -2.3423582364356865,
          -2.2775798190735452,
          -2.210751733606261,
          -2.141934120799997,
          -2.0711889118612286,
          -1.998579772702845,
          -1.924172046649114,
          -1.8480326956311157,
          -1.770230239925516,
          -1.690834696490938,
          -1.6099175159574362,
          -1.5275515183257449,
          -1.4438108274341948,
          -1.3587708042522635,
          -1.2725079790607803,
          -1.1850999825798545,
          -1.0966254761064582,
          -1.0071640807245625,
          -0.9167963056515509,
          -0.8256034757853468,
          -0.7336676585174988,
          -0.641071589878069,
          -0.5478986000787804,
          -0.45423253852146694,
          -0.3601576983392635,
          -0.26575874053846726,
          -0.17112061780936316,
          -0.07632849807452868,
          0.018532312156556596,
          0.11337644455759444,
          0.20811854581120826,
          0.30267335442117504,
          0.3969557774420014,
          0.49088096705683826,
          0.584364396934798,
          0.6773219382989303,
          0.7696699356364523,
          0.8613252819830635,
          0.9522054937136,
          1.0422287847717397,
          1.131314140271917,
          1.2193813894072605,
          1.306351277597915,
          1.3921455378147964,
          1.4766869610146505,
          1.55989946562297,
          1.641708166002282,
          1.722039439844171,
          1.8008209944243756,
          1.8779819316613664,
          1.953452811919842,
          2.027165716501698,
          2.0990543087682823,
          2.1690538938388917,
          2.2371014768117927,
          2.3031358194553797,
          2.3670974953184634,
          2.428928943210048,
          2.488574519000527,
          2.5459805456976476,
          2.601095361752172,
          2.6538693675497904,
          2.7042550700474197,
          2.752207125513749,
          2.797682380335522,
          2.840639909852889,
          2.881041055188831,
          2.918849458039539,
          2.954031093394442,
          2.986554300156405,
          3.016389809634596,
          3.043510771884318,
          3.06789277987016,
          3.0895138914306677,
          3.1083546490248204,
          3.1243980972424943,
          3.137629798063196,
          3.1480378438492975,
          3.155612868062115,
          3.1603480536911546,
          3.1622391393889666,
          3.161284423306067,
          3.157484764622489,
          3.150843582774579,
          3.141366854377732,
          3.129063107847848,
          3.1139434157263226,
          3.0960213847155202,
          3.075313143433647,
          3.0518373279000945,
          3.0256150647642706,
          2.99666995229305,
          2.9650280391339194,
          2.9307178008729546,
          2.8937701144087233,
          2.854218230165145,
          2.812097742168371,
          2.7674465560145474,
          2.7203048547573507,
          2.6707150627459404,
          2.6187218074459184,
          2.564371879277611,
          2.5077141895078667,
          2.448799726233191,
          2.387681508493932,
          2.324414538560694,
          2.2590557524360273,
          2.1916639686158548,
          2.1222998351568103,
          2.0510257750970617,
          1.9779059302798163,
          1.9030061036299601,
          1.8263936999358994,
          1.7481376651897707,
          1.6683084245407263,
          1.586977818917033,
          1.504219040374106,
          1.4201065662265817,
          1.334716092023766,
          1.2481244634287674,
          1.1604096070625516,
          1.0716504603752834,
          0.9819269006079108,
          0.8913196729080712,
          0.7999103176648847,
          0.7077810971281292,
          0.6150149213777437,
          0.5216952737103855,
          0.42790613551005696,
          0.3337319106705726,
          0.23925734963770728,
          0.14456747313956608,
          0.049747495673599484,
          -0.045117251180612494,
          -0.13994139555409046,
          -0.23463960211732504,
          -0.3291266488763579,
          -0.42331750386677847,
          -0.5171274016767933,
          -0.6104719197303571,
          -0.703267054261776,
          -0.7954292959134621,
          -0.8868757048886925,
          -0.9775239855918428,
          -1.0672925606888448,
          -1.1561006445213182,
          -1.24386831580817,
          -1.3305165895693865,
          -1.4159674882071718,
          -1.5001441116805037,
          -1.5829707067100127,
          -1.6643727349508048,
          -1.7442769400719262,
          -1.8226114136821483,
          -1.8993056600426317,
          -1.9742906595083671,
          -2.047498930641158,
          -2.1188645909384123,
          -2.188323416122887,
          -2.2558128979402543,
          -2.321272300412274,
          -2.384642714495107,
          -2.445867111093444,
          -2.5048903923828747,
          -2.5616594413941938,
          -2.6161231698150793,
          -2.6682325639661477,
          -2.717940728909945,
          -2.765202930653215,
          -2.8099766364044965,
          -2.8522215528507484,
          -2.8918996624186124,
          -2.92897525748767,
          -2.9634149725248906,
          -2.995187814111346,
          -3.0242651888342134,
          -3.050620929018908,
          -3.0742313162782193,
          -3.0950751028572707,
          -3.1131335307550505,
          -3.128390348605361,
          -3.1408318263019397,
          -3.150446767354636,
          -3.157226518965489,
          -3.1611649798156707,
          -3.1622586055562536,
          -3.160506411997887,
          -3.155909975996506,
          -3.148473434034261,
          -3.138203478496966,
          -3.125109351651404,
          -3.109202837327909,
          -3.0904982503157132,
          -3.0690124234806087,
          -3.0447646926164955,
          -3.017776879044477,
          -2.988073269975148,
          -2.955680596651737,
          -2.9206280102937923,
          -2.882947055863062,
          -2.8426716436751427,
          -2.799838018882494,
          -2.7544847288562497,
          -2.7066525884961736,
          -2.6563846435000227,
          -2.603726131625303,
          -2.5487244419783686,
          -2.491429072367385,
          -2.4318915847576923,
          -2.370165558869472,
          -2.3063065439596477,
          -2.2403720088312777,
          -2.1724212901155373,
          -2.102515538872731,
          -2.030717665560476,
          -1.957092283418552,
          -1.881705650321317,
          -1.8046256091501092,
          -1.7259215267392454,
          -1.645664231450524,
          -1.563925949432496,
          -1.4807802396218182,
          -1.3963019275451483,
          -1.3105670379812353,
          -1.2236527265437658,
          -1.1356372102464878,
          -1.046599697113195,
          -0.9566203148958659,
          -0.8657800389650591,
          -0.7741606194375887,
          -0.6818445076068931,
          -0.5889147817424858,
          -0.4954550723250546,
          -0.40154948678475044,
          -0.3072825338101116,
          -0.21273904729599824,
          -0.11800410999876765,
          -0.023162976967582183,
          0.07169900117942007,
          0.16649645506490385,
          0.2611440733789969,
          0.3555566796537454,
          0.4496493089161667,
          0.5433372841509758,
          0.6365362925042156,
          0.7291624611591176,
          0.8211324328159609,
          0.9123634407080459,
          1.002773383086184,
          1.0922808971047122,
          1.1808054320425945,
          1.2682673217936196,
          1.354587856560501,
          1.4396893536884205,
          1.5234952275741314,
          1.6059300585878726,
          1.6869196609459034,
          1.7663911494727524,
          1.8442730051928982,
          1.9204951396930674,
          1.9949889581970415,
          2.067687421296353,
          2.1385251052812206,
          2.2074382610174363,
          2.274364871316357,
          2.3392447067461086,
          2.402019379834081,
          2.4626323976116398,
          2.5210292124540477,
          2.577157271169614,
          2.630966062294026,
          2.682407161547259,
          2.7314342754121435,
          2.778003282795445,
          2.8220722747338214,
          2.8636015921091094,
          2.902553861338802,
          2.9388940280097984,
          2.972589388424982,
          3.003609619034349,
          3.0319268037241525,
          3.0575154589395206,
          3.0803525566179486,
          3.10041754491298,
          3.117692366689494,
          3.132161475773909,
          3.1438118509446857,
          3.152633007650546,
          3.158617007445864,
          3.1617584651347332,
          3.162054553617275,
          3.1595050064338404,
          3.1541121180048055,
          3.145880741565748,
          3.1348182847998602,
          3.120934703171539,
          3.1042424909671356,
          3.084756670050946,
          3.0624947763465364,
          3.037476844055614,
          3.0097253876285737,
          2.9792653815030397,
          2.946124237628533,
          2.9103317807975815,
          2.871920221805411,
          2.830924128462416,
          2.787380394485455,
          2.741328206295985,
          2.692809007754951,
          2.641866462866095,
          2.588546416481297,
          2.532896853043307,
          2.4749678534029798,
          2.4148115497499187,
          2.352482078696965,
          2.2880355325609685,
          2.2215299088834204,
          2.153025058236656,
          2.0825826303623094,
          2.010266018690748,
          1.9361403032912456,
          1.860272192304331,
          1.7827299619089578,
          1.7035833948785197,
          1.6229037177811296,
          1.540763536880437,
          1.4572367727949804,
          1.3723985939745396,
          1.286325349053648,
          1.199094498142959,
          1.1107845431203915,
          1.021474956984734,
          0.9312461123352707,
          0.8401792090419323,
          0.7483562011708571,
          0.6558597232312562,
          0.5627730158099503,
          0.46917985066044354,
          0.37516445531404863,
          0.2808114372807011,
          0.1862057079080156,
          0.0914324059667041,
          -0.0034231789684637803,
          -0.09827568327361769,
          -0.19303974609723484,
          -0.28763008617916264,
          -0.38196157859797675,
          -0.47594933137767537,
          -0.5695087618847607,
          -0.662555672946827,
          -0.7550063286244243,
          -0.8467775295676467,
          -0.9377866878900266,
          -1.0279519014920084,
          -1.1171920277673242,
          -1.205426756625849,
          -1.2925766827672653,
          -1.37856337714051,
          -1.4633094575245649,
          -1.5467386581672673,
          -1.628775898419347,
          -1.709347350301924,
          -1.7883805049467236,
          -1.8658042378491198,
          -1.9415488728754684,
          -2.0155462449668384,
          -2.0877297614830406,
          -2.1580344621314316,
          -2.22639707742686,
          -2.292756085629899,
          -2.3570517681122674,
          -2.4192262630995565,
          -2.4792236177429228,
          -2.536989838472901,
          -2.592472939589924,
          -2.6456229900479995,
          -2.69639215838922,
          -2.744734755788901,
          -2.79060727717241,
          -2.8339684403668066,
          -2.8747792232520037,
          -2.913002898878046,
          -2.9486050685169,
          -2.9815536926189585,
          -3.011819119646496,
          -3.039374112758043,
          -3.064193874319706,
          -3.086256068221365,
          -3.1055408399776567,
          -3.1220308345956886,
          -3.1357112121933417,
          -3.1465696613541807,
          -3.1545964102068793,
          -3.159784235219262,
          -3.162128467698985,
          -3.1616269979950467,
          -3.1582802773963334,
          -3.1520913177254872,
          -3.1430656886284685,
          -3.131211512562255,
          -3.1165394574851684,
          -3.099062727256451,
          -3.0787970497536623,
          -3.055760662718659,
          -3.029974297344866,
          -3.0014611596205913,
          -2.9702469094452124,
          -2.936359637536981,
          -2.899829840153295,
          -2.860690391646118,
          -2.8189765148772636,
          -2.7747257495202255,
          -2.727977918276989,
          -2.6787750910402943,
          -2.627161547033552,
          -2.5731837349625692,
          -2.5168902312148065,
          -2.458331696143943,
          -2.3975608284789622,
          -2.3346323178988584,
          -2.269602795815592,
          -2.202530784409684,
          -2.133476643964184,
          -2.062502518544461,
          -1.9896722800727997,
          -1.9150514708479056,
          -1.8387072445613624,
          -1.7607083058637298,
          -1.6811248485350558,
          -1.6000284923152233,
          -1.5174922184509905,
          -1.433590304017813,
          -1.3483982550754523,
          -1.2619927387176755,
          -1.1744515140770175,
          -1.0858533623467788,
          -0.9962780158833309,
          -0.9058060864523366,
          -0.8145189926836227,
          -0.7224988867998652,
          -0.6298285806852107,
          -0.5365914713600823,
          -0.4428714659295676,
          -0.3487529060726434,
          -0.2543204921403799,
          -0.1596592069312971,
          -0.06485423921264932,
          0.03000909294374876,
          0.1248454189420618,
          0.21956939249012863,
          0.3140957684054664,
          0.4083394793300449,
          0.5022157122853144,
          0.595639984998082,
          0.6885282219288437,
          0.7807968299341308,
          0.8723627734946708,
          0.9631436494417972,
          1.053057761114672,
          1.1420241918817995,
          1.2299628779605642,
          1.316794680469168,
          1.402441456646324,
          1.4868261301744468,
          1.5698727605431753,
          1.6515066113906378,
          1.7316542177612102,
          1.810243452218951,
          1.887203589757462,
          1.9624653714476026,
          2.035961066765888,
          2.107624534547333,
          2.177391282508066,
          2.245198525284052,
          2.310985240933636,
          2.374692225853204,
          2.4362621480564135,
          2.495639598769134,
          2.5527711422935884,
          2.6076053640968615,
          2.660092917080529,
          2.710186565989703,
          2.7578412299215977,
          2.803014022895261,
          2.8456642924460844,
          2.885753656210288,
          2.9232460364664306,
          2.9581076926029417,
          2.990307251482385
         ],
         "xaxis": "x",
         "yaxis": "y"
        },
        {
         "alignmentgroup": "True",
         "boxpoints": "all",
         "fillcolor": "rgba(255,255,255,0)",
         "hoveron": "points",
         "hovertemplate": "variable=x(t)<br>value=%{x}<extra></extra>",
         "jitter": 0,
         "legendgroup": "x(t)",
         "line": {
          "color": "rgba(255,255,255,0)"
         },
         "marker": {
          "color": "#636efa",
          "symbol": "line-ns-open"
         },
         "name": "x(t)",
         "offsetgroup": "x(t)",
         "showlegend": false,
         "type": "box",
         "x": [
          3,
          3.0286456014494583,
          3.054565626285057,
          3.077736748233994,
          3.098138114850518,
          3.1157513662817258,
          3.1305606517901885,
          3.1425526440185445,
          3.1517165509832235,
          3.1580441257865024,
          3.1615296740381575,
          3.1621700589800295,
          3.1599647043088943,
          3.1549155946951006,
          3.1470272739964953,
          3.1363068411692607,
          3.1227639438793355,
          3.1064107698201613,
          3.0872620357445855,
          3.0653349742207756,
          3.0406493181240704,
          3.013227282878725,
          2.983093546465529,
          2.9502752272132877,
          2.9148018593941583,
          2.8767053666447966,
          2.8360200332372423,
          2.7927824732253836,
          2.7470315974947837,
          2.698808578745509,
          2.648156814439477,
          2.595121887745672,
          2.5397515265183683,
          2.4820955603452832,
          2.4222058757043117,
          2.3601363692691977,
          2.2959428994061675,
          2.2296832359051684,
          2.1614170079909574,
          2.0912056506608265,
          2.0191123493972465,
          1.9452019833052052,
          1.8695410667253838,
          1.7921976893757454,
          1.713241455075384,
          1.6327434191057835,
          1.5507760242658626,
          1.4674130356783435,
          1.3827294744061231,
          1.296801549938376,
          1.2097065916071632,
          1.121522978996249,
          1.0323300714047685,
          0.9422081364292129,
          0.8512382777280123,
          0.7595023620337167,
          0.6670829454784619,
          0.5740631992990247,
          0.48052683498832316,
          0.38655802896071845,
          0.29224134679893454,
          0.19766166715072941,
          0.10290410534385219,
          0.008053936787983051,
          -0.08680347976736968,
          -0.1815827790499921,
          -0.2761986660879382,
          -0.37056599296925685,
          -0.46459983546935624,
          -0.5582155694770825,
          -0.651328947150699,
          -0.7438561727352644,
          -0.8357139779731549,
          -0.9268196970398694,
          -1.017091340937701,
          -1.1064476712802964,
          -1.1948082734017156,
          -1.282093628724212,
          -1.3682251863195796,
          -1.4531254335996908,
          -1.5367179660725867,
          -1.6189275561013665,
          -1.6996802206039867,
          -1.7789032876330384,
          -1.856525461775588,
          -1.9324768883142496,
          -2.006689216091706,
          -2.079095659022137,
          -2.1496310561941963,
          -2.218231930511423,
          -2.2848365458173534,
          -2.3493849624538883,
          -2.411819091202943,
          -2.4720827455628185,
          -2.5301216923122682,
          -2.5858837003167268,
          -2.6393185875328133,
          -2.690378266168782,
          -2.739016785960282,
          -2.7851903755225056,
          -2.828857481741469,
          -2.869978807169017,
          -2.9085173453878705,
          -2.944438414314906,
          -2.977709687412689,
          -3.008301222781175,
          -3.036185490103398,
          -3.0613373954209004,
          -3.0837343037165996,
          -3.1033560592847746,
          -3.120185003869843,
          -3.134205992557598,
          -3.1454064074046095,
          -3.1537761687935197,
          -3.1593077445040203,
          -3.1619961564913437,
          -3.1618389853661615,
          -3.158836372571879,
          -3.1529910202573403,
          -3.1443081888450797,
          -3.1327956922972935,
          -3.118463891083805,
          -3.1013256828583393,
          -3.081396490851505,
          -3.0586942499909275,
          -3.0332393907610258,
          -3.005054820816956,
          -2.9741659043692668,
          -2.940600439357821,
          -2.9043886324355275,
          -2.8655630717843934,
          -2.8241586977883593,
          -2.780212771589308,
          -2.733764841554559,
          -2.684856707686001,
          -2.633532384002917,
          -2.5798380589323346,
          -2.523822053742557,
          -2.465534779057289,
          -2.4050286894894755,
          -2.3423582364356865,
          -2.2775798190735452,
          -2.210751733606261,
          -2.141934120799997,
          -2.0711889118612286,
          -1.998579772702845,
          -1.924172046649114,
          -1.8480326956311157,
          -1.770230239925516,
          -1.690834696490938,
          -1.6099175159574362,
          -1.5275515183257449,
          -1.4438108274341948,
          -1.3587708042522635,
          -1.2725079790607803,
          -1.1850999825798545,
          -1.0966254761064582,
          -1.0071640807245625,
          -0.9167963056515509,
          -0.8256034757853468,
          -0.7336676585174988,
          -0.641071589878069,
          -0.5478986000787804,
          -0.45423253852146694,
          -0.3601576983392635,
          -0.26575874053846726,
          -0.17112061780936316,
          -0.07632849807452868,
          0.018532312156556596,
          0.11337644455759444,
          0.20811854581120826,
          0.30267335442117504,
          0.3969557774420014,
          0.49088096705683826,
          0.584364396934798,
          0.6773219382989303,
          0.7696699356364523,
          0.8613252819830635,
          0.9522054937136,
          1.0422287847717397,
          1.131314140271917,
          1.2193813894072605,
          1.306351277597915,
          1.3921455378147964,
          1.4766869610146505,
          1.55989946562297,
          1.641708166002282,
          1.722039439844171,
          1.8008209944243756,
          1.8779819316613664,
          1.953452811919842,
          2.027165716501698,
          2.0990543087682823,
          2.1690538938388917,
          2.2371014768117927,
          2.3031358194553797,
          2.3670974953184634,
          2.428928943210048,
          2.488574519000527,
          2.5459805456976476,
          2.601095361752172,
          2.6538693675497904,
          2.7042550700474197,
          2.752207125513749,
          2.797682380335522,
          2.840639909852889,
          2.881041055188831,
          2.918849458039539,
          2.954031093394442,
          2.986554300156405,
          3.016389809634596,
          3.043510771884318,
          3.06789277987016,
          3.0895138914306677,
          3.1083546490248204,
          3.1243980972424943,
          3.137629798063196,
          3.1480378438492975,
          3.155612868062115,
          3.1603480536911546,
          3.1622391393889666,
          3.161284423306067,
          3.157484764622489,
          3.150843582774579,
          3.141366854377732,
          3.129063107847848,
          3.1139434157263226,
          3.0960213847155202,
          3.075313143433647,
          3.0518373279000945,
          3.0256150647642706,
          2.99666995229305,
          2.9650280391339194,
          2.9307178008729546,
          2.8937701144087233,
          2.854218230165145,
          2.812097742168371,
          2.7674465560145474,
          2.7203048547573507,
          2.6707150627459404,
          2.6187218074459184,
          2.564371879277611,
          2.5077141895078667,
          2.448799726233191,
          2.387681508493932,
          2.324414538560694,
          2.2590557524360273,
          2.1916639686158548,
          2.1222998351568103,
          2.0510257750970617,
          1.9779059302798163,
          1.9030061036299601,
          1.8263936999358994,
          1.7481376651897707,
          1.6683084245407263,
          1.586977818917033,
          1.504219040374106,
          1.4201065662265817,
          1.334716092023766,
          1.2481244634287674,
          1.1604096070625516,
          1.0716504603752834,
          0.9819269006079108,
          0.8913196729080712,
          0.7999103176648847,
          0.7077810971281292,
          0.6150149213777437,
          0.5216952737103855,
          0.42790613551005696,
          0.3337319106705726,
          0.23925734963770728,
          0.14456747313956608,
          0.049747495673599484,
          -0.045117251180612494,
          -0.13994139555409046,
          -0.23463960211732504,
          -0.3291266488763579,
          -0.42331750386677847,
          -0.5171274016767933,
          -0.6104719197303571,
          -0.703267054261776,
          -0.7954292959134621,
          -0.8868757048886925,
          -0.9775239855918428,
          -1.0672925606888448,
          -1.1561006445213182,
          -1.24386831580817,
          -1.3305165895693865,
          -1.4159674882071718,
          -1.5001441116805037,
          -1.5829707067100127,
          -1.6643727349508048,
          -1.7442769400719262,
          -1.8226114136821483,
          -1.8993056600426317,
          -1.9742906595083671,
          -2.047498930641158,
          -2.1188645909384123,
          -2.188323416122887,
          -2.2558128979402543,
          -2.321272300412274,
          -2.384642714495107,
          -2.445867111093444,
          -2.5048903923828747,
          -2.5616594413941938,
          -2.6161231698150793,
          -2.6682325639661477,
          -2.717940728909945,
          -2.765202930653215,
          -2.8099766364044965,
          -2.8522215528507484,
          -2.8918996624186124,
          -2.92897525748767,
          -2.9634149725248906,
          -2.995187814111346,
          -3.0242651888342134,
          -3.050620929018908,
          -3.0742313162782193,
          -3.0950751028572707,
          -3.1131335307550505,
          -3.128390348605361,
          -3.1408318263019397,
          -3.150446767354636,
          -3.157226518965489,
          -3.1611649798156707,
          -3.1622586055562536,
          -3.160506411997887,
          -3.155909975996506,
          -3.148473434034261,
          -3.138203478496966,
          -3.125109351651404,
          -3.109202837327909,
          -3.0904982503157132,
          -3.0690124234806087,
          -3.0447646926164955,
          -3.017776879044477,
          -2.988073269975148,
          -2.955680596651737,
          -2.9206280102937923,
          -2.882947055863062,
          -2.8426716436751427,
          -2.799838018882494,
          -2.7544847288562497,
          -2.7066525884961736,
          -2.6563846435000227,
          -2.603726131625303,
          -2.5487244419783686,
          -2.491429072367385,
          -2.4318915847576923,
          -2.370165558869472,
          -2.3063065439596477,
          -2.2403720088312777,
          -2.1724212901155373,
          -2.102515538872731,
          -2.030717665560476,
          -1.957092283418552,
          -1.881705650321317,
          -1.8046256091501092,
          -1.7259215267392454,
          -1.645664231450524,
          -1.563925949432496,
          -1.4807802396218182,
          -1.3963019275451483,
          -1.3105670379812353,
          -1.2236527265437658,
          -1.1356372102464878,
          -1.046599697113195,
          -0.9566203148958659,
          -0.8657800389650591,
          -0.7741606194375887,
          -0.6818445076068931,
          -0.5889147817424858,
          -0.4954550723250546,
          -0.40154948678475044,
          -0.3072825338101116,
          -0.21273904729599824,
          -0.11800410999876765,
          -0.023162976967582183,
          0.07169900117942007,
          0.16649645506490385,
          0.2611440733789969,
          0.3555566796537454,
          0.4496493089161667,
          0.5433372841509758,
          0.6365362925042156,
          0.7291624611591176,
          0.8211324328159609,
          0.9123634407080459,
          1.002773383086184,
          1.0922808971047122,
          1.1808054320425945,
          1.2682673217936196,
          1.354587856560501,
          1.4396893536884205,
          1.5234952275741314,
          1.6059300585878726,
          1.6869196609459034,
          1.7663911494727524,
          1.8442730051928982,
          1.9204951396930674,
          1.9949889581970415,
          2.067687421296353,
          2.1385251052812206,
          2.2074382610174363,
          2.274364871316357,
          2.3392447067461086,
          2.402019379834081,
          2.4626323976116398,
          2.5210292124540477,
          2.577157271169614,
          2.630966062294026,
          2.682407161547259,
          2.7314342754121435,
          2.778003282795445,
          2.8220722747338214,
          2.8636015921091094,
          2.902553861338802,
          2.9388940280097984,
          2.972589388424982,
          3.003609619034349,
          3.0319268037241525,
          3.0575154589395206,
          3.0803525566179486,
          3.10041754491298,
          3.117692366689494,
          3.132161475773909,
          3.1438118509446857,
          3.152633007650546,
          3.158617007445864,
          3.1617584651347332,
          3.162054553617275,
          3.1595050064338404,
          3.1541121180048055,
          3.145880741565748,
          3.1348182847998602,
          3.120934703171539,
          3.1042424909671356,
          3.084756670050946,
          3.0624947763465364,
          3.037476844055614,
          3.0097253876285737,
          2.9792653815030397,
          2.946124237628533,
          2.9103317807975815,
          2.871920221805411,
          2.830924128462416,
          2.787380394485455,
          2.741328206295985,
          2.692809007754951,
          2.641866462866095,
          2.588546416481297,
          2.532896853043307,
          2.4749678534029798,
          2.4148115497499187,
          2.352482078696965,
          2.2880355325609685,
          2.2215299088834204,
          2.153025058236656,
          2.0825826303623094,
          2.010266018690748,
          1.9361403032912456,
          1.860272192304331,
          1.7827299619089578,
          1.7035833948785197,
          1.6229037177811296,
          1.540763536880437,
          1.4572367727949804,
          1.3723985939745396,
          1.286325349053648,
          1.199094498142959,
          1.1107845431203915,
          1.021474956984734,
          0.9312461123352707,
          0.8401792090419323,
          0.7483562011708571,
          0.6558597232312562,
          0.5627730158099503,
          0.46917985066044354,
          0.37516445531404863,
          0.2808114372807011,
          0.1862057079080156,
          0.0914324059667041,
          -0.0034231789684637803,
          -0.09827568327361769,
          -0.19303974609723484,
          -0.28763008617916264,
          -0.38196157859797675,
          -0.47594933137767537,
          -0.5695087618847607,
          -0.662555672946827,
          -0.7550063286244243,
          -0.8467775295676467,
          -0.9377866878900266,
          -1.0279519014920084,
          -1.1171920277673242,
          -1.205426756625849,
          -1.2925766827672653,
          -1.37856337714051,
          -1.4633094575245649,
          -1.5467386581672673,
          -1.628775898419347,
          -1.709347350301924,
          -1.7883805049467236,
          -1.8658042378491198,
          -1.9415488728754684,
          -2.0155462449668384,
          -2.0877297614830406,
          -2.1580344621314316,
          -2.22639707742686,
          -2.292756085629899,
          -2.3570517681122674,
          -2.4192262630995565,
          -2.4792236177429228,
          -2.536989838472901,
          -2.592472939589924,
          -2.6456229900479995,
          -2.69639215838922,
          -2.744734755788901,
          -2.79060727717241,
          -2.8339684403668066,
          -2.8747792232520037,
          -2.913002898878046,
          -2.9486050685169,
          -2.9815536926189585,
          -3.011819119646496,
          -3.039374112758043,
          -3.064193874319706,
          -3.086256068221365,
          -3.1055408399776567,
          -3.1220308345956886,
          -3.1357112121933417,
          -3.1465696613541807,
          -3.1545964102068793,
          -3.159784235219262,
          -3.162128467698985,
          -3.1616269979950467,
          -3.1582802773963334,
          -3.1520913177254872,
          -3.1430656886284685,
          -3.131211512562255,
          -3.1165394574851684,
          -3.099062727256451,
          -3.0787970497536623,
          -3.055760662718659,
          -3.029974297344866,
          -3.0014611596205913,
          -2.9702469094452124,
          -2.936359637536981,
          -2.899829840153295,
          -2.860690391646118,
          -2.8189765148772636,
          -2.7747257495202255,
          -2.727977918276989,
          -2.6787750910402943,
          -2.627161547033552,
          -2.5731837349625692,
          -2.5168902312148065,
          -2.458331696143943,
          -2.3975608284789622,
          -2.3346323178988584,
          -2.269602795815592,
          -2.202530784409684,
          -2.133476643964184,
          -2.062502518544461,
          -1.9896722800727997,
          -1.9150514708479056,
          -1.8387072445613624,
          -1.7607083058637298,
          -1.6811248485350558,
          -1.6000284923152233,
          -1.5174922184509905,
          -1.433590304017813,
          -1.3483982550754523,
          -1.2619927387176755,
          -1.1744515140770175,
          -1.0858533623467788,
          -0.9962780158833309,
          -0.9058060864523366,
          -0.8145189926836227,
          -0.7224988867998652,
          -0.6298285806852107,
          -0.5365914713600823,
          -0.4428714659295676,
          -0.3487529060726434,
          -0.2543204921403799,
          -0.1596592069312971,
          -0.06485423921264932,
          0.03000909294374876,
          0.1248454189420618,
          0.21956939249012863,
          0.3140957684054664,
          0.4083394793300449,
          0.5022157122853144,
          0.595639984998082,
          0.6885282219288437,
          0.7807968299341308,
          0.8723627734946708,
          0.9631436494417972,
          1.053057761114672,
          1.1420241918817995,
          1.2299628779605642,
          1.316794680469168,
          1.402441456646324,
          1.4868261301744468,
          1.5698727605431753,
          1.6515066113906378,
          1.7316542177612102,
          1.810243452218951,
          1.887203589757462,
          1.9624653714476026,
          2.035961066765888,
          2.107624534547333,
          2.177391282508066,
          2.245198525284052,
          2.310985240933636,
          2.374692225853204,
          2.4362621480564135,
          2.495639598769134,
          2.5527711422935884,
          2.6076053640968615,
          2.660092917080529,
          2.710186565989703,
          2.7578412299215977,
          2.803014022895261,
          2.8456642924460844,
          2.885753656210288,
          2.9232460364664306,
          2.9581076926029417,
          2.990307251482385
         ],
         "xaxis": "x2",
         "yaxis": "y2"
        },
        {
         "alignmentgroup": "True",
         "bingroup": "x",
         "hovertemplate": "variable=y(t)<br>value=%{x}<br>count=%{y}<extra></extra>",
         "legendgroup": "y(t)",
         "marker": {
          "color": "#EF553B",
          "opacity": 0.5,
          "pattern": {
           "shape": ""
          }
         },
         "name": "y(t)",
         "nbinsx": 100,
         "offsetgroup": "y(t)",
         "orientation": "v",
         "showlegend": true,
         "type": "histogram",
         "x": [
          3,
          2.7286905994245014,
          2.454925561490611,
          2.1789512562538835,
          1.9010160419613247,
          1.6213700415457335,
          1.3402649175319468,
          1.0579536455575484,
          0.7746902867118775,
          0.49072975889819137,
          0.20632760742476197,
          -0.07826022496865415,
          -0.362777628442005,
          -0.646968556536514,
          -0.9305772565992068,
          -1.2133484999430406,
          -1.495027811535493,
          -1.7753616990089136,
          -2.054097880786545,
          -2.330985513118917,
          -2.6057754158262845,
          -2.8782202965439705,
          -3.148074973268809,
          -3.415096595006392,
          -3.679044860320573,
          -3.939682233588545,
          -4.1967741587668606,
          -4.450089270476042,
          -4.699399602213811,
          -4.944480791509541,
          -5.185112281835356,
          -5.421077521092099,
          -5.652164156491614,
          -5.878164225659923,
          -6.098874343789317,
          -6.314095886670971,
          -6.523635169443308,
          -6.7273036208953085,
          -6.924917953167875,
          -7.1163003267005305,
          -7.301278510275018,
          -7.479686036011769,
          -7.651362349179774,
          -7.8161529526849804,
          -7.973909546107269,
          -8.124490159160807,
          -8.267759279457735,
          -8.40358797446016,
          -8.531854007510741,
          -8.652441947837433,
          -8.76524327443338,
          -8.870156473718511,
          -8.967087130894894,
          -9.055948014913696,
          -9.136659156977228,
          -9.20914792250547,
          -9.273349076502297,
          -9.329204842262556,
          -9.376664953367213,
          -9.415686698919737,
          -9.446234961983018,
          -9.468282251182245,
          -9.48180872544529,
          -9.486802211858322,
          -9.48325821662062,
          -9.471179929088684,
          -9.450578218906037,
          -9.421471626221265,
          -9.383886345003152,
          -9.337856199467861,
          -9.283422613639436,
          -9.220634574070964,
          -9.149548585759986,
          -9.07022862129783,
          -8.982746063298569,
          -8.88717964015951,
          -8.783615355210934,
          -8.67214640931892,
          -8.552873117010842,
          -8.42590281619907,
          -8.291349771584093,
          -8.149335071824014,
          -7.999986520562909,
          -7.843438521416186,
          -7.679831957016406,
          -7.50931406222842,
          -7.332038291647917,
          -7.148164181502671,
          -6.9578572060806785,
          -6.761288628814487,
          -6.558635348155652,
          -6.350079738378083,
          -6.135809485453496,
          -5.916017418146718,
          -5.6909013344828026,
          -5.460663823742171,
          -5.225512084143921,
          -4.985657736381424,
          -4.741316633177988,
          -4.492708665033963,
          -4.240057562340141,
          -3.983590694035513,
          -3.7235388629905617,
          -3.4601360983002523,
          -3.1936194446736486,
          -2.9242287491096848,
          -2.652206445051044,
          -2.3777973342104226,
          -2.101248366265513,
          -1.8228084166209735,
          -1.5427280624373565,
          -1.2612593571285662,
          -0.9786556035308087,
          -0.6951711259471449,
          -0.41106104127277643,
          -0.12658102940704996,
          0.15801289684117537,
          0.4424646221478028,
          0.7265181591599625,
          1.0099178788673795,
          1.292408740651227,
          1.5737365218034665,
          1.8536480463101102,
          2.1318914126925597,
          2.408216220701941,
          2.6823737966624113,
          2.9541174172606866,
          3.223202531580366,
          3.489386981181267,
          3.7524312180256647,
          4.012098520055348,
          4.268155204225502,
          4.5203708368036875,
          4.76851844074463,
          5.012374699954243,
          5.251720160259039,
          5.486339426900071,
          5.7160213583737,
          5.940559256444661,
          6.159751052160535,
          6.373399487700196,
          6.581312293892477,
          6.7833023632455145,
          6.979187918330806,
          7.16879267537065,
          7.351946002881647,
          7.528483075231519,
          7.698245020971048,
          7.8610790658076475,
          8.016838670091945,
          8.165383660693534,
          8.306580357147363,
          8.44030169195711,
          8.566427324947368,
          8.684843751561674,
          8.79544440500894,
          8.898129752166382,
          8.992807383152618,
          9.079392094490304,
          9.157805965783528,
          9.227978429840906,
          9.289846336181284,
          9.343354007864917,
          9.388453291598946,
          9.425103601072122,
          9.453271953479742,
          9.472932999205941,
          9.484069044636652,
          9.486670068082645,
          9.480733728798384,
          9.466265369088534,
          9.443278009500245,
          9.41179233710555,
          9.371836686884384,
          9.323447016225021,
          9.26666687256485,
          9.201547354200619,
          9.12814706430342,
          9.046532058179794,
          8.9567757838264,
          8.858959015831788,
          8.753169782684726,
          8.63950328755448,
          8.518061822614412,
          8.388954676985914,
          8.252298038385584,
          8.108214888564117,
          7.956834892631024,
          7.798294282364806,
          7.632735733613538,
          7.460308237896218,
          7.28116696832049,
          7.095473139937306,
          6.903393864658242,
          6.705102000866093,
          6.500775997853976,
          6.290599735233002,
          6.074762357453061,
          5.853458103585577,
          5.626886132521429,
          5.395250343741431,
          5.158759193820531,
          4.917625508831007,
          4.672066292813291,
          4.422302532487064,
          4.1685589983780655,
          3.9110640425398095,
          3.650049393052179,
          3.3857499454817286,
          3.1184035514916264,
          2.84825080479109,
          2.5755348246174194,
          2.3005010369449708,
          2.023396953618441,
          1.7444719496088439,
          1.4639770385929307,
          1.1821646470577536,
          0.8992883871339603,
          0.6156028283618751,
          0.33136326859622534,
          0.04682550425517995,
          -0.23775439987905989,
          -0.5221203411013575,
          -0.8060164092587212,
          -1.0891871170522442,
          -1.371377629958328,
          -1.65233399556268,
          -1.9318033721002075,
          -2.2095342559956683,
          -2.4852767081998124,
          -2.7587825791177307,
          -3.0298057319266727,
          -3.2981022640826323,
          -3.563430726816158,
          -3.8255523424198916,
          -4.084231219132498,
          -4.339234563425208,
          -4.590332889500388,
          -4.837300225813187,
          -5.07991431843073,
          -5.317956831045608,
          -5.551213541463877,
          -5.779474534390486,
          -6.002534390338987,
          -6.220192370495085,
          -6.432252597368132,
          -6.638524231067569,
          -6.8388216410459925,
          -7.032964573154082,
          -7.22077831185721,
          -7.402093837467572,
          -7.576747978250568,
          -7.744583557268273,
          -7.90544953382815,
          -8.05920113940941,
          -8.205700007944968,
          -8.344814300341502,
          -8.476418823125798,
          -8.600395141110392,
          -8.716631683977239,
          -8.825023846683498,
          -8.925474083598976,
          -9.017891996290645,
          -9.102194414875099,
          -9.178305472865858,
          -9.246156675448072,
          -9.305686961119235,
          -9.356842756640415,
          -9.39957802524856,
          -9.433854308086463,
          -9.459640758813151,
          -9.476914171363504,
          -9.485659000832143,
          -9.485867377462808,
          -9.477539113730597,
          -9.460681704510726,
          -9.435310320333654,
          -9.401447793732624,
          -9.35912459869592,
          -9.308378823242348,
          -9.24925613514458,
          -9.181809740831245,
          -9.106100337504724,
          -9.02219605851778,
          -8.930172412058138,
          -8.830112213196191,
          -8.722105509357068,
          -8.606249499283983,
          -8.482648445565951,
          -8.35141358080851,
          -8.212663007531846,
          -8.066521591886517,
          -7.913120851282374,
          -7.752598836031699,
          -7.585100005113328,
          -7.410775096169236,
          -7.2297809898509255,
          -7.042280568637304,
          -6.848442570251597,
          -6.64844143580866,
          -6.44245715282984,
          -6.230675093266273,
          -6.01328584667673,
          -5.7904850487097965,
          -5.562473205045026,
          -5.329455510951407,
          -5.091641666625385,
          -4.84924568847489,
          -4.602485716519045,
          -4.351583818076799,
          -4.096765787921366,
          -3.8382609450802128,
          -3.576301926463329,
          -3.3111244775057513,
          -3.042967240012631,
          -2.7720715373976264,
          -2.498681157508163,
          -2.2230421332328767,
          -1.9454025210885075,
          -1.666012177985905,
          -1.3851225363755473,
          -1.1029863779754516,
          -0.8198576062844918,
          -0.5359910180866199,
          -0.2516420741507628,
          0.03293333066648296,
          0.31747909770907956,
          0.601739154992917,
          0.8854576876534352,
          1.1683793681616828,
          1.4502495861018092,
          1.7308146773033553,
          2.00982215212183,
          2.2870209226623044,
          2.5621615287416644,
          2.834996362385887,
          3.1052798906604604,
          3.372768876633544,
          3.6372225982727437,
          3.8984030650786408,
          4.156075232260281,
          4.410007212259563,
          4.659970483434354,
          4.905740095712641,
          5.147094873032293,
          5.383817612384712,
          5.615695279282744,
          5.842519199477508,
          6.064085246750945,
          6.280194026615792,
          6.490651055757053,
          6.6952669370539475,
          6.893857530024442,
          7.086244116539339,
          7.272253561656489,
          7.451718469430526,
          7.624477333557984,
          7.790374682722032,
          7.949261220506134,
          8.100993959750816,
          8.245436351232419,
          8.382458406548164,
          8.51193681509698,
          8.633755055050718,
          8.747803498215884,
          8.85397950869168,
          8.952187535235348,
          9.042339197251826,
          9.124353364330371,
          9.198156229256387,
          9.263681374432997,
          9.320869831652344,
          9.36967013516305,
          9.410038367985868,
          9.441938201436034,
          9.465340927816616,
          9.48022548625351,
          9.486578481648797,
          9.484394196735439,
          9.47367459722242,
          9.454429330025755,
          9.4266757145869,
          9.390438727286437,
          9.345750978967018,
          9.292652685585795,
          9.231191632022782,
          9.161423129077692,
          9.083409963693942,
          8.997222342454643,
          8.902937828401427,
          8.800641271232926,
          8.690424730945775,
          8.572387394986851,
          8.446635488991221,
          8.313282181186299,
          8.172447480548012,
          8.024258128800907,
          7.868847486359037,
          7.706355412310726,
          7.5369281385547096,
          7.360718138201391,
          7.177883988357261,
          6.988590227416221,
          6.793007206986229,
          6.591310938584158,
          6.383682935237526,
          6.170310048134814,
          5.951384298472241,
          5.72710270464743,
          5.497667104956273,
          5.263283975952052,
          5.024164246630456,
          4.780523108607849,
          4.532579822463095,
          4.280557520418114,
          4.024683005533676,
          3.765186547602241,
          3.5023016759204313,
          3.2362649691285648,
          2.9673158423057986,
          2.6956963315127678,
          2.421650875975452,
          2.1454260981062556,
          1.8672705815606807,
          1.5874346475287004,
          1.3061701294625692,
          1.0237301464437605,
          0.7403688753928304,
          0.45634132232749636,
          0.17190309287415007,
          -0.11268983775963815,
          -0.39718135514582986,
          -0.6813154361212943,
          -0.9648363791916608,
          -1.247489034645258,
          -1.5290190341706733,
          -1.8091730197710243,
          -2.087698871769063,
          -2.3643459356979895,
          -2.6388652478733188,
          -2.911009759443671,
          -3.180534558717755,
          -3.447197091568636,
          -3.710757379715928,
          -3.9709782366900996,
          -4.227625481284241,
          -4.480468148301355,
          -4.7292786964075555,
          -4.973833212903724,
          -5.213911615231934,
          -5.449297849034913,
          -5.679780082590329,
          -5.905150897445097,
          -6.12520747507785,
          -6.339751779422161,
          -6.548590735085375,
          -6.751536401103662,
          -6.948406140075967,
          -7.139022782525549,
          -7.32321478634044,
          -7.500816391149803,
          -7.671667767497048,
          -7.835615160675566,
          -7.992511029097652,
          -8.142214177071843,
          -8.284589881869662,
          -8.419510014966823,
          -8.546853157350393,
          -8.666504708787626,
          -8.778356990958477,
          -8.882309344358786,
          -8.978268218887054,
          -9.06614725803326,
          -9.145867376593817,
          -9.217356831842961,
          -9.28055128809637,
          -9.33539387460891,
          -9.38183523675449,
          -9.419833580441866,
          -9.449354709726538,
          -9.470372057584765,
          -9.482866709822101,
          -9.486827422094898,
          -9.482250630029451,
          -9.469140452429695,
          -9.447508687570554,
          -9.417374802580307,
          -9.37876591592147,
          -9.331716772986008,
          -9.27626971482685,
          -9.212474640053758,
          -9.140388959928007,
          -9.060077546696071,
          -8.971612675208993,
          -8.875073957879913,
          -8.770548273038258,
          -8.65812968674513,
          -8.537919368140141,
          -8.410025498396095,
          -8.27456317336319,
          -8.131654299990515,
          -7.981427486618051,
          -7.8240179272378025,
          -7.659567279828436,
          -7.488223538872485,
          -7.310140902171496,
          -7.125479632078228,
          -6.934405911271558,
          -6.7370916932031015,
          -6.533714547350808,
          -6.324457499418388,
          -6.109508866624566,
          -5.889062088230284,
          -5.663315551456336,
          -5.432472412948435,
          -5.196740415949726,
          -4.956331703346145,
          -4.711462626751907,
          -4.462353551807779,
          -4.209228659866838,
          -3.952315746246427,
          -3.6918460152277346,
          -3.4280538719874367,
          -3.161176711649044,
          -2.89145470564321,
          -2.6191305855696347,
          -2.344449424755058,
          -2.0676584177037576,
          -1.7890066576393293,
          -1.5087449123373193,
          -1.2271253984514656,
          -0.944401554535435,
          -0.660827812965548,
          -0.3766593709685311,
          -0.09215196096138811,
          0.1924383795905662,
          0.47685553859009033,
          0.760843559791633,
          1.0441468731447965,
          1.3265105247898954,
          1.607680406499524,
          1.8874034843584093,
          2.165428026477285,
          2.441503829534371,
          2.715382443941442,
          2.98681739743178,
          3.255564416868524,
          3.521381648074123,
          3.784029873482588,
          4.0432727274192395,
          4.298876908813967,
          4.550612391156248,
          4.798252629503609,
          5.041574764356724,
          5.280359822218035,
          5.514392912652918,
          5.743463421676795,
          5.967365201293313,
          6.185896755013734,
          6.398861419190123,
          6.6060675399994535,
          6.8073286459189655,
          7.002463615538027,
          7.191296840555242,
          7.373658383813908,
          7.549384132234195,
          7.718315944503572,
          7.880301793393592,
          8.035195902573992,
          8.182858877801525,
          8.323157832365444,
          8.455966506676516,
          8.58116538189221,
          8.698641787475488,
          8.80829000259073,
          8.910011351245393,
          9.00371429109166,
          9.089314495808422,
          9.166734930989273,
          9.235905923468287,
          9.29676522402112,
          9.349258063385168,
          9.393337201548158,
          9.42896297026099,
          9.456103308736495,
          9.474733792501961,
          9.484837655379524,
          9.486405804574577,
          9.479436828858697,
          9.463936999839637,
          9.439920266317296,
          9.40740824173078,
          9.366430184707715,
          9.317022972733477,
          9.259231068963963,
          9.19310648221173,
          9.118708720141584,
          9.036104735717677,
          8.945368866950394,
          8.846582769997154,
          8.739835345677326,
          8.625222659467575,
          8.502847855049367,
          8.372821061486643,
          8.23525929411703,
          8.090286349246057,
          7.938032692738692,
          7.778635342608993,
          7.61223774571308,
          7.438989648656679,
          7.259046963033203,
          7.072571625113968,
          6.879731450116416,
          6.680699981181678,
          6.4756563331975965,
          6.264785031607326,
          6.048275846348938,
          5.826323621075209,
          5.599128097807533,
          5.366893737181638,
          5.1298295344467375,
          4.88814883138397,
          4.6420691243130765,
          4.391811868360566,
          4.13760227816497,
          3.87966912519877,
          3.6182445318897,
          3.3535637627261092,
          3.085865012534859
         ],
         "xaxis": "x",
         "yaxis": "y"
        },
        {
         "alignmentgroup": "True",
         "boxpoints": "all",
         "fillcolor": "rgba(255,255,255,0)",
         "hoveron": "points",
         "hovertemplate": "variable=y(t)<br>value=%{x}<extra></extra>",
         "jitter": 0,
         "legendgroup": "y(t)",
         "line": {
          "color": "rgba(255,255,255,0)"
         },
         "marker": {
          "color": "#EF553B",
          "symbol": "line-ns-open"
         },
         "name": "y(t)",
         "offsetgroup": "y(t)",
         "showlegend": false,
         "type": "box",
         "x": [
          3,
          2.7286905994245014,
          2.454925561490611,
          2.1789512562538835,
          1.9010160419613247,
          1.6213700415457335,
          1.3402649175319468,
          1.0579536455575484,
          0.7746902867118775,
          0.49072975889819137,
          0.20632760742476197,
          -0.07826022496865415,
          -0.362777628442005,
          -0.646968556536514,
          -0.9305772565992068,
          -1.2133484999430406,
          -1.495027811535493,
          -1.7753616990089136,
          -2.054097880786545,
          -2.330985513118917,
          -2.6057754158262845,
          -2.8782202965439705,
          -3.148074973268809,
          -3.415096595006392,
          -3.679044860320573,
          -3.939682233588545,
          -4.1967741587668606,
          -4.450089270476042,
          -4.699399602213811,
          -4.944480791509541,
          -5.185112281835356,
          -5.421077521092099,
          -5.652164156491614,
          -5.878164225659923,
          -6.098874343789317,
          -6.314095886670971,
          -6.523635169443308,
          -6.7273036208953085,
          -6.924917953167875,
          -7.1163003267005305,
          -7.301278510275018,
          -7.479686036011769,
          -7.651362349179774,
          -7.8161529526849804,
          -7.973909546107269,
          -8.124490159160807,
          -8.267759279457735,
          -8.40358797446016,
          -8.531854007510741,
          -8.652441947837433,
          -8.76524327443338,
          -8.870156473718511,
          -8.967087130894894,
          -9.055948014913696,
          -9.136659156977228,
          -9.20914792250547,
          -9.273349076502297,
          -9.329204842262556,
          -9.376664953367213,
          -9.415686698919737,
          -9.446234961983018,
          -9.468282251182245,
          -9.48180872544529,
          -9.486802211858322,
          -9.48325821662062,
          -9.471179929088684,
          -9.450578218906037,
          -9.421471626221265,
          -9.383886345003152,
          -9.337856199467861,
          -9.283422613639436,
          -9.220634574070964,
          -9.149548585759986,
          -9.07022862129783,
          -8.982746063298569,
          -8.88717964015951,
          -8.783615355210934,
          -8.67214640931892,
          -8.552873117010842,
          -8.42590281619907,
          -8.291349771584093,
          -8.149335071824014,
          -7.999986520562909,
          -7.843438521416186,
          -7.679831957016406,
          -7.50931406222842,
          -7.332038291647917,
          -7.148164181502671,
          -6.9578572060806785,
          -6.761288628814487,
          -6.558635348155652,
          -6.350079738378083,
          -6.135809485453496,
          -5.916017418146718,
          -5.6909013344828026,
          -5.460663823742171,
          -5.225512084143921,
          -4.985657736381424,
          -4.741316633177988,
          -4.492708665033963,
          -4.240057562340141,
          -3.983590694035513,
          -3.7235388629905617,
          -3.4601360983002523,
          -3.1936194446736486,
          -2.9242287491096848,
          -2.652206445051044,
          -2.3777973342104226,
          -2.101248366265513,
          -1.8228084166209735,
          -1.5427280624373565,
          -1.2612593571285662,
          -0.9786556035308087,
          -0.6951711259471449,
          -0.41106104127277643,
          -0.12658102940704996,
          0.15801289684117537,
          0.4424646221478028,
          0.7265181591599625,
          1.0099178788673795,
          1.292408740651227,
          1.5737365218034665,
          1.8536480463101102,
          2.1318914126925597,
          2.408216220701941,
          2.6823737966624113,
          2.9541174172606866,
          3.223202531580366,
          3.489386981181267,
          3.7524312180256647,
          4.012098520055348,
          4.268155204225502,
          4.5203708368036875,
          4.76851844074463,
          5.012374699954243,
          5.251720160259039,
          5.486339426900071,
          5.7160213583737,
          5.940559256444661,
          6.159751052160535,
          6.373399487700196,
          6.581312293892477,
          6.7833023632455145,
          6.979187918330806,
          7.16879267537065,
          7.351946002881647,
          7.528483075231519,
          7.698245020971048,
          7.8610790658076475,
          8.016838670091945,
          8.165383660693534,
          8.306580357147363,
          8.44030169195711,
          8.566427324947368,
          8.684843751561674,
          8.79544440500894,
          8.898129752166382,
          8.992807383152618,
          9.079392094490304,
          9.157805965783528,
          9.227978429840906,
          9.289846336181284,
          9.343354007864917,
          9.388453291598946,
          9.425103601072122,
          9.453271953479742,
          9.472932999205941,
          9.484069044636652,
          9.486670068082645,
          9.480733728798384,
          9.466265369088534,
          9.443278009500245,
          9.41179233710555,
          9.371836686884384,
          9.323447016225021,
          9.26666687256485,
          9.201547354200619,
          9.12814706430342,
          9.046532058179794,
          8.9567757838264,
          8.858959015831788,
          8.753169782684726,
          8.63950328755448,
          8.518061822614412,
          8.388954676985914,
          8.252298038385584,
          8.108214888564117,
          7.956834892631024,
          7.798294282364806,
          7.632735733613538,
          7.460308237896218,
          7.28116696832049,
          7.095473139937306,
          6.903393864658242,
          6.705102000866093,
          6.500775997853976,
          6.290599735233002,
          6.074762357453061,
          5.853458103585577,
          5.626886132521429,
          5.395250343741431,
          5.158759193820531,
          4.917625508831007,
          4.672066292813291,
          4.422302532487064,
          4.1685589983780655,
          3.9110640425398095,
          3.650049393052179,
          3.3857499454817286,
          3.1184035514916264,
          2.84825080479109,
          2.5755348246174194,
          2.3005010369449708,
          2.023396953618441,
          1.7444719496088439,
          1.4639770385929307,
          1.1821646470577536,
          0.8992883871339603,
          0.6156028283618751,
          0.33136326859622534,
          0.04682550425517995,
          -0.23775439987905989,
          -0.5221203411013575,
          -0.8060164092587212,
          -1.0891871170522442,
          -1.371377629958328,
          -1.65233399556268,
          -1.9318033721002075,
          -2.2095342559956683,
          -2.4852767081998124,
          -2.7587825791177307,
          -3.0298057319266727,
          -3.2981022640826323,
          -3.563430726816158,
          -3.8255523424198916,
          -4.084231219132498,
          -4.339234563425208,
          -4.590332889500388,
          -4.837300225813187,
          -5.07991431843073,
          -5.317956831045608,
          -5.551213541463877,
          -5.779474534390486,
          -6.002534390338987,
          -6.220192370495085,
          -6.432252597368132,
          -6.638524231067569,
          -6.8388216410459925,
          -7.032964573154082,
          -7.22077831185721,
          -7.402093837467572,
          -7.576747978250568,
          -7.744583557268273,
          -7.90544953382815,
          -8.05920113940941,
          -8.205700007944968,
          -8.344814300341502,
          -8.476418823125798,
          -8.600395141110392,
          -8.716631683977239,
          -8.825023846683498,
          -8.925474083598976,
          -9.017891996290645,
          -9.102194414875099,
          -9.178305472865858,
          -9.246156675448072,
          -9.305686961119235,
          -9.356842756640415,
          -9.39957802524856,
          -9.433854308086463,
          -9.459640758813151,
          -9.476914171363504,
          -9.485659000832143,
          -9.485867377462808,
          -9.477539113730597,
          -9.460681704510726,
          -9.435310320333654,
          -9.401447793732624,
          -9.35912459869592,
          -9.308378823242348,
          -9.24925613514458,
          -9.181809740831245,
          -9.106100337504724,
          -9.02219605851778,
          -8.930172412058138,
          -8.830112213196191,
          -8.722105509357068,
          -8.606249499283983,
          -8.482648445565951,
          -8.35141358080851,
          -8.212663007531846,
          -8.066521591886517,
          -7.913120851282374,
          -7.752598836031699,
          -7.585100005113328,
          -7.410775096169236,
          -7.2297809898509255,
          -7.042280568637304,
          -6.848442570251597,
          -6.64844143580866,
          -6.44245715282984,
          -6.230675093266273,
          -6.01328584667673,
          -5.7904850487097965,
          -5.562473205045026,
          -5.329455510951407,
          -5.091641666625385,
          -4.84924568847489,
          -4.602485716519045,
          -4.351583818076799,
          -4.096765787921366,
          -3.8382609450802128,
          -3.576301926463329,
          -3.3111244775057513,
          -3.042967240012631,
          -2.7720715373976264,
          -2.498681157508163,
          -2.2230421332328767,
          -1.9454025210885075,
          -1.666012177985905,
          -1.3851225363755473,
          -1.1029863779754516,
          -0.8198576062844918,
          -0.5359910180866199,
          -0.2516420741507628,
          0.03293333066648296,
          0.31747909770907956,
          0.601739154992917,
          0.8854576876534352,
          1.1683793681616828,
          1.4502495861018092,
          1.7308146773033553,
          2.00982215212183,
          2.2870209226623044,
          2.5621615287416644,
          2.834996362385887,
          3.1052798906604604,
          3.372768876633544,
          3.6372225982727437,
          3.8984030650786408,
          4.156075232260281,
          4.410007212259563,
          4.659970483434354,
          4.905740095712641,
          5.147094873032293,
          5.383817612384712,
          5.615695279282744,
          5.842519199477508,
          6.064085246750945,
          6.280194026615792,
          6.490651055757053,
          6.6952669370539475,
          6.893857530024442,
          7.086244116539339,
          7.272253561656489,
          7.451718469430526,
          7.624477333557984,
          7.790374682722032,
          7.949261220506134,
          8.100993959750816,
          8.245436351232419,
          8.382458406548164,
          8.51193681509698,
          8.633755055050718,
          8.747803498215884,
          8.85397950869168,
          8.952187535235348,
          9.042339197251826,
          9.124353364330371,
          9.198156229256387,
          9.263681374432997,
          9.320869831652344,
          9.36967013516305,
          9.410038367985868,
          9.441938201436034,
          9.465340927816616,
          9.48022548625351,
          9.486578481648797,
          9.484394196735439,
          9.47367459722242,
          9.454429330025755,
          9.4266757145869,
          9.390438727286437,
          9.345750978967018,
          9.292652685585795,
          9.231191632022782,
          9.161423129077692,
          9.083409963693942,
          8.997222342454643,
          8.902937828401427,
          8.800641271232926,
          8.690424730945775,
          8.572387394986851,
          8.446635488991221,
          8.313282181186299,
          8.172447480548012,
          8.024258128800907,
          7.868847486359037,
          7.706355412310726,
          7.5369281385547096,
          7.360718138201391,
          7.177883988357261,
          6.988590227416221,
          6.793007206986229,
          6.591310938584158,
          6.383682935237526,
          6.170310048134814,
          5.951384298472241,
          5.72710270464743,
          5.497667104956273,
          5.263283975952052,
          5.024164246630456,
          4.780523108607849,
          4.532579822463095,
          4.280557520418114,
          4.024683005533676,
          3.765186547602241,
          3.5023016759204313,
          3.2362649691285648,
          2.9673158423057986,
          2.6956963315127678,
          2.421650875975452,
          2.1454260981062556,
          1.8672705815606807,
          1.5874346475287004,
          1.3061701294625692,
          1.0237301464437605,
          0.7403688753928304,
          0.45634132232749636,
          0.17190309287415007,
          -0.11268983775963815,
          -0.39718135514582986,
          -0.6813154361212943,
          -0.9648363791916608,
          -1.247489034645258,
          -1.5290190341706733,
          -1.8091730197710243,
          -2.087698871769063,
          -2.3643459356979895,
          -2.6388652478733188,
          -2.911009759443671,
          -3.180534558717755,
          -3.447197091568636,
          -3.710757379715928,
          -3.9709782366900996,
          -4.227625481284241,
          -4.480468148301355,
          -4.7292786964075555,
          -4.973833212903724,
          -5.213911615231934,
          -5.449297849034913,
          -5.679780082590329,
          -5.905150897445097,
          -6.12520747507785,
          -6.339751779422161,
          -6.548590735085375,
          -6.751536401103662,
          -6.948406140075967,
          -7.139022782525549,
          -7.32321478634044,
          -7.500816391149803,
          -7.671667767497048,
          -7.835615160675566,
          -7.992511029097652,
          -8.142214177071843,
          -8.284589881869662,
          -8.419510014966823,
          -8.546853157350393,
          -8.666504708787626,
          -8.778356990958477,
          -8.882309344358786,
          -8.978268218887054,
          -9.06614725803326,
          -9.145867376593817,
          -9.217356831842961,
          -9.28055128809637,
          -9.33539387460891,
          -9.38183523675449,
          -9.419833580441866,
          -9.449354709726538,
          -9.470372057584765,
          -9.482866709822101,
          -9.486827422094898,
          -9.482250630029451,
          -9.469140452429695,
          -9.447508687570554,
          -9.417374802580307,
          -9.37876591592147,
          -9.331716772986008,
          -9.27626971482685,
          -9.212474640053758,
          -9.140388959928007,
          -9.060077546696071,
          -8.971612675208993,
          -8.875073957879913,
          -8.770548273038258,
          -8.65812968674513,
          -8.537919368140141,
          -8.410025498396095,
          -8.27456317336319,
          -8.131654299990515,
          -7.981427486618051,
          -7.8240179272378025,
          -7.659567279828436,
          -7.488223538872485,
          -7.310140902171496,
          -7.125479632078228,
          -6.934405911271558,
          -6.7370916932031015,
          -6.533714547350808,
          -6.324457499418388,
          -6.109508866624566,
          -5.889062088230284,
          -5.663315551456336,
          -5.432472412948435,
          -5.196740415949726,
          -4.956331703346145,
          -4.711462626751907,
          -4.462353551807779,
          -4.209228659866838,
          -3.952315746246427,
          -3.6918460152277346,
          -3.4280538719874367,
          -3.161176711649044,
          -2.89145470564321,
          -2.6191305855696347,
          -2.344449424755058,
          -2.0676584177037576,
          -1.7890066576393293,
          -1.5087449123373193,
          -1.2271253984514656,
          -0.944401554535435,
          -0.660827812965548,
          -0.3766593709685311,
          -0.09215196096138811,
          0.1924383795905662,
          0.47685553859009033,
          0.760843559791633,
          1.0441468731447965,
          1.3265105247898954,
          1.607680406499524,
          1.8874034843584093,
          2.165428026477285,
          2.441503829534371,
          2.715382443941442,
          2.98681739743178,
          3.255564416868524,
          3.521381648074123,
          3.784029873482588,
          4.0432727274192395,
          4.298876908813967,
          4.550612391156248,
          4.798252629503609,
          5.041574764356724,
          5.280359822218035,
          5.514392912652918,
          5.743463421676795,
          5.967365201293313,
          6.185896755013734,
          6.398861419190123,
          6.6060675399994535,
          6.8073286459189655,
          7.002463615538027,
          7.191296840555242,
          7.373658383813908,
          7.549384132234195,
          7.718315944503572,
          7.880301793393592,
          8.035195902573992,
          8.182858877801525,
          8.323157832365444,
          8.455966506676516,
          8.58116538189221,
          8.698641787475488,
          8.80829000259073,
          8.910011351245393,
          9.00371429109166,
          9.089314495808422,
          9.166734930989273,
          9.235905923468287,
          9.29676522402112,
          9.349258063385168,
          9.393337201548158,
          9.42896297026099,
          9.456103308736495,
          9.474733792501961,
          9.484837655379524,
          9.486405804574577,
          9.479436828858697,
          9.463936999839637,
          9.439920266317296,
          9.40740824173078,
          9.366430184707715,
          9.317022972733477,
          9.259231068963963,
          9.19310648221173,
          9.118708720141584,
          9.036104735717677,
          8.945368866950394,
          8.846582769997154,
          8.739835345677326,
          8.625222659467575,
          8.502847855049367,
          8.372821061486643,
          8.23525929411703,
          8.090286349246057,
          7.938032692738692,
          7.778635342608993,
          7.61223774571308,
          7.438989648656679,
          7.259046963033203,
          7.072571625113968,
          6.879731450116416,
          6.680699981181678,
          6.4756563331975965,
          6.264785031607326,
          6.048275846348938,
          5.826323621075209,
          5.599128097807533,
          5.366893737181638,
          5.1298295344467375,
          4.88814883138397,
          4.6420691243130765,
          4.391811868360566,
          4.13760227816497,
          3.87966912519877,
          3.6182445318897,
          3.3535637627261092,
          3.085865012534859
         ],
         "xaxis": "x2",
         "yaxis": "y2"
        }
       ],
       "layout": {
        "autosize": true,
        "barmode": "overlay",
        "legend": {
         "title": {
          "text": "variable"
         },
         "tracegroupgap": 0
        },
        "template": {
         "data": {
          "bar": [
           {
            "error_x": {
             "color": "#2a3f5f"
            },
            "error_y": {
             "color": "#2a3f5f"
            },
            "marker": {
             "line": {
              "color": "#E5ECF6",
              "width": 0.5
             },
             "pattern": {
              "fillmode": "overlay",
              "size": 10,
              "solidity": 0.2
             }
            },
            "type": "bar"
           }
          ],
          "barpolar": [
           {
            "marker": {
             "line": {
              "color": "#E5ECF6",
              "width": 0.5
             },
             "pattern": {
              "fillmode": "overlay",
              "size": 10,
              "solidity": 0.2
             }
            },
            "type": "barpolar"
           }
          ],
          "carpet": [
           {
            "aaxis": {
             "endlinecolor": "#2a3f5f",
             "gridcolor": "white",
             "linecolor": "white",
             "minorgridcolor": "white",
             "startlinecolor": "#2a3f5f"
            },
            "baxis": {
             "endlinecolor": "#2a3f5f",
             "gridcolor": "white",
             "linecolor": "white",
             "minorgridcolor": "white",
             "startlinecolor": "#2a3f5f"
            },
            "type": "carpet"
           }
          ],
          "choropleth": [
           {
            "colorbar": {
             "outlinewidth": 0,
             "ticks": ""
            },
            "type": "choropleth"
           }
          ],
          "contour": [
           {
            "colorbar": {
             "outlinewidth": 0,
             "ticks": ""
            },
            "colorscale": [
             [
              0,
              "#0d0887"
             ],
             [
              0.1111111111111111,
              "#46039f"
             ],
             [
              0.2222222222222222,
              "#7201a8"
             ],
             [
              0.3333333333333333,
              "#9c179e"
             ],
             [
              0.4444444444444444,
              "#bd3786"
             ],
             [
              0.5555555555555556,
              "#d8576b"
             ],
             [
              0.6666666666666666,
              "#ed7953"
             ],
             [
              0.7777777777777778,
              "#fb9f3a"
             ],
             [
              0.8888888888888888,
              "#fdca26"
             ],
             [
              1,
              "#f0f921"
             ]
            ],
            "type": "contour"
           }
          ],
          "contourcarpet": [
           {
            "colorbar": {
             "outlinewidth": 0,
             "ticks": ""
            },
            "type": "contourcarpet"
           }
          ],
          "heatmap": [
           {
            "colorbar": {
             "outlinewidth": 0,
             "ticks": ""
            },
            "colorscale": [
             [
              0,
              "#0d0887"
             ],
             [
              0.1111111111111111,
              "#46039f"
             ],
             [
              0.2222222222222222,
              "#7201a8"
             ],
             [
              0.3333333333333333,
              "#9c179e"
             ],
             [
              0.4444444444444444,
              "#bd3786"
             ],
             [
              0.5555555555555556,
              "#d8576b"
             ],
             [
              0.6666666666666666,
              "#ed7953"
             ],
             [
              0.7777777777777778,
              "#fb9f3a"
             ],
             [
              0.8888888888888888,
              "#fdca26"
             ],
             [
              1,
              "#f0f921"
             ]
            ],
            "type": "heatmap"
           }
          ],
          "heatmapgl": [
           {
            "colorbar": {
             "outlinewidth": 0,
             "ticks": ""
            },
            "colorscale": [
             [
              0,
              "#0d0887"
             ],
             [
              0.1111111111111111,
              "#46039f"
             ],
             [
              0.2222222222222222,
              "#7201a8"
             ],
             [
              0.3333333333333333,
              "#9c179e"
             ],
             [
              0.4444444444444444,
              "#bd3786"
             ],
             [
              0.5555555555555556,
              "#d8576b"
             ],
             [
              0.6666666666666666,
              "#ed7953"
             ],
             [
              0.7777777777777778,
              "#fb9f3a"
             ],
             [
              0.8888888888888888,
              "#fdca26"
             ],
             [
              1,
              "#f0f921"
             ]
            ],
            "type": "heatmapgl"
           }
          ],
          "histogram": [
           {
            "marker": {
             "pattern": {
              "fillmode": "overlay",
              "size": 10,
              "solidity": 0.2
             }
            },
            "type": "histogram"
           }
          ],
          "histogram2d": [
           {
            "colorbar": {
             "outlinewidth": 0,
             "ticks": ""
            },
            "colorscale": [
             [
              0,
              "#0d0887"
             ],
             [
              0.1111111111111111,
              "#46039f"
             ],
             [
              0.2222222222222222,
              "#7201a8"
             ],
             [
              0.3333333333333333,
              "#9c179e"
             ],
             [
              0.4444444444444444,
              "#bd3786"
             ],
             [
              0.5555555555555556,
              "#d8576b"
             ],
             [
              0.6666666666666666,
              "#ed7953"
             ],
             [
              0.7777777777777778,
              "#fb9f3a"
             ],
             [
              0.8888888888888888,
              "#fdca26"
             ],
             [
              1,
              "#f0f921"
             ]
            ],
            "type": "histogram2d"
           }
          ],
          "histogram2dcontour": [
           {
            "colorbar": {
             "outlinewidth": 0,
             "ticks": ""
            },
            "colorscale": [
             [
              0,
              "#0d0887"
             ],
             [
              0.1111111111111111,
              "#46039f"
             ],
             [
              0.2222222222222222,
              "#7201a8"
             ],
             [
              0.3333333333333333,
              "#9c179e"
             ],
             [
              0.4444444444444444,
              "#bd3786"
             ],
             [
              0.5555555555555556,
              "#d8576b"
             ],
             [
              0.6666666666666666,
              "#ed7953"
             ],
             [
              0.7777777777777778,
              "#fb9f3a"
             ],
             [
              0.8888888888888888,
              "#fdca26"
             ],
             [
              1,
              "#f0f921"
             ]
            ],
            "type": "histogram2dcontour"
           }
          ],
          "mesh3d": [
           {
            "colorbar": {
             "outlinewidth": 0,
             "ticks": ""
            },
            "type": "mesh3d"
           }
          ],
          "parcoords": [
           {
            "line": {
             "colorbar": {
              "outlinewidth": 0,
              "ticks": ""
             }
            },
            "type": "parcoords"
           }
          ],
          "pie": [
           {
            "automargin": true,
            "type": "pie"
           }
          ],
          "scatter": [
           {
            "fillpattern": {
             "fillmode": "overlay",
             "size": 10,
             "solidity": 0.2
            },
            "type": "scatter"
           }
          ],
          "scatter3d": [
           {
            "line": {
             "colorbar": {
              "outlinewidth": 0,
              "ticks": ""
             }
            },
            "marker": {
             "colorbar": {
              "outlinewidth": 0,
              "ticks": ""
             }
            },
            "type": "scatter3d"
           }
          ],
          "scattercarpet": [
           {
            "marker": {
             "colorbar": {
              "outlinewidth": 0,
              "ticks": ""
             }
            },
            "type": "scattercarpet"
           }
          ],
          "scattergeo": [
           {
            "marker": {
             "colorbar": {
              "outlinewidth": 0,
              "ticks": ""
             }
            },
            "type": "scattergeo"
           }
          ],
          "scattergl": [
           {
            "marker": {
             "colorbar": {
              "outlinewidth": 0,
              "ticks": ""
             }
            },
            "type": "scattergl"
           }
          ],
          "scattermapbox": [
           {
            "marker": {
             "colorbar": {
              "outlinewidth": 0,
              "ticks": ""
             }
            },
            "type": "scattermapbox"
           }
          ],
          "scatterpolar": [
           {
            "marker": {
             "colorbar": {
              "outlinewidth": 0,
              "ticks": ""
             }
            },
            "type": "scatterpolar"
           }
          ],
          "scatterpolargl": [
           {
            "marker": {
             "colorbar": {
              "outlinewidth": 0,
              "ticks": ""
             }
            },
            "type": "scatterpolargl"
           }
          ],
          "scatterternary": [
           {
            "marker": {
             "colorbar": {
              "outlinewidth": 0,
              "ticks": ""
             }
            },
            "type": "scatterternary"
           }
          ],
          "surface": [
           {
            "colorbar": {
             "outlinewidth": 0,
             "ticks": ""
            },
            "colorscale": [
             [
              0,
              "#0d0887"
             ],
             [
              0.1111111111111111,
              "#46039f"
             ],
             [
              0.2222222222222222,
              "#7201a8"
             ],
             [
              0.3333333333333333,
              "#9c179e"
             ],
             [
              0.4444444444444444,
              "#bd3786"
             ],
             [
              0.5555555555555556,
              "#d8576b"
             ],
             [
              0.6666666666666666,
              "#ed7953"
             ],
             [
              0.7777777777777778,
              "#fb9f3a"
             ],
             [
              0.8888888888888888,
              "#fdca26"
             ],
             [
              1,
              "#f0f921"
             ]
            ],
            "type": "surface"
           }
          ],
          "table": [
           {
            "cells": {
             "fill": {
              "color": "#EBF0F8"
             },
             "line": {
              "color": "white"
             }
            },
            "header": {
             "fill": {
              "color": "#C8D4E3"
             },
             "line": {
              "color": "white"
             }
            },
            "type": "table"
           }
          ]
         },
         "layout": {
          "annotationdefaults": {
           "arrowcolor": "#2a3f5f",
           "arrowhead": 0,
           "arrowwidth": 1
          },
          "autotypenumbers": "strict",
          "coloraxis": {
           "colorbar": {
            "outlinewidth": 0,
            "ticks": ""
           }
          },
          "colorscale": {
           "diverging": [
            [
             0,
             "#8e0152"
            ],
            [
             0.1,
             "#c51b7d"
            ],
            [
             0.2,
             "#de77ae"
            ],
            [
             0.3,
             "#f1b6da"
            ],
            [
             0.4,
             "#fde0ef"
            ],
            [
             0.5,
             "#f7f7f7"
            ],
            [
             0.6,
             "#e6f5d0"
            ],
            [
             0.7,
             "#b8e186"
            ],
            [
             0.8,
             "#7fbc41"
            ],
            [
             0.9,
             "#4d9221"
            ],
            [
             1,
             "#276419"
            ]
           ],
           "sequential": [
            [
             0,
             "#0d0887"
            ],
            [
             0.1111111111111111,
             "#46039f"
            ],
            [
             0.2222222222222222,
             "#7201a8"
            ],
            [
             0.3333333333333333,
             "#9c179e"
            ],
            [
             0.4444444444444444,
             "#bd3786"
            ],
            [
             0.5555555555555556,
             "#d8576b"
            ],
            [
             0.6666666666666666,
             "#ed7953"
            ],
            [
             0.7777777777777778,
             "#fb9f3a"
            ],
            [
             0.8888888888888888,
             "#fdca26"
            ],
            [
             1,
             "#f0f921"
            ]
           ],
           "sequentialminus": [
            [
             0,
             "#0d0887"
            ],
            [
             0.1111111111111111,
             "#46039f"
            ],
            [
             0.2222222222222222,
             "#7201a8"
            ],
            [
             0.3333333333333333,
             "#9c179e"
            ],
            [
             0.4444444444444444,
             "#bd3786"
            ],
            [
             0.5555555555555556,
             "#d8576b"
            ],
            [
             0.6666666666666666,
             "#ed7953"
            ],
            [
             0.7777777777777778,
             "#fb9f3a"
            ],
            [
             0.8888888888888888,
             "#fdca26"
            ],
            [
             1,
             "#f0f921"
            ]
           ]
          },
          "colorway": [
           "#636efa",
           "#EF553B",
           "#00cc96",
           "#ab63fa",
           "#FFA15A",
           "#19d3f3",
           "#FF6692",
           "#B6E880",
           "#FF97FF",
           "#FECB52"
          ],
          "font": {
           "color": "#2a3f5f"
          },
          "geo": {
           "bgcolor": "white",
           "lakecolor": "white",
           "landcolor": "#E5ECF6",
           "showlakes": true,
           "showland": true,
           "subunitcolor": "white"
          },
          "hoverlabel": {
           "align": "left"
          },
          "hovermode": "closest",
          "mapbox": {
           "style": "light"
          },
          "paper_bgcolor": "white",
          "plot_bgcolor": "#E5ECF6",
          "polar": {
           "angularaxis": {
            "gridcolor": "white",
            "linecolor": "white",
            "ticks": ""
           },
           "bgcolor": "#E5ECF6",
           "radialaxis": {
            "gridcolor": "white",
            "linecolor": "white",
            "ticks": ""
           }
          },
          "scene": {
           "xaxis": {
            "backgroundcolor": "#E5ECF6",
            "gridcolor": "white",
            "gridwidth": 2,
            "linecolor": "white",
            "showbackground": true,
            "ticks": "",
            "zerolinecolor": "white"
           },
           "yaxis": {
            "backgroundcolor": "#E5ECF6",
            "gridcolor": "white",
            "gridwidth": 2,
            "linecolor": "white",
            "showbackground": true,
            "ticks": "",
            "zerolinecolor": "white"
           },
           "zaxis": {
            "backgroundcolor": "#E5ECF6",
            "gridcolor": "white",
            "gridwidth": 2,
            "linecolor": "white",
            "showbackground": true,
            "ticks": "",
            "zerolinecolor": "white"
           }
          },
          "shapedefaults": {
           "line": {
            "color": "#2a3f5f"
           }
          },
          "ternary": {
           "aaxis": {
            "gridcolor": "white",
            "linecolor": "white",
            "ticks": ""
           },
           "baxis": {
            "gridcolor": "white",
            "linecolor": "white",
            "ticks": ""
           },
           "bgcolor": "#E5ECF6",
           "caxis": {
            "gridcolor": "white",
            "linecolor": "white",
            "ticks": ""
           }
          },
          "title": {
           "x": 0.05
          },
          "xaxis": {
           "automargin": true,
           "gridcolor": "white",
           "linecolor": "white",
           "ticks": "",
           "title": {
            "standoff": 15
           },
           "zerolinecolor": "white",
           "zerolinewidth": 2
          },
          "yaxis": {
           "automargin": true,
           "gridcolor": "white",
           "linecolor": "white",
           "ticks": "",
           "title": {
            "standoff": 15
           },
           "zerolinecolor": "white",
           "zerolinewidth": 2
          }
         }
        },
        "title": {
         "text": "Histogram of x and y using dt = 0.01 with 100 bins over 3 periods."
        },
        "xaxis": {
         "anchor": "y",
         "autorange": true,
         "domain": [
          0,
          1
         ],
         "range": [
          -10.54091061599365,
          10.540753261981397
         ],
         "title": {
          "text": "value"
         },
         "type": "linear"
        },
        "xaxis2": {
         "anchor": "y2",
         "autorange": true,
         "domain": [
          0,
          1
         ],
         "matches": "x",
         "range": [
          -10.54091061599365,
          10.540753261981397
         ],
         "showgrid": true,
         "showticklabels": false,
         "type": "linear"
        },
        "yaxis": {
         "anchor": "x",
         "autorange": true,
         "domain": [
          0,
          0.7326
         ],
         "range": [
          0,
          68.42105263157895
         ],
         "title": {
          "text": "count"
         }
        },
        "yaxis2": {
         "anchor": "x2",
         "autorange": true,
         "domain": [
          0.7426,
          1
         ],
         "matches": "y2",
         "range": [
          -0.63846579894766,
          1.5
         ],
         "showgrid": false,
         "showline": false,
         "showticklabels": false,
         "ticks": "",
         "type": "category"
        }
       }
      },
      "text/html": [
       "<div>                            <div id=\"cf1e9436-1c78-4a57-9143-b8695a6fafe3\" class=\"plotly-graph-div\" style=\"height:525px; width:100%;\"></div>            <script type=\"text/javascript\">                require([\"plotly\"], function(Plotly) {                    window.PLOTLYENV=window.PLOTLYENV || {};                                    if (document.getElementById(\"cf1e9436-1c78-4a57-9143-b8695a6fafe3\")) {                    Plotly.newPlot(                        \"cf1e9436-1c78-4a57-9143-b8695a6fafe3\",                        [{\"alignmentgroup\":\"True\",\"bingroup\":\"x\",\"hovertemplate\":\"variable=x(t)\\u003cbr\\u003evalue=%{x}\\u003cbr\\u003ecount=%{y}\\u003cextra\\u003e\\u003c\\u002fextra\\u003e\",\"legendgroup\":\"x(t)\",\"marker\":{\"color\":\"#636efa\",\"opacity\":0.5,\"pattern\":{\"shape\":\"\"}},\"name\":\"x(t)\",\"nbinsx\":100,\"offsetgroup\":\"x(t)\",\"orientation\":\"v\",\"showlegend\":true,\"x\":[3.0,3.0286456014494583,3.054565626285057,3.077736748233994,3.098138114850518,3.1157513662817258,3.1305606517901885,3.1425526440185445,3.1517165509832235,3.1580441257865024,3.1615296740381575,3.1621700589800295,3.1599647043088943,3.1549155946951006,3.1470272739964953,3.1363068411692607,3.1227639438793355,3.1064107698201613,3.0872620357445855,3.0653349742207756,3.0406493181240704,3.013227282878725,2.983093546465529,2.9502752272132877,2.9148018593941583,2.8767053666447966,2.8360200332372423,2.7927824732253836,2.7470315974947837,2.698808578745509,2.648156814439477,2.595121887745672,2.5397515265183683,2.4820955603452832,2.4222058757043117,2.3601363692691977,2.2959428994061675,2.2296832359051684,2.1614170079909574,2.0912056506608265,2.0191123493972465,1.9452019833052052,1.8695410667253838,1.7921976893757454,1.713241455075384,1.6327434191057835,1.5507760242658626,1.4674130356783435,1.3827294744061231,1.296801549938376,1.2097065916071632,1.121522978996249,1.0323300714047685,0.9422081364292129,0.8512382777280123,0.7595023620337167,0.6670829454784619,0.5740631992990247,0.48052683498832316,0.38655802896071845,0.29224134679893454,0.19766166715072941,0.10290410534385219,0.008053936787983051,-0.08680347976736968,-0.1815827790499921,-0.2761986660879382,-0.37056599296925685,-0.46459983546935624,-0.5582155694770825,-0.651328947150699,-0.7438561727352644,-0.8357139779731549,-0.9268196970398694,-1.017091340937701,-1.1064476712802964,-1.1948082734017156,-1.282093628724212,-1.3682251863195796,-1.4531254335996908,-1.5367179660725867,-1.6189275561013665,-1.6996802206039867,-1.7789032876330384,-1.856525461775588,-1.9324768883142496,-2.006689216091706,-2.079095659022137,-2.1496310561941963,-2.218231930511423,-2.2848365458173534,-2.3493849624538883,-2.411819091202943,-2.4720827455628185,-2.5301216923122682,-2.5858837003167268,-2.6393185875328133,-2.690378266168782,-2.739016785960282,-2.7851903755225056,-2.828857481741469,-2.869978807169017,-2.9085173453878705,-2.944438414314906,-2.977709687412689,-3.008301222781175,-3.036185490103398,-3.0613373954209004,-3.0837343037165996,-3.1033560592847746,-3.120185003869843,-3.134205992557598,-3.1454064074046095,-3.1537761687935197,-3.1593077445040203,-3.1619961564913437,-3.1618389853661615,-3.158836372571879,-3.1529910202573403,-3.1443081888450797,-3.1327956922972935,-3.118463891083805,-3.1013256828583393,-3.081396490851505,-3.0586942499909275,-3.0332393907610258,-3.005054820816956,-2.9741659043692668,-2.940600439357821,-2.9043886324355275,-2.8655630717843934,-2.8241586977883593,-2.780212771589308,-2.733764841554559,-2.684856707686001,-2.633532384002917,-2.5798380589323346,-2.523822053742557,-2.465534779057289,-2.4050286894894755,-2.3423582364356865,-2.2775798190735452,-2.210751733606261,-2.141934120799997,-2.0711889118612286,-1.998579772702845,-1.924172046649114,-1.8480326956311157,-1.770230239925516,-1.690834696490938,-1.6099175159574362,-1.5275515183257449,-1.4438108274341948,-1.3587708042522635,-1.2725079790607803,-1.1850999825798545,-1.0966254761064582,-1.0071640807245625,-0.9167963056515509,-0.8256034757853468,-0.7336676585174988,-0.641071589878069,-0.5478986000787804,-0.45423253852146694,-0.3601576983392635,-0.26575874053846726,-0.17112061780936316,-0.07632849807452868,0.018532312156556596,0.11337644455759444,0.20811854581120826,0.30267335442117504,0.3969557774420014,0.49088096705683826,0.584364396934798,0.6773219382989303,0.7696699356364523,0.8613252819830635,0.9522054937136,1.0422287847717397,1.131314140271917,1.2193813894072605,1.306351277597915,1.3921455378147964,1.4766869610146505,1.55989946562297,1.641708166002282,1.722039439844171,1.8008209944243756,1.8779819316613664,1.953452811919842,2.027165716501698,2.0990543087682823,2.1690538938388917,2.2371014768117927,2.3031358194553797,2.3670974953184634,2.428928943210048,2.488574519000527,2.5459805456976476,2.601095361752172,2.6538693675497904,2.7042550700474197,2.752207125513749,2.797682380335522,2.840639909852889,2.881041055188831,2.918849458039539,2.954031093394442,2.986554300156405,3.016389809634596,3.043510771884318,3.06789277987016,3.0895138914306677,3.1083546490248204,3.1243980972424943,3.137629798063196,3.1480378438492975,3.155612868062115,3.1603480536911546,3.1622391393889666,3.161284423306067,3.157484764622489,3.150843582774579,3.141366854377732,3.129063107847848,3.1139434157263226,3.0960213847155202,3.075313143433647,3.0518373279000945,3.0256150647642706,2.99666995229305,2.9650280391339194,2.9307178008729546,2.8937701144087233,2.854218230165145,2.812097742168371,2.7674465560145474,2.7203048547573507,2.6707150627459404,2.6187218074459184,2.564371879277611,2.5077141895078667,2.448799726233191,2.387681508493932,2.324414538560694,2.2590557524360273,2.1916639686158548,2.1222998351568103,2.0510257750970617,1.9779059302798163,1.9030061036299601,1.8263936999358994,1.7481376651897707,1.6683084245407263,1.586977818917033,1.504219040374106,1.4201065662265817,1.334716092023766,1.2481244634287674,1.1604096070625516,1.0716504603752834,0.9819269006079108,0.8913196729080712,0.7999103176648847,0.7077810971281292,0.6150149213777437,0.5216952737103855,0.42790613551005696,0.3337319106705726,0.23925734963770728,0.14456747313956608,0.049747495673599484,-0.045117251180612494,-0.13994139555409046,-0.23463960211732504,-0.3291266488763579,-0.42331750386677847,-0.5171274016767933,-0.6104719197303571,-0.703267054261776,-0.7954292959134621,-0.8868757048886925,-0.9775239855918428,-1.0672925606888448,-1.1561006445213182,-1.24386831580817,-1.3305165895693865,-1.4159674882071718,-1.5001441116805037,-1.5829707067100127,-1.6643727349508048,-1.7442769400719262,-1.8226114136821483,-1.8993056600426317,-1.9742906595083671,-2.047498930641158,-2.1188645909384123,-2.188323416122887,-2.2558128979402543,-2.321272300412274,-2.384642714495107,-2.445867111093444,-2.5048903923828747,-2.5616594413941938,-2.6161231698150793,-2.6682325639661477,-2.717940728909945,-2.765202930653215,-2.8099766364044965,-2.8522215528507484,-2.8918996624186124,-2.92897525748767,-2.9634149725248906,-2.995187814111346,-3.0242651888342134,-3.050620929018908,-3.0742313162782193,-3.0950751028572707,-3.1131335307550505,-3.128390348605361,-3.1408318263019397,-3.150446767354636,-3.157226518965489,-3.1611649798156707,-3.1622586055562536,-3.160506411997887,-3.155909975996506,-3.148473434034261,-3.138203478496966,-3.125109351651404,-3.109202837327909,-3.0904982503157132,-3.0690124234806087,-3.0447646926164955,-3.017776879044477,-2.988073269975148,-2.955680596651737,-2.9206280102937923,-2.882947055863062,-2.8426716436751427,-2.799838018882494,-2.7544847288562497,-2.7066525884961736,-2.6563846435000227,-2.603726131625303,-2.5487244419783686,-2.491429072367385,-2.4318915847576923,-2.370165558869472,-2.3063065439596477,-2.2403720088312777,-2.1724212901155373,-2.102515538872731,-2.030717665560476,-1.957092283418552,-1.881705650321317,-1.8046256091501092,-1.7259215267392454,-1.645664231450524,-1.563925949432496,-1.4807802396218182,-1.3963019275451483,-1.3105670379812353,-1.2236527265437658,-1.1356372102464878,-1.046599697113195,-0.9566203148958659,-0.8657800389650591,-0.7741606194375887,-0.6818445076068931,-0.5889147817424858,-0.4954550723250546,-0.40154948678475044,-0.3072825338101116,-0.21273904729599824,-0.11800410999876765,-0.023162976967582183,0.07169900117942007,0.16649645506490385,0.2611440733789969,0.3555566796537454,0.4496493089161667,0.5433372841509758,0.6365362925042156,0.7291624611591176,0.8211324328159609,0.9123634407080459,1.002773383086184,1.0922808971047122,1.1808054320425945,1.2682673217936196,1.354587856560501,1.4396893536884205,1.5234952275741314,1.6059300585878726,1.6869196609459034,1.7663911494727524,1.8442730051928982,1.9204951396930674,1.9949889581970415,2.067687421296353,2.1385251052812206,2.2074382610174363,2.274364871316357,2.3392447067461086,2.402019379834081,2.4626323976116398,2.5210292124540477,2.577157271169614,2.630966062294026,2.682407161547259,2.7314342754121435,2.778003282795445,2.8220722747338214,2.8636015921091094,2.902553861338802,2.9388940280097984,2.972589388424982,3.003609619034349,3.0319268037241525,3.0575154589395206,3.0803525566179486,3.10041754491298,3.117692366689494,3.132161475773909,3.1438118509446857,3.152633007650546,3.158617007445864,3.1617584651347332,3.162054553617275,3.1595050064338404,3.1541121180048055,3.145880741565748,3.1348182847998602,3.120934703171539,3.1042424909671356,3.084756670050946,3.0624947763465364,3.037476844055614,3.0097253876285737,2.9792653815030397,2.946124237628533,2.9103317807975815,2.871920221805411,2.830924128462416,2.787380394485455,2.741328206295985,2.692809007754951,2.641866462866095,2.588546416481297,2.532896853043307,2.4749678534029798,2.4148115497499187,2.352482078696965,2.2880355325609685,2.2215299088834204,2.153025058236656,2.0825826303623094,2.010266018690748,1.9361403032912456,1.860272192304331,1.7827299619089578,1.7035833948785197,1.6229037177811296,1.540763536880437,1.4572367727949804,1.3723985939745396,1.286325349053648,1.199094498142959,1.1107845431203915,1.021474956984734,0.9312461123352707,0.8401792090419323,0.7483562011708571,0.6558597232312562,0.5627730158099503,0.46917985066044354,0.37516445531404863,0.2808114372807011,0.1862057079080156,0.0914324059667041,-0.0034231789684637803,-0.09827568327361769,-0.19303974609723484,-0.28763008617916264,-0.38196157859797675,-0.47594933137767537,-0.5695087618847607,-0.662555672946827,-0.7550063286244243,-0.8467775295676467,-0.9377866878900266,-1.0279519014920084,-1.1171920277673242,-1.205426756625849,-1.2925766827672653,-1.37856337714051,-1.4633094575245649,-1.5467386581672673,-1.628775898419347,-1.709347350301924,-1.7883805049467236,-1.8658042378491198,-1.9415488728754684,-2.0155462449668384,-2.0877297614830406,-2.1580344621314316,-2.22639707742686,-2.292756085629899,-2.3570517681122674,-2.4192262630995565,-2.4792236177429228,-2.536989838472901,-2.592472939589924,-2.6456229900479995,-2.69639215838922,-2.744734755788901,-2.79060727717241,-2.8339684403668066,-2.8747792232520037,-2.913002898878046,-2.9486050685169,-2.9815536926189585,-3.011819119646496,-3.039374112758043,-3.064193874319706,-3.086256068221365,-3.1055408399776567,-3.1220308345956886,-3.1357112121933417,-3.1465696613541807,-3.1545964102068793,-3.159784235219262,-3.162128467698985,-3.1616269979950467,-3.1582802773963334,-3.1520913177254872,-3.1430656886284685,-3.131211512562255,-3.1165394574851684,-3.099062727256451,-3.0787970497536623,-3.055760662718659,-3.029974297344866,-3.0014611596205913,-2.9702469094452124,-2.936359637536981,-2.899829840153295,-2.860690391646118,-2.8189765148772636,-2.7747257495202255,-2.727977918276989,-2.6787750910402943,-2.627161547033552,-2.5731837349625692,-2.5168902312148065,-2.458331696143943,-2.3975608284789622,-2.3346323178988584,-2.269602795815592,-2.202530784409684,-2.133476643964184,-2.062502518544461,-1.9896722800727997,-1.9150514708479056,-1.8387072445613624,-1.7607083058637298,-1.6811248485350558,-1.6000284923152233,-1.5174922184509905,-1.433590304017813,-1.3483982550754523,-1.2619927387176755,-1.1744515140770175,-1.0858533623467788,-0.9962780158833309,-0.9058060864523366,-0.8145189926836227,-0.7224988867998652,-0.6298285806852107,-0.5365914713600823,-0.4428714659295676,-0.3487529060726434,-0.2543204921403799,-0.1596592069312971,-0.06485423921264932,0.03000909294374876,0.1248454189420618,0.21956939249012863,0.3140957684054664,0.4083394793300449,0.5022157122853144,0.595639984998082,0.6885282219288437,0.7807968299341308,0.8723627734946708,0.9631436494417972,1.053057761114672,1.1420241918817995,1.2299628779605642,1.316794680469168,1.402441456646324,1.4868261301744468,1.5698727605431753,1.6515066113906378,1.7316542177612102,1.810243452218951,1.887203589757462,1.9624653714476026,2.035961066765888,2.107624534547333,2.177391282508066,2.245198525284052,2.310985240933636,2.374692225853204,2.4362621480564135,2.495639598769134,2.5527711422935884,2.6076053640968615,2.660092917080529,2.710186565989703,2.7578412299215977,2.803014022895261,2.8456642924460844,2.885753656210288,2.9232460364664306,2.9581076926029417,2.990307251482385],\"xaxis\":\"x\",\"yaxis\":\"y\",\"type\":\"histogram\"},{\"alignmentgroup\":\"True\",\"boxpoints\":\"all\",\"fillcolor\":\"rgba(255,255,255,0)\",\"hoveron\":\"points\",\"hovertemplate\":\"variable=x(t)\\u003cbr\\u003evalue=%{x}\\u003cextra\\u003e\\u003c\\u002fextra\\u003e\",\"jitter\":0,\"legendgroup\":\"x(t)\",\"line\":{\"color\":\"rgba(255,255,255,0)\"},\"marker\":{\"color\":\"#636efa\",\"symbol\":\"line-ns-open\"},\"name\":\"x(t)\",\"offsetgroup\":\"x(t)\",\"showlegend\":false,\"x\":[3.0,3.0286456014494583,3.054565626285057,3.077736748233994,3.098138114850518,3.1157513662817258,3.1305606517901885,3.1425526440185445,3.1517165509832235,3.1580441257865024,3.1615296740381575,3.1621700589800295,3.1599647043088943,3.1549155946951006,3.1470272739964953,3.1363068411692607,3.1227639438793355,3.1064107698201613,3.0872620357445855,3.0653349742207756,3.0406493181240704,3.013227282878725,2.983093546465529,2.9502752272132877,2.9148018593941583,2.8767053666447966,2.8360200332372423,2.7927824732253836,2.7470315974947837,2.698808578745509,2.648156814439477,2.595121887745672,2.5397515265183683,2.4820955603452832,2.4222058757043117,2.3601363692691977,2.2959428994061675,2.2296832359051684,2.1614170079909574,2.0912056506608265,2.0191123493972465,1.9452019833052052,1.8695410667253838,1.7921976893757454,1.713241455075384,1.6327434191057835,1.5507760242658626,1.4674130356783435,1.3827294744061231,1.296801549938376,1.2097065916071632,1.121522978996249,1.0323300714047685,0.9422081364292129,0.8512382777280123,0.7595023620337167,0.6670829454784619,0.5740631992990247,0.48052683498832316,0.38655802896071845,0.29224134679893454,0.19766166715072941,0.10290410534385219,0.008053936787983051,-0.08680347976736968,-0.1815827790499921,-0.2761986660879382,-0.37056599296925685,-0.46459983546935624,-0.5582155694770825,-0.651328947150699,-0.7438561727352644,-0.8357139779731549,-0.9268196970398694,-1.017091340937701,-1.1064476712802964,-1.1948082734017156,-1.282093628724212,-1.3682251863195796,-1.4531254335996908,-1.5367179660725867,-1.6189275561013665,-1.6996802206039867,-1.7789032876330384,-1.856525461775588,-1.9324768883142496,-2.006689216091706,-2.079095659022137,-2.1496310561941963,-2.218231930511423,-2.2848365458173534,-2.3493849624538883,-2.411819091202943,-2.4720827455628185,-2.5301216923122682,-2.5858837003167268,-2.6393185875328133,-2.690378266168782,-2.739016785960282,-2.7851903755225056,-2.828857481741469,-2.869978807169017,-2.9085173453878705,-2.944438414314906,-2.977709687412689,-3.008301222781175,-3.036185490103398,-3.0613373954209004,-3.0837343037165996,-3.1033560592847746,-3.120185003869843,-3.134205992557598,-3.1454064074046095,-3.1537761687935197,-3.1593077445040203,-3.1619961564913437,-3.1618389853661615,-3.158836372571879,-3.1529910202573403,-3.1443081888450797,-3.1327956922972935,-3.118463891083805,-3.1013256828583393,-3.081396490851505,-3.0586942499909275,-3.0332393907610258,-3.005054820816956,-2.9741659043692668,-2.940600439357821,-2.9043886324355275,-2.8655630717843934,-2.8241586977883593,-2.780212771589308,-2.733764841554559,-2.684856707686001,-2.633532384002917,-2.5798380589323346,-2.523822053742557,-2.465534779057289,-2.4050286894894755,-2.3423582364356865,-2.2775798190735452,-2.210751733606261,-2.141934120799997,-2.0711889118612286,-1.998579772702845,-1.924172046649114,-1.8480326956311157,-1.770230239925516,-1.690834696490938,-1.6099175159574362,-1.5275515183257449,-1.4438108274341948,-1.3587708042522635,-1.2725079790607803,-1.1850999825798545,-1.0966254761064582,-1.0071640807245625,-0.9167963056515509,-0.8256034757853468,-0.7336676585174988,-0.641071589878069,-0.5478986000787804,-0.45423253852146694,-0.3601576983392635,-0.26575874053846726,-0.17112061780936316,-0.07632849807452868,0.018532312156556596,0.11337644455759444,0.20811854581120826,0.30267335442117504,0.3969557774420014,0.49088096705683826,0.584364396934798,0.6773219382989303,0.7696699356364523,0.8613252819830635,0.9522054937136,1.0422287847717397,1.131314140271917,1.2193813894072605,1.306351277597915,1.3921455378147964,1.4766869610146505,1.55989946562297,1.641708166002282,1.722039439844171,1.8008209944243756,1.8779819316613664,1.953452811919842,2.027165716501698,2.0990543087682823,2.1690538938388917,2.2371014768117927,2.3031358194553797,2.3670974953184634,2.428928943210048,2.488574519000527,2.5459805456976476,2.601095361752172,2.6538693675497904,2.7042550700474197,2.752207125513749,2.797682380335522,2.840639909852889,2.881041055188831,2.918849458039539,2.954031093394442,2.986554300156405,3.016389809634596,3.043510771884318,3.06789277987016,3.0895138914306677,3.1083546490248204,3.1243980972424943,3.137629798063196,3.1480378438492975,3.155612868062115,3.1603480536911546,3.1622391393889666,3.161284423306067,3.157484764622489,3.150843582774579,3.141366854377732,3.129063107847848,3.1139434157263226,3.0960213847155202,3.075313143433647,3.0518373279000945,3.0256150647642706,2.99666995229305,2.9650280391339194,2.9307178008729546,2.8937701144087233,2.854218230165145,2.812097742168371,2.7674465560145474,2.7203048547573507,2.6707150627459404,2.6187218074459184,2.564371879277611,2.5077141895078667,2.448799726233191,2.387681508493932,2.324414538560694,2.2590557524360273,2.1916639686158548,2.1222998351568103,2.0510257750970617,1.9779059302798163,1.9030061036299601,1.8263936999358994,1.7481376651897707,1.6683084245407263,1.586977818917033,1.504219040374106,1.4201065662265817,1.334716092023766,1.2481244634287674,1.1604096070625516,1.0716504603752834,0.9819269006079108,0.8913196729080712,0.7999103176648847,0.7077810971281292,0.6150149213777437,0.5216952737103855,0.42790613551005696,0.3337319106705726,0.23925734963770728,0.14456747313956608,0.049747495673599484,-0.045117251180612494,-0.13994139555409046,-0.23463960211732504,-0.3291266488763579,-0.42331750386677847,-0.5171274016767933,-0.6104719197303571,-0.703267054261776,-0.7954292959134621,-0.8868757048886925,-0.9775239855918428,-1.0672925606888448,-1.1561006445213182,-1.24386831580817,-1.3305165895693865,-1.4159674882071718,-1.5001441116805037,-1.5829707067100127,-1.6643727349508048,-1.7442769400719262,-1.8226114136821483,-1.8993056600426317,-1.9742906595083671,-2.047498930641158,-2.1188645909384123,-2.188323416122887,-2.2558128979402543,-2.321272300412274,-2.384642714495107,-2.445867111093444,-2.5048903923828747,-2.5616594413941938,-2.6161231698150793,-2.6682325639661477,-2.717940728909945,-2.765202930653215,-2.8099766364044965,-2.8522215528507484,-2.8918996624186124,-2.92897525748767,-2.9634149725248906,-2.995187814111346,-3.0242651888342134,-3.050620929018908,-3.0742313162782193,-3.0950751028572707,-3.1131335307550505,-3.128390348605361,-3.1408318263019397,-3.150446767354636,-3.157226518965489,-3.1611649798156707,-3.1622586055562536,-3.160506411997887,-3.155909975996506,-3.148473434034261,-3.138203478496966,-3.125109351651404,-3.109202837327909,-3.0904982503157132,-3.0690124234806087,-3.0447646926164955,-3.017776879044477,-2.988073269975148,-2.955680596651737,-2.9206280102937923,-2.882947055863062,-2.8426716436751427,-2.799838018882494,-2.7544847288562497,-2.7066525884961736,-2.6563846435000227,-2.603726131625303,-2.5487244419783686,-2.491429072367385,-2.4318915847576923,-2.370165558869472,-2.3063065439596477,-2.2403720088312777,-2.1724212901155373,-2.102515538872731,-2.030717665560476,-1.957092283418552,-1.881705650321317,-1.8046256091501092,-1.7259215267392454,-1.645664231450524,-1.563925949432496,-1.4807802396218182,-1.3963019275451483,-1.3105670379812353,-1.2236527265437658,-1.1356372102464878,-1.046599697113195,-0.9566203148958659,-0.8657800389650591,-0.7741606194375887,-0.6818445076068931,-0.5889147817424858,-0.4954550723250546,-0.40154948678475044,-0.3072825338101116,-0.21273904729599824,-0.11800410999876765,-0.023162976967582183,0.07169900117942007,0.16649645506490385,0.2611440733789969,0.3555566796537454,0.4496493089161667,0.5433372841509758,0.6365362925042156,0.7291624611591176,0.8211324328159609,0.9123634407080459,1.002773383086184,1.0922808971047122,1.1808054320425945,1.2682673217936196,1.354587856560501,1.4396893536884205,1.5234952275741314,1.6059300585878726,1.6869196609459034,1.7663911494727524,1.8442730051928982,1.9204951396930674,1.9949889581970415,2.067687421296353,2.1385251052812206,2.2074382610174363,2.274364871316357,2.3392447067461086,2.402019379834081,2.4626323976116398,2.5210292124540477,2.577157271169614,2.630966062294026,2.682407161547259,2.7314342754121435,2.778003282795445,2.8220722747338214,2.8636015921091094,2.902553861338802,2.9388940280097984,2.972589388424982,3.003609619034349,3.0319268037241525,3.0575154589395206,3.0803525566179486,3.10041754491298,3.117692366689494,3.132161475773909,3.1438118509446857,3.152633007650546,3.158617007445864,3.1617584651347332,3.162054553617275,3.1595050064338404,3.1541121180048055,3.145880741565748,3.1348182847998602,3.120934703171539,3.1042424909671356,3.084756670050946,3.0624947763465364,3.037476844055614,3.0097253876285737,2.9792653815030397,2.946124237628533,2.9103317807975815,2.871920221805411,2.830924128462416,2.787380394485455,2.741328206295985,2.692809007754951,2.641866462866095,2.588546416481297,2.532896853043307,2.4749678534029798,2.4148115497499187,2.352482078696965,2.2880355325609685,2.2215299088834204,2.153025058236656,2.0825826303623094,2.010266018690748,1.9361403032912456,1.860272192304331,1.7827299619089578,1.7035833948785197,1.6229037177811296,1.540763536880437,1.4572367727949804,1.3723985939745396,1.286325349053648,1.199094498142959,1.1107845431203915,1.021474956984734,0.9312461123352707,0.8401792090419323,0.7483562011708571,0.6558597232312562,0.5627730158099503,0.46917985066044354,0.37516445531404863,0.2808114372807011,0.1862057079080156,0.0914324059667041,-0.0034231789684637803,-0.09827568327361769,-0.19303974609723484,-0.28763008617916264,-0.38196157859797675,-0.47594933137767537,-0.5695087618847607,-0.662555672946827,-0.7550063286244243,-0.8467775295676467,-0.9377866878900266,-1.0279519014920084,-1.1171920277673242,-1.205426756625849,-1.2925766827672653,-1.37856337714051,-1.4633094575245649,-1.5467386581672673,-1.628775898419347,-1.709347350301924,-1.7883805049467236,-1.8658042378491198,-1.9415488728754684,-2.0155462449668384,-2.0877297614830406,-2.1580344621314316,-2.22639707742686,-2.292756085629899,-2.3570517681122674,-2.4192262630995565,-2.4792236177429228,-2.536989838472901,-2.592472939589924,-2.6456229900479995,-2.69639215838922,-2.744734755788901,-2.79060727717241,-2.8339684403668066,-2.8747792232520037,-2.913002898878046,-2.9486050685169,-2.9815536926189585,-3.011819119646496,-3.039374112758043,-3.064193874319706,-3.086256068221365,-3.1055408399776567,-3.1220308345956886,-3.1357112121933417,-3.1465696613541807,-3.1545964102068793,-3.159784235219262,-3.162128467698985,-3.1616269979950467,-3.1582802773963334,-3.1520913177254872,-3.1430656886284685,-3.131211512562255,-3.1165394574851684,-3.099062727256451,-3.0787970497536623,-3.055760662718659,-3.029974297344866,-3.0014611596205913,-2.9702469094452124,-2.936359637536981,-2.899829840153295,-2.860690391646118,-2.8189765148772636,-2.7747257495202255,-2.727977918276989,-2.6787750910402943,-2.627161547033552,-2.5731837349625692,-2.5168902312148065,-2.458331696143943,-2.3975608284789622,-2.3346323178988584,-2.269602795815592,-2.202530784409684,-2.133476643964184,-2.062502518544461,-1.9896722800727997,-1.9150514708479056,-1.8387072445613624,-1.7607083058637298,-1.6811248485350558,-1.6000284923152233,-1.5174922184509905,-1.433590304017813,-1.3483982550754523,-1.2619927387176755,-1.1744515140770175,-1.0858533623467788,-0.9962780158833309,-0.9058060864523366,-0.8145189926836227,-0.7224988867998652,-0.6298285806852107,-0.5365914713600823,-0.4428714659295676,-0.3487529060726434,-0.2543204921403799,-0.1596592069312971,-0.06485423921264932,0.03000909294374876,0.1248454189420618,0.21956939249012863,0.3140957684054664,0.4083394793300449,0.5022157122853144,0.595639984998082,0.6885282219288437,0.7807968299341308,0.8723627734946708,0.9631436494417972,1.053057761114672,1.1420241918817995,1.2299628779605642,1.316794680469168,1.402441456646324,1.4868261301744468,1.5698727605431753,1.6515066113906378,1.7316542177612102,1.810243452218951,1.887203589757462,1.9624653714476026,2.035961066765888,2.107624534547333,2.177391282508066,2.245198525284052,2.310985240933636,2.374692225853204,2.4362621480564135,2.495639598769134,2.5527711422935884,2.6076053640968615,2.660092917080529,2.710186565989703,2.7578412299215977,2.803014022895261,2.8456642924460844,2.885753656210288,2.9232460364664306,2.9581076926029417,2.990307251482385],\"xaxis\":\"x2\",\"yaxis\":\"y2\",\"type\":\"box\"},{\"alignmentgroup\":\"True\",\"bingroup\":\"x\",\"hovertemplate\":\"variable=y(t)\\u003cbr\\u003evalue=%{x}\\u003cbr\\u003ecount=%{y}\\u003cextra\\u003e\\u003c\\u002fextra\\u003e\",\"legendgroup\":\"y(t)\",\"marker\":{\"color\":\"#EF553B\",\"opacity\":0.5,\"pattern\":{\"shape\":\"\"}},\"name\":\"y(t)\",\"nbinsx\":100,\"offsetgroup\":\"y(t)\",\"orientation\":\"v\",\"showlegend\":true,\"x\":[3.0,2.7286905994245014,2.454925561490611,2.1789512562538835,1.9010160419613247,1.6213700415457335,1.3402649175319468,1.0579536455575484,0.7746902867118775,0.49072975889819137,0.20632760742476197,-0.07826022496865415,-0.362777628442005,-0.646968556536514,-0.9305772565992068,-1.2133484999430406,-1.495027811535493,-1.7753616990089136,-2.054097880786545,-2.330985513118917,-2.6057754158262845,-2.8782202965439705,-3.148074973268809,-3.415096595006392,-3.679044860320573,-3.939682233588545,-4.1967741587668606,-4.450089270476042,-4.699399602213811,-4.944480791509541,-5.185112281835356,-5.421077521092099,-5.652164156491614,-5.878164225659923,-6.098874343789317,-6.314095886670971,-6.523635169443308,-6.7273036208953085,-6.924917953167875,-7.1163003267005305,-7.301278510275018,-7.479686036011769,-7.651362349179774,-7.8161529526849804,-7.973909546107269,-8.124490159160807,-8.267759279457735,-8.40358797446016,-8.531854007510741,-8.652441947837433,-8.76524327443338,-8.870156473718511,-8.967087130894894,-9.055948014913696,-9.136659156977228,-9.20914792250547,-9.273349076502297,-9.329204842262556,-9.376664953367213,-9.415686698919737,-9.446234961983018,-9.468282251182245,-9.48180872544529,-9.486802211858322,-9.48325821662062,-9.471179929088684,-9.450578218906037,-9.421471626221265,-9.383886345003152,-9.337856199467861,-9.283422613639436,-9.220634574070964,-9.149548585759986,-9.07022862129783,-8.982746063298569,-8.88717964015951,-8.783615355210934,-8.67214640931892,-8.552873117010842,-8.42590281619907,-8.291349771584093,-8.149335071824014,-7.999986520562909,-7.843438521416186,-7.679831957016406,-7.50931406222842,-7.332038291647917,-7.148164181502671,-6.9578572060806785,-6.761288628814487,-6.558635348155652,-6.350079738378083,-6.135809485453496,-5.916017418146718,-5.6909013344828026,-5.460663823742171,-5.225512084143921,-4.985657736381424,-4.741316633177988,-4.492708665033963,-4.240057562340141,-3.983590694035513,-3.7235388629905617,-3.4601360983002523,-3.1936194446736486,-2.9242287491096848,-2.652206445051044,-2.3777973342104226,-2.101248366265513,-1.8228084166209735,-1.5427280624373565,-1.2612593571285662,-0.9786556035308087,-0.6951711259471449,-0.41106104127277643,-0.12658102940704996,0.15801289684117537,0.4424646221478028,0.7265181591599625,1.0099178788673795,1.292408740651227,1.5737365218034665,1.8536480463101102,2.1318914126925597,2.408216220701941,2.6823737966624113,2.9541174172606866,3.223202531580366,3.489386981181267,3.7524312180256647,4.012098520055348,4.268155204225502,4.5203708368036875,4.76851844074463,5.012374699954243,5.251720160259039,5.486339426900071,5.7160213583737,5.940559256444661,6.159751052160535,6.373399487700196,6.581312293892477,6.7833023632455145,6.979187918330806,7.16879267537065,7.351946002881647,7.528483075231519,7.698245020971048,7.8610790658076475,8.016838670091945,8.165383660693534,8.306580357147363,8.44030169195711,8.566427324947368,8.684843751561674,8.79544440500894,8.898129752166382,8.992807383152618,9.079392094490304,9.157805965783528,9.227978429840906,9.289846336181284,9.343354007864917,9.388453291598946,9.425103601072122,9.453271953479742,9.472932999205941,9.484069044636652,9.486670068082645,9.480733728798384,9.466265369088534,9.443278009500245,9.41179233710555,9.371836686884384,9.323447016225021,9.26666687256485,9.201547354200619,9.12814706430342,9.046532058179794,8.9567757838264,8.858959015831788,8.753169782684726,8.63950328755448,8.518061822614412,8.388954676985914,8.252298038385584,8.108214888564117,7.956834892631024,7.798294282364806,7.632735733613538,7.460308237896218,7.28116696832049,7.095473139937306,6.903393864658242,6.705102000866093,6.500775997853976,6.290599735233002,6.074762357453061,5.853458103585577,5.626886132521429,5.395250343741431,5.158759193820531,4.917625508831007,4.672066292813291,4.422302532487064,4.1685589983780655,3.9110640425398095,3.650049393052179,3.3857499454817286,3.1184035514916264,2.84825080479109,2.5755348246174194,2.3005010369449708,2.023396953618441,1.7444719496088439,1.4639770385929307,1.1821646470577536,0.8992883871339603,0.6156028283618751,0.33136326859622534,0.04682550425517995,-0.23775439987905989,-0.5221203411013575,-0.8060164092587212,-1.0891871170522442,-1.371377629958328,-1.65233399556268,-1.9318033721002075,-2.2095342559956683,-2.4852767081998124,-2.7587825791177307,-3.0298057319266727,-3.2981022640826323,-3.563430726816158,-3.8255523424198916,-4.084231219132498,-4.339234563425208,-4.590332889500388,-4.837300225813187,-5.07991431843073,-5.317956831045608,-5.551213541463877,-5.779474534390486,-6.002534390338987,-6.220192370495085,-6.432252597368132,-6.638524231067569,-6.8388216410459925,-7.032964573154082,-7.22077831185721,-7.402093837467572,-7.576747978250568,-7.744583557268273,-7.90544953382815,-8.05920113940941,-8.205700007944968,-8.344814300341502,-8.476418823125798,-8.600395141110392,-8.716631683977239,-8.825023846683498,-8.925474083598976,-9.017891996290645,-9.102194414875099,-9.178305472865858,-9.246156675448072,-9.305686961119235,-9.356842756640415,-9.39957802524856,-9.433854308086463,-9.459640758813151,-9.476914171363504,-9.485659000832143,-9.485867377462808,-9.477539113730597,-9.460681704510726,-9.435310320333654,-9.401447793732624,-9.35912459869592,-9.308378823242348,-9.24925613514458,-9.181809740831245,-9.106100337504724,-9.02219605851778,-8.930172412058138,-8.830112213196191,-8.722105509357068,-8.606249499283983,-8.482648445565951,-8.35141358080851,-8.212663007531846,-8.066521591886517,-7.913120851282374,-7.752598836031699,-7.585100005113328,-7.410775096169236,-7.2297809898509255,-7.042280568637304,-6.848442570251597,-6.64844143580866,-6.44245715282984,-6.230675093266273,-6.01328584667673,-5.7904850487097965,-5.562473205045026,-5.329455510951407,-5.091641666625385,-4.84924568847489,-4.602485716519045,-4.351583818076799,-4.096765787921366,-3.8382609450802128,-3.576301926463329,-3.3111244775057513,-3.042967240012631,-2.7720715373976264,-2.498681157508163,-2.2230421332328767,-1.9454025210885075,-1.666012177985905,-1.3851225363755473,-1.1029863779754516,-0.8198576062844918,-0.5359910180866199,-0.2516420741507628,0.03293333066648296,0.31747909770907956,0.601739154992917,0.8854576876534352,1.1683793681616828,1.4502495861018092,1.7308146773033553,2.00982215212183,2.2870209226623044,2.5621615287416644,2.834996362385887,3.1052798906604604,3.372768876633544,3.6372225982727437,3.8984030650786408,4.156075232260281,4.410007212259563,4.659970483434354,4.905740095712641,5.147094873032293,5.383817612384712,5.615695279282744,5.842519199477508,6.064085246750945,6.280194026615792,6.490651055757053,6.6952669370539475,6.893857530024442,7.086244116539339,7.272253561656489,7.451718469430526,7.624477333557984,7.790374682722032,7.949261220506134,8.100993959750816,8.245436351232419,8.382458406548164,8.51193681509698,8.633755055050718,8.747803498215884,8.85397950869168,8.952187535235348,9.042339197251826,9.124353364330371,9.198156229256387,9.263681374432997,9.320869831652344,9.36967013516305,9.410038367985868,9.441938201436034,9.465340927816616,9.48022548625351,9.486578481648797,9.484394196735439,9.47367459722242,9.454429330025755,9.4266757145869,9.390438727286437,9.345750978967018,9.292652685585795,9.231191632022782,9.161423129077692,9.083409963693942,8.997222342454643,8.902937828401427,8.800641271232926,8.690424730945775,8.572387394986851,8.446635488991221,8.313282181186299,8.172447480548012,8.024258128800907,7.868847486359037,7.706355412310726,7.5369281385547096,7.360718138201391,7.177883988357261,6.988590227416221,6.793007206986229,6.591310938584158,6.383682935237526,6.170310048134814,5.951384298472241,5.72710270464743,5.497667104956273,5.263283975952052,5.024164246630456,4.780523108607849,4.532579822463095,4.280557520418114,4.024683005533676,3.765186547602241,3.5023016759204313,3.2362649691285648,2.9673158423057986,2.6956963315127678,2.421650875975452,2.1454260981062556,1.8672705815606807,1.5874346475287004,1.3061701294625692,1.0237301464437605,0.7403688753928304,0.45634132232749636,0.17190309287415007,-0.11268983775963815,-0.39718135514582986,-0.6813154361212943,-0.9648363791916608,-1.247489034645258,-1.5290190341706733,-1.8091730197710243,-2.087698871769063,-2.3643459356979895,-2.6388652478733188,-2.911009759443671,-3.180534558717755,-3.447197091568636,-3.710757379715928,-3.9709782366900996,-4.227625481284241,-4.480468148301355,-4.7292786964075555,-4.973833212903724,-5.213911615231934,-5.449297849034913,-5.679780082590329,-5.905150897445097,-6.12520747507785,-6.339751779422161,-6.548590735085375,-6.751536401103662,-6.948406140075967,-7.139022782525549,-7.32321478634044,-7.500816391149803,-7.671667767497048,-7.835615160675566,-7.992511029097652,-8.142214177071843,-8.284589881869662,-8.419510014966823,-8.546853157350393,-8.666504708787626,-8.778356990958477,-8.882309344358786,-8.978268218887054,-9.06614725803326,-9.145867376593817,-9.217356831842961,-9.28055128809637,-9.33539387460891,-9.38183523675449,-9.419833580441866,-9.449354709726538,-9.470372057584765,-9.482866709822101,-9.486827422094898,-9.482250630029451,-9.469140452429695,-9.447508687570554,-9.417374802580307,-9.37876591592147,-9.331716772986008,-9.27626971482685,-9.212474640053758,-9.140388959928007,-9.060077546696071,-8.971612675208993,-8.875073957879913,-8.770548273038258,-8.65812968674513,-8.537919368140141,-8.410025498396095,-8.27456317336319,-8.131654299990515,-7.981427486618051,-7.8240179272378025,-7.659567279828436,-7.488223538872485,-7.310140902171496,-7.125479632078228,-6.934405911271558,-6.7370916932031015,-6.533714547350808,-6.324457499418388,-6.109508866624566,-5.889062088230284,-5.663315551456336,-5.432472412948435,-5.196740415949726,-4.956331703346145,-4.711462626751907,-4.462353551807779,-4.209228659866838,-3.952315746246427,-3.6918460152277346,-3.4280538719874367,-3.161176711649044,-2.89145470564321,-2.6191305855696347,-2.344449424755058,-2.0676584177037576,-1.7890066576393293,-1.5087449123373193,-1.2271253984514656,-0.944401554535435,-0.660827812965548,-0.3766593709685311,-0.09215196096138811,0.1924383795905662,0.47685553859009033,0.760843559791633,1.0441468731447965,1.3265105247898954,1.607680406499524,1.8874034843584093,2.165428026477285,2.441503829534371,2.715382443941442,2.98681739743178,3.255564416868524,3.521381648074123,3.784029873482588,4.0432727274192395,4.298876908813967,4.550612391156248,4.798252629503609,5.041574764356724,5.280359822218035,5.514392912652918,5.743463421676795,5.967365201293313,6.185896755013734,6.398861419190123,6.6060675399994535,6.8073286459189655,7.002463615538027,7.191296840555242,7.373658383813908,7.549384132234195,7.718315944503572,7.880301793393592,8.035195902573992,8.182858877801525,8.323157832365444,8.455966506676516,8.58116538189221,8.698641787475488,8.80829000259073,8.910011351245393,9.00371429109166,9.089314495808422,9.166734930989273,9.235905923468287,9.29676522402112,9.349258063385168,9.393337201548158,9.42896297026099,9.456103308736495,9.474733792501961,9.484837655379524,9.486405804574577,9.479436828858697,9.463936999839637,9.439920266317296,9.40740824173078,9.366430184707715,9.317022972733477,9.259231068963963,9.19310648221173,9.118708720141584,9.036104735717677,8.945368866950394,8.846582769997154,8.739835345677326,8.625222659467575,8.502847855049367,8.372821061486643,8.23525929411703,8.090286349246057,7.938032692738692,7.778635342608993,7.61223774571308,7.438989648656679,7.259046963033203,7.072571625113968,6.879731450116416,6.680699981181678,6.4756563331975965,6.264785031607326,6.048275846348938,5.826323621075209,5.599128097807533,5.366893737181638,5.1298295344467375,4.88814883138397,4.6420691243130765,4.391811868360566,4.13760227816497,3.87966912519877,3.6182445318897,3.3535637627261092,3.085865012534859],\"xaxis\":\"x\",\"yaxis\":\"y\",\"type\":\"histogram\"},{\"alignmentgroup\":\"True\",\"boxpoints\":\"all\",\"fillcolor\":\"rgba(255,255,255,0)\",\"hoveron\":\"points\",\"hovertemplate\":\"variable=y(t)\\u003cbr\\u003evalue=%{x}\\u003cextra\\u003e\\u003c\\u002fextra\\u003e\",\"jitter\":0,\"legendgroup\":\"y(t)\",\"line\":{\"color\":\"rgba(255,255,255,0)\"},\"marker\":{\"color\":\"#EF553B\",\"symbol\":\"line-ns-open\"},\"name\":\"y(t)\",\"offsetgroup\":\"y(t)\",\"showlegend\":false,\"x\":[3.0,2.7286905994245014,2.454925561490611,2.1789512562538835,1.9010160419613247,1.6213700415457335,1.3402649175319468,1.0579536455575484,0.7746902867118775,0.49072975889819137,0.20632760742476197,-0.07826022496865415,-0.362777628442005,-0.646968556536514,-0.9305772565992068,-1.2133484999430406,-1.495027811535493,-1.7753616990089136,-2.054097880786545,-2.330985513118917,-2.6057754158262845,-2.8782202965439705,-3.148074973268809,-3.415096595006392,-3.679044860320573,-3.939682233588545,-4.1967741587668606,-4.450089270476042,-4.699399602213811,-4.944480791509541,-5.185112281835356,-5.421077521092099,-5.652164156491614,-5.878164225659923,-6.098874343789317,-6.314095886670971,-6.523635169443308,-6.7273036208953085,-6.924917953167875,-7.1163003267005305,-7.301278510275018,-7.479686036011769,-7.651362349179774,-7.8161529526849804,-7.973909546107269,-8.124490159160807,-8.267759279457735,-8.40358797446016,-8.531854007510741,-8.652441947837433,-8.76524327443338,-8.870156473718511,-8.967087130894894,-9.055948014913696,-9.136659156977228,-9.20914792250547,-9.273349076502297,-9.329204842262556,-9.376664953367213,-9.415686698919737,-9.446234961983018,-9.468282251182245,-9.48180872544529,-9.486802211858322,-9.48325821662062,-9.471179929088684,-9.450578218906037,-9.421471626221265,-9.383886345003152,-9.337856199467861,-9.283422613639436,-9.220634574070964,-9.149548585759986,-9.07022862129783,-8.982746063298569,-8.88717964015951,-8.783615355210934,-8.67214640931892,-8.552873117010842,-8.42590281619907,-8.291349771584093,-8.149335071824014,-7.999986520562909,-7.843438521416186,-7.679831957016406,-7.50931406222842,-7.332038291647917,-7.148164181502671,-6.9578572060806785,-6.761288628814487,-6.558635348155652,-6.350079738378083,-6.135809485453496,-5.916017418146718,-5.6909013344828026,-5.460663823742171,-5.225512084143921,-4.985657736381424,-4.741316633177988,-4.492708665033963,-4.240057562340141,-3.983590694035513,-3.7235388629905617,-3.4601360983002523,-3.1936194446736486,-2.9242287491096848,-2.652206445051044,-2.3777973342104226,-2.101248366265513,-1.8228084166209735,-1.5427280624373565,-1.2612593571285662,-0.9786556035308087,-0.6951711259471449,-0.41106104127277643,-0.12658102940704996,0.15801289684117537,0.4424646221478028,0.7265181591599625,1.0099178788673795,1.292408740651227,1.5737365218034665,1.8536480463101102,2.1318914126925597,2.408216220701941,2.6823737966624113,2.9541174172606866,3.223202531580366,3.489386981181267,3.7524312180256647,4.012098520055348,4.268155204225502,4.5203708368036875,4.76851844074463,5.012374699954243,5.251720160259039,5.486339426900071,5.7160213583737,5.940559256444661,6.159751052160535,6.373399487700196,6.581312293892477,6.7833023632455145,6.979187918330806,7.16879267537065,7.351946002881647,7.528483075231519,7.698245020971048,7.8610790658076475,8.016838670091945,8.165383660693534,8.306580357147363,8.44030169195711,8.566427324947368,8.684843751561674,8.79544440500894,8.898129752166382,8.992807383152618,9.079392094490304,9.157805965783528,9.227978429840906,9.289846336181284,9.343354007864917,9.388453291598946,9.425103601072122,9.453271953479742,9.472932999205941,9.484069044636652,9.486670068082645,9.480733728798384,9.466265369088534,9.443278009500245,9.41179233710555,9.371836686884384,9.323447016225021,9.26666687256485,9.201547354200619,9.12814706430342,9.046532058179794,8.9567757838264,8.858959015831788,8.753169782684726,8.63950328755448,8.518061822614412,8.388954676985914,8.252298038385584,8.108214888564117,7.956834892631024,7.798294282364806,7.632735733613538,7.460308237896218,7.28116696832049,7.095473139937306,6.903393864658242,6.705102000866093,6.500775997853976,6.290599735233002,6.074762357453061,5.853458103585577,5.626886132521429,5.395250343741431,5.158759193820531,4.917625508831007,4.672066292813291,4.422302532487064,4.1685589983780655,3.9110640425398095,3.650049393052179,3.3857499454817286,3.1184035514916264,2.84825080479109,2.5755348246174194,2.3005010369449708,2.023396953618441,1.7444719496088439,1.4639770385929307,1.1821646470577536,0.8992883871339603,0.6156028283618751,0.33136326859622534,0.04682550425517995,-0.23775439987905989,-0.5221203411013575,-0.8060164092587212,-1.0891871170522442,-1.371377629958328,-1.65233399556268,-1.9318033721002075,-2.2095342559956683,-2.4852767081998124,-2.7587825791177307,-3.0298057319266727,-3.2981022640826323,-3.563430726816158,-3.8255523424198916,-4.084231219132498,-4.339234563425208,-4.590332889500388,-4.837300225813187,-5.07991431843073,-5.317956831045608,-5.551213541463877,-5.779474534390486,-6.002534390338987,-6.220192370495085,-6.432252597368132,-6.638524231067569,-6.8388216410459925,-7.032964573154082,-7.22077831185721,-7.402093837467572,-7.576747978250568,-7.744583557268273,-7.90544953382815,-8.05920113940941,-8.205700007944968,-8.344814300341502,-8.476418823125798,-8.600395141110392,-8.716631683977239,-8.825023846683498,-8.925474083598976,-9.017891996290645,-9.102194414875099,-9.178305472865858,-9.246156675448072,-9.305686961119235,-9.356842756640415,-9.39957802524856,-9.433854308086463,-9.459640758813151,-9.476914171363504,-9.485659000832143,-9.485867377462808,-9.477539113730597,-9.460681704510726,-9.435310320333654,-9.401447793732624,-9.35912459869592,-9.308378823242348,-9.24925613514458,-9.181809740831245,-9.106100337504724,-9.02219605851778,-8.930172412058138,-8.830112213196191,-8.722105509357068,-8.606249499283983,-8.482648445565951,-8.35141358080851,-8.212663007531846,-8.066521591886517,-7.913120851282374,-7.752598836031699,-7.585100005113328,-7.410775096169236,-7.2297809898509255,-7.042280568637304,-6.848442570251597,-6.64844143580866,-6.44245715282984,-6.230675093266273,-6.01328584667673,-5.7904850487097965,-5.562473205045026,-5.329455510951407,-5.091641666625385,-4.84924568847489,-4.602485716519045,-4.351583818076799,-4.096765787921366,-3.8382609450802128,-3.576301926463329,-3.3111244775057513,-3.042967240012631,-2.7720715373976264,-2.498681157508163,-2.2230421332328767,-1.9454025210885075,-1.666012177985905,-1.3851225363755473,-1.1029863779754516,-0.8198576062844918,-0.5359910180866199,-0.2516420741507628,0.03293333066648296,0.31747909770907956,0.601739154992917,0.8854576876534352,1.1683793681616828,1.4502495861018092,1.7308146773033553,2.00982215212183,2.2870209226623044,2.5621615287416644,2.834996362385887,3.1052798906604604,3.372768876633544,3.6372225982727437,3.8984030650786408,4.156075232260281,4.410007212259563,4.659970483434354,4.905740095712641,5.147094873032293,5.383817612384712,5.615695279282744,5.842519199477508,6.064085246750945,6.280194026615792,6.490651055757053,6.6952669370539475,6.893857530024442,7.086244116539339,7.272253561656489,7.451718469430526,7.624477333557984,7.790374682722032,7.949261220506134,8.100993959750816,8.245436351232419,8.382458406548164,8.51193681509698,8.633755055050718,8.747803498215884,8.85397950869168,8.952187535235348,9.042339197251826,9.124353364330371,9.198156229256387,9.263681374432997,9.320869831652344,9.36967013516305,9.410038367985868,9.441938201436034,9.465340927816616,9.48022548625351,9.486578481648797,9.484394196735439,9.47367459722242,9.454429330025755,9.4266757145869,9.390438727286437,9.345750978967018,9.292652685585795,9.231191632022782,9.161423129077692,9.083409963693942,8.997222342454643,8.902937828401427,8.800641271232926,8.690424730945775,8.572387394986851,8.446635488991221,8.313282181186299,8.172447480548012,8.024258128800907,7.868847486359037,7.706355412310726,7.5369281385547096,7.360718138201391,7.177883988357261,6.988590227416221,6.793007206986229,6.591310938584158,6.383682935237526,6.170310048134814,5.951384298472241,5.72710270464743,5.497667104956273,5.263283975952052,5.024164246630456,4.780523108607849,4.532579822463095,4.280557520418114,4.024683005533676,3.765186547602241,3.5023016759204313,3.2362649691285648,2.9673158423057986,2.6956963315127678,2.421650875975452,2.1454260981062556,1.8672705815606807,1.5874346475287004,1.3061701294625692,1.0237301464437605,0.7403688753928304,0.45634132232749636,0.17190309287415007,-0.11268983775963815,-0.39718135514582986,-0.6813154361212943,-0.9648363791916608,-1.247489034645258,-1.5290190341706733,-1.8091730197710243,-2.087698871769063,-2.3643459356979895,-2.6388652478733188,-2.911009759443671,-3.180534558717755,-3.447197091568636,-3.710757379715928,-3.9709782366900996,-4.227625481284241,-4.480468148301355,-4.7292786964075555,-4.973833212903724,-5.213911615231934,-5.449297849034913,-5.679780082590329,-5.905150897445097,-6.12520747507785,-6.339751779422161,-6.548590735085375,-6.751536401103662,-6.948406140075967,-7.139022782525549,-7.32321478634044,-7.500816391149803,-7.671667767497048,-7.835615160675566,-7.992511029097652,-8.142214177071843,-8.284589881869662,-8.419510014966823,-8.546853157350393,-8.666504708787626,-8.778356990958477,-8.882309344358786,-8.978268218887054,-9.06614725803326,-9.145867376593817,-9.217356831842961,-9.28055128809637,-9.33539387460891,-9.38183523675449,-9.419833580441866,-9.449354709726538,-9.470372057584765,-9.482866709822101,-9.486827422094898,-9.482250630029451,-9.469140452429695,-9.447508687570554,-9.417374802580307,-9.37876591592147,-9.331716772986008,-9.27626971482685,-9.212474640053758,-9.140388959928007,-9.060077546696071,-8.971612675208993,-8.875073957879913,-8.770548273038258,-8.65812968674513,-8.537919368140141,-8.410025498396095,-8.27456317336319,-8.131654299990515,-7.981427486618051,-7.8240179272378025,-7.659567279828436,-7.488223538872485,-7.310140902171496,-7.125479632078228,-6.934405911271558,-6.7370916932031015,-6.533714547350808,-6.324457499418388,-6.109508866624566,-5.889062088230284,-5.663315551456336,-5.432472412948435,-5.196740415949726,-4.956331703346145,-4.711462626751907,-4.462353551807779,-4.209228659866838,-3.952315746246427,-3.6918460152277346,-3.4280538719874367,-3.161176711649044,-2.89145470564321,-2.6191305855696347,-2.344449424755058,-2.0676584177037576,-1.7890066576393293,-1.5087449123373193,-1.2271253984514656,-0.944401554535435,-0.660827812965548,-0.3766593709685311,-0.09215196096138811,0.1924383795905662,0.47685553859009033,0.760843559791633,1.0441468731447965,1.3265105247898954,1.607680406499524,1.8874034843584093,2.165428026477285,2.441503829534371,2.715382443941442,2.98681739743178,3.255564416868524,3.521381648074123,3.784029873482588,4.0432727274192395,4.298876908813967,4.550612391156248,4.798252629503609,5.041574764356724,5.280359822218035,5.514392912652918,5.743463421676795,5.967365201293313,6.185896755013734,6.398861419190123,6.6060675399994535,6.8073286459189655,7.002463615538027,7.191296840555242,7.373658383813908,7.549384132234195,7.718315944503572,7.880301793393592,8.035195902573992,8.182858877801525,8.323157832365444,8.455966506676516,8.58116538189221,8.698641787475488,8.80829000259073,8.910011351245393,9.00371429109166,9.089314495808422,9.166734930989273,9.235905923468287,9.29676522402112,9.349258063385168,9.393337201548158,9.42896297026099,9.456103308736495,9.474733792501961,9.484837655379524,9.486405804574577,9.479436828858697,9.463936999839637,9.439920266317296,9.40740824173078,9.366430184707715,9.317022972733477,9.259231068963963,9.19310648221173,9.118708720141584,9.036104735717677,8.945368866950394,8.846582769997154,8.739835345677326,8.625222659467575,8.502847855049367,8.372821061486643,8.23525929411703,8.090286349246057,7.938032692738692,7.778635342608993,7.61223774571308,7.438989648656679,7.259046963033203,7.072571625113968,6.879731450116416,6.680699981181678,6.4756563331975965,6.264785031607326,6.048275846348938,5.826323621075209,5.599128097807533,5.366893737181638,5.1298295344467375,4.88814883138397,4.6420691243130765,4.391811868360566,4.13760227816497,3.87966912519877,3.6182445318897,3.3535637627261092,3.085865012534859],\"xaxis\":\"x2\",\"yaxis\":\"y2\",\"type\":\"box\"}],                        {\"template\":{\"data\":{\"histogram2dcontour\":[{\"type\":\"histogram2dcontour\",\"colorbar\":{\"outlinewidth\":0,\"ticks\":\"\"},\"colorscale\":[[0.0,\"#0d0887\"],[0.1111111111111111,\"#46039f\"],[0.2222222222222222,\"#7201a8\"],[0.3333333333333333,\"#9c179e\"],[0.4444444444444444,\"#bd3786\"],[0.5555555555555556,\"#d8576b\"],[0.6666666666666666,\"#ed7953\"],[0.7777777777777778,\"#fb9f3a\"],[0.8888888888888888,\"#fdca26\"],[1.0,\"#f0f921\"]]}],\"choropleth\":[{\"type\":\"choropleth\",\"colorbar\":{\"outlinewidth\":0,\"ticks\":\"\"}}],\"histogram2d\":[{\"type\":\"histogram2d\",\"colorbar\":{\"outlinewidth\":0,\"ticks\":\"\"},\"colorscale\":[[0.0,\"#0d0887\"],[0.1111111111111111,\"#46039f\"],[0.2222222222222222,\"#7201a8\"],[0.3333333333333333,\"#9c179e\"],[0.4444444444444444,\"#bd3786\"],[0.5555555555555556,\"#d8576b\"],[0.6666666666666666,\"#ed7953\"],[0.7777777777777778,\"#fb9f3a\"],[0.8888888888888888,\"#fdca26\"],[1.0,\"#f0f921\"]]}],\"heatmap\":[{\"type\":\"heatmap\",\"colorbar\":{\"outlinewidth\":0,\"ticks\":\"\"},\"colorscale\":[[0.0,\"#0d0887\"],[0.1111111111111111,\"#46039f\"],[0.2222222222222222,\"#7201a8\"],[0.3333333333333333,\"#9c179e\"],[0.4444444444444444,\"#bd3786\"],[0.5555555555555556,\"#d8576b\"],[0.6666666666666666,\"#ed7953\"],[0.7777777777777778,\"#fb9f3a\"],[0.8888888888888888,\"#fdca26\"],[1.0,\"#f0f921\"]]}],\"heatmapgl\":[{\"type\":\"heatmapgl\",\"colorbar\":{\"outlinewidth\":0,\"ticks\":\"\"},\"colorscale\":[[0.0,\"#0d0887\"],[0.1111111111111111,\"#46039f\"],[0.2222222222222222,\"#7201a8\"],[0.3333333333333333,\"#9c179e\"],[0.4444444444444444,\"#bd3786\"],[0.5555555555555556,\"#d8576b\"],[0.6666666666666666,\"#ed7953\"],[0.7777777777777778,\"#fb9f3a\"],[0.8888888888888888,\"#fdca26\"],[1.0,\"#f0f921\"]]}],\"contourcarpet\":[{\"type\":\"contourcarpet\",\"colorbar\":{\"outlinewidth\":0,\"ticks\":\"\"}}],\"contour\":[{\"type\":\"contour\",\"colorbar\":{\"outlinewidth\":0,\"ticks\":\"\"},\"colorscale\":[[0.0,\"#0d0887\"],[0.1111111111111111,\"#46039f\"],[0.2222222222222222,\"#7201a8\"],[0.3333333333333333,\"#9c179e\"],[0.4444444444444444,\"#bd3786\"],[0.5555555555555556,\"#d8576b\"],[0.6666666666666666,\"#ed7953\"],[0.7777777777777778,\"#fb9f3a\"],[0.8888888888888888,\"#fdca26\"],[1.0,\"#f0f921\"]]}],\"surface\":[{\"type\":\"surface\",\"colorbar\":{\"outlinewidth\":0,\"ticks\":\"\"},\"colorscale\":[[0.0,\"#0d0887\"],[0.1111111111111111,\"#46039f\"],[0.2222222222222222,\"#7201a8\"],[0.3333333333333333,\"#9c179e\"],[0.4444444444444444,\"#bd3786\"],[0.5555555555555556,\"#d8576b\"],[0.6666666666666666,\"#ed7953\"],[0.7777777777777778,\"#fb9f3a\"],[0.8888888888888888,\"#fdca26\"],[1.0,\"#f0f921\"]]}],\"mesh3d\":[{\"type\":\"mesh3d\",\"colorbar\":{\"outlinewidth\":0,\"ticks\":\"\"}}],\"scatter\":[{\"fillpattern\":{\"fillmode\":\"overlay\",\"size\":10,\"solidity\":0.2},\"type\":\"scatter\"}],\"parcoords\":[{\"type\":\"parcoords\",\"line\":{\"colorbar\":{\"outlinewidth\":0,\"ticks\":\"\"}}}],\"scatterpolargl\":[{\"type\":\"scatterpolargl\",\"marker\":{\"colorbar\":{\"outlinewidth\":0,\"ticks\":\"\"}}}],\"bar\":[{\"error_x\":{\"color\":\"#2a3f5f\"},\"error_y\":{\"color\":\"#2a3f5f\"},\"marker\":{\"line\":{\"color\":\"#E5ECF6\",\"width\":0.5},\"pattern\":{\"fillmode\":\"overlay\",\"size\":10,\"solidity\":0.2}},\"type\":\"bar\"}],\"scattergeo\":[{\"type\":\"scattergeo\",\"marker\":{\"colorbar\":{\"outlinewidth\":0,\"ticks\":\"\"}}}],\"scatterpolar\":[{\"type\":\"scatterpolar\",\"marker\":{\"colorbar\":{\"outlinewidth\":0,\"ticks\":\"\"}}}],\"histogram\":[{\"marker\":{\"pattern\":{\"fillmode\":\"overlay\",\"size\":10,\"solidity\":0.2}},\"type\":\"histogram\"}],\"scattergl\":[{\"type\":\"scattergl\",\"marker\":{\"colorbar\":{\"outlinewidth\":0,\"ticks\":\"\"}}}],\"scatter3d\":[{\"type\":\"scatter3d\",\"line\":{\"colorbar\":{\"outlinewidth\":0,\"ticks\":\"\"}},\"marker\":{\"colorbar\":{\"outlinewidth\":0,\"ticks\":\"\"}}}],\"scattermapbox\":[{\"type\":\"scattermapbox\",\"marker\":{\"colorbar\":{\"outlinewidth\":0,\"ticks\":\"\"}}}],\"scatterternary\":[{\"type\":\"scatterternary\",\"marker\":{\"colorbar\":{\"outlinewidth\":0,\"ticks\":\"\"}}}],\"scattercarpet\":[{\"type\":\"scattercarpet\",\"marker\":{\"colorbar\":{\"outlinewidth\":0,\"ticks\":\"\"}}}],\"carpet\":[{\"aaxis\":{\"endlinecolor\":\"#2a3f5f\",\"gridcolor\":\"white\",\"linecolor\":\"white\",\"minorgridcolor\":\"white\",\"startlinecolor\":\"#2a3f5f\"},\"baxis\":{\"endlinecolor\":\"#2a3f5f\",\"gridcolor\":\"white\",\"linecolor\":\"white\",\"minorgridcolor\":\"white\",\"startlinecolor\":\"#2a3f5f\"},\"type\":\"carpet\"}],\"table\":[{\"cells\":{\"fill\":{\"color\":\"#EBF0F8\"},\"line\":{\"color\":\"white\"}},\"header\":{\"fill\":{\"color\":\"#C8D4E3\"},\"line\":{\"color\":\"white\"}},\"type\":\"table\"}],\"barpolar\":[{\"marker\":{\"line\":{\"color\":\"#E5ECF6\",\"width\":0.5},\"pattern\":{\"fillmode\":\"overlay\",\"size\":10,\"solidity\":0.2}},\"type\":\"barpolar\"}],\"pie\":[{\"automargin\":true,\"type\":\"pie\"}]},\"layout\":{\"autotypenumbers\":\"strict\",\"colorway\":[\"#636efa\",\"#EF553B\",\"#00cc96\",\"#ab63fa\",\"#FFA15A\",\"#19d3f3\",\"#FF6692\",\"#B6E880\",\"#FF97FF\",\"#FECB52\"],\"font\":{\"color\":\"#2a3f5f\"},\"hovermode\":\"closest\",\"hoverlabel\":{\"align\":\"left\"},\"paper_bgcolor\":\"white\",\"plot_bgcolor\":\"#E5ECF6\",\"polar\":{\"bgcolor\":\"#E5ECF6\",\"angularaxis\":{\"gridcolor\":\"white\",\"linecolor\":\"white\",\"ticks\":\"\"},\"radialaxis\":{\"gridcolor\":\"white\",\"linecolor\":\"white\",\"ticks\":\"\"}},\"ternary\":{\"bgcolor\":\"#E5ECF6\",\"aaxis\":{\"gridcolor\":\"white\",\"linecolor\":\"white\",\"ticks\":\"\"},\"baxis\":{\"gridcolor\":\"white\",\"linecolor\":\"white\",\"ticks\":\"\"},\"caxis\":{\"gridcolor\":\"white\",\"linecolor\":\"white\",\"ticks\":\"\"}},\"coloraxis\":{\"colorbar\":{\"outlinewidth\":0,\"ticks\":\"\"}},\"colorscale\":{\"sequential\":[[0.0,\"#0d0887\"],[0.1111111111111111,\"#46039f\"],[0.2222222222222222,\"#7201a8\"],[0.3333333333333333,\"#9c179e\"],[0.4444444444444444,\"#bd3786\"],[0.5555555555555556,\"#d8576b\"],[0.6666666666666666,\"#ed7953\"],[0.7777777777777778,\"#fb9f3a\"],[0.8888888888888888,\"#fdca26\"],[1.0,\"#f0f921\"]],\"sequentialminus\":[[0.0,\"#0d0887\"],[0.1111111111111111,\"#46039f\"],[0.2222222222222222,\"#7201a8\"],[0.3333333333333333,\"#9c179e\"],[0.4444444444444444,\"#bd3786\"],[0.5555555555555556,\"#d8576b\"],[0.6666666666666666,\"#ed7953\"],[0.7777777777777778,\"#fb9f3a\"],[0.8888888888888888,\"#fdca26\"],[1.0,\"#f0f921\"]],\"diverging\":[[0,\"#8e0152\"],[0.1,\"#c51b7d\"],[0.2,\"#de77ae\"],[0.3,\"#f1b6da\"],[0.4,\"#fde0ef\"],[0.5,\"#f7f7f7\"],[0.6,\"#e6f5d0\"],[0.7,\"#b8e186\"],[0.8,\"#7fbc41\"],[0.9,\"#4d9221\"],[1,\"#276419\"]]},\"xaxis\":{\"gridcolor\":\"white\",\"linecolor\":\"white\",\"ticks\":\"\",\"title\":{\"standoff\":15},\"zerolinecolor\":\"white\",\"automargin\":true,\"zerolinewidth\":2},\"yaxis\":{\"gridcolor\":\"white\",\"linecolor\":\"white\",\"ticks\":\"\",\"title\":{\"standoff\":15},\"zerolinecolor\":\"white\",\"automargin\":true,\"zerolinewidth\":2},\"scene\":{\"xaxis\":{\"backgroundcolor\":\"#E5ECF6\",\"gridcolor\":\"white\",\"linecolor\":\"white\",\"showbackground\":true,\"ticks\":\"\",\"zerolinecolor\":\"white\",\"gridwidth\":2},\"yaxis\":{\"backgroundcolor\":\"#E5ECF6\",\"gridcolor\":\"white\",\"linecolor\":\"white\",\"showbackground\":true,\"ticks\":\"\",\"zerolinecolor\":\"white\",\"gridwidth\":2},\"zaxis\":{\"backgroundcolor\":\"#E5ECF6\",\"gridcolor\":\"white\",\"linecolor\":\"white\",\"showbackground\":true,\"ticks\":\"\",\"zerolinecolor\":\"white\",\"gridwidth\":2}},\"shapedefaults\":{\"line\":{\"color\":\"#2a3f5f\"}},\"annotationdefaults\":{\"arrowcolor\":\"#2a3f5f\",\"arrowhead\":0,\"arrowwidth\":1},\"geo\":{\"bgcolor\":\"white\",\"landcolor\":\"#E5ECF6\",\"subunitcolor\":\"white\",\"showland\":true,\"showlakes\":true,\"lakecolor\":\"white\"},\"title\":{\"x\":0.05},\"mapbox\":{\"style\":\"light\"}}},\"xaxis\":{\"anchor\":\"y\",\"domain\":[0.0,1.0],\"title\":{\"text\":\"value\"}},\"yaxis\":{\"anchor\":\"x\",\"domain\":[0.0,0.7326],\"title\":{\"text\":\"count\"}},\"xaxis2\":{\"anchor\":\"y2\",\"domain\":[0.0,1.0],\"matches\":\"x\",\"showticklabels\":false,\"showgrid\":true},\"yaxis2\":{\"anchor\":\"x2\",\"domain\":[0.7426,1.0],\"matches\":\"y2\",\"showticklabels\":false,\"showline\":false,\"ticks\":\"\",\"showgrid\":false},\"legend\":{\"title\":{\"text\":\"variable\"},\"tracegroupgap\":0},\"title\":{\"text\":\"Histogram of x and y using dt = 0.01 with 100 bins over 3 periods.\"},\"barmode\":\"overlay\"},                        {\"responsive\": true}                    ).then(function(){\n",
       "                            \n",
       "var gd = document.getElementById('cf1e9436-1c78-4a57-9143-b8695a6fafe3');\n",
       "var x = new MutationObserver(function (mutations, observer) {{\n",
       "        var display = window.getComputedStyle(gd).display;\n",
       "        if (!display || display === 'none') {{\n",
       "            console.log([gd, 'removed!']);\n",
       "            Plotly.purge(gd);\n",
       "            observer.disconnect();\n",
       "        }}\n",
       "}});\n",
       "\n",
       "// Listen for the removal of the full notebook cells\n",
       "var notebookContainer = gd.closest('#notebook-container');\n",
       "if (notebookContainer) {{\n",
       "    x.observe(notebookContainer, {childList: true});\n",
       "}}\n",
       "\n",
       "// Listen for the clearing of the current output cell\n",
       "var outputEl = gd.closest('.output');\n",
       "if (outputEl) {{\n",
       "    x.observe(outputEl, {childList: true});\n",
       "}}\n",
       "\n",
       "                        })                };                });            </script>        </div>"
      ]
     },
     "metadata": {},
     "output_type": "display_data"
    }
   ],
   "source": [
    "dt = 0.01\n",
    "p = 3\n",
    "nbins = 100\n",
    "L = p*(2*np.pi/3)\n",
    "t = np.arange(0, L , dt)\n",
    "x_t = np.sin(3*t) + 3*np.cos(3*t)\n",
    "y_t = 3*np.cos(3*t) - 9*np.sin(3*t)\n",
    "fig = px.histogram({'t': t, 'x(t)': x_t, 'y(t)':y_t},\n",
    "                   x= ['x(t)', 'y(t)'],\n",
    "                   title = f'Histogram of x and y using dt = {dt} with {nbins} bins over {p} periods.',\n",
    "                   marginal=\"rug\",\n",
    "                   opacity=0.5,\n",
    "                   barmode = 'overlay',\n",
    "                   nbins = nbins)\n",
    "fig.show()"
   ]
  },
  {
   "cell_type": "markdown",
   "id": "47e761da-b856-4c4e-b780-215dc45fe1f4",
   "metadata": {
    "jp-MarkdownHeadingCollapsed": true
   },
   "source": [
    "<u>__Data Driven Analysis__<u>\n",
    "\n",
    "Our goal now is to start with this solution and simulate observed data points from this system using multiple viewpoints in $3D$ space. This will provide a high dimensional observation set of what should be a $2D$ system. We introduce random noise to simulate error in the sensors or the system. Then, we will run a principal componet analysis and see what information it reveals."
   ]
  },
  {
   "cell_type": "markdown",
   "id": "27856805-3f1d-42a9-aadc-749bdd603568",
   "metadata": {},
   "source": [
    "First, add noise to the system and visualize."
   ]
  },
  {
   "cell_type": "code",
   "execution_count": 19,
   "id": "2a11c739-a82a-4e06-aaa1-9fd8b3647f08",
   "metadata": {},
   "outputs": [
    {
     "data": {
      "application/vnd.plotly.v1+json": {
       "config": {
        "plotlyServerURL": "https://plot.ly"
       },
       "data": [
        {
         "hovertemplate": "x(t)=%{x}<br>y(t)=%{y}<extra></extra>",
         "legendgroup": "",
         "marker": {
          "color": "#636efa",
          "symbol": "circle"
         },
         "mode": "markers",
         "name": "",
         "orientation": "v",
         "showlegend": false,
         "type": "scatter",
         "x": [
          2.7226766938961653,
          2.893119597963649,
          3.7081390124036644,
          3.4408888059766882,
          1.4414711181147273,
          0.470133971133488,
          0.2965614579575549,
          -0.8549155640162175,
          -0.32861878725444993,
          -2.158683602625236,
          -4.220143464646224,
          -3.7680187490846313,
          -2.844575854298722,
          -3.3203980198085237,
          -3.6999440263378163,
          -2.12933921143737,
          -0.8639428900728986,
          0.8408507315902589,
          1.075695855453161,
          1.6221325790962586,
          3.097867452989637,
          3.044588909742423,
          2.9328699911388765,
          2.4800777470202218,
          2.9816948256358233,
          1.093162324148648,
          1.0635555592568204,
          1.4958316841940533,
          -0.548298905112189,
          -1.3223918663143102,
          -0.6516233325458964,
          -3.451854662536082,
          -2.9207928693468586,
          -3.2874617148848295,
          -3.388549489031622,
          -3.6159809134249707,
          -1.1999051347073908,
          -0.7480365000260477,
          -0.07478836363413255,
          1.4039374633009853,
          1.9096463156340322,
          2.5898616243196564,
          2.018063129020554,
          3.58442925981418,
          3.5756786411875905,
          2.304039041356501,
          1.8824134710581804,
          0.6638675242140673,
          -0.21157956131133532,
          0.1982320726431035,
          -1.3322788965481154,
          -1.763072472506701,
          -3.084725263350908,
          -3.55342894586618,
          -3.3902690583630415,
          -1.8792432653995084,
          -1.0029685562842963,
          -1.9645862405191412,
          0.4584269879654663,
          0.7951690530719756,
          1.9603300598099613,
          1.9958942182324195,
          3.0433261710914086,
          3.665599409569578,
          3.8665923265351148,
          3.1978158693891476,
          2.093980465718171,
          2.823306900007906,
          1.7102996349627422,
          -1.0658434876566956,
          -0.7555553229167284,
          -2.3726072304320276,
          -2.7950412552880026,
          -3.5772403448402392,
          -3.7530020567353066,
          -3.73374917041958,
          -2.908067639148474,
          -1.3343211478804093,
          -1.4514375923294713,
          -0.5294424198864677,
          0.5834531265311973,
          1.1599426077197457,
          2.1637674344868345,
          2.7696032846350094,
          3.0819372389658635,
          3.053496008472792,
          2.352729033996738,
          3.849816218013781,
          1.9747770221084762,
          1.1142127365311054,
          0.9893277142973789,
          -1.0572614757770853,
          -2.2376994311030787,
          -2.6862245651382315,
          -2.2731639616452295,
          -3.8588410806318514,
          -3.1880934664108187,
          -2.5773174851168537,
          -2.766223447709176,
          -1.7129947753049661,
          -1.1227226073004886,
          1.2353787666502916,
          0.7701756798623962,
          2.774859305441086,
          2.5335904307304666,
          3.3531794144986917,
          3.0719683305892698,
          2.697928777485128,
          2.581007895678379,
          1.6396928004276297,
          1.9960219969731476,
          -0.2572196191798367,
          -0.8849733549206106,
          -2.0116080276210355,
          -2.7422373426795743,
          -2.0497779832528247,
          -2.402093068457121,
          -2.8913728801839382,
          -3.4678494939809936,
          -1.1417260838150902,
          -1.8685518725956214,
          -0.6124411229820724,
          0.7825870147171001,
          1.4003490297946648,
          1.2560740137877753,
          1.9281528323072448,
          3.7947355197228547,
          2.635114111962741,
          2.6810780720537415,
          2.432072254927025,
          0.8566823522566176,
          0.5578228532118238,
          -0.5851315367264391,
          -0.7726436449645824,
          -1.7195811168369193,
          -2.0212083696109246,
          -3.3875398506796524,
          -3.304539140352427,
          -3.320796980985607,
          -2.1918285758263107,
          -1.27980583439211,
          -1.2963345971312674,
          -0.6679124552964403,
          0.4257038515259149,
          1.372693843747694,
          2.706060032975981,
          3.2777066862711814,
          3.5002402233402647,
          4.228777887187956,
          2.9942790639359282,
          2.2551184542493825,
          1.1538357532483947,
          0.7507172312785803,
          0.13314371485893292,
          -0.9064781614518479,
          -2.9134399344281383,
          -2.6590934198968585,
          -3.3801534969348843,
          -3.658615704598407,
          -3.330290352643541,
          -3.546635976315738,
          -2.1361222988083246,
          -1.7306966457967812,
          -0.6202962667092268,
          0.26763752179532746,
          1.121854592875645,
          1.5305902587531874,
          2.6946510872623044,
          3.548884095846894,
          3.988688782453475,
          3.048131697651447,
          2.4308182293286102,
          0.9536370700008492,
          0.8518476301081915,
          -0.24429292575021724,
          -0.7291350984163187,
          -1.5565854522818423,
          -3.138353494643085,
          -3.5824705639015133,
          -4.467765715082958,
          -3.3827811814814797,
          -2.0599414556643056,
          -2.2408615268449137,
          -2.8368641624036597,
          -0.740140535950268,
          1.543289146444899,
          1.7936304317609775,
          2.801247788893447,
          2.7145135579403656,
          2.646331719087883,
          3.8185244229281823,
          3.1660897957792393,
          1.9391576394612515,
          2.268010972319166,
          1.0861663756045594,
          -1.0844294119996212,
          -1.4083701937186865,
          -1.4077419367948107,
          -1.0582779057994693,
          -4.332773585924844,
          -3.408203081084865,
          -3.258268752148691,
          -2.719300040898176,
          -1.2398583381423927,
          -0.5267873548088394,
          -0.0589288665466933,
          0.48285108323627857,
          1.8421916109534182,
          2.302435413442964,
          2.806112805925586
         ],
         "xaxis": "x",
         "y": [
          2.420888361214523,
          -0.014222461768659878,
          -1.7370385538087634,
          -5.019964654231918,
          -6.767580602218325,
          -8.875223459179386,
          -9.99044797866273,
          -9.25165589940593,
          -8.358421178466816,
          -6.005210366432118,
          -3.780404382208327,
          -1.8699782801890399,
          1.3736593396099654,
          4.075602456346239,
          7.233704177759752,
          8.333288475841115,
          9.225575109838381,
          10.128593534024853,
          9.413533684245856,
          7.099309324977103,
          5.902283887795636,
          2.5917435540574014,
          0.25188009518709864,
          -3.3838136827227983,
          -4.33155026972556,
          -7.001903000092949,
          -7.8810857112621795,
          -8.916709960264381,
          -9.018379346395859,
          -7.757597658687374,
          -6.092123552482643,
          -5.239373960882611,
          -1.574563545479135,
          0.9377377822171291,
          4.6540027166099955,
          6.593267434440074,
          7.764270902841421,
          8.813318549730262,
          9.26171658686788,
          9.664297609823398,
          6.963061316427268,
          4.520032555535635,
          2.81646508857979,
          -1.3079419644908385,
          -2.88772389160145,
          -4.58990727967436,
          -7.225568069316697,
          -8.586625340560213,
          -10.33574618156902,
          -8.065685249097788,
          -7.556976621934477,
          -6.133568140406946,
          -3.6762124234996056,
          -0.5282680354308072,
          2.124944081874018,
          4.255408870990997,
          6.9834336215605095,
          8.302498916125428,
          9.79920965583153,
          9.322701826389974,
          9.452846653372061,
          7.934800914627784,
          5.5179082424322665,
          3.441089644311775,
          0.34622153037759307,
          -2.5617771955236064,
          -5.659533030466074,
          -7.475420607695435,
          -9.036048790563314,
          -9.51976845475495,
          -9.411903140687649,
          -7.973062628058621,
          -7.072387300388523,
          -3.6593000356809737,
          -2.5241060605957784,
          1.4307845052666162,
          4.5347904512244215,
          5.699146973587544,
          8.463400088928289,
          9.396610424171891,
          9.46875294181824,
          9.162738287487114,
          7.186939766411405,
          4.817848995124529,
          2.662614685316402,
          -0.6844651774292212,
          -4.005587350411724,
          -6.277958560826648,
          -7.234528186506725,
          -8.285312226260686,
          -9.420142143839252,
          -9.895460416763466,
          -7.250237455309143,
          -6.764680797459976,
          -2.9860795353632135,
          -1.0760969117033086,
          1.3461887317199055,
          3.9876281317846525,
          6.476178437424016,
          8.369469366717842,
          9.42261457098506,
          10.279894886131187,
          7.883643412828152,
          7.443351929329964,
          5.638938303351312,
          2.209962361791431,
          -1.0160389764355324,
          -4.537306088557049,
          -6.731534229047097,
          -7.184277181886627,
          -9.21731198474199,
          -8.875445477180937,
          -8.326111695392889,
          -7.263643104595711,
          -5.068064358064649,
          -4.0093096424217025,
          -0.14794420335236735,
          2.178550834679778,
          3.986926770013829,
          6.518635606616916,
          8.579646901278768,
          9.804269915392279,
          9.080054011055802,
          8.370876882837386,
          6.996218071209098,
          4.885641504054922,
          1.296328893376953,
          -1.1972479800033533,
          -5.324097821321195,
          -5.8433818857753845,
          -8.772575590600736,
          -8.828510517015097,
          -9.669011662380004,
          -9.087953709843786,
          -7.616932439849727,
          -7.292450353086581,
          -3.4230049345850637,
          -0.8770693408345704,
          2.4872882659993785,
          5.245313999368048,
          7.572867766793543,
          8.846282734545637,
          9.966233202365505,
          10.270661575959528,
          7.1862165794284225,
          7.310002187038175,
          3.4287985138497072,
          2.6360738480210912,
          -0.3118964636402416,
          -3.371032194854278,
          -7.1600632894122835,
          -7.756532330680132,
          -9.176996763929079,
          -9.744857342549235,
          -9.120206627749335,
          -7.424350060578441,
          -5.98984385594184,
          -1.9531768105030833,
          0.12229766824299337,
          3.273638569028244,
          4.832965008079569,
          6.829145902762686,
          9.328942031792538,
          8.794326549620191,
          9.794994629510024,
          8.46480203229924,
          6.901180831359792,
          4.184417255327231,
          1.7134516015926287,
          0.16743144741752158,
          -2.9383661954310787,
          -5.730366235798781,
          -8.7808552149251,
          -8.103862652136698,
          -9.156803478417233,
          -9.248655158194781,
          -7.088479126838041,
          -5.73185361782033,
          -2.6702256037063576,
          -0.2685584203320939,
          2.053965333124056,
          3.8947769315556897,
          7.516311100538023,
          8.467726762499392,
          9.404768695656413,
          9.699331485056096,
          8.124960242808777,
          6.610121284082165,
          4.275637101022532,
          2.617522783115808,
          -1.8302678562088612,
          -4.009693954060878,
          -5.75208234681833,
          -8.135598279996069,
          -8.614407156937933,
          -9.953956643162897,
          -7.844086683476778,
          -8.751532849343594,
          -4.760015727118619,
          -3.0531832719789636,
          -0.6425472486322708,
          1.8447981651706002,
          5.3679899023601045,
          7.4595231393598285,
          8.726489708101175,
          10.598503547801322,
          9.637197929262255,
          9.239194977067351,
          7.256817019002339,
          4.237287323663493
         ],
         "yaxis": "y"
        }
       ],
       "layout": {
        "height": 700,
        "legend": {
         "tracegroupgap": 0
        },
        "template": {
         "data": {
          "bar": [
           {
            "error_x": {
             "color": "#2a3f5f"
            },
            "error_y": {
             "color": "#2a3f5f"
            },
            "marker": {
             "line": {
              "color": "#E5ECF6",
              "width": 0.5
             },
             "pattern": {
              "fillmode": "overlay",
              "size": 10,
              "solidity": 0.2
             }
            },
            "type": "bar"
           }
          ],
          "barpolar": [
           {
            "marker": {
             "line": {
              "color": "#E5ECF6",
              "width": 0.5
             },
             "pattern": {
              "fillmode": "overlay",
              "size": 10,
              "solidity": 0.2
             }
            },
            "type": "barpolar"
           }
          ],
          "carpet": [
           {
            "aaxis": {
             "endlinecolor": "#2a3f5f",
             "gridcolor": "white",
             "linecolor": "white",
             "minorgridcolor": "white",
             "startlinecolor": "#2a3f5f"
            },
            "baxis": {
             "endlinecolor": "#2a3f5f",
             "gridcolor": "white",
             "linecolor": "white",
             "minorgridcolor": "white",
             "startlinecolor": "#2a3f5f"
            },
            "type": "carpet"
           }
          ],
          "choropleth": [
           {
            "colorbar": {
             "outlinewidth": 0,
             "ticks": ""
            },
            "type": "choropleth"
           }
          ],
          "contour": [
           {
            "colorbar": {
             "outlinewidth": 0,
             "ticks": ""
            },
            "colorscale": [
             [
              0,
              "#0d0887"
             ],
             [
              0.1111111111111111,
              "#46039f"
             ],
             [
              0.2222222222222222,
              "#7201a8"
             ],
             [
              0.3333333333333333,
              "#9c179e"
             ],
             [
              0.4444444444444444,
              "#bd3786"
             ],
             [
              0.5555555555555556,
              "#d8576b"
             ],
             [
              0.6666666666666666,
              "#ed7953"
             ],
             [
              0.7777777777777778,
              "#fb9f3a"
             ],
             [
              0.8888888888888888,
              "#fdca26"
             ],
             [
              1,
              "#f0f921"
             ]
            ],
            "type": "contour"
           }
          ],
          "contourcarpet": [
           {
            "colorbar": {
             "outlinewidth": 0,
             "ticks": ""
            },
            "type": "contourcarpet"
           }
          ],
          "heatmap": [
           {
            "colorbar": {
             "outlinewidth": 0,
             "ticks": ""
            },
            "colorscale": [
             [
              0,
              "#0d0887"
             ],
             [
              0.1111111111111111,
              "#46039f"
             ],
             [
              0.2222222222222222,
              "#7201a8"
             ],
             [
              0.3333333333333333,
              "#9c179e"
             ],
             [
              0.4444444444444444,
              "#bd3786"
             ],
             [
              0.5555555555555556,
              "#d8576b"
             ],
             [
              0.6666666666666666,
              "#ed7953"
             ],
             [
              0.7777777777777778,
              "#fb9f3a"
             ],
             [
              0.8888888888888888,
              "#fdca26"
             ],
             [
              1,
              "#f0f921"
             ]
            ],
            "type": "heatmap"
           }
          ],
          "heatmapgl": [
           {
            "colorbar": {
             "outlinewidth": 0,
             "ticks": ""
            },
            "colorscale": [
             [
              0,
              "#0d0887"
             ],
             [
              0.1111111111111111,
              "#46039f"
             ],
             [
              0.2222222222222222,
              "#7201a8"
             ],
             [
              0.3333333333333333,
              "#9c179e"
             ],
             [
              0.4444444444444444,
              "#bd3786"
             ],
             [
              0.5555555555555556,
              "#d8576b"
             ],
             [
              0.6666666666666666,
              "#ed7953"
             ],
             [
              0.7777777777777778,
              "#fb9f3a"
             ],
             [
              0.8888888888888888,
              "#fdca26"
             ],
             [
              1,
              "#f0f921"
             ]
            ],
            "type": "heatmapgl"
           }
          ],
          "histogram": [
           {
            "marker": {
             "pattern": {
              "fillmode": "overlay",
              "size": 10,
              "solidity": 0.2
             }
            },
            "type": "histogram"
           }
          ],
          "histogram2d": [
           {
            "colorbar": {
             "outlinewidth": 0,
             "ticks": ""
            },
            "colorscale": [
             [
              0,
              "#0d0887"
             ],
             [
              0.1111111111111111,
              "#46039f"
             ],
             [
              0.2222222222222222,
              "#7201a8"
             ],
             [
              0.3333333333333333,
              "#9c179e"
             ],
             [
              0.4444444444444444,
              "#bd3786"
             ],
             [
              0.5555555555555556,
              "#d8576b"
             ],
             [
              0.6666666666666666,
              "#ed7953"
             ],
             [
              0.7777777777777778,
              "#fb9f3a"
             ],
             [
              0.8888888888888888,
              "#fdca26"
             ],
             [
              1,
              "#f0f921"
             ]
            ],
            "type": "histogram2d"
           }
          ],
          "histogram2dcontour": [
           {
            "colorbar": {
             "outlinewidth": 0,
             "ticks": ""
            },
            "colorscale": [
             [
              0,
              "#0d0887"
             ],
             [
              0.1111111111111111,
              "#46039f"
             ],
             [
              0.2222222222222222,
              "#7201a8"
             ],
             [
              0.3333333333333333,
              "#9c179e"
             ],
             [
              0.4444444444444444,
              "#bd3786"
             ],
             [
              0.5555555555555556,
              "#d8576b"
             ],
             [
              0.6666666666666666,
              "#ed7953"
             ],
             [
              0.7777777777777778,
              "#fb9f3a"
             ],
             [
              0.8888888888888888,
              "#fdca26"
             ],
             [
              1,
              "#f0f921"
             ]
            ],
            "type": "histogram2dcontour"
           }
          ],
          "mesh3d": [
           {
            "colorbar": {
             "outlinewidth": 0,
             "ticks": ""
            },
            "type": "mesh3d"
           }
          ],
          "parcoords": [
           {
            "line": {
             "colorbar": {
              "outlinewidth": 0,
              "ticks": ""
             }
            },
            "type": "parcoords"
           }
          ],
          "pie": [
           {
            "automargin": true,
            "type": "pie"
           }
          ],
          "scatter": [
           {
            "fillpattern": {
             "fillmode": "overlay",
             "size": 10,
             "solidity": 0.2
            },
            "type": "scatter"
           }
          ],
          "scatter3d": [
           {
            "line": {
             "colorbar": {
              "outlinewidth": 0,
              "ticks": ""
             }
            },
            "marker": {
             "colorbar": {
              "outlinewidth": 0,
              "ticks": ""
             }
            },
            "type": "scatter3d"
           }
          ],
          "scattercarpet": [
           {
            "marker": {
             "colorbar": {
              "outlinewidth": 0,
              "ticks": ""
             }
            },
            "type": "scattercarpet"
           }
          ],
          "scattergeo": [
           {
            "marker": {
             "colorbar": {
              "outlinewidth": 0,
              "ticks": ""
             }
            },
            "type": "scattergeo"
           }
          ],
          "scattergl": [
           {
            "marker": {
             "colorbar": {
              "outlinewidth": 0,
              "ticks": ""
             }
            },
            "type": "scattergl"
           }
          ],
          "scattermapbox": [
           {
            "marker": {
             "colorbar": {
              "outlinewidth": 0,
              "ticks": ""
             }
            },
            "type": "scattermapbox"
           }
          ],
          "scatterpolar": [
           {
            "marker": {
             "colorbar": {
              "outlinewidth": 0,
              "ticks": ""
             }
            },
            "type": "scatterpolar"
           }
          ],
          "scatterpolargl": [
           {
            "marker": {
             "colorbar": {
              "outlinewidth": 0,
              "ticks": ""
             }
            },
            "type": "scatterpolargl"
           }
          ],
          "scatterternary": [
           {
            "marker": {
             "colorbar": {
              "outlinewidth": 0,
              "ticks": ""
             }
            },
            "type": "scatterternary"
           }
          ],
          "surface": [
           {
            "colorbar": {
             "outlinewidth": 0,
             "ticks": ""
            },
            "colorscale": [
             [
              0,
              "#0d0887"
             ],
             [
              0.1111111111111111,
              "#46039f"
             ],
             [
              0.2222222222222222,
              "#7201a8"
             ],
             [
              0.3333333333333333,
              "#9c179e"
             ],
             [
              0.4444444444444444,
              "#bd3786"
             ],
             [
              0.5555555555555556,
              "#d8576b"
             ],
             [
              0.6666666666666666,
              "#ed7953"
             ],
             [
              0.7777777777777778,
              "#fb9f3a"
             ],
             [
              0.8888888888888888,
              "#fdca26"
             ],
             [
              1,
              "#f0f921"
             ]
            ],
            "type": "surface"
           }
          ],
          "table": [
           {
            "cells": {
             "fill": {
              "color": "#EBF0F8"
             },
             "line": {
              "color": "white"
             }
            },
            "header": {
             "fill": {
              "color": "#C8D4E3"
             },
             "line": {
              "color": "white"
             }
            },
            "type": "table"
           }
          ]
         },
         "layout": {
          "annotationdefaults": {
           "arrowcolor": "#2a3f5f",
           "arrowhead": 0,
           "arrowwidth": 1
          },
          "autotypenumbers": "strict",
          "coloraxis": {
           "colorbar": {
            "outlinewidth": 0,
            "ticks": ""
           }
          },
          "colorscale": {
           "diverging": [
            [
             0,
             "#8e0152"
            ],
            [
             0.1,
             "#c51b7d"
            ],
            [
             0.2,
             "#de77ae"
            ],
            [
             0.3,
             "#f1b6da"
            ],
            [
             0.4,
             "#fde0ef"
            ],
            [
             0.5,
             "#f7f7f7"
            ],
            [
             0.6,
             "#e6f5d0"
            ],
            [
             0.7,
             "#b8e186"
            ],
            [
             0.8,
             "#7fbc41"
            ],
            [
             0.9,
             "#4d9221"
            ],
            [
             1,
             "#276419"
            ]
           ],
           "sequential": [
            [
             0,
             "#0d0887"
            ],
            [
             0.1111111111111111,
             "#46039f"
            ],
            [
             0.2222222222222222,
             "#7201a8"
            ],
            [
             0.3333333333333333,
             "#9c179e"
            ],
            [
             0.4444444444444444,
             "#bd3786"
            ],
            [
             0.5555555555555556,
             "#d8576b"
            ],
            [
             0.6666666666666666,
             "#ed7953"
            ],
            [
             0.7777777777777778,
             "#fb9f3a"
            ],
            [
             0.8888888888888888,
             "#fdca26"
            ],
            [
             1,
             "#f0f921"
            ]
           ],
           "sequentialminus": [
            [
             0,
             "#0d0887"
            ],
            [
             0.1111111111111111,
             "#46039f"
            ],
            [
             0.2222222222222222,
             "#7201a8"
            ],
            [
             0.3333333333333333,
             "#9c179e"
            ],
            [
             0.4444444444444444,
             "#bd3786"
            ],
            [
             0.5555555555555556,
             "#d8576b"
            ],
            [
             0.6666666666666666,
             "#ed7953"
            ],
            [
             0.7777777777777778,
             "#fb9f3a"
            ],
            [
             0.8888888888888888,
             "#fdca26"
            ],
            [
             1,
             "#f0f921"
            ]
           ]
          },
          "colorway": [
           "#636efa",
           "#EF553B",
           "#00cc96",
           "#ab63fa",
           "#FFA15A",
           "#19d3f3",
           "#FF6692",
           "#B6E880",
           "#FF97FF",
           "#FECB52"
          ],
          "font": {
           "color": "#2a3f5f"
          },
          "geo": {
           "bgcolor": "white",
           "lakecolor": "white",
           "landcolor": "#E5ECF6",
           "showlakes": true,
           "showland": true,
           "subunitcolor": "white"
          },
          "hoverlabel": {
           "align": "left"
          },
          "hovermode": "closest",
          "mapbox": {
           "style": "light"
          },
          "paper_bgcolor": "white",
          "plot_bgcolor": "#E5ECF6",
          "polar": {
           "angularaxis": {
            "gridcolor": "white",
            "linecolor": "white",
            "ticks": ""
           },
           "bgcolor": "#E5ECF6",
           "radialaxis": {
            "gridcolor": "white",
            "linecolor": "white",
            "ticks": ""
           }
          },
          "scene": {
           "xaxis": {
            "backgroundcolor": "#E5ECF6",
            "gridcolor": "white",
            "gridwidth": 2,
            "linecolor": "white",
            "showbackground": true,
            "ticks": "",
            "zerolinecolor": "white"
           },
           "yaxis": {
            "backgroundcolor": "#E5ECF6",
            "gridcolor": "white",
            "gridwidth": 2,
            "linecolor": "white",
            "showbackground": true,
            "ticks": "",
            "zerolinecolor": "white"
           },
           "zaxis": {
            "backgroundcolor": "#E5ECF6",
            "gridcolor": "white",
            "gridwidth": 2,
            "linecolor": "white",
            "showbackground": true,
            "ticks": "",
            "zerolinecolor": "white"
           }
          },
          "shapedefaults": {
           "line": {
            "color": "#2a3f5f"
           }
          },
          "ternary": {
           "aaxis": {
            "gridcolor": "white",
            "linecolor": "white",
            "ticks": ""
           },
           "baxis": {
            "gridcolor": "white",
            "linecolor": "white",
            "ticks": ""
           },
           "bgcolor": "#E5ECF6",
           "caxis": {
            "gridcolor": "white",
            "linecolor": "white",
            "ticks": ""
           }
          },
          "title": {
           "x": 0.05
          },
          "xaxis": {
           "automargin": true,
           "gridcolor": "white",
           "linecolor": "white",
           "ticks": "",
           "title": {
            "standoff": 15
           },
           "zerolinecolor": "white",
           "zerolinewidth": 2
          },
          "yaxis": {
           "automargin": true,
           "gridcolor": "white",
           "linecolor": "white",
           "ticks": "",
           "title": {
            "standoff": 15
           },
           "zerolinecolor": "white",
           "zerolinewidth": 2
          }
         }
        },
        "title": {
         "text": "x versus y scatter plot with normal noise"
        },
        "width": 500,
        "xaxis": {
         "anchor": "y",
         "domain": [
          0,
          1
         ],
         "range": [
          -6,
          6
         ],
         "title": {
          "text": "x(t)"
         },
         "type": "linear"
        },
        "yaxis": {
         "anchor": "x",
         "domain": [
          0,
          1
         ],
         "range": [
          -12,
          12
         ],
         "title": {
          "text": "y(t)"
         },
         "type": "linear"
        }
       }
      },
      "text/html": [
       "<div>                            <div id=\"8f2a1644-459f-40dc-805d-d38da828273b\" class=\"plotly-graph-div\" style=\"height:700px; width:500px;\"></div>            <script type=\"text/javascript\">                require([\"plotly\"], function(Plotly) {                    window.PLOTLYENV=window.PLOTLYENV || {};                                    if (document.getElementById(\"8f2a1644-459f-40dc-805d-d38da828273b\")) {                    Plotly.newPlot(                        \"8f2a1644-459f-40dc-805d-d38da828273b\",                        [{\"hovertemplate\":\"x(t)=%{x}\\u003cbr\\u003ey(t)=%{y}\\u003cextra\\u003e\\u003c\\u002fextra\\u003e\",\"legendgroup\":\"\",\"marker\":{\"color\":\"#636efa\",\"symbol\":\"circle\"},\"mode\":\"markers\",\"name\":\"\",\"orientation\":\"v\",\"showlegend\":false,\"x\":[2.7226766938961653,2.893119597963649,3.7081390124036644,3.4408888059766882,1.4414711181147273,0.470133971133488,0.2965614579575549,-0.8549155640162175,-0.32861878725444993,-2.158683602625236,-4.220143464646224,-3.7680187490846313,-2.844575854298722,-3.3203980198085237,-3.6999440263378163,-2.12933921143737,-0.8639428900728986,0.8408507315902589,1.075695855453161,1.6221325790962586,3.097867452989637,3.044588909742423,2.9328699911388765,2.4800777470202218,2.9816948256358233,1.093162324148648,1.0635555592568204,1.4958316841940533,-0.548298905112189,-1.3223918663143102,-0.6516233325458964,-3.451854662536082,-2.9207928693468586,-3.2874617148848295,-3.388549489031622,-3.6159809134249707,-1.1999051347073908,-0.7480365000260477,-0.07478836363413255,1.4039374633009853,1.9096463156340322,2.5898616243196564,2.018063129020554,3.58442925981418,3.5756786411875905,2.304039041356501,1.8824134710581804,0.6638675242140673,-0.21157956131133532,0.1982320726431035,-1.3322788965481154,-1.763072472506701,-3.084725263350908,-3.55342894586618,-3.3902690583630415,-1.8792432653995084,-1.0029685562842963,-1.9645862405191412,0.4584269879654663,0.7951690530719756,1.9603300598099613,1.9958942182324195,3.0433261710914086,3.665599409569578,3.8665923265351148,3.1978158693891476,2.093980465718171,2.823306900007906,1.7102996349627422,-1.0658434876566956,-0.7555553229167284,-2.3726072304320276,-2.7950412552880026,-3.5772403448402392,-3.7530020567353066,-3.73374917041958,-2.908067639148474,-1.3343211478804093,-1.4514375923294713,-0.5294424198864677,0.5834531265311973,1.1599426077197457,2.1637674344868345,2.7696032846350094,3.0819372389658635,3.053496008472792,2.352729033996738,3.849816218013781,1.9747770221084762,1.1142127365311054,0.9893277142973789,-1.0572614757770853,-2.2376994311030787,-2.6862245651382315,-2.2731639616452295,-3.8588410806318514,-3.1880934664108187,-2.5773174851168537,-2.766223447709176,-1.7129947753049661,-1.1227226073004886,1.2353787666502916,0.7701756798623962,2.774859305441086,2.5335904307304666,3.3531794144986917,3.0719683305892698,2.697928777485128,2.581007895678379,1.6396928004276297,1.9960219969731476,-0.2572196191798367,-0.8849733549206106,-2.0116080276210355,-2.7422373426795743,-2.0497779832528247,-2.402093068457121,-2.8913728801839382,-3.4678494939809936,-1.1417260838150902,-1.8685518725956214,-0.6124411229820724,0.7825870147171001,1.4003490297946648,1.2560740137877753,1.9281528323072448,3.7947355197228547,2.635114111962741,2.6810780720537415,2.432072254927025,0.8566823522566176,0.5578228532118238,-0.5851315367264391,-0.7726436449645824,-1.7195811168369193,-2.0212083696109246,-3.3875398506796524,-3.304539140352427,-3.320796980985607,-2.1918285758263107,-1.27980583439211,-1.2963345971312674,-0.6679124552964403,0.4257038515259149,1.372693843747694,2.706060032975981,3.2777066862711814,3.5002402233402647,4.228777887187956,2.9942790639359282,2.2551184542493825,1.1538357532483947,0.7507172312785803,0.13314371485893292,-0.9064781614518479,-2.9134399344281383,-2.6590934198968585,-3.3801534969348843,-3.658615704598407,-3.330290352643541,-3.546635976315738,-2.1361222988083246,-1.7306966457967812,-0.6202962667092268,0.26763752179532746,1.121854592875645,1.5305902587531874,2.6946510872623044,3.548884095846894,3.988688782453475,3.048131697651447,2.4308182293286102,0.9536370700008492,0.8518476301081915,-0.24429292575021724,-0.7291350984163187,-1.5565854522818423,-3.138353494643085,-3.5824705639015133,-4.467765715082958,-3.3827811814814797,-2.0599414556643056,-2.2408615268449137,-2.8368641624036597,-0.740140535950268,1.543289146444899,1.7936304317609775,2.801247788893447,2.7145135579403656,2.646331719087883,3.8185244229281823,3.1660897957792393,1.9391576394612515,2.268010972319166,1.0861663756045594,-1.0844294119996212,-1.4083701937186865,-1.4077419367948107,-1.0582779057994693,-4.332773585924844,-3.408203081084865,-3.258268752148691,-2.719300040898176,-1.2398583381423927,-0.5267873548088394,-0.0589288665466933,0.48285108323627857,1.8421916109534182,2.302435413442964,2.806112805925586],\"xaxis\":\"x\",\"y\":[2.420888361214523,-0.014222461768659878,-1.7370385538087634,-5.019964654231918,-6.767580602218325,-8.875223459179386,-9.99044797866273,-9.25165589940593,-8.358421178466816,-6.005210366432118,-3.780404382208327,-1.8699782801890399,1.3736593396099654,4.075602456346239,7.233704177759752,8.333288475841115,9.225575109838381,10.128593534024853,9.413533684245856,7.099309324977103,5.902283887795636,2.5917435540574014,0.25188009518709864,-3.3838136827227983,-4.33155026972556,-7.001903000092949,-7.8810857112621795,-8.916709960264381,-9.018379346395859,-7.757597658687374,-6.092123552482643,-5.239373960882611,-1.574563545479135,0.9377377822171291,4.6540027166099955,6.593267434440074,7.764270902841421,8.813318549730262,9.26171658686788,9.664297609823398,6.963061316427268,4.520032555535635,2.81646508857979,-1.3079419644908385,-2.88772389160145,-4.58990727967436,-7.225568069316697,-8.586625340560213,-10.33574618156902,-8.065685249097788,-7.556976621934477,-6.133568140406946,-3.6762124234996056,-0.5282680354308072,2.124944081874018,4.255408870990997,6.9834336215605095,8.302498916125428,9.79920965583153,9.322701826389974,9.452846653372061,7.934800914627784,5.5179082424322665,3.441089644311775,0.34622153037759307,-2.5617771955236064,-5.659533030466074,-7.475420607695435,-9.036048790563314,-9.51976845475495,-9.411903140687649,-7.973062628058621,-7.072387300388523,-3.6593000356809737,-2.5241060605957784,1.4307845052666162,4.5347904512244215,5.699146973587544,8.463400088928289,9.396610424171891,9.46875294181824,9.162738287487114,7.186939766411405,4.817848995124529,2.662614685316402,-0.6844651774292212,-4.005587350411724,-6.277958560826648,-7.234528186506725,-8.285312226260686,-9.420142143839252,-9.895460416763466,-7.250237455309143,-6.764680797459976,-2.9860795353632135,-1.0760969117033086,1.3461887317199055,3.9876281317846525,6.476178437424016,8.369469366717842,9.42261457098506,10.279894886131187,7.883643412828152,7.443351929329964,5.638938303351312,2.209962361791431,-1.0160389764355324,-4.537306088557049,-6.731534229047097,-7.184277181886627,-9.21731198474199,-8.875445477180937,-8.326111695392889,-7.263643104595711,-5.068064358064649,-4.0093096424217025,-0.14794420335236735,2.178550834679778,3.986926770013829,6.518635606616916,8.579646901278768,9.804269915392279,9.080054011055802,8.370876882837386,6.996218071209098,4.885641504054922,1.296328893376953,-1.1972479800033533,-5.324097821321195,-5.8433818857753845,-8.772575590600736,-8.828510517015097,-9.669011662380004,-9.087953709843786,-7.616932439849727,-7.292450353086581,-3.4230049345850637,-0.8770693408345704,2.4872882659993785,5.245313999368048,7.572867766793543,8.846282734545637,9.966233202365505,10.270661575959528,7.1862165794284225,7.310002187038175,3.4287985138497072,2.6360738480210912,-0.3118964636402416,-3.371032194854278,-7.1600632894122835,-7.756532330680132,-9.176996763929079,-9.744857342549235,-9.120206627749335,-7.424350060578441,-5.98984385594184,-1.9531768105030833,0.12229766824299337,3.273638569028244,4.832965008079569,6.829145902762686,9.328942031792538,8.794326549620191,9.794994629510024,8.46480203229924,6.901180831359792,4.184417255327231,1.7134516015926287,0.16743144741752158,-2.9383661954310787,-5.730366235798781,-8.7808552149251,-8.103862652136698,-9.156803478417233,-9.248655158194781,-7.088479126838041,-5.73185361782033,-2.6702256037063576,-0.2685584203320939,2.053965333124056,3.8947769315556897,7.516311100538023,8.467726762499392,9.404768695656413,9.699331485056096,8.124960242808777,6.610121284082165,4.275637101022532,2.617522783115808,-1.8302678562088612,-4.009693954060878,-5.75208234681833,-8.135598279996069,-8.614407156937933,-9.953956643162897,-7.844086683476778,-8.751532849343594,-4.760015727118619,-3.0531832719789636,-0.6425472486322708,1.8447981651706002,5.3679899023601045,7.4595231393598285,8.726489708101175,10.598503547801322,9.637197929262255,9.239194977067351,7.256817019002339,4.237287323663493],\"yaxis\":\"y\",\"type\":\"scatter\"}],                        {\"template\":{\"data\":{\"histogram2dcontour\":[{\"type\":\"histogram2dcontour\",\"colorbar\":{\"outlinewidth\":0,\"ticks\":\"\"},\"colorscale\":[[0.0,\"#0d0887\"],[0.1111111111111111,\"#46039f\"],[0.2222222222222222,\"#7201a8\"],[0.3333333333333333,\"#9c179e\"],[0.4444444444444444,\"#bd3786\"],[0.5555555555555556,\"#d8576b\"],[0.6666666666666666,\"#ed7953\"],[0.7777777777777778,\"#fb9f3a\"],[0.8888888888888888,\"#fdca26\"],[1.0,\"#f0f921\"]]}],\"choropleth\":[{\"type\":\"choropleth\",\"colorbar\":{\"outlinewidth\":0,\"ticks\":\"\"}}],\"histogram2d\":[{\"type\":\"histogram2d\",\"colorbar\":{\"outlinewidth\":0,\"ticks\":\"\"},\"colorscale\":[[0.0,\"#0d0887\"],[0.1111111111111111,\"#46039f\"],[0.2222222222222222,\"#7201a8\"],[0.3333333333333333,\"#9c179e\"],[0.4444444444444444,\"#bd3786\"],[0.5555555555555556,\"#d8576b\"],[0.6666666666666666,\"#ed7953\"],[0.7777777777777778,\"#fb9f3a\"],[0.8888888888888888,\"#fdca26\"],[1.0,\"#f0f921\"]]}],\"heatmap\":[{\"type\":\"heatmap\",\"colorbar\":{\"outlinewidth\":0,\"ticks\":\"\"},\"colorscale\":[[0.0,\"#0d0887\"],[0.1111111111111111,\"#46039f\"],[0.2222222222222222,\"#7201a8\"],[0.3333333333333333,\"#9c179e\"],[0.4444444444444444,\"#bd3786\"],[0.5555555555555556,\"#d8576b\"],[0.6666666666666666,\"#ed7953\"],[0.7777777777777778,\"#fb9f3a\"],[0.8888888888888888,\"#fdca26\"],[1.0,\"#f0f921\"]]}],\"heatmapgl\":[{\"type\":\"heatmapgl\",\"colorbar\":{\"outlinewidth\":0,\"ticks\":\"\"},\"colorscale\":[[0.0,\"#0d0887\"],[0.1111111111111111,\"#46039f\"],[0.2222222222222222,\"#7201a8\"],[0.3333333333333333,\"#9c179e\"],[0.4444444444444444,\"#bd3786\"],[0.5555555555555556,\"#d8576b\"],[0.6666666666666666,\"#ed7953\"],[0.7777777777777778,\"#fb9f3a\"],[0.8888888888888888,\"#fdca26\"],[1.0,\"#f0f921\"]]}],\"contourcarpet\":[{\"type\":\"contourcarpet\",\"colorbar\":{\"outlinewidth\":0,\"ticks\":\"\"}}],\"contour\":[{\"type\":\"contour\",\"colorbar\":{\"outlinewidth\":0,\"ticks\":\"\"},\"colorscale\":[[0.0,\"#0d0887\"],[0.1111111111111111,\"#46039f\"],[0.2222222222222222,\"#7201a8\"],[0.3333333333333333,\"#9c179e\"],[0.4444444444444444,\"#bd3786\"],[0.5555555555555556,\"#d8576b\"],[0.6666666666666666,\"#ed7953\"],[0.7777777777777778,\"#fb9f3a\"],[0.8888888888888888,\"#fdca26\"],[1.0,\"#f0f921\"]]}],\"surface\":[{\"type\":\"surface\",\"colorbar\":{\"outlinewidth\":0,\"ticks\":\"\"},\"colorscale\":[[0.0,\"#0d0887\"],[0.1111111111111111,\"#46039f\"],[0.2222222222222222,\"#7201a8\"],[0.3333333333333333,\"#9c179e\"],[0.4444444444444444,\"#bd3786\"],[0.5555555555555556,\"#d8576b\"],[0.6666666666666666,\"#ed7953\"],[0.7777777777777778,\"#fb9f3a\"],[0.8888888888888888,\"#fdca26\"],[1.0,\"#f0f921\"]]}],\"mesh3d\":[{\"type\":\"mesh3d\",\"colorbar\":{\"outlinewidth\":0,\"ticks\":\"\"}}],\"scatter\":[{\"fillpattern\":{\"fillmode\":\"overlay\",\"size\":10,\"solidity\":0.2},\"type\":\"scatter\"}],\"parcoords\":[{\"type\":\"parcoords\",\"line\":{\"colorbar\":{\"outlinewidth\":0,\"ticks\":\"\"}}}],\"scatterpolargl\":[{\"type\":\"scatterpolargl\",\"marker\":{\"colorbar\":{\"outlinewidth\":0,\"ticks\":\"\"}}}],\"bar\":[{\"error_x\":{\"color\":\"#2a3f5f\"},\"error_y\":{\"color\":\"#2a3f5f\"},\"marker\":{\"line\":{\"color\":\"#E5ECF6\",\"width\":0.5},\"pattern\":{\"fillmode\":\"overlay\",\"size\":10,\"solidity\":0.2}},\"type\":\"bar\"}],\"scattergeo\":[{\"type\":\"scattergeo\",\"marker\":{\"colorbar\":{\"outlinewidth\":0,\"ticks\":\"\"}}}],\"scatterpolar\":[{\"type\":\"scatterpolar\",\"marker\":{\"colorbar\":{\"outlinewidth\":0,\"ticks\":\"\"}}}],\"histogram\":[{\"marker\":{\"pattern\":{\"fillmode\":\"overlay\",\"size\":10,\"solidity\":0.2}},\"type\":\"histogram\"}],\"scattergl\":[{\"type\":\"scattergl\",\"marker\":{\"colorbar\":{\"outlinewidth\":0,\"ticks\":\"\"}}}],\"scatter3d\":[{\"type\":\"scatter3d\",\"line\":{\"colorbar\":{\"outlinewidth\":0,\"ticks\":\"\"}},\"marker\":{\"colorbar\":{\"outlinewidth\":0,\"ticks\":\"\"}}}],\"scattermapbox\":[{\"type\":\"scattermapbox\",\"marker\":{\"colorbar\":{\"outlinewidth\":0,\"ticks\":\"\"}}}],\"scatterternary\":[{\"type\":\"scatterternary\",\"marker\":{\"colorbar\":{\"outlinewidth\":0,\"ticks\":\"\"}}}],\"scattercarpet\":[{\"type\":\"scattercarpet\",\"marker\":{\"colorbar\":{\"outlinewidth\":0,\"ticks\":\"\"}}}],\"carpet\":[{\"aaxis\":{\"endlinecolor\":\"#2a3f5f\",\"gridcolor\":\"white\",\"linecolor\":\"white\",\"minorgridcolor\":\"white\",\"startlinecolor\":\"#2a3f5f\"},\"baxis\":{\"endlinecolor\":\"#2a3f5f\",\"gridcolor\":\"white\",\"linecolor\":\"white\",\"minorgridcolor\":\"white\",\"startlinecolor\":\"#2a3f5f\"},\"type\":\"carpet\"}],\"table\":[{\"cells\":{\"fill\":{\"color\":\"#EBF0F8\"},\"line\":{\"color\":\"white\"}},\"header\":{\"fill\":{\"color\":\"#C8D4E3\"},\"line\":{\"color\":\"white\"}},\"type\":\"table\"}],\"barpolar\":[{\"marker\":{\"line\":{\"color\":\"#E5ECF6\",\"width\":0.5},\"pattern\":{\"fillmode\":\"overlay\",\"size\":10,\"solidity\":0.2}},\"type\":\"barpolar\"}],\"pie\":[{\"automargin\":true,\"type\":\"pie\"}]},\"layout\":{\"autotypenumbers\":\"strict\",\"colorway\":[\"#636efa\",\"#EF553B\",\"#00cc96\",\"#ab63fa\",\"#FFA15A\",\"#19d3f3\",\"#FF6692\",\"#B6E880\",\"#FF97FF\",\"#FECB52\"],\"font\":{\"color\":\"#2a3f5f\"},\"hovermode\":\"closest\",\"hoverlabel\":{\"align\":\"left\"},\"paper_bgcolor\":\"white\",\"plot_bgcolor\":\"#E5ECF6\",\"polar\":{\"bgcolor\":\"#E5ECF6\",\"angularaxis\":{\"gridcolor\":\"white\",\"linecolor\":\"white\",\"ticks\":\"\"},\"radialaxis\":{\"gridcolor\":\"white\",\"linecolor\":\"white\",\"ticks\":\"\"}},\"ternary\":{\"bgcolor\":\"#E5ECF6\",\"aaxis\":{\"gridcolor\":\"white\",\"linecolor\":\"white\",\"ticks\":\"\"},\"baxis\":{\"gridcolor\":\"white\",\"linecolor\":\"white\",\"ticks\":\"\"},\"caxis\":{\"gridcolor\":\"white\",\"linecolor\":\"white\",\"ticks\":\"\"}},\"coloraxis\":{\"colorbar\":{\"outlinewidth\":0,\"ticks\":\"\"}},\"colorscale\":{\"sequential\":[[0.0,\"#0d0887\"],[0.1111111111111111,\"#46039f\"],[0.2222222222222222,\"#7201a8\"],[0.3333333333333333,\"#9c179e\"],[0.4444444444444444,\"#bd3786\"],[0.5555555555555556,\"#d8576b\"],[0.6666666666666666,\"#ed7953\"],[0.7777777777777778,\"#fb9f3a\"],[0.8888888888888888,\"#fdca26\"],[1.0,\"#f0f921\"]],\"sequentialminus\":[[0.0,\"#0d0887\"],[0.1111111111111111,\"#46039f\"],[0.2222222222222222,\"#7201a8\"],[0.3333333333333333,\"#9c179e\"],[0.4444444444444444,\"#bd3786\"],[0.5555555555555556,\"#d8576b\"],[0.6666666666666666,\"#ed7953\"],[0.7777777777777778,\"#fb9f3a\"],[0.8888888888888888,\"#fdca26\"],[1.0,\"#f0f921\"]],\"diverging\":[[0,\"#8e0152\"],[0.1,\"#c51b7d\"],[0.2,\"#de77ae\"],[0.3,\"#f1b6da\"],[0.4,\"#fde0ef\"],[0.5,\"#f7f7f7\"],[0.6,\"#e6f5d0\"],[0.7,\"#b8e186\"],[0.8,\"#7fbc41\"],[0.9,\"#4d9221\"],[1,\"#276419\"]]},\"xaxis\":{\"gridcolor\":\"white\",\"linecolor\":\"white\",\"ticks\":\"\",\"title\":{\"standoff\":15},\"zerolinecolor\":\"white\",\"automargin\":true,\"zerolinewidth\":2},\"yaxis\":{\"gridcolor\":\"white\",\"linecolor\":\"white\",\"ticks\":\"\",\"title\":{\"standoff\":15},\"zerolinecolor\":\"white\",\"automargin\":true,\"zerolinewidth\":2},\"scene\":{\"xaxis\":{\"backgroundcolor\":\"#E5ECF6\",\"gridcolor\":\"white\",\"linecolor\":\"white\",\"showbackground\":true,\"ticks\":\"\",\"zerolinecolor\":\"white\",\"gridwidth\":2},\"yaxis\":{\"backgroundcolor\":\"#E5ECF6\",\"gridcolor\":\"white\",\"linecolor\":\"white\",\"showbackground\":true,\"ticks\":\"\",\"zerolinecolor\":\"white\",\"gridwidth\":2},\"zaxis\":{\"backgroundcolor\":\"#E5ECF6\",\"gridcolor\":\"white\",\"linecolor\":\"white\",\"showbackground\":true,\"ticks\":\"\",\"zerolinecolor\":\"white\",\"gridwidth\":2}},\"shapedefaults\":{\"line\":{\"color\":\"#2a3f5f\"}},\"annotationdefaults\":{\"arrowcolor\":\"#2a3f5f\",\"arrowhead\":0,\"arrowwidth\":1},\"geo\":{\"bgcolor\":\"white\",\"landcolor\":\"#E5ECF6\",\"subunitcolor\":\"white\",\"showland\":true,\"showlakes\":true,\"lakecolor\":\"white\"},\"title\":{\"x\":0.05},\"mapbox\":{\"style\":\"light\"}}},\"xaxis\":{\"anchor\":\"y\",\"domain\":[0.0,1.0],\"title\":{\"text\":\"x(t)\"},\"range\":[-6,6]},\"yaxis\":{\"anchor\":\"x\",\"domain\":[0.0,1.0],\"title\":{\"text\":\"y(t)\"},\"range\":[-12,12]},\"legend\":{\"tracegroupgap\":0},\"title\":{\"text\":\"x versus y scatter plot with normal noise\"},\"height\":700,\"width\":500},                        {\"responsive\": true}                    ).then(function(){\n",
       "                            \n",
       "var gd = document.getElementById('8f2a1644-459f-40dc-805d-d38da828273b');\n",
       "var x = new MutationObserver(function (mutations, observer) {{\n",
       "        var display = window.getComputedStyle(gd).display;\n",
       "        if (!display || display === 'none') {{\n",
       "            console.log([gd, 'removed!']);\n",
       "            Plotly.purge(gd);\n",
       "            observer.disconnect();\n",
       "        }}\n",
       "}});\n",
       "\n",
       "// Listen for the removal of the full notebook cells\n",
       "var notebookContainer = gd.closest('#notebook-container');\n",
       "if (notebookContainer) {{\n",
       "    x.observe(notebookContainer, {childList: true});\n",
       "}}\n",
       "\n",
       "// Listen for the clearing of the current output cell\n",
       "var outputEl = gd.closest('.output');\n",
       "if (outputEl) {{\n",
       "    x.observe(outputEl, {childList: true});\n",
       "}}\n",
       "\n",
       "                        })                };                });            </script>        </div>"
      ]
     },
     "metadata": {},
     "output_type": "display_data"
    }
   ],
   "source": [
    "L = 10*(2*np.pi/3) #do 10 rotations of the ellipse\n",
    "t = np.arange(0, L , 0.1)\n",
    "x_t = np.sin(3*t) + 3*np.cos(3*t) + np.random.normal(loc=0.0, scale=0.6, size=len(t))\n",
    "y_t = 3*np.cos(3*t) - 9*np.sin(3*t) + np.random.normal(loc=0.0, scale=0.6, size=len(t))\n",
    "fig = px.scatter({'t': t, 'x(t)': x_t, 'y(t)':y_t},\n",
    "                 x='x(t)',\n",
    "                 y = 'y(t)',\n",
    "                 title = f'x versus y scatter plot with normal noise',\n",
    "                 width = 500,\n",
    "                 height = 700,\n",
    "                 range_x = [-6, 6],\n",
    "                 range_y = [-12, 12])\n",
    "fig.show() "
   ]
  },
  {
   "cell_type": "markdown",
   "id": "56f8316b-3105-4857-92c6-7f3bbbd47b4d",
   "metadata": {},
   "source": [
    "We now define four planes using their orthogonal basis vectors and project the data onto them."
   ]
  },
  {
   "cell_type": "code",
   "execution_count": 20,
   "id": "63a1187b-67ac-428e-a765-5fb8c335bdfd",
   "metadata": {},
   "outputs": [],
   "source": [
    "initial_points = np.vstack([x_t, np.zeros(len(x_t)), y_t])\n",
    "\n",
    "#2 vertical, 2 horizontal viewpoint modifications\n",
    "planes_rotation = [[[1, 5, 0],[0, 0, 1]], \n",
    "                      [[10, -1, 0],[0, 0, 1]],\n",
    "                      [[0, 5, 1],[1, 0, 0]], \n",
    "                      [[0, 2, 1],[1, 0, 0]]]\n",
    "\n",
    "proj_arrs_categ = {}\n",
    "for ix, plane in enumerate(planes_rotation):\n",
    "    #make unit vectors, this helps make sure the projections are each referring to the same 'unit' length\n",
    "    plane_arr = np.array(plane).T\n",
    "    normed_basis = plane_arr/np.linalg.norm(plane_arr, axis = 0)\n",
    "    #print(normed_basis.T @ normed_basis) #should be the identity\n",
    "    #project the data, only need the transpose\n",
    "    proj = normed_basis.T @ initial_points\n",
    "    proj_arrs_categ[ix] = proj"
   ]
  },
  {
   "cell_type": "markdown",
   "id": "2e322603-e3bd-4946-8d73-53cc4652e01b",
   "metadata": {},
   "source": [
    "Now, we plot the new data to inspect it. Note the above vectors correspond to rotating your viewpoint about the vertical axis if viewing the orginal data in 3 dimensions with 0 y-coordinates on the xyz-coordinate system."
   ]
  },
  {
   "cell_type": "code",
   "execution_count": 21,
   "id": "f0d2d025-a36c-46f1-a6e6-9a17d9d5de14",
   "metadata": {},
   "outputs": [
    {
     "data": {
      "application/vnd.plotly.v1+json": {
       "config": {
        "plotlyServerURL": "https://plot.ly"
       },
       "data": [
        {
         "hovertemplate": "x=%{x}<br>y=%{y}<extra></extra>",
         "legendgroup": "",
         "marker": {
          "color": "#636efa",
          "symbol": "circle"
         },
         "mode": "markers",
         "name": "",
         "orientation": "v",
         "showlegend": false,
         "type": "scatter",
         "x": [
          0.5339608304377245,
          0.5673874340451677,
          0.7272258916677293,
          0.6748138140683889,
          0.2826957445979771,
          0.09220085741586624,
          0.058160486965580724,
          -0.16766273628434133,
          -0.06444744649013985,
          -0.42335268513303276,
          -0.8276382260150831,
          -0.7389692741986927,
          -0.5578672226524635,
          -0.6511836267653272,
          -0.725618722672984,
          -0.4175977765452855,
          -0.16943314058120987,
          0.16490439570759613,
          0.21096131375563662,
          0.3181263720940929,
          0.6075417920506976,
          0.5970930100632614,
          0.5751831275249165,
          0.48638326258782083,
          0.5847584653652192,
          0.21438677009070758,
          0.2085804057861775,
          0.2933567287213784,
          -0.10753026217110041,
          -0.25934238195973264,
          -0.12779384954476486,
          -0.676964395475297,
          -0.5728146090754729,
          -0.6447242859379595,
          -0.66454922951335,
          -0.7091522014743458,
          -0.23532075755127557,
          -0.1467020273274026,
          -0.014667204829235189,
          0.27533478927829536,
          0.3745124549030191,
          0.5079136523042705,
          0.39577474132838153,
          0.7029644131109788,
          0.7012482756058638,
          0.45185923199832356,
          0.3691716546759842,
          0.13019513309261768,
          -0.041494165838611534,
          0.0388765079471972,
          -0.26128138811718093,
          -0.34576695927653645,
          -0.604964396611497,
          -0.6968847513514266,
          -0.6648864648047302,
          -0.36854992619461224,
          -0.1966983169236004,
          -0.38528706063626883,
          0.08990492912282606,
          0.1559454814699654,
          0.3844523549251348,
          0.3914270602243894,
          0.5968453666393349,
          0.718883189169595,
          0.7583011432350261,
          0.6271432891881515,
          0.41066335599150233,
          0.5536960375385179,
          0.33541735433714,
          -0.2090291054614339,
          -0.1481765898135114,
          -0.4653065602332401,
          -0.5481526885388615,
          -0.7015545508904525,
          -0.736024258532584,
          -0.7322484568780889,
          -0.570318986110222,
          -0.2616819065554512,
          -0.2846503310019271,
          -0.10383220116634168,
          0.11442457220958828,
          0.22748346120810325,
          0.42434970658942184,
          0.5431638920486379,
          0.6044176200444311,
          0.5988398358415556,
          0.4614081251748335,
          0.7550110776691633,
          0.38728563733560656,
          0.21851509561022012,
          0.1940231277130955,
          -0.20734603445989475,
          -0.43884896402884893,
          -0.5268119798281591,
          -0.44580413069326563,
          -0.7567809988459723,
          -0.6252365690917857,
          -0.5054535442051815,
          -0.5425010514933462,
          -0.3359459148447119,
          -0.22018401857603695,
          0.2422777091472317,
          0.15104387771203648,
          0.5441946825353315,
          0.4968779632979461,
          0.6576125871964023,
          0.6024625562620669,
          0.529107364718469,
          0.506177293261581,
          0.32157021483377246,
          0.3914521196971738,
          -0.05044491759526509,
          -0.17355755406730258,
          -0.3945087917899829,
          -0.5377969892779221,
          -0.40199453596688534,
          -0.47108920882803196,
          -0.5670448745050336,
          -0.6801012400004597,
          -0.22391090694426988,
          -0.36645317155866974,
          -0.1201095860389333,
          0.15347794073564683,
          0.2746310395678354,
          0.24633638103156458,
          0.37814188142783994,
          0.7442088639996345,
          0.5167883952862208,
          0.5258026694949135,
          0.47696861101309646,
          0.1680092319656562,
          0.10939806206365743,
          -0.11475373553025564,
          -0.15152788548953314,
          -0.3372376026906587,
          -0.39639157375704476,
          -0.6643512231418744,
          -0.6480734446187751,
          -0.6512618694894469,
          -0.42985294917648625,
          -0.2509905739682794,
          -0.254232131035299,
          -0.13098840934339298,
          0.08348739407470177,
          0.2692074113637761,
          0.5307020351191563,
          0.6428111674280884,
          0.6864535846567069,
          0.8293315755931175,
          0.5872264375442937,
          0.44226511552618464,
          0.22628580851133057,
          0.1472277619799934,
          0.02611163077607433,
          -0.17777499361110322,
          -0.5713725798972908,
          -0.5214911244815483,
          -0.6629026399926872,
          -0.7175135719417036,
          -0.6531236728484312,
          -0.6955525404170826,
          -0.41892804942478173,
          -0.3394175372702834,
          -0.12165010646765777,
          0.05248803639246112,
          0.2200137869417924,
          0.3001734460268282,
          0.5284645567797887,
          0.6959934329308616,
          0.7822462282838045,
          0.5977878079355935,
          0.476722676359371,
          0.18702361649306842,
          0.16706106494343992,
          -0.04790978443973196,
          -0.14299515749500788,
          -0.30527152291383713,
          -0.6154817580668155,
          -0.7025802812386756,
          -0.8762009447449549,
          -0.6634179713303278,
          -0.4039877568958085,
          -0.43946910202467454,
          -0.5563548354426274,
          -0.14515350136967073,
          0.30266390280148053,
          0.35175986814319526,
          0.5493698899221665,
          0.5323599077634655,
          0.5189883490411021,
          0.7488742517554396,
          0.6209212942486668,
          0.38030010167482475,
          0.44479354634222973,
          0.21301475170061535,
          -0.21267410511153917,
          -0.27620411923592436,
          -0.27608090791614004,
          -0.20754537278752314,
          -0.849726810100391,
          -0.6684036160284146,
          -0.638999074912915,
          -0.533298614302056,
          -0.24315622539533777,
          -0.10331150006477686,
          -0.011556901555211316,
          0.09469488829158455,
          0.36128349892416955,
          0.45154473468972095,
          0.5503239982598911
         ],
         "xaxis": "x",
         "y": [
          2.420888361214523,
          -0.014222461768659878,
          -1.7370385538087634,
          -5.019964654231918,
          -6.767580602218325,
          -8.875223459179386,
          -9.99044797866273,
          -9.25165589940593,
          -8.358421178466816,
          -6.005210366432118,
          -3.780404382208327,
          -1.8699782801890399,
          1.3736593396099654,
          4.075602456346239,
          7.233704177759752,
          8.333288475841115,
          9.225575109838381,
          10.128593534024853,
          9.413533684245856,
          7.099309324977103,
          5.902283887795636,
          2.5917435540574014,
          0.25188009518709864,
          -3.3838136827227983,
          -4.33155026972556,
          -7.001903000092949,
          -7.8810857112621795,
          -8.916709960264381,
          -9.018379346395859,
          -7.757597658687374,
          -6.092123552482643,
          -5.239373960882611,
          -1.574563545479135,
          0.9377377822171291,
          4.6540027166099955,
          6.593267434440074,
          7.764270902841421,
          8.813318549730262,
          9.26171658686788,
          9.664297609823398,
          6.963061316427268,
          4.520032555535635,
          2.81646508857979,
          -1.3079419644908385,
          -2.88772389160145,
          -4.58990727967436,
          -7.225568069316697,
          -8.586625340560213,
          -10.33574618156902,
          -8.065685249097788,
          -7.556976621934477,
          -6.133568140406946,
          -3.6762124234996056,
          -0.5282680354308072,
          2.124944081874018,
          4.255408870990997,
          6.9834336215605095,
          8.302498916125428,
          9.79920965583153,
          9.322701826389974,
          9.452846653372061,
          7.934800914627784,
          5.5179082424322665,
          3.441089644311775,
          0.34622153037759307,
          -2.5617771955236064,
          -5.659533030466074,
          -7.475420607695435,
          -9.036048790563314,
          -9.51976845475495,
          -9.411903140687649,
          -7.973062628058621,
          -7.072387300388523,
          -3.6593000356809737,
          -2.5241060605957784,
          1.4307845052666162,
          4.5347904512244215,
          5.699146973587544,
          8.463400088928289,
          9.396610424171891,
          9.46875294181824,
          9.162738287487114,
          7.186939766411405,
          4.817848995124529,
          2.662614685316402,
          -0.6844651774292212,
          -4.005587350411724,
          -6.277958560826648,
          -7.234528186506725,
          -8.285312226260686,
          -9.420142143839252,
          -9.895460416763466,
          -7.250237455309143,
          -6.764680797459976,
          -2.9860795353632135,
          -1.0760969117033086,
          1.3461887317199055,
          3.9876281317846525,
          6.476178437424016,
          8.369469366717842,
          9.42261457098506,
          10.279894886131187,
          7.883643412828152,
          7.443351929329964,
          5.638938303351312,
          2.209962361791431,
          -1.0160389764355324,
          -4.537306088557049,
          -6.731534229047097,
          -7.184277181886627,
          -9.21731198474199,
          -8.875445477180937,
          -8.326111695392889,
          -7.263643104595711,
          -5.068064358064649,
          -4.0093096424217025,
          -0.14794420335236735,
          2.178550834679778,
          3.986926770013829,
          6.518635606616916,
          8.579646901278768,
          9.804269915392279,
          9.080054011055802,
          8.370876882837386,
          6.996218071209098,
          4.885641504054922,
          1.296328893376953,
          -1.1972479800033533,
          -5.324097821321195,
          -5.8433818857753845,
          -8.772575590600736,
          -8.828510517015097,
          -9.669011662380004,
          -9.087953709843786,
          -7.616932439849727,
          -7.292450353086581,
          -3.4230049345850637,
          -0.8770693408345704,
          2.4872882659993785,
          5.245313999368048,
          7.572867766793543,
          8.846282734545637,
          9.966233202365505,
          10.270661575959528,
          7.1862165794284225,
          7.310002187038175,
          3.4287985138497072,
          2.6360738480210912,
          -0.3118964636402416,
          -3.371032194854278,
          -7.1600632894122835,
          -7.756532330680132,
          -9.176996763929079,
          -9.744857342549235,
          -9.120206627749335,
          -7.424350060578441,
          -5.98984385594184,
          -1.9531768105030833,
          0.12229766824299337,
          3.273638569028244,
          4.832965008079569,
          6.829145902762686,
          9.328942031792538,
          8.794326549620191,
          9.794994629510024,
          8.46480203229924,
          6.901180831359792,
          4.184417255327231,
          1.7134516015926287,
          0.16743144741752158,
          -2.9383661954310787,
          -5.730366235798781,
          -8.7808552149251,
          -8.103862652136698,
          -9.156803478417233,
          -9.248655158194781,
          -7.088479126838041,
          -5.73185361782033,
          -2.6702256037063576,
          -0.2685584203320939,
          2.053965333124056,
          3.8947769315556897,
          7.516311100538023,
          8.467726762499392,
          9.404768695656413,
          9.699331485056096,
          8.124960242808777,
          6.610121284082165,
          4.275637101022532,
          2.617522783115808,
          -1.8302678562088612,
          -4.009693954060878,
          -5.75208234681833,
          -8.135598279996069,
          -8.614407156937933,
          -9.953956643162897,
          -7.844086683476778,
          -8.751532849343594,
          -4.760015727118619,
          -3.0531832719789636,
          -0.6425472486322708,
          1.8447981651706002,
          5.3679899023601045,
          7.4595231393598285,
          8.726489708101175,
          10.598503547801322,
          9.637197929262255,
          9.239194977067351,
          7.256817019002339,
          4.237287323663493
         ],
         "yaxis": "y"
        }
       ],
       "layout": {
        "height": 700,
        "legend": {
         "tracegroupgap": 0
        },
        "template": {
         "data": {
          "bar": [
           {
            "error_x": {
             "color": "#2a3f5f"
            },
            "error_y": {
             "color": "#2a3f5f"
            },
            "marker": {
             "line": {
              "color": "#E5ECF6",
              "width": 0.5
             },
             "pattern": {
              "fillmode": "overlay",
              "size": 10,
              "solidity": 0.2
             }
            },
            "type": "bar"
           }
          ],
          "barpolar": [
           {
            "marker": {
             "line": {
              "color": "#E5ECF6",
              "width": 0.5
             },
             "pattern": {
              "fillmode": "overlay",
              "size": 10,
              "solidity": 0.2
             }
            },
            "type": "barpolar"
           }
          ],
          "carpet": [
           {
            "aaxis": {
             "endlinecolor": "#2a3f5f",
             "gridcolor": "white",
             "linecolor": "white",
             "minorgridcolor": "white",
             "startlinecolor": "#2a3f5f"
            },
            "baxis": {
             "endlinecolor": "#2a3f5f",
             "gridcolor": "white",
             "linecolor": "white",
             "minorgridcolor": "white",
             "startlinecolor": "#2a3f5f"
            },
            "type": "carpet"
           }
          ],
          "choropleth": [
           {
            "colorbar": {
             "outlinewidth": 0,
             "ticks": ""
            },
            "type": "choropleth"
           }
          ],
          "contour": [
           {
            "colorbar": {
             "outlinewidth": 0,
             "ticks": ""
            },
            "colorscale": [
             [
              0,
              "#0d0887"
             ],
             [
              0.1111111111111111,
              "#46039f"
             ],
             [
              0.2222222222222222,
              "#7201a8"
             ],
             [
              0.3333333333333333,
              "#9c179e"
             ],
             [
              0.4444444444444444,
              "#bd3786"
             ],
             [
              0.5555555555555556,
              "#d8576b"
             ],
             [
              0.6666666666666666,
              "#ed7953"
             ],
             [
              0.7777777777777778,
              "#fb9f3a"
             ],
             [
              0.8888888888888888,
              "#fdca26"
             ],
             [
              1,
              "#f0f921"
             ]
            ],
            "type": "contour"
           }
          ],
          "contourcarpet": [
           {
            "colorbar": {
             "outlinewidth": 0,
             "ticks": ""
            },
            "type": "contourcarpet"
           }
          ],
          "heatmap": [
           {
            "colorbar": {
             "outlinewidth": 0,
             "ticks": ""
            },
            "colorscale": [
             [
              0,
              "#0d0887"
             ],
             [
              0.1111111111111111,
              "#46039f"
             ],
             [
              0.2222222222222222,
              "#7201a8"
             ],
             [
              0.3333333333333333,
              "#9c179e"
             ],
             [
              0.4444444444444444,
              "#bd3786"
             ],
             [
              0.5555555555555556,
              "#d8576b"
             ],
             [
              0.6666666666666666,
              "#ed7953"
             ],
             [
              0.7777777777777778,
              "#fb9f3a"
             ],
             [
              0.8888888888888888,
              "#fdca26"
             ],
             [
              1,
              "#f0f921"
             ]
            ],
            "type": "heatmap"
           }
          ],
          "heatmapgl": [
           {
            "colorbar": {
             "outlinewidth": 0,
             "ticks": ""
            },
            "colorscale": [
             [
              0,
              "#0d0887"
             ],
             [
              0.1111111111111111,
              "#46039f"
             ],
             [
              0.2222222222222222,
              "#7201a8"
             ],
             [
              0.3333333333333333,
              "#9c179e"
             ],
             [
              0.4444444444444444,
              "#bd3786"
             ],
             [
              0.5555555555555556,
              "#d8576b"
             ],
             [
              0.6666666666666666,
              "#ed7953"
             ],
             [
              0.7777777777777778,
              "#fb9f3a"
             ],
             [
              0.8888888888888888,
              "#fdca26"
             ],
             [
              1,
              "#f0f921"
             ]
            ],
            "type": "heatmapgl"
           }
          ],
          "histogram": [
           {
            "marker": {
             "pattern": {
              "fillmode": "overlay",
              "size": 10,
              "solidity": 0.2
             }
            },
            "type": "histogram"
           }
          ],
          "histogram2d": [
           {
            "colorbar": {
             "outlinewidth": 0,
             "ticks": ""
            },
            "colorscale": [
             [
              0,
              "#0d0887"
             ],
             [
              0.1111111111111111,
              "#46039f"
             ],
             [
              0.2222222222222222,
              "#7201a8"
             ],
             [
              0.3333333333333333,
              "#9c179e"
             ],
             [
              0.4444444444444444,
              "#bd3786"
             ],
             [
              0.5555555555555556,
              "#d8576b"
             ],
             [
              0.6666666666666666,
              "#ed7953"
             ],
             [
              0.7777777777777778,
              "#fb9f3a"
             ],
             [
              0.8888888888888888,
              "#fdca26"
             ],
             [
              1,
              "#f0f921"
             ]
            ],
            "type": "histogram2d"
           }
          ],
          "histogram2dcontour": [
           {
            "colorbar": {
             "outlinewidth": 0,
             "ticks": ""
            },
            "colorscale": [
             [
              0,
              "#0d0887"
             ],
             [
              0.1111111111111111,
              "#46039f"
             ],
             [
              0.2222222222222222,
              "#7201a8"
             ],
             [
              0.3333333333333333,
              "#9c179e"
             ],
             [
              0.4444444444444444,
              "#bd3786"
             ],
             [
              0.5555555555555556,
              "#d8576b"
             ],
             [
              0.6666666666666666,
              "#ed7953"
             ],
             [
              0.7777777777777778,
              "#fb9f3a"
             ],
             [
              0.8888888888888888,
              "#fdca26"
             ],
             [
              1,
              "#f0f921"
             ]
            ],
            "type": "histogram2dcontour"
           }
          ],
          "mesh3d": [
           {
            "colorbar": {
             "outlinewidth": 0,
             "ticks": ""
            },
            "type": "mesh3d"
           }
          ],
          "parcoords": [
           {
            "line": {
             "colorbar": {
              "outlinewidth": 0,
              "ticks": ""
             }
            },
            "type": "parcoords"
           }
          ],
          "pie": [
           {
            "automargin": true,
            "type": "pie"
           }
          ],
          "scatter": [
           {
            "fillpattern": {
             "fillmode": "overlay",
             "size": 10,
             "solidity": 0.2
            },
            "type": "scatter"
           }
          ],
          "scatter3d": [
           {
            "line": {
             "colorbar": {
              "outlinewidth": 0,
              "ticks": ""
             }
            },
            "marker": {
             "colorbar": {
              "outlinewidth": 0,
              "ticks": ""
             }
            },
            "type": "scatter3d"
           }
          ],
          "scattercarpet": [
           {
            "marker": {
             "colorbar": {
              "outlinewidth": 0,
              "ticks": ""
             }
            },
            "type": "scattercarpet"
           }
          ],
          "scattergeo": [
           {
            "marker": {
             "colorbar": {
              "outlinewidth": 0,
              "ticks": ""
             }
            },
            "type": "scattergeo"
           }
          ],
          "scattergl": [
           {
            "marker": {
             "colorbar": {
              "outlinewidth": 0,
              "ticks": ""
             }
            },
            "type": "scattergl"
           }
          ],
          "scattermapbox": [
           {
            "marker": {
             "colorbar": {
              "outlinewidth": 0,
              "ticks": ""
             }
            },
            "type": "scattermapbox"
           }
          ],
          "scatterpolar": [
           {
            "marker": {
             "colorbar": {
              "outlinewidth": 0,
              "ticks": ""
             }
            },
            "type": "scatterpolar"
           }
          ],
          "scatterpolargl": [
           {
            "marker": {
             "colorbar": {
              "outlinewidth": 0,
              "ticks": ""
             }
            },
            "type": "scatterpolargl"
           }
          ],
          "scatterternary": [
           {
            "marker": {
             "colorbar": {
              "outlinewidth": 0,
              "ticks": ""
             }
            },
            "type": "scatterternary"
           }
          ],
          "surface": [
           {
            "colorbar": {
             "outlinewidth": 0,
             "ticks": ""
            },
            "colorscale": [
             [
              0,
              "#0d0887"
             ],
             [
              0.1111111111111111,
              "#46039f"
             ],
             [
              0.2222222222222222,
              "#7201a8"
             ],
             [
              0.3333333333333333,
              "#9c179e"
             ],
             [
              0.4444444444444444,
              "#bd3786"
             ],
             [
              0.5555555555555556,
              "#d8576b"
             ],
             [
              0.6666666666666666,
              "#ed7953"
             ],
             [
              0.7777777777777778,
              "#fb9f3a"
             ],
             [
              0.8888888888888888,
              "#fdca26"
             ],
             [
              1,
              "#f0f921"
             ]
            ],
            "type": "surface"
           }
          ],
          "table": [
           {
            "cells": {
             "fill": {
              "color": "#EBF0F8"
             },
             "line": {
              "color": "white"
             }
            },
            "header": {
             "fill": {
              "color": "#C8D4E3"
             },
             "line": {
              "color": "white"
             }
            },
            "type": "table"
           }
          ]
         },
         "layout": {
          "annotationdefaults": {
           "arrowcolor": "#2a3f5f",
           "arrowhead": 0,
           "arrowwidth": 1
          },
          "autotypenumbers": "strict",
          "coloraxis": {
           "colorbar": {
            "outlinewidth": 0,
            "ticks": ""
           }
          },
          "colorscale": {
           "diverging": [
            [
             0,
             "#8e0152"
            ],
            [
             0.1,
             "#c51b7d"
            ],
            [
             0.2,
             "#de77ae"
            ],
            [
             0.3,
             "#f1b6da"
            ],
            [
             0.4,
             "#fde0ef"
            ],
            [
             0.5,
             "#f7f7f7"
            ],
            [
             0.6,
             "#e6f5d0"
            ],
            [
             0.7,
             "#b8e186"
            ],
            [
             0.8,
             "#7fbc41"
            ],
            [
             0.9,
             "#4d9221"
            ],
            [
             1,
             "#276419"
            ]
           ],
           "sequential": [
            [
             0,
             "#0d0887"
            ],
            [
             0.1111111111111111,
             "#46039f"
            ],
            [
             0.2222222222222222,
             "#7201a8"
            ],
            [
             0.3333333333333333,
             "#9c179e"
            ],
            [
             0.4444444444444444,
             "#bd3786"
            ],
            [
             0.5555555555555556,
             "#d8576b"
            ],
            [
             0.6666666666666666,
             "#ed7953"
            ],
            [
             0.7777777777777778,
             "#fb9f3a"
            ],
            [
             0.8888888888888888,
             "#fdca26"
            ],
            [
             1,
             "#f0f921"
            ]
           ],
           "sequentialminus": [
            [
             0,
             "#0d0887"
            ],
            [
             0.1111111111111111,
             "#46039f"
            ],
            [
             0.2222222222222222,
             "#7201a8"
            ],
            [
             0.3333333333333333,
             "#9c179e"
            ],
            [
             0.4444444444444444,
             "#bd3786"
            ],
            [
             0.5555555555555556,
             "#d8576b"
            ],
            [
             0.6666666666666666,
             "#ed7953"
            ],
            [
             0.7777777777777778,
             "#fb9f3a"
            ],
            [
             0.8888888888888888,
             "#fdca26"
            ],
            [
             1,
             "#f0f921"
            ]
           ]
          },
          "colorway": [
           "#636efa",
           "#EF553B",
           "#00cc96",
           "#ab63fa",
           "#FFA15A",
           "#19d3f3",
           "#FF6692",
           "#B6E880",
           "#FF97FF",
           "#FECB52"
          ],
          "font": {
           "color": "#2a3f5f"
          },
          "geo": {
           "bgcolor": "white",
           "lakecolor": "white",
           "landcolor": "#E5ECF6",
           "showlakes": true,
           "showland": true,
           "subunitcolor": "white"
          },
          "hoverlabel": {
           "align": "left"
          },
          "hovermode": "closest",
          "mapbox": {
           "style": "light"
          },
          "paper_bgcolor": "white",
          "plot_bgcolor": "#E5ECF6",
          "polar": {
           "angularaxis": {
            "gridcolor": "white",
            "linecolor": "white",
            "ticks": ""
           },
           "bgcolor": "#E5ECF6",
           "radialaxis": {
            "gridcolor": "white",
            "linecolor": "white",
            "ticks": ""
           }
          },
          "scene": {
           "xaxis": {
            "backgroundcolor": "#E5ECF6",
            "gridcolor": "white",
            "gridwidth": 2,
            "linecolor": "white",
            "showbackground": true,
            "ticks": "",
            "zerolinecolor": "white"
           },
           "yaxis": {
            "backgroundcolor": "#E5ECF6",
            "gridcolor": "white",
            "gridwidth": 2,
            "linecolor": "white",
            "showbackground": true,
            "ticks": "",
            "zerolinecolor": "white"
           },
           "zaxis": {
            "backgroundcolor": "#E5ECF6",
            "gridcolor": "white",
            "gridwidth": 2,
            "linecolor": "white",
            "showbackground": true,
            "ticks": "",
            "zerolinecolor": "white"
           }
          },
          "shapedefaults": {
           "line": {
            "color": "#2a3f5f"
           }
          },
          "ternary": {
           "aaxis": {
            "gridcolor": "white",
            "linecolor": "white",
            "ticks": ""
           },
           "baxis": {
            "gridcolor": "white",
            "linecolor": "white",
            "ticks": ""
           },
           "bgcolor": "#E5ECF6",
           "caxis": {
            "gridcolor": "white",
            "linecolor": "white",
            "ticks": ""
           }
          },
          "title": {
           "x": 0.05
          },
          "xaxis": {
           "automargin": true,
           "gridcolor": "white",
           "linecolor": "white",
           "ticks": "",
           "title": {
            "standoff": 15
           },
           "zerolinecolor": "white",
           "zerolinewidth": 2
          },
          "yaxis": {
           "automargin": true,
           "gridcolor": "white",
           "linecolor": "white",
           "ticks": "",
           "title": {
            "standoff": 15
           },
           "zerolinecolor": "white",
           "zerolinewidth": 2
          }
         }
        },
        "title": {
         "text": "Data projected onto plane 1"
        },
        "width": 500,
        "xaxis": {
         "anchor": "y",
         "domain": [
          0,
          1
         ],
         "range": [
          -12,
          12
         ],
         "title": {
          "text": "x"
         },
         "type": "linear"
        },
        "yaxis": {
         "anchor": "x",
         "domain": [
          0,
          1
         ],
         "range": [
          -12,
          12
         ],
         "title": {
          "text": "y"
         },
         "type": "linear"
        }
       }
      },
      "text/html": [
       "<div>                            <div id=\"a4a6633a-3311-4a2a-8f39-eef2c4362294\" class=\"plotly-graph-div\" style=\"height:700px; width:500px;\"></div>            <script type=\"text/javascript\">                require([\"plotly\"], function(Plotly) {                    window.PLOTLYENV=window.PLOTLYENV || {};                                    if (document.getElementById(\"a4a6633a-3311-4a2a-8f39-eef2c4362294\")) {                    Plotly.newPlot(                        \"a4a6633a-3311-4a2a-8f39-eef2c4362294\",                        [{\"hovertemplate\":\"x=%{x}\\u003cbr\\u003ey=%{y}\\u003cextra\\u003e\\u003c\\u002fextra\\u003e\",\"legendgroup\":\"\",\"marker\":{\"color\":\"#636efa\",\"symbol\":\"circle\"},\"mode\":\"markers\",\"name\":\"\",\"orientation\":\"v\",\"showlegend\":false,\"x\":[0.5339608304377245,0.5673874340451677,0.7272258916677293,0.6748138140683889,0.2826957445979771,0.09220085741586624,0.058160486965580724,-0.16766273628434133,-0.06444744649013985,-0.42335268513303276,-0.8276382260150831,-0.7389692741986927,-0.5578672226524635,-0.6511836267653272,-0.725618722672984,-0.4175977765452855,-0.16943314058120987,0.16490439570759613,0.21096131375563662,0.3181263720940929,0.6075417920506976,0.5970930100632614,0.5751831275249165,0.48638326258782083,0.5847584653652192,0.21438677009070758,0.2085804057861775,0.2933567287213784,-0.10753026217110041,-0.25934238195973264,-0.12779384954476486,-0.676964395475297,-0.5728146090754729,-0.6447242859379595,-0.66454922951335,-0.7091522014743458,-0.23532075755127557,-0.1467020273274026,-0.014667204829235189,0.27533478927829536,0.3745124549030191,0.5079136523042705,0.39577474132838153,0.7029644131109788,0.7012482756058638,0.45185923199832356,0.3691716546759842,0.13019513309261768,-0.041494165838611534,0.0388765079471972,-0.26128138811718093,-0.34576695927653645,-0.604964396611497,-0.6968847513514266,-0.6648864648047302,-0.36854992619461224,-0.1966983169236004,-0.38528706063626883,0.08990492912282606,0.1559454814699654,0.3844523549251348,0.3914270602243894,0.5968453666393349,0.718883189169595,0.7583011432350261,0.6271432891881515,0.41066335599150233,0.5536960375385179,0.33541735433714,-0.2090291054614339,-0.1481765898135114,-0.4653065602332401,-0.5481526885388615,-0.7015545508904525,-0.736024258532584,-0.7322484568780889,-0.570318986110222,-0.2616819065554512,-0.2846503310019271,-0.10383220116634168,0.11442457220958828,0.22748346120810325,0.42434970658942184,0.5431638920486379,0.6044176200444311,0.5988398358415556,0.4614081251748335,0.7550110776691633,0.38728563733560656,0.21851509561022012,0.1940231277130955,-0.20734603445989475,-0.43884896402884893,-0.5268119798281591,-0.44580413069326563,-0.7567809988459723,-0.6252365690917857,-0.5054535442051815,-0.5425010514933462,-0.3359459148447119,-0.22018401857603695,0.2422777091472317,0.15104387771203648,0.5441946825353315,0.4968779632979461,0.6576125871964023,0.6024625562620669,0.529107364718469,0.506177293261581,0.32157021483377246,0.3914521196971738,-0.05044491759526509,-0.17355755406730258,-0.3945087917899829,-0.5377969892779221,-0.40199453596688534,-0.47108920882803196,-0.5670448745050336,-0.6801012400004597,-0.22391090694426988,-0.36645317155866974,-0.1201095860389333,0.15347794073564683,0.2746310395678354,0.24633638103156458,0.37814188142783994,0.7442088639996345,0.5167883952862208,0.5258026694949135,0.47696861101309646,0.1680092319656562,0.10939806206365743,-0.11475373553025564,-0.15152788548953314,-0.3372376026906587,-0.39639157375704476,-0.6643512231418744,-0.6480734446187751,-0.6512618694894469,-0.42985294917648625,-0.2509905739682794,-0.254232131035299,-0.13098840934339298,0.08348739407470177,0.2692074113637761,0.5307020351191563,0.6428111674280884,0.6864535846567069,0.8293315755931175,0.5872264375442937,0.44226511552618464,0.22628580851133057,0.1472277619799934,0.02611163077607433,-0.17777499361110322,-0.5713725798972908,-0.5214911244815483,-0.6629026399926872,-0.7175135719417036,-0.6531236728484312,-0.6955525404170826,-0.41892804942478173,-0.3394175372702834,-0.12165010646765777,0.05248803639246112,0.2200137869417924,0.3001734460268282,0.5284645567797887,0.6959934329308616,0.7822462282838045,0.5977878079355935,0.476722676359371,0.18702361649306842,0.16706106494343992,-0.04790978443973196,-0.14299515749500788,-0.30527152291383713,-0.6154817580668155,-0.7025802812386756,-0.8762009447449549,-0.6634179713303278,-0.4039877568958085,-0.43946910202467454,-0.5563548354426274,-0.14515350136967073,0.30266390280148053,0.35175986814319526,0.5493698899221665,0.5323599077634655,0.5189883490411021,0.7488742517554396,0.6209212942486668,0.38030010167482475,0.44479354634222973,0.21301475170061535,-0.21267410511153917,-0.27620411923592436,-0.27608090791614004,-0.20754537278752314,-0.849726810100391,-0.6684036160284146,-0.638999074912915,-0.533298614302056,-0.24315622539533777,-0.10331150006477686,-0.011556901555211316,0.09469488829158455,0.36128349892416955,0.45154473468972095,0.5503239982598911],\"xaxis\":\"x\",\"y\":[2.420888361214523,-0.014222461768659878,-1.7370385538087634,-5.019964654231918,-6.767580602218325,-8.875223459179386,-9.99044797866273,-9.25165589940593,-8.358421178466816,-6.005210366432118,-3.780404382208327,-1.8699782801890399,1.3736593396099654,4.075602456346239,7.233704177759752,8.333288475841115,9.225575109838381,10.128593534024853,9.413533684245856,7.099309324977103,5.902283887795636,2.5917435540574014,0.25188009518709864,-3.3838136827227983,-4.33155026972556,-7.001903000092949,-7.8810857112621795,-8.916709960264381,-9.018379346395859,-7.757597658687374,-6.092123552482643,-5.239373960882611,-1.574563545479135,0.9377377822171291,4.6540027166099955,6.593267434440074,7.764270902841421,8.813318549730262,9.26171658686788,9.664297609823398,6.963061316427268,4.520032555535635,2.81646508857979,-1.3079419644908385,-2.88772389160145,-4.58990727967436,-7.225568069316697,-8.586625340560213,-10.33574618156902,-8.065685249097788,-7.556976621934477,-6.133568140406946,-3.6762124234996056,-0.5282680354308072,2.124944081874018,4.255408870990997,6.9834336215605095,8.302498916125428,9.79920965583153,9.322701826389974,9.452846653372061,7.934800914627784,5.5179082424322665,3.441089644311775,0.34622153037759307,-2.5617771955236064,-5.659533030466074,-7.475420607695435,-9.036048790563314,-9.51976845475495,-9.411903140687649,-7.973062628058621,-7.072387300388523,-3.6593000356809737,-2.5241060605957784,1.4307845052666162,4.5347904512244215,5.699146973587544,8.463400088928289,9.396610424171891,9.46875294181824,9.162738287487114,7.186939766411405,4.817848995124529,2.662614685316402,-0.6844651774292212,-4.005587350411724,-6.277958560826648,-7.234528186506725,-8.285312226260686,-9.420142143839252,-9.895460416763466,-7.250237455309143,-6.764680797459976,-2.9860795353632135,-1.0760969117033086,1.3461887317199055,3.9876281317846525,6.476178437424016,8.369469366717842,9.42261457098506,10.279894886131187,7.883643412828152,7.443351929329964,5.638938303351312,2.209962361791431,-1.0160389764355324,-4.537306088557049,-6.731534229047097,-7.184277181886627,-9.21731198474199,-8.875445477180937,-8.326111695392889,-7.263643104595711,-5.068064358064649,-4.0093096424217025,-0.14794420335236735,2.178550834679778,3.986926770013829,6.518635606616916,8.579646901278768,9.804269915392279,9.080054011055802,8.370876882837386,6.996218071209098,4.885641504054922,1.296328893376953,-1.1972479800033533,-5.324097821321195,-5.8433818857753845,-8.772575590600736,-8.828510517015097,-9.669011662380004,-9.087953709843786,-7.616932439849727,-7.292450353086581,-3.4230049345850637,-0.8770693408345704,2.4872882659993785,5.245313999368048,7.572867766793543,8.846282734545637,9.966233202365505,10.270661575959528,7.1862165794284225,7.310002187038175,3.4287985138497072,2.6360738480210912,-0.3118964636402416,-3.371032194854278,-7.1600632894122835,-7.756532330680132,-9.176996763929079,-9.744857342549235,-9.120206627749335,-7.424350060578441,-5.98984385594184,-1.9531768105030833,0.12229766824299337,3.273638569028244,4.832965008079569,6.829145902762686,9.328942031792538,8.794326549620191,9.794994629510024,8.46480203229924,6.901180831359792,4.184417255327231,1.7134516015926287,0.16743144741752158,-2.9383661954310787,-5.730366235798781,-8.7808552149251,-8.103862652136698,-9.156803478417233,-9.248655158194781,-7.088479126838041,-5.73185361782033,-2.6702256037063576,-0.2685584203320939,2.053965333124056,3.8947769315556897,7.516311100538023,8.467726762499392,9.404768695656413,9.699331485056096,8.124960242808777,6.610121284082165,4.275637101022532,2.617522783115808,-1.8302678562088612,-4.009693954060878,-5.75208234681833,-8.135598279996069,-8.614407156937933,-9.953956643162897,-7.844086683476778,-8.751532849343594,-4.760015727118619,-3.0531832719789636,-0.6425472486322708,1.8447981651706002,5.3679899023601045,7.4595231393598285,8.726489708101175,10.598503547801322,9.637197929262255,9.239194977067351,7.256817019002339,4.237287323663493],\"yaxis\":\"y\",\"type\":\"scatter\"}],                        {\"template\":{\"data\":{\"histogram2dcontour\":[{\"type\":\"histogram2dcontour\",\"colorbar\":{\"outlinewidth\":0,\"ticks\":\"\"},\"colorscale\":[[0.0,\"#0d0887\"],[0.1111111111111111,\"#46039f\"],[0.2222222222222222,\"#7201a8\"],[0.3333333333333333,\"#9c179e\"],[0.4444444444444444,\"#bd3786\"],[0.5555555555555556,\"#d8576b\"],[0.6666666666666666,\"#ed7953\"],[0.7777777777777778,\"#fb9f3a\"],[0.8888888888888888,\"#fdca26\"],[1.0,\"#f0f921\"]]}],\"choropleth\":[{\"type\":\"choropleth\",\"colorbar\":{\"outlinewidth\":0,\"ticks\":\"\"}}],\"histogram2d\":[{\"type\":\"histogram2d\",\"colorbar\":{\"outlinewidth\":0,\"ticks\":\"\"},\"colorscale\":[[0.0,\"#0d0887\"],[0.1111111111111111,\"#46039f\"],[0.2222222222222222,\"#7201a8\"],[0.3333333333333333,\"#9c179e\"],[0.4444444444444444,\"#bd3786\"],[0.5555555555555556,\"#d8576b\"],[0.6666666666666666,\"#ed7953\"],[0.7777777777777778,\"#fb9f3a\"],[0.8888888888888888,\"#fdca26\"],[1.0,\"#f0f921\"]]}],\"heatmap\":[{\"type\":\"heatmap\",\"colorbar\":{\"outlinewidth\":0,\"ticks\":\"\"},\"colorscale\":[[0.0,\"#0d0887\"],[0.1111111111111111,\"#46039f\"],[0.2222222222222222,\"#7201a8\"],[0.3333333333333333,\"#9c179e\"],[0.4444444444444444,\"#bd3786\"],[0.5555555555555556,\"#d8576b\"],[0.6666666666666666,\"#ed7953\"],[0.7777777777777778,\"#fb9f3a\"],[0.8888888888888888,\"#fdca26\"],[1.0,\"#f0f921\"]]}],\"heatmapgl\":[{\"type\":\"heatmapgl\",\"colorbar\":{\"outlinewidth\":0,\"ticks\":\"\"},\"colorscale\":[[0.0,\"#0d0887\"],[0.1111111111111111,\"#46039f\"],[0.2222222222222222,\"#7201a8\"],[0.3333333333333333,\"#9c179e\"],[0.4444444444444444,\"#bd3786\"],[0.5555555555555556,\"#d8576b\"],[0.6666666666666666,\"#ed7953\"],[0.7777777777777778,\"#fb9f3a\"],[0.8888888888888888,\"#fdca26\"],[1.0,\"#f0f921\"]]}],\"contourcarpet\":[{\"type\":\"contourcarpet\",\"colorbar\":{\"outlinewidth\":0,\"ticks\":\"\"}}],\"contour\":[{\"type\":\"contour\",\"colorbar\":{\"outlinewidth\":0,\"ticks\":\"\"},\"colorscale\":[[0.0,\"#0d0887\"],[0.1111111111111111,\"#46039f\"],[0.2222222222222222,\"#7201a8\"],[0.3333333333333333,\"#9c179e\"],[0.4444444444444444,\"#bd3786\"],[0.5555555555555556,\"#d8576b\"],[0.6666666666666666,\"#ed7953\"],[0.7777777777777778,\"#fb9f3a\"],[0.8888888888888888,\"#fdca26\"],[1.0,\"#f0f921\"]]}],\"surface\":[{\"type\":\"surface\",\"colorbar\":{\"outlinewidth\":0,\"ticks\":\"\"},\"colorscale\":[[0.0,\"#0d0887\"],[0.1111111111111111,\"#46039f\"],[0.2222222222222222,\"#7201a8\"],[0.3333333333333333,\"#9c179e\"],[0.4444444444444444,\"#bd3786\"],[0.5555555555555556,\"#d8576b\"],[0.6666666666666666,\"#ed7953\"],[0.7777777777777778,\"#fb9f3a\"],[0.8888888888888888,\"#fdca26\"],[1.0,\"#f0f921\"]]}],\"mesh3d\":[{\"type\":\"mesh3d\",\"colorbar\":{\"outlinewidth\":0,\"ticks\":\"\"}}],\"scatter\":[{\"fillpattern\":{\"fillmode\":\"overlay\",\"size\":10,\"solidity\":0.2},\"type\":\"scatter\"}],\"parcoords\":[{\"type\":\"parcoords\",\"line\":{\"colorbar\":{\"outlinewidth\":0,\"ticks\":\"\"}}}],\"scatterpolargl\":[{\"type\":\"scatterpolargl\",\"marker\":{\"colorbar\":{\"outlinewidth\":0,\"ticks\":\"\"}}}],\"bar\":[{\"error_x\":{\"color\":\"#2a3f5f\"},\"error_y\":{\"color\":\"#2a3f5f\"},\"marker\":{\"line\":{\"color\":\"#E5ECF6\",\"width\":0.5},\"pattern\":{\"fillmode\":\"overlay\",\"size\":10,\"solidity\":0.2}},\"type\":\"bar\"}],\"scattergeo\":[{\"type\":\"scattergeo\",\"marker\":{\"colorbar\":{\"outlinewidth\":0,\"ticks\":\"\"}}}],\"scatterpolar\":[{\"type\":\"scatterpolar\",\"marker\":{\"colorbar\":{\"outlinewidth\":0,\"ticks\":\"\"}}}],\"histogram\":[{\"marker\":{\"pattern\":{\"fillmode\":\"overlay\",\"size\":10,\"solidity\":0.2}},\"type\":\"histogram\"}],\"scattergl\":[{\"type\":\"scattergl\",\"marker\":{\"colorbar\":{\"outlinewidth\":0,\"ticks\":\"\"}}}],\"scatter3d\":[{\"type\":\"scatter3d\",\"line\":{\"colorbar\":{\"outlinewidth\":0,\"ticks\":\"\"}},\"marker\":{\"colorbar\":{\"outlinewidth\":0,\"ticks\":\"\"}}}],\"scattermapbox\":[{\"type\":\"scattermapbox\",\"marker\":{\"colorbar\":{\"outlinewidth\":0,\"ticks\":\"\"}}}],\"scatterternary\":[{\"type\":\"scatterternary\",\"marker\":{\"colorbar\":{\"outlinewidth\":0,\"ticks\":\"\"}}}],\"scattercarpet\":[{\"type\":\"scattercarpet\",\"marker\":{\"colorbar\":{\"outlinewidth\":0,\"ticks\":\"\"}}}],\"carpet\":[{\"aaxis\":{\"endlinecolor\":\"#2a3f5f\",\"gridcolor\":\"white\",\"linecolor\":\"white\",\"minorgridcolor\":\"white\",\"startlinecolor\":\"#2a3f5f\"},\"baxis\":{\"endlinecolor\":\"#2a3f5f\",\"gridcolor\":\"white\",\"linecolor\":\"white\",\"minorgridcolor\":\"white\",\"startlinecolor\":\"#2a3f5f\"},\"type\":\"carpet\"}],\"table\":[{\"cells\":{\"fill\":{\"color\":\"#EBF0F8\"},\"line\":{\"color\":\"white\"}},\"header\":{\"fill\":{\"color\":\"#C8D4E3\"},\"line\":{\"color\":\"white\"}},\"type\":\"table\"}],\"barpolar\":[{\"marker\":{\"line\":{\"color\":\"#E5ECF6\",\"width\":0.5},\"pattern\":{\"fillmode\":\"overlay\",\"size\":10,\"solidity\":0.2}},\"type\":\"barpolar\"}],\"pie\":[{\"automargin\":true,\"type\":\"pie\"}]},\"layout\":{\"autotypenumbers\":\"strict\",\"colorway\":[\"#636efa\",\"#EF553B\",\"#00cc96\",\"#ab63fa\",\"#FFA15A\",\"#19d3f3\",\"#FF6692\",\"#B6E880\",\"#FF97FF\",\"#FECB52\"],\"font\":{\"color\":\"#2a3f5f\"},\"hovermode\":\"closest\",\"hoverlabel\":{\"align\":\"left\"},\"paper_bgcolor\":\"white\",\"plot_bgcolor\":\"#E5ECF6\",\"polar\":{\"bgcolor\":\"#E5ECF6\",\"angularaxis\":{\"gridcolor\":\"white\",\"linecolor\":\"white\",\"ticks\":\"\"},\"radialaxis\":{\"gridcolor\":\"white\",\"linecolor\":\"white\",\"ticks\":\"\"}},\"ternary\":{\"bgcolor\":\"#E5ECF6\",\"aaxis\":{\"gridcolor\":\"white\",\"linecolor\":\"white\",\"ticks\":\"\"},\"baxis\":{\"gridcolor\":\"white\",\"linecolor\":\"white\",\"ticks\":\"\"},\"caxis\":{\"gridcolor\":\"white\",\"linecolor\":\"white\",\"ticks\":\"\"}},\"coloraxis\":{\"colorbar\":{\"outlinewidth\":0,\"ticks\":\"\"}},\"colorscale\":{\"sequential\":[[0.0,\"#0d0887\"],[0.1111111111111111,\"#46039f\"],[0.2222222222222222,\"#7201a8\"],[0.3333333333333333,\"#9c179e\"],[0.4444444444444444,\"#bd3786\"],[0.5555555555555556,\"#d8576b\"],[0.6666666666666666,\"#ed7953\"],[0.7777777777777778,\"#fb9f3a\"],[0.8888888888888888,\"#fdca26\"],[1.0,\"#f0f921\"]],\"sequentialminus\":[[0.0,\"#0d0887\"],[0.1111111111111111,\"#46039f\"],[0.2222222222222222,\"#7201a8\"],[0.3333333333333333,\"#9c179e\"],[0.4444444444444444,\"#bd3786\"],[0.5555555555555556,\"#d8576b\"],[0.6666666666666666,\"#ed7953\"],[0.7777777777777778,\"#fb9f3a\"],[0.8888888888888888,\"#fdca26\"],[1.0,\"#f0f921\"]],\"diverging\":[[0,\"#8e0152\"],[0.1,\"#c51b7d\"],[0.2,\"#de77ae\"],[0.3,\"#f1b6da\"],[0.4,\"#fde0ef\"],[0.5,\"#f7f7f7\"],[0.6,\"#e6f5d0\"],[0.7,\"#b8e186\"],[0.8,\"#7fbc41\"],[0.9,\"#4d9221\"],[1,\"#276419\"]]},\"xaxis\":{\"gridcolor\":\"white\",\"linecolor\":\"white\",\"ticks\":\"\",\"title\":{\"standoff\":15},\"zerolinecolor\":\"white\",\"automargin\":true,\"zerolinewidth\":2},\"yaxis\":{\"gridcolor\":\"white\",\"linecolor\":\"white\",\"ticks\":\"\",\"title\":{\"standoff\":15},\"zerolinecolor\":\"white\",\"automargin\":true,\"zerolinewidth\":2},\"scene\":{\"xaxis\":{\"backgroundcolor\":\"#E5ECF6\",\"gridcolor\":\"white\",\"linecolor\":\"white\",\"showbackground\":true,\"ticks\":\"\",\"zerolinecolor\":\"white\",\"gridwidth\":2},\"yaxis\":{\"backgroundcolor\":\"#E5ECF6\",\"gridcolor\":\"white\",\"linecolor\":\"white\",\"showbackground\":true,\"ticks\":\"\",\"zerolinecolor\":\"white\",\"gridwidth\":2},\"zaxis\":{\"backgroundcolor\":\"#E5ECF6\",\"gridcolor\":\"white\",\"linecolor\":\"white\",\"showbackground\":true,\"ticks\":\"\",\"zerolinecolor\":\"white\",\"gridwidth\":2}},\"shapedefaults\":{\"line\":{\"color\":\"#2a3f5f\"}},\"annotationdefaults\":{\"arrowcolor\":\"#2a3f5f\",\"arrowhead\":0,\"arrowwidth\":1},\"geo\":{\"bgcolor\":\"white\",\"landcolor\":\"#E5ECF6\",\"subunitcolor\":\"white\",\"showland\":true,\"showlakes\":true,\"lakecolor\":\"white\"},\"title\":{\"x\":0.05},\"mapbox\":{\"style\":\"light\"}}},\"xaxis\":{\"anchor\":\"y\",\"domain\":[0.0,1.0],\"title\":{\"text\":\"x\"},\"range\":[-12,12]},\"yaxis\":{\"anchor\":\"x\",\"domain\":[0.0,1.0],\"title\":{\"text\":\"y\"},\"range\":[-12,12]},\"legend\":{\"tracegroupgap\":0},\"title\":{\"text\":\"Data projected onto plane 1\"},\"height\":700,\"width\":500},                        {\"responsive\": true}                    ).then(function(){\n",
       "                            \n",
       "var gd = document.getElementById('a4a6633a-3311-4a2a-8f39-eef2c4362294');\n",
       "var x = new MutationObserver(function (mutations, observer) {{\n",
       "        var display = window.getComputedStyle(gd).display;\n",
       "        if (!display || display === 'none') {{\n",
       "            console.log([gd, 'removed!']);\n",
       "            Plotly.purge(gd);\n",
       "            observer.disconnect();\n",
       "        }}\n",
       "}});\n",
       "\n",
       "// Listen for the removal of the full notebook cells\n",
       "var notebookContainer = gd.closest('#notebook-container');\n",
       "if (notebookContainer) {{\n",
       "    x.observe(notebookContainer, {childList: true});\n",
       "}}\n",
       "\n",
       "// Listen for the clearing of the current output cell\n",
       "var outputEl = gd.closest('.output');\n",
       "if (outputEl) {{\n",
       "    x.observe(outputEl, {childList: true});\n",
       "}}\n",
       "\n",
       "                        })                };                });            </script>        </div>"
      ]
     },
     "metadata": {},
     "output_type": "display_data"
    }
   ],
   "source": [
    "plane_data_to_plot = 0 #0, 1, 2, or 3\n",
    "\n",
    "pts = proj_arrs_categ[plane_data_to_plot] #shape (2, N)\n",
    "\n",
    "fig = px.scatter(x=pts[0,:],\n",
    "                 y = pts[1,:],\n",
    "                 title = f'Data projected onto plane {plane_data_to_plot + 1}',\n",
    "                 width = 500,\n",
    "                 height = 700,\n",
    "                 range_x = [-12, 12],\n",
    "                 range_y = [-12, 12])\n",
    "fig.show() "
   ]
  },
  {
   "cell_type": "markdown",
   "id": "e4969ef5-a049-47bb-ab33-975be4779f3d",
   "metadata": {},
   "source": [
    "Form the full projected dataset acting as the observd data. It has shape (N samples, 8)."
   ]
  },
  {
   "cell_type": "code",
   "execution_count": 22,
   "id": "ef9f984d-6c43-4627-89ac-66dd554c3f13",
   "metadata": {},
   "outputs": [
    {
     "name": "stdout",
     "output_type": "stream",
     "text": [
      "(210, 8)\n"
     ]
    }
   ],
   "source": [
    "arr_ls = [i.T for i in proj_arrs_categ.values()]\n",
    "X = np.hstack(arr_ls)\n",
    "print(X.shape) "
   ]
  },
  {
   "cell_type": "markdown",
   "id": "530e030d-854d-4b7b-a393-9f574fae4b70",
   "metadata": {},
   "source": [
    "Perform the steps of PCA."
   ]
  },
  {
   "cell_type": "code",
   "execution_count": 28,
   "id": "012b1c39-6ca7-4a8d-8eec-ea3f1b576929",
   "metadata": {},
   "outputs": [
    {
     "data": {
      "application/vnd.plotly.v1+json": {
       "config": {
        "plotlyServerURL": "https://plot.ly"
       },
       "data": [
        {
         "hovertemplate": "x=%{x}<br>y=%{y}<extra></extra>",
         "legendgroup": "",
         "marker": {
          "color": "#636efa",
          "symbol": "circle"
         },
         "mode": "markers",
         "name": "",
         "orientation": "v",
         "showlegend": false,
         "type": "scatter",
         "x": [
          1,
          2,
          3,
          4,
          5,
          6,
          7,
          8
         ],
         "xaxis": "x",
         "y": [
          847.5597746370262,
          832.4402253629737,
          2.990382879698226e-14,
          1.4458408062374776e-14,
          5.461178111400373e-15,
          1.8043149170596996e-32,
          0,
          -3.825351208973351e-14
         ],
         "yaxis": "y"
        }
       ],
       "layout": {
        "autosize": true,
        "legend": {
         "tracegroupgap": 0
        },
        "template": {
         "data": {
          "bar": [
           {
            "error_x": {
             "color": "#2a3f5f"
            },
            "error_y": {
             "color": "#2a3f5f"
            },
            "marker": {
             "line": {
              "color": "#E5ECF6",
              "width": 0.5
             },
             "pattern": {
              "fillmode": "overlay",
              "size": 10,
              "solidity": 0.2
             }
            },
            "type": "bar"
           }
          ],
          "barpolar": [
           {
            "marker": {
             "line": {
              "color": "#E5ECF6",
              "width": 0.5
             },
             "pattern": {
              "fillmode": "overlay",
              "size": 10,
              "solidity": 0.2
             }
            },
            "type": "barpolar"
           }
          ],
          "carpet": [
           {
            "aaxis": {
             "endlinecolor": "#2a3f5f",
             "gridcolor": "white",
             "linecolor": "white",
             "minorgridcolor": "white",
             "startlinecolor": "#2a3f5f"
            },
            "baxis": {
             "endlinecolor": "#2a3f5f",
             "gridcolor": "white",
             "linecolor": "white",
             "minorgridcolor": "white",
             "startlinecolor": "#2a3f5f"
            },
            "type": "carpet"
           }
          ],
          "choropleth": [
           {
            "colorbar": {
             "outlinewidth": 0,
             "ticks": ""
            },
            "type": "choropleth"
           }
          ],
          "contour": [
           {
            "colorbar": {
             "outlinewidth": 0,
             "ticks": ""
            },
            "colorscale": [
             [
              0,
              "#0d0887"
             ],
             [
              0.1111111111111111,
              "#46039f"
             ],
             [
              0.2222222222222222,
              "#7201a8"
             ],
             [
              0.3333333333333333,
              "#9c179e"
             ],
             [
              0.4444444444444444,
              "#bd3786"
             ],
             [
              0.5555555555555556,
              "#d8576b"
             ],
             [
              0.6666666666666666,
              "#ed7953"
             ],
             [
              0.7777777777777778,
              "#fb9f3a"
             ],
             [
              0.8888888888888888,
              "#fdca26"
             ],
             [
              1,
              "#f0f921"
             ]
            ],
            "type": "contour"
           }
          ],
          "contourcarpet": [
           {
            "colorbar": {
             "outlinewidth": 0,
             "ticks": ""
            },
            "type": "contourcarpet"
           }
          ],
          "heatmap": [
           {
            "colorbar": {
             "outlinewidth": 0,
             "ticks": ""
            },
            "colorscale": [
             [
              0,
              "#0d0887"
             ],
             [
              0.1111111111111111,
              "#46039f"
             ],
             [
              0.2222222222222222,
              "#7201a8"
             ],
             [
              0.3333333333333333,
              "#9c179e"
             ],
             [
              0.4444444444444444,
              "#bd3786"
             ],
             [
              0.5555555555555556,
              "#d8576b"
             ],
             [
              0.6666666666666666,
              "#ed7953"
             ],
             [
              0.7777777777777778,
              "#fb9f3a"
             ],
             [
              0.8888888888888888,
              "#fdca26"
             ],
             [
              1,
              "#f0f921"
             ]
            ],
            "type": "heatmap"
           }
          ],
          "heatmapgl": [
           {
            "colorbar": {
             "outlinewidth": 0,
             "ticks": ""
            },
            "colorscale": [
             [
              0,
              "#0d0887"
             ],
             [
              0.1111111111111111,
              "#46039f"
             ],
             [
              0.2222222222222222,
              "#7201a8"
             ],
             [
              0.3333333333333333,
              "#9c179e"
             ],
             [
              0.4444444444444444,
              "#bd3786"
             ],
             [
              0.5555555555555556,
              "#d8576b"
             ],
             [
              0.6666666666666666,
              "#ed7953"
             ],
             [
              0.7777777777777778,
              "#fb9f3a"
             ],
             [
              0.8888888888888888,
              "#fdca26"
             ],
             [
              1,
              "#f0f921"
             ]
            ],
            "type": "heatmapgl"
           }
          ],
          "histogram": [
           {
            "marker": {
             "pattern": {
              "fillmode": "overlay",
              "size": 10,
              "solidity": 0.2
             }
            },
            "type": "histogram"
           }
          ],
          "histogram2d": [
           {
            "colorbar": {
             "outlinewidth": 0,
             "ticks": ""
            },
            "colorscale": [
             [
              0,
              "#0d0887"
             ],
             [
              0.1111111111111111,
              "#46039f"
             ],
             [
              0.2222222222222222,
              "#7201a8"
             ],
             [
              0.3333333333333333,
              "#9c179e"
             ],
             [
              0.4444444444444444,
              "#bd3786"
             ],
             [
              0.5555555555555556,
              "#d8576b"
             ],
             [
              0.6666666666666666,
              "#ed7953"
             ],
             [
              0.7777777777777778,
              "#fb9f3a"
             ],
             [
              0.8888888888888888,
              "#fdca26"
             ],
             [
              1,
              "#f0f921"
             ]
            ],
            "type": "histogram2d"
           }
          ],
          "histogram2dcontour": [
           {
            "colorbar": {
             "outlinewidth": 0,
             "ticks": ""
            },
            "colorscale": [
             [
              0,
              "#0d0887"
             ],
             [
              0.1111111111111111,
              "#46039f"
             ],
             [
              0.2222222222222222,
              "#7201a8"
             ],
             [
              0.3333333333333333,
              "#9c179e"
             ],
             [
              0.4444444444444444,
              "#bd3786"
             ],
             [
              0.5555555555555556,
              "#d8576b"
             ],
             [
              0.6666666666666666,
              "#ed7953"
             ],
             [
              0.7777777777777778,
              "#fb9f3a"
             ],
             [
              0.8888888888888888,
              "#fdca26"
             ],
             [
              1,
              "#f0f921"
             ]
            ],
            "type": "histogram2dcontour"
           }
          ],
          "mesh3d": [
           {
            "colorbar": {
             "outlinewidth": 0,
             "ticks": ""
            },
            "type": "mesh3d"
           }
          ],
          "parcoords": [
           {
            "line": {
             "colorbar": {
              "outlinewidth": 0,
              "ticks": ""
             }
            },
            "type": "parcoords"
           }
          ],
          "pie": [
           {
            "automargin": true,
            "type": "pie"
           }
          ],
          "scatter": [
           {
            "fillpattern": {
             "fillmode": "overlay",
             "size": 10,
             "solidity": 0.2
            },
            "type": "scatter"
           }
          ],
          "scatter3d": [
           {
            "line": {
             "colorbar": {
              "outlinewidth": 0,
              "ticks": ""
             }
            },
            "marker": {
             "colorbar": {
              "outlinewidth": 0,
              "ticks": ""
             }
            },
            "type": "scatter3d"
           }
          ],
          "scattercarpet": [
           {
            "marker": {
             "colorbar": {
              "outlinewidth": 0,
              "ticks": ""
             }
            },
            "type": "scattercarpet"
           }
          ],
          "scattergeo": [
           {
            "marker": {
             "colorbar": {
              "outlinewidth": 0,
              "ticks": ""
             }
            },
            "type": "scattergeo"
           }
          ],
          "scattergl": [
           {
            "marker": {
             "colorbar": {
              "outlinewidth": 0,
              "ticks": ""
             }
            },
            "type": "scattergl"
           }
          ],
          "scattermapbox": [
           {
            "marker": {
             "colorbar": {
              "outlinewidth": 0,
              "ticks": ""
             }
            },
            "type": "scattermapbox"
           }
          ],
          "scatterpolar": [
           {
            "marker": {
             "colorbar": {
              "outlinewidth": 0,
              "ticks": ""
             }
            },
            "type": "scatterpolar"
           }
          ],
          "scatterpolargl": [
           {
            "marker": {
             "colorbar": {
              "outlinewidth": 0,
              "ticks": ""
             }
            },
            "type": "scatterpolargl"
           }
          ],
          "scatterternary": [
           {
            "marker": {
             "colorbar": {
              "outlinewidth": 0,
              "ticks": ""
             }
            },
            "type": "scatterternary"
           }
          ],
          "surface": [
           {
            "colorbar": {
             "outlinewidth": 0,
             "ticks": ""
            },
            "colorscale": [
             [
              0,
              "#0d0887"
             ],
             [
              0.1111111111111111,
              "#46039f"
             ],
             [
              0.2222222222222222,
              "#7201a8"
             ],
             [
              0.3333333333333333,
              "#9c179e"
             ],
             [
              0.4444444444444444,
              "#bd3786"
             ],
             [
              0.5555555555555556,
              "#d8576b"
             ],
             [
              0.6666666666666666,
              "#ed7953"
             ],
             [
              0.7777777777777778,
              "#fb9f3a"
             ],
             [
              0.8888888888888888,
              "#fdca26"
             ],
             [
              1,
              "#f0f921"
             ]
            ],
            "type": "surface"
           }
          ],
          "table": [
           {
            "cells": {
             "fill": {
              "color": "#EBF0F8"
             },
             "line": {
              "color": "white"
             }
            },
            "header": {
             "fill": {
              "color": "#C8D4E3"
             },
             "line": {
              "color": "white"
             }
            },
            "type": "table"
           }
          ]
         },
         "layout": {
          "annotationdefaults": {
           "arrowcolor": "#2a3f5f",
           "arrowhead": 0,
           "arrowwidth": 1
          },
          "autotypenumbers": "strict",
          "coloraxis": {
           "colorbar": {
            "outlinewidth": 0,
            "ticks": ""
           }
          },
          "colorscale": {
           "diverging": [
            [
             0,
             "#8e0152"
            ],
            [
             0.1,
             "#c51b7d"
            ],
            [
             0.2,
             "#de77ae"
            ],
            [
             0.3,
             "#f1b6da"
            ],
            [
             0.4,
             "#fde0ef"
            ],
            [
             0.5,
             "#f7f7f7"
            ],
            [
             0.6,
             "#e6f5d0"
            ],
            [
             0.7,
             "#b8e186"
            ],
            [
             0.8,
             "#7fbc41"
            ],
            [
             0.9,
             "#4d9221"
            ],
            [
             1,
             "#276419"
            ]
           ],
           "sequential": [
            [
             0,
             "#0d0887"
            ],
            [
             0.1111111111111111,
             "#46039f"
            ],
            [
             0.2222222222222222,
             "#7201a8"
            ],
            [
             0.3333333333333333,
             "#9c179e"
            ],
            [
             0.4444444444444444,
             "#bd3786"
            ],
            [
             0.5555555555555556,
             "#d8576b"
            ],
            [
             0.6666666666666666,
             "#ed7953"
            ],
            [
             0.7777777777777778,
             "#fb9f3a"
            ],
            [
             0.8888888888888888,
             "#fdca26"
            ],
            [
             1,
             "#f0f921"
            ]
           ],
           "sequentialminus": [
            [
             0,
             "#0d0887"
            ],
            [
             0.1111111111111111,
             "#46039f"
            ],
            [
             0.2222222222222222,
             "#7201a8"
            ],
            [
             0.3333333333333333,
             "#9c179e"
            ],
            [
             0.4444444444444444,
             "#bd3786"
            ],
            [
             0.5555555555555556,
             "#d8576b"
            ],
            [
             0.6666666666666666,
             "#ed7953"
            ],
            [
             0.7777777777777778,
             "#fb9f3a"
            ],
            [
             0.8888888888888888,
             "#fdca26"
            ],
            [
             1,
             "#f0f921"
            ]
           ]
          },
          "colorway": [
           "#636efa",
           "#EF553B",
           "#00cc96",
           "#ab63fa",
           "#FFA15A",
           "#19d3f3",
           "#FF6692",
           "#B6E880",
           "#FF97FF",
           "#FECB52"
          ],
          "font": {
           "color": "#2a3f5f"
          },
          "geo": {
           "bgcolor": "white",
           "lakecolor": "white",
           "landcolor": "#E5ECF6",
           "showlakes": true,
           "showland": true,
           "subunitcolor": "white"
          },
          "hoverlabel": {
           "align": "left"
          },
          "hovermode": "closest",
          "mapbox": {
           "style": "light"
          },
          "paper_bgcolor": "white",
          "plot_bgcolor": "#E5ECF6",
          "polar": {
           "angularaxis": {
            "gridcolor": "white",
            "linecolor": "white",
            "ticks": ""
           },
           "bgcolor": "#E5ECF6",
           "radialaxis": {
            "gridcolor": "white",
            "linecolor": "white",
            "ticks": ""
           }
          },
          "scene": {
           "xaxis": {
            "backgroundcolor": "#E5ECF6",
            "gridcolor": "white",
            "gridwidth": 2,
            "linecolor": "white",
            "showbackground": true,
            "ticks": "",
            "zerolinecolor": "white"
           },
           "yaxis": {
            "backgroundcolor": "#E5ECF6",
            "gridcolor": "white",
            "gridwidth": 2,
            "linecolor": "white",
            "showbackground": true,
            "ticks": "",
            "zerolinecolor": "white"
           },
           "zaxis": {
            "backgroundcolor": "#E5ECF6",
            "gridcolor": "white",
            "gridwidth": 2,
            "linecolor": "white",
            "showbackground": true,
            "ticks": "",
            "zerolinecolor": "white"
           }
          },
          "shapedefaults": {
           "line": {
            "color": "#2a3f5f"
           }
          },
          "ternary": {
           "aaxis": {
            "gridcolor": "white",
            "linecolor": "white",
            "ticks": ""
           },
           "baxis": {
            "gridcolor": "white",
            "linecolor": "white",
            "ticks": ""
           },
           "bgcolor": "#E5ECF6",
           "caxis": {
            "gridcolor": "white",
            "linecolor": "white",
            "ticks": ""
           }
          },
          "title": {
           "x": 0.05
          },
          "xaxis": {
           "automargin": true,
           "gridcolor": "white",
           "linecolor": "white",
           "ticks": "",
           "title": {
            "standoff": 15
           },
           "zerolinecolor": "white",
           "zerolinewidth": 2
          },
          "yaxis": {
           "automargin": true,
           "gridcolor": "white",
           "linecolor": "white",
           "ticks": "",
           "title": {
            "standoff": 15
           },
           "zerolinecolor": "white",
           "zerolinewidth": 2
          }
         }
        },
        "title": {
         "text": "Eigenvalues/variances"
        },
        "xaxis": {
         "anchor": "y",
         "autorange": true,
         "domain": [
          0,
          1
         ],
         "range": [
          0.5764384213029006,
          8.423561578697099
         ],
         "title": {
          "text": "x"
         },
         "type": "linear"
        },
        "yaxis": {
         "anchor": "x",
         "autorange": true,
         "domain": [
          0,
          1
         ],
         "range": [
          -69.94425324674492,
          917.5040278837711
         ],
         "title": {
          "text": "y"
         },
         "type": "linear"
        }
       }
      },
      "image/png": "[encoded data removed]",
      "text/html": [
       "<div>                            <div id=\"d4e403bd-2c59-4818-b320-e4cb3c510418\" class=\"plotly-graph-div\" style=\"height:525px; width:100%;\"></div>            <script type=\"text/javascript\">                require([\"plotly\"], function(Plotly) {                    window.PLOTLYENV=window.PLOTLYENV || {};                                    if (document.getElementById(\"d4e403bd-2c59-4818-b320-e4cb3c510418\")) {                    Plotly.newPlot(                        \"d4e403bd-2c59-4818-b320-e4cb3c510418\",                        [{\"hovertemplate\":\"x=%{x}\\u003cbr\\u003ey=%{y}\\u003cextra\\u003e\\u003c\\u002fextra\\u003e\",\"legendgroup\":\"\",\"marker\":{\"color\":\"#636efa\",\"symbol\":\"circle\"},\"mode\":\"markers\",\"name\":\"\",\"orientation\":\"v\",\"showlegend\":false,\"x\":[1,2,3,4,5,6,7,8],\"xaxis\":\"x\",\"y\":[847.5597746370262,832.4402253629737,2.990382879698226e-14,1.4458408062374776e-14,5.461178111400373e-15,1.8043149170596996e-32,0.0,-3.825351208973351e-14],\"yaxis\":\"y\",\"type\":\"scatter\"}],                        {\"template\":{\"data\":{\"histogram2dcontour\":[{\"type\":\"histogram2dcontour\",\"colorbar\":{\"outlinewidth\":0,\"ticks\":\"\"},\"colorscale\":[[0.0,\"#0d0887\"],[0.1111111111111111,\"#46039f\"],[0.2222222222222222,\"#7201a8\"],[0.3333333333333333,\"#9c179e\"],[0.4444444444444444,\"#bd3786\"],[0.5555555555555556,\"#d8576b\"],[0.6666666666666666,\"#ed7953\"],[0.7777777777777778,\"#fb9f3a\"],[0.8888888888888888,\"#fdca26\"],[1.0,\"#f0f921\"]]}],\"choropleth\":[{\"type\":\"choropleth\",\"colorbar\":{\"outlinewidth\":0,\"ticks\":\"\"}}],\"histogram2d\":[{\"type\":\"histogram2d\",\"colorbar\":{\"outlinewidth\":0,\"ticks\":\"\"},\"colorscale\":[[0.0,\"#0d0887\"],[0.1111111111111111,\"#46039f\"],[0.2222222222222222,\"#7201a8\"],[0.3333333333333333,\"#9c179e\"],[0.4444444444444444,\"#bd3786\"],[0.5555555555555556,\"#d8576b\"],[0.6666666666666666,\"#ed7953\"],[0.7777777777777778,\"#fb9f3a\"],[0.8888888888888888,\"#fdca26\"],[1.0,\"#f0f921\"]]}],\"heatmap\":[{\"type\":\"heatmap\",\"colorbar\":{\"outlinewidth\":0,\"ticks\":\"\"},\"colorscale\":[[0.0,\"#0d0887\"],[0.1111111111111111,\"#46039f\"],[0.2222222222222222,\"#7201a8\"],[0.3333333333333333,\"#9c179e\"],[0.4444444444444444,\"#bd3786\"],[0.5555555555555556,\"#d8576b\"],[0.6666666666666666,\"#ed7953\"],[0.7777777777777778,\"#fb9f3a\"],[0.8888888888888888,\"#fdca26\"],[1.0,\"#f0f921\"]]}],\"heatmapgl\":[{\"type\":\"heatmapgl\",\"colorbar\":{\"outlinewidth\":0,\"ticks\":\"\"},\"colorscale\":[[0.0,\"#0d0887\"],[0.1111111111111111,\"#46039f\"],[0.2222222222222222,\"#7201a8\"],[0.3333333333333333,\"#9c179e\"],[0.4444444444444444,\"#bd3786\"],[0.5555555555555556,\"#d8576b\"],[0.6666666666666666,\"#ed7953\"],[0.7777777777777778,\"#fb9f3a\"],[0.8888888888888888,\"#fdca26\"],[1.0,\"#f0f921\"]]}],\"contourcarpet\":[{\"type\":\"contourcarpet\",\"colorbar\":{\"outlinewidth\":0,\"ticks\":\"\"}}],\"contour\":[{\"type\":\"contour\",\"colorbar\":{\"outlinewidth\":0,\"ticks\":\"\"},\"colorscale\":[[0.0,\"#0d0887\"],[0.1111111111111111,\"#46039f\"],[0.2222222222222222,\"#7201a8\"],[0.3333333333333333,\"#9c179e\"],[0.4444444444444444,\"#bd3786\"],[0.5555555555555556,\"#d8576b\"],[0.6666666666666666,\"#ed7953\"],[0.7777777777777778,\"#fb9f3a\"],[0.8888888888888888,\"#fdca26\"],[1.0,\"#f0f921\"]]}],\"surface\":[{\"type\":\"surface\",\"colorbar\":{\"outlinewidth\":0,\"ticks\":\"\"},\"colorscale\":[[0.0,\"#0d0887\"],[0.1111111111111111,\"#46039f\"],[0.2222222222222222,\"#7201a8\"],[0.3333333333333333,\"#9c179e\"],[0.4444444444444444,\"#bd3786\"],[0.5555555555555556,\"#d8576b\"],[0.6666666666666666,\"#ed7953\"],[0.7777777777777778,\"#fb9f3a\"],[0.8888888888888888,\"#fdca26\"],[1.0,\"#f0f921\"]]}],\"mesh3d\":[{\"type\":\"mesh3d\",\"colorbar\":{\"outlinewidth\":0,\"ticks\":\"\"}}],\"scatter\":[{\"fillpattern\":{\"fillmode\":\"overlay\",\"size\":10,\"solidity\":0.2},\"type\":\"scatter\"}],\"parcoords\":[{\"type\":\"parcoords\",\"line\":{\"colorbar\":{\"outlinewidth\":0,\"ticks\":\"\"}}}],\"scatterpolargl\":[{\"type\":\"scatterpolargl\",\"marker\":{\"colorbar\":{\"outlinewidth\":0,\"ticks\":\"\"}}}],\"bar\":[{\"error_x\":{\"color\":\"#2a3f5f\"},\"error_y\":{\"color\":\"#2a3f5f\"},\"marker\":{\"line\":{\"color\":\"#E5ECF6\",\"width\":0.5},\"pattern\":{\"fillmode\":\"overlay\",\"size\":10,\"solidity\":0.2}},\"type\":\"bar\"}],\"scattergeo\":[{\"type\":\"scattergeo\",\"marker\":{\"colorbar\":{\"outlinewidth\":0,\"ticks\":\"\"}}}],\"scatterpolar\":[{\"type\":\"scatterpolar\",\"marker\":{\"colorbar\":{\"outlinewidth\":0,\"ticks\":\"\"}}}],\"histogram\":[{\"marker\":{\"pattern\":{\"fillmode\":\"overlay\",\"size\":10,\"solidity\":0.2}},\"type\":\"histogram\"}],\"scattergl\":[{\"type\":\"scattergl\",\"marker\":{\"colorbar\":{\"outlinewidth\":0,\"ticks\":\"\"}}}],\"scatter3d\":[{\"type\":\"scatter3d\",\"line\":{\"colorbar\":{\"outlinewidth\":0,\"ticks\":\"\"}},\"marker\":{\"colorbar\":{\"outlinewidth\":0,\"ticks\":\"\"}}}],\"scattermapbox\":[{\"type\":\"scattermapbox\",\"marker\":{\"colorbar\":{\"outlinewidth\":0,\"ticks\":\"\"}}}],\"scatterternary\":[{\"type\":\"scatterternary\",\"marker\":{\"colorbar\":{\"outlinewidth\":0,\"ticks\":\"\"}}}],\"scattercarpet\":[{\"type\":\"scattercarpet\",\"marker\":{\"colorbar\":{\"outlinewidth\":0,\"ticks\":\"\"}}}],\"carpet\":[{\"aaxis\":{\"endlinecolor\":\"#2a3f5f\",\"gridcolor\":\"white\",\"linecolor\":\"white\",\"minorgridcolor\":\"white\",\"startlinecolor\":\"#2a3f5f\"},\"baxis\":{\"endlinecolor\":\"#2a3f5f\",\"gridcolor\":\"white\",\"linecolor\":\"white\",\"minorgridcolor\":\"white\",\"startlinecolor\":\"#2a3f5f\"},\"type\":\"carpet\"}],\"table\":[{\"cells\":{\"fill\":{\"color\":\"#EBF0F8\"},\"line\":{\"color\":\"white\"}},\"header\":{\"fill\":{\"color\":\"#C8D4E3\"},\"line\":{\"color\":\"white\"}},\"type\":\"table\"}],\"barpolar\":[{\"marker\":{\"line\":{\"color\":\"#E5ECF6\",\"width\":0.5},\"pattern\":{\"fillmode\":\"overlay\",\"size\":10,\"solidity\":0.2}},\"type\":\"barpolar\"}],\"pie\":[{\"automargin\":true,\"type\":\"pie\"}]},\"layout\":{\"autotypenumbers\":\"strict\",\"colorway\":[\"#636efa\",\"#EF553B\",\"#00cc96\",\"#ab63fa\",\"#FFA15A\",\"#19d3f3\",\"#FF6692\",\"#B6E880\",\"#FF97FF\",\"#FECB52\"],\"font\":{\"color\":\"#2a3f5f\"},\"hovermode\":\"closest\",\"hoverlabel\":{\"align\":\"left\"},\"paper_bgcolor\":\"white\",\"plot_bgcolor\":\"#E5ECF6\",\"polar\":{\"bgcolor\":\"#E5ECF6\",\"angularaxis\":{\"gridcolor\":\"white\",\"linecolor\":\"white\",\"ticks\":\"\"},\"radialaxis\":{\"gridcolor\":\"white\",\"linecolor\":\"white\",\"ticks\":\"\"}},\"ternary\":{\"bgcolor\":\"#E5ECF6\",\"aaxis\":{\"gridcolor\":\"white\",\"linecolor\":\"white\",\"ticks\":\"\"},\"baxis\":{\"gridcolor\":\"white\",\"linecolor\":\"white\",\"ticks\":\"\"},\"caxis\":{\"gridcolor\":\"white\",\"linecolor\":\"white\",\"ticks\":\"\"}},\"coloraxis\":{\"colorbar\":{\"outlinewidth\":0,\"ticks\":\"\"}},\"colorscale\":{\"sequential\":[[0.0,\"#0d0887\"],[0.1111111111111111,\"#46039f\"],[0.2222222222222222,\"#7201a8\"],[0.3333333333333333,\"#9c179e\"],[0.4444444444444444,\"#bd3786\"],[0.5555555555555556,\"#d8576b\"],[0.6666666666666666,\"#ed7953\"],[0.7777777777777778,\"#fb9f3a\"],[0.8888888888888888,\"#fdca26\"],[1.0,\"#f0f921\"]],\"sequentialminus\":[[0.0,\"#0d0887\"],[0.1111111111111111,\"#46039f\"],[0.2222222222222222,\"#7201a8\"],[0.3333333333333333,\"#9c179e\"],[0.4444444444444444,\"#bd3786\"],[0.5555555555555556,\"#d8576b\"],[0.6666666666666666,\"#ed7953\"],[0.7777777777777778,\"#fb9f3a\"],[0.8888888888888888,\"#fdca26\"],[1.0,\"#f0f921\"]],\"diverging\":[[0,\"#8e0152\"],[0.1,\"#c51b7d\"],[0.2,\"#de77ae\"],[0.3,\"#f1b6da\"],[0.4,\"#fde0ef\"],[0.5,\"#f7f7f7\"],[0.6,\"#e6f5d0\"],[0.7,\"#b8e186\"],[0.8,\"#7fbc41\"],[0.9,\"#4d9221\"],[1,\"#276419\"]]},\"xaxis\":{\"gridcolor\":\"white\",\"linecolor\":\"white\",\"ticks\":\"\",\"title\":{\"standoff\":15},\"zerolinecolor\":\"white\",\"automargin\":true,\"zerolinewidth\":2},\"yaxis\":{\"gridcolor\":\"white\",\"linecolor\":\"white\",\"ticks\":\"\",\"title\":{\"standoff\":15},\"zerolinecolor\":\"white\",\"automargin\":true,\"zerolinewidth\":2},\"scene\":{\"xaxis\":{\"backgroundcolor\":\"#E5ECF6\",\"gridcolor\":\"white\",\"linecolor\":\"white\",\"showbackground\":true,\"ticks\":\"\",\"zerolinecolor\":\"white\",\"gridwidth\":2},\"yaxis\":{\"backgroundcolor\":\"#E5ECF6\",\"gridcolor\":\"white\",\"linecolor\":\"white\",\"showbackground\":true,\"ticks\":\"\",\"zerolinecolor\":\"white\",\"gridwidth\":2},\"zaxis\":{\"backgroundcolor\":\"#E5ECF6\",\"gridcolor\":\"white\",\"linecolor\":\"white\",\"showbackground\":true,\"ticks\":\"\",\"zerolinecolor\":\"white\",\"gridwidth\":2}},\"shapedefaults\":{\"line\":{\"color\":\"#2a3f5f\"}},\"annotationdefaults\":{\"arrowcolor\":\"#2a3f5f\",\"arrowhead\":0,\"arrowwidth\":1},\"geo\":{\"bgcolor\":\"white\",\"landcolor\":\"#E5ECF6\",\"subunitcolor\":\"white\",\"showland\":true,\"showlakes\":true,\"lakecolor\":\"white\"},\"title\":{\"x\":0.05},\"mapbox\":{\"style\":\"light\"}}},\"xaxis\":{\"anchor\":\"y\",\"domain\":[0.0,1.0],\"title\":{\"text\":\"x\"}},\"yaxis\":{\"anchor\":\"x\",\"domain\":[0.0,1.0],\"title\":{\"text\":\"y\"}},\"legend\":{\"tracegroupgap\":0},\"title\":{\"text\":\"Eigenvalues\\u002fvariances\"}},                        {\"responsive\": true}                    ).then(function(){\n",
       "                            \n",
       "var gd = document.getElementById('d4e403bd-2c59-4818-b320-e4cb3c510418');\n",
       "var x = new MutationObserver(function (mutations, observer) {{\n",
       "        var display = window.getComputedStyle(gd).display;\n",
       "        if (!display || display === 'none') {{\n",
       "            console.log([gd, 'removed!']);\n",
       "            Plotly.purge(gd);\n",
       "            observer.disconnect();\n",
       "        }}\n",
       "}});\n",
       "\n",
       "// Listen for the removal of the full notebook cells\n",
       "var notebookContainer = gd.closest('#notebook-container');\n",
       "if (notebookContainer) {{\n",
       "    x.observe(notebookContainer, {childList: true});\n",
       "}}\n",
       "\n",
       "// Listen for the clearing of the current output cell\n",
       "var outputEl = gd.closest('.output');\n",
       "if (outputEl) {{\n",
       "    x.observe(outputEl, {childList: true});\n",
       "}}\n",
       "\n",
       "                        })                };                });            </script>        </div>"
      ]
     },
     "metadata": {},
     "output_type": "display_data"
    },
    {
     "name": "stdout",
     "output_type": "stream",
     "text": [
      "Eigenvalues =  [847.5597746370262, 832.4402253629737, 2.990382879698226e-14, 1.4458408062374776e-14, 5.461178111400373e-15]\n",
      "Explained variance =  100.0 %\n"
     ]
    }
   ],
   "source": [
    "X_st = (X - np.mean(X, axis = 0))/np.std(X, axis = 0)\n",
    "\n",
    "C = X_st.T @ X_st\n",
    "eigenvalues, eigenvectors = np.linalg.eig(C)\n",
    "sorted_evals, sorted_evecs = zip(*sorted(zip(eigenvalues, eigenvectors), reverse = True))\n",
    "sorted_evals = [i.real for i in sorted_evals]\n",
    "\n",
    "#plot the eigenvalues\n",
    "fig = px.scatter(x=range(1, len(sorted_evals) + 1),\n",
    "                 y = sorted_evals,\n",
    "                 title = f'Eigenvalues/variances')\n",
    "fig.show() \n",
    "\n",
    "#find the principal components using the first two eigenvectors\n",
    "V = np.hstack([sorted_evecs[0].reshape(-1, 1), sorted_evecs[1].reshape(-1, 1)])\n",
    "PC = X_st @ V #shape (N, 2)\n",
    "explained_variance = sum(sorted_evals[:2])/sum(sorted_evals)\n",
    "print('Eigenvalues = ', sorted_evals[:5])\n",
    "print('Explained variance = ', 100*explained_variance, '%')"
   ]
  },
  {
   "cell_type": "markdown",
   "id": "cb0e335a-4676-48be-a715-773fc14feac7",
   "metadata": {},
   "source": [
    "It is clear the vast majority of the variance in this system is captured by the <u>first two principal components</u>, so we projected onto the first two eigenvectors. We started with 8-dimensional data and were able to reduce it down to 2 dimensions while preserving nearly $100\\%$ of the variance. Obviously in this very synthetic example, this is perfect, but in reality expect much lower.\n",
    "\n",
    "Now, let's see what $x$ and $y$ look like when graphed together as a scatter plot."
   ]
  },
  {
   "cell_type": "code",
   "execution_count": 29,
   "id": "af54c792-b1bf-43bc-a9dc-8c82ff0ded6f",
   "metadata": {},
   "outputs": [
    {
     "data": {
      "application/vnd.plotly.v1+json": {
       "config": {
        "plotlyServerURL": "https://plot.ly"
       },
       "data": [
        {
         "hovertemplate": "x=%{x}<br>y=%{y}<extra></extra>",
         "legendgroup": "",
         "marker": {
          "color": "#636efa",
          "symbol": "circle"
         },
         "mode": "markers",
         "name": "",
         "orientation": "v",
         "showlegend": false,
         "type": "scatter",
         "x": [
          -1.5708645338297482,
          -1.1050060190061997,
          -1.0440661450506166,
          -0.22372857341982433,
          0.9314285347980017,
          1.7674846317546025,
          2.078183933596386,
          2.3623050744960876,
          1.9636295313462102,
          2.1577030414093223,
          2.4693366529287326,
          1.877214152765018,
          0.8116000754690156,
          0.40560875961387155,
          -0.13724733877427564,
          -0.984990971744517,
          -1.6693896500613046,
          -2.5261185208308645,
          -2.460811607959994,
          -2.166811180636689,
          -2.4763034422138315,
          -1.732712976758276,
          -1.1784973102474623,
          -0.20934053485507786,
          -0.19642421630179707,
          1.1173492467476955,
          1.3208050807358047,
          1.3797403638558021,
          2.1927419012852907,
          2.2168714091948316,
          1.5936580615632887,
          2.4907342178633125,
          1.4849391634686655,
          1.078135780435557,
          0.30565893581893133,
          -0.029866491665131,
          -1.220288482603801,
          -1.624198057264773,
          -1.9825770787408343,
          -2.642559686237858,
          -2.2482847814169524,
          -1.977909117028061,
          -1.3846645095937498,
          -1.089916549941968,
          -0.7415274234632702,
          0.12215747062501758,
          0.8608628116012584,
          1.62951023218453,
          2.3501734751855685,
          1.6958807640296463,
          2.176883307773209,
          2.0326874459988575,
          2.0073313180707846,
          1.501185245349322,
          0.8586377033009185,
          -0.19118791567668905,
          -1.1259512243472682,
          -1.0420037424332023,
          -2.306239809328337,
          -2.332449701760671,
          -2.8116291933196904,
          -2.4938661905265285,
          -2.371260799986379,
          -2.1584450380127795,
          -1.560322773451988,
          -0.6665288613027723,
          0.4370136976648519,
          0.5514306079866717,
          1.322832722059096,
          2.502457557213331,
          2.3588621989792875,
          2.6702155073787006,
          2.6369437711702766,
          2.1941736796855165,
          2.0142577558410233,
          1.1431128397072263,
          0.1458127483839039,
          -0.7172916943738147,
          -1.2756606354646447,
          -1.8361473576225424,
          -2.282440331839346,
          -2.4386330954284063,
          -2.395486954815251,
          -2.112483734009792,
          -1.762638993092644,
          -1.0206774040541815,
          -0.024286757410984294,
          -0.10719789719844003,
          0.8270875545296297,
          1.3894855150185725,
          1.6856309975480148,
          2.581183736088023,
          2.4601690648588943,
          2.5276475317741287,
          1.5426523168019033,
          1.7389765713236507,
          0.9504935149539199,
          0.13735092613936756,
          -0.3330354048629189,
          -1.153960619338399,
          -1.6123082380048428,
          -2.711789024731025,
          -2.008509042376643,
          -2.6878928046249344,
          -2.2004943508832238,
          -1.7687191414081573,
          -0.9554122524661072,
          -0.0417112669760934,
          0.4827119856654716,
          0.9457450383804661,
          1.251882868980651,
          2.0489192288210383,
          2.1718064955581733,
          2.3756303108865797,
          2.1787978211135783,
          1.679692725997114,
          0.9727183406924615,
          0.6539262685708862,
          0.48201788006521123,
          -0.9707652419550884,
          -1.1396813926818583,
          -1.8930657731744172,
          -2.274591049428389,
          -2.3587051812300315,
          -2.0026829168321125,
          -1.8017627838298704,
          -1.7400151389610228,
          -0.7468358766124045,
          0.13663273232895828,
          0.3463687314681315,
          1.5955264481720366,
          1.7233595581721237,
          2.3490807196273975,
          2.294726692021884,
          2.339809734853592,
          2.385635455520834,
          2.069181820066741,
          1.4810726871030244,
          0.7526302751419591,
          -0.28644267144680635,
          -1.1475779102836272,
          -1.4192808208782717,
          -1.906976649773831,
          -2.3965394130580067,
          -2.089292005510857,
          -2.632155069055043,
          -2.005699515366052,
          -1.9186687202211288,
          -1.5567145109310223,
          -0.4110572526083486,
          0.7023716926688192,
          1.2586781848585116,
          1.7248407480761054,
          2.087770391364253,
          2.3535459177148086,
          2.759611917795979,
          2.3479371828293605,
          1.7453329583043082,
          1.399803005903154,
          0.584574224121754,
          0.32773369291150045,
          -0.6538816617560451,
          -1.356648780193297,
          -1.669468407016095,
          -2.2315099383123007,
          -2.271478050497638,
          -2.08812816664836,
          -1.945154252578036,
          -1.7359985240588833,
          -1.568511931137673,
          -0.5263794679979361,
          0.322172718599427,
          1.5598264282936873,
          1.4513586097657516,
          2.105363300879329,
          2.3129899573302826,
          2.1613454271239805,
          2.477003405571425,
          1.9801960586387655,
          1.7981910054384458,
          0.8712417576739993,
          -0.04252516414424695,
          -0.7634298879652613,
          -0.7406353994321021,
          -1.7564177361910411,
          -2.7041206238921207,
          -2.4571461631098277,
          -2.5161347880316685,
          -1.9727595338747022,
          -1.5842718979605246,
          -1.0664100961299,
          -0.33804902260092146,
          0.5171204711208803,
          0.9104282165883363,
          1.4722056660982092,
          2.6044688178189745,
          2.2690213120399556,
          2.466952709243445,
          1.4600625919313066,
          2.354093429892818,
          1.469959842370328,
          0.8687519100164095,
          -0.10917435915875567,
          -1.1382791208535796,
          -1.6908288504557512,
          -2.280649424620823,
          -2.2803073303349146,
          -2.7192670629113707,
          -2.464392733368994,
          -1.99982079071763
         ],
         "xaxis": "x",
         "y": [
          -0.6642511673873228,
          -0.6818367586727512,
          -0.8576785865453553,
          -0.7644343735192269,
          -0.2778091392201745,
          -0.02976200595778522,
          0.021393133616264493,
          0.28550367294893975,
          0.1534053704905336,
          0.5622577930799475,
          1.0267450000150449,
          0.9026925156841314,
          0.6554093439394165,
          0.7423831089457429,
          0.8024845612683872,
          0.4227520300382269,
          0.11675219781314705,
          -0.2927371695889325,
          -0.3413834799021439,
          -0.448558451899821,
          -0.7847292436221179,
          -0.741577239827013,
          -0.6936509257442243,
          -0.5534862667507973,
          -0.6627523096061076,
          -0.19368500726578358,
          -0.17858793362478376,
          -0.2707252572700166,
          0.21119938210139122,
          0.38168405438035413,
          0.20844991979374855,
          0.859458869780193,
          0.700608099598934,
          0.7636518511413224,
          0.7530701772967701,
          0.7886507166860104,
          0.20931819035363813,
          0.09329190477574156,
          -0.06927028163711968,
          -0.4209378478426882,
          -0.5149504939566845,
          -0.6524124282602596,
          -0.5021136834865734,
          -0.8325378953833988,
          -0.8158692055493779,
          -0.5009104832494402,
          -0.3773275562610322,
          -0.07801648369132363,
          0.1441521192536689,
          0.026730045643154066,
          0.38215515140239176,
          0.4703574406475104,
          0.7586172718760834,
          0.839791480452035,
          0.7768632767867276,
          0.4016162225587827,
          0.17020007293332917,
          0.3842703558373775,
          -0.19970666273518445,
          -0.2745354529318349,
          -0.5499016797852002,
          -0.5442311976389801,
          -0.7683409990993701,
          -0.8955558259936702,
          -0.9142284722843004,
          -0.7299723288583705,
          -0.44159185746040963,
          -0.5964093909434183,
          -0.3200859830761982,
          0.33761454167482574,
          0.26360613538500477,
          0.6307925765984363,
          0.7218620460611886,
          0.8743497828978405,
          0.9052083935189943,
          0.8641037475498978,
          0.6411151476788095,
          0.26004437212499976,
          0.2620383594496678,
          0.03646244040537916,
          -0.22606931165119726,
          -0.3588874295735962,
          -0.5768156590909295,
          -0.6974598604399039,
          -0.7510207197439293,
          -0.7133750275571635,
          -0.517770983012342,
          -0.8490212868724939,
          -0.39897785938087915,
          -0.18676933253467287,
          -0.14688906230504117,
          0.33906955440235576,
          0.5923641237288275,
          0.6934118138006367,
          0.5612744249431055,
          0.9167212952973824,
          0.7364931647510247,
          0.5683496613185377,
          0.5897854115832912,
          0.3244514884804968,
          0.1758209249847985,
          -0.3869689294697758,
          -0.2553462362562239,
          -0.7229769951521232,
          -0.6495193329293758,
          -0.8106579838007137,
          -0.7146552075798205,
          -0.5940792819021362,
          -0.5462757656855233,
          -0.32059717912627145,
          -0.38564021829341166,
          0.14138651900257593,
          0.2840169368865564,
          0.5392887371578654,
          0.6909014923680741,
          0.5181743823648146,
          0.5653646790731928,
          0.6589771381590382,
          0.7778985396659592,
          0.20714815809292558,
          0.3591104091722735,
          0.05222206016215469,
          -0.2693309133061922,
          -0.40813206147831793,
          -0.3614714072091717,
          -0.5000933084992727,
          -0.9061070476893669,
          -0.6101875036928579,
          -0.5828381347093352,
          -0.5194447193397547,
          -0.12166620877134016,
          -0.050827217316575024,
          0.22588309241328997,
          0.2646311692679023,
          0.47384192088267063,
          0.5418141064860804,
          0.8275279780209378,
          0.7844533303886186,
          0.757165557334962,
          0.46601307516386864,
          0.22988892117369109,
          0.22200172712705502,
          0.06377665729181159,
          -0.19636684177937114,
          -0.3906691682046211,
          -0.70555530483204,
          -0.8041709093366165,
          -0.8492020638198983,
          -0.9933646101367373,
          -0.6745961601244157,
          -0.4656309086535224,
          -0.20098274197437116,
          -0.09299254369320675,
          0.0575741692601921,
          0.2964207344368426,
          0.7529762000918,
          0.6798622334185536,
          0.812197141944714,
          0.8585255822885919,
          0.7521272600080627,
          0.7886129395364957,
          0.4382582540286191,
          0.31974363436761966,
          0.06341023381715583,
          -0.1547748760923513,
          -0.3434708651341061,
          -0.42518624954414114,
          -0.6739656765223184,
          -0.8521156591276908,
          -0.9413043642022761,
          -0.6912689499909226,
          -0.5201948043866512,
          -0.14440310763050124,
          -0.12671278870258196,
          0.14094683598383517,
          0.25587974909829414,
          0.4306019184426278,
          0.7902463740753357,
          0.866433592038776,
          1.05253336954903,
          0.7757577820430004,
          0.44746963799899137,
          0.45654858328073616,
          0.5879895462773846,
          0.0859643100391353,
          -0.4540513216489356,
          -0.49839705554559394,
          -0.7214805768510093,
          -0.679482912690494,
          -0.6481056324747638,
          -0.8827901243599194,
          -0.7091169850875769,
          -0.4043061229042409,
          -0.4596428699791432,
          -0.17712657976890844,
          0.3460031435416565,
          0.40271461710277334,
          0.41095876059947534,
          0.291816635444516,
          1.0465216251911253,
          0.80667664300962,
          0.7483943352906348,
          0.5889927409664721,
          0.22153746577954941,
          0.042034913148927266,
          -0.0853644988108121,
          -0.20395538968378446,
          -0.5201278452424836,
          -0.6100904852519407,
          -0.7006815824444632
         ],
         "yaxis": "y"
        }
       ],
       "layout": {
        "height": 700,
        "legend": {
         "tracegroupgap": 0
        },
        "template": {
         "data": {
          "bar": [
           {
            "error_x": {
             "color": "#2a3f5f"
            },
            "error_y": {
             "color": "#2a3f5f"
            },
            "marker": {
             "line": {
              "color": "#E5ECF6",
              "width": 0.5
             },
             "pattern": {
              "fillmode": "overlay",
              "size": 10,
              "solidity": 0.2
             }
            },
            "type": "bar"
           }
          ],
          "barpolar": [
           {
            "marker": {
             "line": {
              "color": "#E5ECF6",
              "width": 0.5
             },
             "pattern": {
              "fillmode": "overlay",
              "size": 10,
              "solidity": 0.2
             }
            },
            "type": "barpolar"
           }
          ],
          "carpet": [
           {
            "aaxis": {
             "endlinecolor": "#2a3f5f",
             "gridcolor": "white",
             "linecolor": "white",
             "minorgridcolor": "white",
             "startlinecolor": "#2a3f5f"
            },
            "baxis": {
             "endlinecolor": "#2a3f5f",
             "gridcolor": "white",
             "linecolor": "white",
             "minorgridcolor": "white",
             "startlinecolor": "#2a3f5f"
            },
            "type": "carpet"
           }
          ],
          "choropleth": [
           {
            "colorbar": {
             "outlinewidth": 0,
             "ticks": ""
            },
            "type": "choropleth"
           }
          ],
          "contour": [
           {
            "colorbar": {
             "outlinewidth": 0,
             "ticks": ""
            },
            "colorscale": [
             [
              0,
              "#0d0887"
             ],
             [
              0.1111111111111111,
              "#46039f"
             ],
             [
              0.2222222222222222,
              "#7201a8"
             ],
             [
              0.3333333333333333,
              "#9c179e"
             ],
             [
              0.4444444444444444,
              "#bd3786"
             ],
             [
              0.5555555555555556,
              "#d8576b"
             ],
             [
              0.6666666666666666,
              "#ed7953"
             ],
             [
              0.7777777777777778,
              "#fb9f3a"
             ],
             [
              0.8888888888888888,
              "#fdca26"
             ],
             [
              1,
              "#f0f921"
             ]
            ],
            "type": "contour"
           }
          ],
          "contourcarpet": [
           {
            "colorbar": {
             "outlinewidth": 0,
             "ticks": ""
            },
            "type": "contourcarpet"
           }
          ],
          "heatmap": [
           {
            "colorbar": {
             "outlinewidth": 0,
             "ticks": ""
            },
            "colorscale": [
             [
              0,
              "#0d0887"
             ],
             [
              0.1111111111111111,
              "#46039f"
             ],
             [
              0.2222222222222222,
              "#7201a8"
             ],
             [
              0.3333333333333333,
              "#9c179e"
             ],
             [
              0.4444444444444444,
              "#bd3786"
             ],
             [
              0.5555555555555556,
              "#d8576b"
             ],
             [
              0.6666666666666666,
              "#ed7953"
             ],
             [
              0.7777777777777778,
              "#fb9f3a"
             ],
             [
              0.8888888888888888,
              "#fdca26"
             ],
             [
              1,
              "#f0f921"
             ]
            ],
            "type": "heatmap"
           }
          ],
          "heatmapgl": [
           {
            "colorbar": {
             "outlinewidth": 0,
             "ticks": ""
            },
            "colorscale": [
             [
              0,
              "#0d0887"
             ],
             [
              0.1111111111111111,
              "#46039f"
             ],
             [
              0.2222222222222222,
              "#7201a8"
             ],
             [
              0.3333333333333333,
              "#9c179e"
             ],
             [
              0.4444444444444444,
              "#bd3786"
             ],
             [
              0.5555555555555556,
              "#d8576b"
             ],
             [
              0.6666666666666666,
              "#ed7953"
             ],
             [
              0.7777777777777778,
              "#fb9f3a"
             ],
             [
              0.8888888888888888,
              "#fdca26"
             ],
             [
              1,
              "#f0f921"
             ]
            ],
            "type": "heatmapgl"
           }
          ],
          "histogram": [
           {
            "marker": {
             "pattern": {
              "fillmode": "overlay",
              "size": 10,
              "solidity": 0.2
             }
            },
            "type": "histogram"
           }
          ],
          "histogram2d": [
           {
            "colorbar": {
             "outlinewidth": 0,
             "ticks": ""
            },
            "colorscale": [
             [
              0,
              "#0d0887"
             ],
             [
              0.1111111111111111,
              "#46039f"
             ],
             [
              0.2222222222222222,
              "#7201a8"
             ],
             [
              0.3333333333333333,
              "#9c179e"
             ],
             [
              0.4444444444444444,
              "#bd3786"
             ],
             [
              0.5555555555555556,
              "#d8576b"
             ],
             [
              0.6666666666666666,
              "#ed7953"
             ],
             [
              0.7777777777777778,
              "#fb9f3a"
             ],
             [
              0.8888888888888888,
              "#fdca26"
             ],
             [
              1,
              "#f0f921"
             ]
            ],
            "type": "histogram2d"
           }
          ],
          "histogram2dcontour": [
           {
            "colorbar": {
             "outlinewidth": 0,
             "ticks": ""
            },
            "colorscale": [
             [
              0,
              "#0d0887"
             ],
             [
              0.1111111111111111,
              "#46039f"
             ],
             [
              0.2222222222222222,
              "#7201a8"
             ],
             [
              0.3333333333333333,
              "#9c179e"
             ],
             [
              0.4444444444444444,
              "#bd3786"
             ],
             [
              0.5555555555555556,
              "#d8576b"
             ],
             [
              0.6666666666666666,
              "#ed7953"
             ],
             [
              0.7777777777777778,
              "#fb9f3a"
             ],
             [
              0.8888888888888888,
              "#fdca26"
             ],
             [
              1,
              "#f0f921"
             ]
            ],
            "type": "histogram2dcontour"
           }
          ],
          "mesh3d": [
           {
            "colorbar": {
             "outlinewidth": 0,
             "ticks": ""
            },
            "type": "mesh3d"
           }
          ],
          "parcoords": [
           {
            "line": {
             "colorbar": {
              "outlinewidth": 0,
              "ticks": ""
             }
            },
            "type": "parcoords"
           }
          ],
          "pie": [
           {
            "automargin": true,
            "type": "pie"
           }
          ],
          "scatter": [
           {
            "fillpattern": {
             "fillmode": "overlay",
             "size": 10,
             "solidity": 0.2
            },
            "type": "scatter"
           }
          ],
          "scatter3d": [
           {
            "line": {
             "colorbar": {
              "outlinewidth": 0,
              "ticks": ""
             }
            },
            "marker": {
             "colorbar": {
              "outlinewidth": 0,
              "ticks": ""
             }
            },
            "type": "scatter3d"
           }
          ],
          "scattercarpet": [
           {
            "marker": {
             "colorbar": {
              "outlinewidth": 0,
              "ticks": ""
             }
            },
            "type": "scattercarpet"
           }
          ],
          "scattergeo": [
           {
            "marker": {
             "colorbar": {
              "outlinewidth": 0,
              "ticks": ""
             }
            },
            "type": "scattergeo"
           }
          ],
          "scattergl": [
           {
            "marker": {
             "colorbar": {
              "outlinewidth": 0,
              "ticks": ""
             }
            },
            "type": "scattergl"
           }
          ],
          "scattermapbox": [
           {
            "marker": {
             "colorbar": {
              "outlinewidth": 0,
              "ticks": ""
             }
            },
            "type": "scattermapbox"
           }
          ],
          "scatterpolar": [
           {
            "marker": {
             "colorbar": {
              "outlinewidth": 0,
              "ticks": ""
             }
            },
            "type": "scatterpolar"
           }
          ],
          "scatterpolargl": [
           {
            "marker": {
             "colorbar": {
              "outlinewidth": 0,
              "ticks": ""
             }
            },
            "type": "scatterpolargl"
           }
          ],
          "scatterternary": [
           {
            "marker": {
             "colorbar": {
              "outlinewidth": 0,
              "ticks": ""
             }
            },
            "type": "scatterternary"
           }
          ],
          "surface": [
           {
            "colorbar": {
             "outlinewidth": 0,
             "ticks": ""
            },
            "colorscale": [
             [
              0,
              "#0d0887"
             ],
             [
              0.1111111111111111,
              "#46039f"
             ],
             [
              0.2222222222222222,
              "#7201a8"
             ],
             [
              0.3333333333333333,
              "#9c179e"
             ],
             [
              0.4444444444444444,
              "#bd3786"
             ],
             [
              0.5555555555555556,
              "#d8576b"
             ],
             [
              0.6666666666666666,
              "#ed7953"
             ],
             [
              0.7777777777777778,
              "#fb9f3a"
             ],
             [
              0.8888888888888888,
              "#fdca26"
             ],
             [
              1,
              "#f0f921"
             ]
            ],
            "type": "surface"
           }
          ],
          "table": [
           {
            "cells": {
             "fill": {
              "color": "#EBF0F8"
             },
             "line": {
              "color": "white"
             }
            },
            "header": {
             "fill": {
              "color": "#C8D4E3"
             },
             "line": {
              "color": "white"
             }
            },
            "type": "table"
           }
          ]
         },
         "layout": {
          "annotationdefaults": {
           "arrowcolor": "#2a3f5f",
           "arrowhead": 0,
           "arrowwidth": 1
          },
          "autotypenumbers": "strict",
          "coloraxis": {
           "colorbar": {
            "outlinewidth": 0,
            "ticks": ""
           }
          },
          "colorscale": {
           "diverging": [
            [
             0,
             "#8e0152"
            ],
            [
             0.1,
             "#c51b7d"
            ],
            [
             0.2,
             "#de77ae"
            ],
            [
             0.3,
             "#f1b6da"
            ],
            [
             0.4,
             "#fde0ef"
            ],
            [
             0.5,
             "#f7f7f7"
            ],
            [
             0.6,
             "#e6f5d0"
            ],
            [
             0.7,
             "#b8e186"
            ],
            [
             0.8,
             "#7fbc41"
            ],
            [
             0.9,
             "#4d9221"
            ],
            [
             1,
             "#276419"
            ]
           ],
           "sequential": [
            [
             0,
             "#0d0887"
            ],
            [
             0.1111111111111111,
             "#46039f"
            ],
            [
             0.2222222222222222,
             "#7201a8"
            ],
            [
             0.3333333333333333,
             "#9c179e"
            ],
            [
             0.4444444444444444,
             "#bd3786"
            ],
            [
             0.5555555555555556,
             "#d8576b"
            ],
            [
             0.6666666666666666,
             "#ed7953"
            ],
            [
             0.7777777777777778,
             "#fb9f3a"
            ],
            [
             0.8888888888888888,
             "#fdca26"
            ],
            [
             1,
             "#f0f921"
            ]
           ],
           "sequentialminus": [
            [
             0,
             "#0d0887"
            ],
            [
             0.1111111111111111,
             "#46039f"
            ],
            [
             0.2222222222222222,
             "#7201a8"
            ],
            [
             0.3333333333333333,
             "#9c179e"
            ],
            [
             0.4444444444444444,
             "#bd3786"
            ],
            [
             0.5555555555555556,
             "#d8576b"
            ],
            [
             0.6666666666666666,
             "#ed7953"
            ],
            [
             0.7777777777777778,
             "#fb9f3a"
            ],
            [
             0.8888888888888888,
             "#fdca26"
            ],
            [
             1,
             "#f0f921"
            ]
           ]
          },
          "colorway": [
           "#636efa",
           "#EF553B",
           "#00cc96",
           "#ab63fa",
           "#FFA15A",
           "#19d3f3",
           "#FF6692",
           "#B6E880",
           "#FF97FF",
           "#FECB52"
          ],
          "font": {
           "color": "#2a3f5f"
          },
          "geo": {
           "bgcolor": "white",
           "lakecolor": "white",
           "landcolor": "#E5ECF6",
           "showlakes": true,
           "showland": true,
           "subunitcolor": "white"
          },
          "hoverlabel": {
           "align": "left"
          },
          "hovermode": "closest",
          "mapbox": {
           "style": "light"
          },
          "paper_bgcolor": "white",
          "plot_bgcolor": "#E5ECF6",
          "polar": {
           "angularaxis": {
            "gridcolor": "white",
            "linecolor": "white",
            "ticks": ""
           },
           "bgcolor": "#E5ECF6",
           "radialaxis": {
            "gridcolor": "white",
            "linecolor": "white",
            "ticks": ""
           }
          },
          "scene": {
           "xaxis": {
            "backgroundcolor": "#E5ECF6",
            "gridcolor": "white",
            "gridwidth": 2,
            "linecolor": "white",
            "showbackground": true,
            "ticks": "",
            "zerolinecolor": "white"
           },
           "yaxis": {
            "backgroundcolor": "#E5ECF6",
            "gridcolor": "white",
            "gridwidth": 2,
            "linecolor": "white",
            "showbackground": true,
            "ticks": "",
            "zerolinecolor": "white"
           },
           "zaxis": {
            "backgroundcolor": "#E5ECF6",
            "gridcolor": "white",
            "gridwidth": 2,
            "linecolor": "white",
            "showbackground": true,
            "ticks": "",
            "zerolinecolor": "white"
           }
          },
          "shapedefaults": {
           "line": {
            "color": "#2a3f5f"
           }
          },
          "ternary": {
           "aaxis": {
            "gridcolor": "white",
            "linecolor": "white",
            "ticks": ""
           },
           "baxis": {
            "gridcolor": "white",
            "linecolor": "white",
            "ticks": ""
           },
           "bgcolor": "#E5ECF6",
           "caxis": {
            "gridcolor": "white",
            "linecolor": "white",
            "ticks": ""
           }
          },
          "title": {
           "x": 0.05
          },
          "xaxis": {
           "automargin": true,
           "gridcolor": "white",
           "linecolor": "white",
           "ticks": "",
           "title": {
            "standoff": 15
           },
           "zerolinecolor": "white",
           "zerolinewidth": 2
          },
          "yaxis": {
           "automargin": true,
           "gridcolor": "white",
           "linecolor": "white",
           "ticks": "",
           "title": {
            "standoff": 15
           },
           "zerolinecolor": "white",
           "zerolinewidth": 2
          }
         }
        },
        "title": {
         "text": "Principal Components"
        },
        "width": 500,
        "xaxis": {
         "anchor": "y",
         "autorange": true,
         "domain": [
          0,
          1
         ],
         "range": [
          -3.198909773070612,
          3.1468924975469004
         ],
         "title": {
          "text": "x"
         },
         "type": "linear"
        },
        "yaxis": {
         "anchor": "x",
         "autorange": true,
         "domain": [
          0,
          1
         ],
         "range": [
          -1.1255371723422782,
          1.184705931754571
         ],
         "title": {
          "text": "y"
         },
         "type": "linear"
        }
       }
      },
      "image/png": "[encoded data removed]",
      "text/html": [
       "<div>                            <div id=\"b19af05a-74e8-4d8e-a610-f6cee8380d33\" class=\"plotly-graph-div\" style=\"height:700px; width:500px;\"></div>            <script type=\"text/javascript\">                require([\"plotly\"], function(Plotly) {                    window.PLOTLYENV=window.PLOTLYENV || {};                                    if (document.getElementById(\"b19af05a-74e8-4d8e-a610-f6cee8380d33\")) {                    Plotly.newPlot(                        \"b19af05a-74e8-4d8e-a610-f6cee8380d33\",                        [{\"hovertemplate\":\"x=%{x}\\u003cbr\\u003ey=%{y}\\u003cextra\\u003e\\u003c\\u002fextra\\u003e\",\"legendgroup\":\"\",\"marker\":{\"color\":\"#636efa\",\"symbol\":\"circle\"},\"mode\":\"markers\",\"name\":\"\",\"orientation\":\"v\",\"showlegend\":false,\"x\":[-1.5708645338297482,-1.1050060190061997,-1.0440661450506166,-0.22372857341982433,0.9314285347980017,1.7674846317546025,2.078183933596386,2.3623050744960876,1.9636295313462102,2.1577030414093223,2.4693366529287326,1.877214152765018,0.8116000754690156,0.40560875961387155,-0.13724733877427564,-0.984990971744517,-1.6693896500613046,-2.5261185208308645,-2.460811607959994,-2.166811180636689,-2.4763034422138315,-1.732712976758276,-1.1784973102474623,-0.20934053485507786,-0.19642421630179707,1.1173492467476955,1.3208050807358047,1.3797403638558021,2.1927419012852907,2.2168714091948316,1.5936580615632887,2.4907342178633125,1.4849391634686655,1.078135780435557,0.30565893581893133,-0.029866491665131,-1.220288482603801,-1.624198057264773,-1.9825770787408343,-2.642559686237858,-2.2482847814169524,-1.977909117028061,-1.3846645095937498,-1.089916549941968,-0.7415274234632702,0.12215747062501758,0.8608628116012584,1.62951023218453,2.3501734751855685,1.6958807640296463,2.176883307773209,2.0326874459988575,2.0073313180707846,1.501185245349322,0.8586377033009185,-0.19118791567668905,-1.1259512243472682,-1.0420037424332023,-2.306239809328337,-2.332449701760671,-2.8116291933196904,-2.4938661905265285,-2.371260799986379,-2.1584450380127795,-1.560322773451988,-0.6665288613027723,0.4370136976648519,0.5514306079866717,1.322832722059096,2.502457557213331,2.3588621989792875,2.6702155073787006,2.6369437711702766,2.1941736796855165,2.0142577558410233,1.1431128397072263,0.1458127483839039,-0.7172916943738147,-1.2756606354646447,-1.8361473576225424,-2.282440331839346,-2.4386330954284063,-2.395486954815251,-2.112483734009792,-1.762638993092644,-1.0206774040541815,-0.024286757410984294,-0.10719789719844003,0.8270875545296297,1.3894855150185725,1.6856309975480148,2.581183736088023,2.4601690648588943,2.5276475317741287,1.5426523168019033,1.7389765713236507,0.9504935149539199,0.13735092613936756,-0.3330354048629189,-1.153960619338399,-1.6123082380048428,-2.711789024731025,-2.008509042376643,-2.6878928046249344,-2.2004943508832238,-1.7687191414081573,-0.9554122524661072,-0.0417112669760934,0.4827119856654716,0.9457450383804661,1.251882868980651,2.0489192288210383,2.1718064955581733,2.3756303108865797,2.1787978211135783,1.679692725997114,0.9727183406924615,0.6539262685708862,0.48201788006521123,-0.9707652419550884,-1.1396813926818583,-1.8930657731744172,-2.274591049428389,-2.3587051812300315,-2.0026829168321125,-1.8017627838298704,-1.7400151389610228,-0.7468358766124045,0.13663273232895828,0.3463687314681315,1.5955264481720366,1.7233595581721237,2.3490807196273975,2.294726692021884,2.339809734853592,2.385635455520834,2.069181820066741,1.4810726871030244,0.7526302751419591,-0.28644267144680635,-1.1475779102836272,-1.4192808208782717,-1.906976649773831,-2.3965394130580067,-2.089292005510857,-2.632155069055043,-2.005699515366052,-1.9186687202211288,-1.5567145109310223,-0.4110572526083486,0.7023716926688192,1.2586781848585116,1.7248407480761054,2.087770391364253,2.3535459177148086,2.759611917795979,2.3479371828293605,1.7453329583043082,1.399803005903154,0.584574224121754,0.32773369291150045,-0.6538816617560451,-1.356648780193297,-1.669468407016095,-2.2315099383123007,-2.271478050497638,-2.08812816664836,-1.945154252578036,-1.7359985240588833,-1.568511931137673,-0.5263794679979361,0.322172718599427,1.5598264282936873,1.4513586097657516,2.105363300879329,2.3129899573302826,2.1613454271239805,2.477003405571425,1.9801960586387655,1.7981910054384458,0.8712417576739993,-0.04252516414424695,-0.7634298879652613,-0.7406353994321021,-1.7564177361910411,-2.7041206238921207,-2.4571461631098277,-2.5161347880316685,-1.9727595338747022,-1.5842718979605246,-1.0664100961299,-0.33804902260092146,0.5171204711208803,0.9104282165883363,1.4722056660982092,2.6044688178189745,2.2690213120399556,2.466952709243445,1.4600625919313066,2.354093429892818,1.469959842370328,0.8687519100164095,-0.10917435915875567,-1.1382791208535796,-1.6908288504557512,-2.280649424620823,-2.2803073303349146,-2.7192670629113707,-2.464392733368994,-1.99982079071763],\"xaxis\":\"x\",\"y\":[-0.6642511673873228,-0.6818367586727512,-0.8576785865453553,-0.7644343735192269,-0.2778091392201745,-0.02976200595778522,0.021393133616264493,0.28550367294893975,0.1534053704905336,0.5622577930799475,1.0267450000150449,0.9026925156841314,0.6554093439394165,0.7423831089457429,0.8024845612683872,0.4227520300382269,0.11675219781314705,-0.2927371695889325,-0.3413834799021439,-0.448558451899821,-0.7847292436221179,-0.741577239827013,-0.6936509257442243,-0.5534862667507973,-0.6627523096061076,-0.19368500726578358,-0.17858793362478376,-0.2707252572700166,0.21119938210139122,0.38168405438035413,0.20844991979374855,0.859458869780193,0.700608099598934,0.7636518511413224,0.7530701772967701,0.7886507166860104,0.20931819035363813,0.09329190477574156,-0.06927028163711968,-0.4209378478426882,-0.5149504939566845,-0.6524124282602596,-0.5021136834865734,-0.8325378953833988,-0.8158692055493779,-0.5009104832494402,-0.3773275562610322,-0.07801648369132363,0.1441521192536689,0.026730045643154066,0.38215515140239176,0.4703574406475104,0.7586172718760834,0.839791480452035,0.7768632767867276,0.4016162225587827,0.17020007293332917,0.3842703558373775,-0.19970666273518445,-0.2745354529318349,-0.5499016797852002,-0.5442311976389801,-0.7683409990993701,-0.8955558259936702,-0.9142284722843004,-0.7299723288583705,-0.44159185746040963,-0.5964093909434183,-0.3200859830761982,0.33761454167482574,0.26360613538500477,0.6307925765984363,0.7218620460611886,0.8743497828978405,0.9052083935189943,0.8641037475498978,0.6411151476788095,0.26004437212499976,0.2620383594496678,0.03646244040537916,-0.22606931165119726,-0.3588874295735962,-0.5768156590909295,-0.6974598604399039,-0.7510207197439293,-0.7133750275571635,-0.517770983012342,-0.8490212868724939,-0.39897785938087915,-0.18676933253467287,-0.14688906230504117,0.33906955440235576,0.5923641237288275,0.6934118138006367,0.5612744249431055,0.9167212952973824,0.7364931647510247,0.5683496613185377,0.5897854115832912,0.3244514884804968,0.1758209249847985,-0.3869689294697758,-0.2553462362562239,-0.7229769951521232,-0.6495193329293758,-0.8106579838007137,-0.7146552075798205,-0.5940792819021362,-0.5462757656855233,-0.32059717912627145,-0.38564021829341166,0.14138651900257593,0.2840169368865564,0.5392887371578654,0.6909014923680741,0.5181743823648146,0.5653646790731928,0.6589771381590382,0.7778985396659592,0.20714815809292558,0.3591104091722735,0.05222206016215469,-0.2693309133061922,-0.40813206147831793,-0.3614714072091717,-0.5000933084992727,-0.9061070476893669,-0.6101875036928579,-0.5828381347093352,-0.5194447193397547,-0.12166620877134016,-0.050827217316575024,0.22588309241328997,0.2646311692679023,0.47384192088267063,0.5418141064860804,0.8275279780209378,0.7844533303886186,0.757165557334962,0.46601307516386864,0.22988892117369109,0.22200172712705502,0.06377665729181159,-0.19636684177937114,-0.3906691682046211,-0.70555530483204,-0.8041709093366165,-0.8492020638198983,-0.9933646101367373,-0.6745961601244157,-0.4656309086535224,-0.20098274197437116,-0.09299254369320675,0.0575741692601921,0.2964207344368426,0.7529762000918,0.6798622334185536,0.812197141944714,0.8585255822885919,0.7521272600080627,0.7886129395364957,0.4382582540286191,0.31974363436761966,0.06341023381715583,-0.1547748760923513,-0.3434708651341061,-0.42518624954414114,-0.6739656765223184,-0.8521156591276908,-0.9413043642022761,-0.6912689499909226,-0.5201948043866512,-0.14440310763050124,-0.12671278870258196,0.14094683598383517,0.25587974909829414,0.4306019184426278,0.7902463740753357,0.866433592038776,1.05253336954903,0.7757577820430004,0.44746963799899137,0.45654858328073616,0.5879895462773846,0.0859643100391353,-0.4540513216489356,-0.49839705554559394,-0.7214805768510093,-0.679482912690494,-0.6481056324747638,-0.8827901243599194,-0.7091169850875769,-0.4043061229042409,-0.4596428699791432,-0.17712657976890844,0.3460031435416565,0.40271461710277334,0.41095876059947534,0.291816635444516,1.0465216251911253,0.80667664300962,0.7483943352906348,0.5889927409664721,0.22153746577954941,0.042034913148927266,-0.0853644988108121,-0.20395538968378446,-0.5201278452424836,-0.6100904852519407,-0.7006815824444632],\"yaxis\":\"y\",\"type\":\"scatter\"}],                        {\"template\":{\"data\":{\"histogram2dcontour\":[{\"type\":\"histogram2dcontour\",\"colorbar\":{\"outlinewidth\":0,\"ticks\":\"\"},\"colorscale\":[[0.0,\"#0d0887\"],[0.1111111111111111,\"#46039f\"],[0.2222222222222222,\"#7201a8\"],[0.3333333333333333,\"#9c179e\"],[0.4444444444444444,\"#bd3786\"],[0.5555555555555556,\"#d8576b\"],[0.6666666666666666,\"#ed7953\"],[0.7777777777777778,\"#fb9f3a\"],[0.8888888888888888,\"#fdca26\"],[1.0,\"#f0f921\"]]}],\"choropleth\":[{\"type\":\"choropleth\",\"colorbar\":{\"outlinewidth\":0,\"ticks\":\"\"}}],\"histogram2d\":[{\"type\":\"histogram2d\",\"colorbar\":{\"outlinewidth\":0,\"ticks\":\"\"},\"colorscale\":[[0.0,\"#0d0887\"],[0.1111111111111111,\"#46039f\"],[0.2222222222222222,\"#7201a8\"],[0.3333333333333333,\"#9c179e\"],[0.4444444444444444,\"#bd3786\"],[0.5555555555555556,\"#d8576b\"],[0.6666666666666666,\"#ed7953\"],[0.7777777777777778,\"#fb9f3a\"],[0.8888888888888888,\"#fdca26\"],[1.0,\"#f0f921\"]]}],\"heatmap\":[{\"type\":\"heatmap\",\"colorbar\":{\"outlinewidth\":0,\"ticks\":\"\"},\"colorscale\":[[0.0,\"#0d0887\"],[0.1111111111111111,\"#46039f\"],[0.2222222222222222,\"#7201a8\"],[0.3333333333333333,\"#9c179e\"],[0.4444444444444444,\"#bd3786\"],[0.5555555555555556,\"#d8576b\"],[0.6666666666666666,\"#ed7953\"],[0.7777777777777778,\"#fb9f3a\"],[0.8888888888888888,\"#fdca26\"],[1.0,\"#f0f921\"]]}],\"heatmapgl\":[{\"type\":\"heatmapgl\",\"colorbar\":{\"outlinewidth\":0,\"ticks\":\"\"},\"colorscale\":[[0.0,\"#0d0887\"],[0.1111111111111111,\"#46039f\"],[0.2222222222222222,\"#7201a8\"],[0.3333333333333333,\"#9c179e\"],[0.4444444444444444,\"#bd3786\"],[0.5555555555555556,\"#d8576b\"],[0.6666666666666666,\"#ed7953\"],[0.7777777777777778,\"#fb9f3a\"],[0.8888888888888888,\"#fdca26\"],[1.0,\"#f0f921\"]]}],\"contourcarpet\":[{\"type\":\"contourcarpet\",\"colorbar\":{\"outlinewidth\":0,\"ticks\":\"\"}}],\"contour\":[{\"type\":\"contour\",\"colorbar\":{\"outlinewidth\":0,\"ticks\":\"\"},\"colorscale\":[[0.0,\"#0d0887\"],[0.1111111111111111,\"#46039f\"],[0.2222222222222222,\"#7201a8\"],[0.3333333333333333,\"#9c179e\"],[0.4444444444444444,\"#bd3786\"],[0.5555555555555556,\"#d8576b\"],[0.6666666666666666,\"#ed7953\"],[0.7777777777777778,\"#fb9f3a\"],[0.8888888888888888,\"#fdca26\"],[1.0,\"#f0f921\"]]}],\"surface\":[{\"type\":\"surface\",\"colorbar\":{\"outlinewidth\":0,\"ticks\":\"\"},\"colorscale\":[[0.0,\"#0d0887\"],[0.1111111111111111,\"#46039f\"],[0.2222222222222222,\"#7201a8\"],[0.3333333333333333,\"#9c179e\"],[0.4444444444444444,\"#bd3786\"],[0.5555555555555556,\"#d8576b\"],[0.6666666666666666,\"#ed7953\"],[0.7777777777777778,\"#fb9f3a\"],[0.8888888888888888,\"#fdca26\"],[1.0,\"#f0f921\"]]}],\"mesh3d\":[{\"type\":\"mesh3d\",\"colorbar\":{\"outlinewidth\":0,\"ticks\":\"\"}}],\"scatter\":[{\"fillpattern\":{\"fillmode\":\"overlay\",\"size\":10,\"solidity\":0.2},\"type\":\"scatter\"}],\"parcoords\":[{\"type\":\"parcoords\",\"line\":{\"colorbar\":{\"outlinewidth\":0,\"ticks\":\"\"}}}],\"scatterpolargl\":[{\"type\":\"scatterpolargl\",\"marker\":{\"colorbar\":{\"outlinewidth\":0,\"ticks\":\"\"}}}],\"bar\":[{\"error_x\":{\"color\":\"#2a3f5f\"},\"error_y\":{\"color\":\"#2a3f5f\"},\"marker\":{\"line\":{\"color\":\"#E5ECF6\",\"width\":0.5},\"pattern\":{\"fillmode\":\"overlay\",\"size\":10,\"solidity\":0.2}},\"type\":\"bar\"}],\"scattergeo\":[{\"type\":\"scattergeo\",\"marker\":{\"colorbar\":{\"outlinewidth\":0,\"ticks\":\"\"}}}],\"scatterpolar\":[{\"type\":\"scatterpolar\",\"marker\":{\"colorbar\":{\"outlinewidth\":0,\"ticks\":\"\"}}}],\"histogram\":[{\"marker\":{\"pattern\":{\"fillmode\":\"overlay\",\"size\":10,\"solidity\":0.2}},\"type\":\"histogram\"}],\"scattergl\":[{\"type\":\"scattergl\",\"marker\":{\"colorbar\":{\"outlinewidth\":0,\"ticks\":\"\"}}}],\"scatter3d\":[{\"type\":\"scatter3d\",\"line\":{\"colorbar\":{\"outlinewidth\":0,\"ticks\":\"\"}},\"marker\":{\"colorbar\":{\"outlinewidth\":0,\"ticks\":\"\"}}}],\"scattermapbox\":[{\"type\":\"scattermapbox\",\"marker\":{\"colorbar\":{\"outlinewidth\":0,\"ticks\":\"\"}}}],\"scatterternary\":[{\"type\":\"scatterternary\",\"marker\":{\"colorbar\":{\"outlinewidth\":0,\"ticks\":\"\"}}}],\"scattercarpet\":[{\"type\":\"scattercarpet\",\"marker\":{\"colorbar\":{\"outlinewidth\":0,\"ticks\":\"\"}}}],\"carpet\":[{\"aaxis\":{\"endlinecolor\":\"#2a3f5f\",\"gridcolor\":\"white\",\"linecolor\":\"white\",\"minorgridcolor\":\"white\",\"startlinecolor\":\"#2a3f5f\"},\"baxis\":{\"endlinecolor\":\"#2a3f5f\",\"gridcolor\":\"white\",\"linecolor\":\"white\",\"minorgridcolor\":\"white\",\"startlinecolor\":\"#2a3f5f\"},\"type\":\"carpet\"}],\"table\":[{\"cells\":{\"fill\":{\"color\":\"#EBF0F8\"},\"line\":{\"color\":\"white\"}},\"header\":{\"fill\":{\"color\":\"#C8D4E3\"},\"line\":{\"color\":\"white\"}},\"type\":\"table\"}],\"barpolar\":[{\"marker\":{\"line\":{\"color\":\"#E5ECF6\",\"width\":0.5},\"pattern\":{\"fillmode\":\"overlay\",\"size\":10,\"solidity\":0.2}},\"type\":\"barpolar\"}],\"pie\":[{\"automargin\":true,\"type\":\"pie\"}]},\"layout\":{\"autotypenumbers\":\"strict\",\"colorway\":[\"#636efa\",\"#EF553B\",\"#00cc96\",\"#ab63fa\",\"#FFA15A\",\"#19d3f3\",\"#FF6692\",\"#B6E880\",\"#FF97FF\",\"#FECB52\"],\"font\":{\"color\":\"#2a3f5f\"},\"hovermode\":\"closest\",\"hoverlabel\":{\"align\":\"left\"},\"paper_bgcolor\":\"white\",\"plot_bgcolor\":\"#E5ECF6\",\"polar\":{\"bgcolor\":\"#E5ECF6\",\"angularaxis\":{\"gridcolor\":\"white\",\"linecolor\":\"white\",\"ticks\":\"\"},\"radialaxis\":{\"gridcolor\":\"white\",\"linecolor\":\"white\",\"ticks\":\"\"}},\"ternary\":{\"bgcolor\":\"#E5ECF6\",\"aaxis\":{\"gridcolor\":\"white\",\"linecolor\":\"white\",\"ticks\":\"\"},\"baxis\":{\"gridcolor\":\"white\",\"linecolor\":\"white\",\"ticks\":\"\"},\"caxis\":{\"gridcolor\":\"white\",\"linecolor\":\"white\",\"ticks\":\"\"}},\"coloraxis\":{\"colorbar\":{\"outlinewidth\":0,\"ticks\":\"\"}},\"colorscale\":{\"sequential\":[[0.0,\"#0d0887\"],[0.1111111111111111,\"#46039f\"],[0.2222222222222222,\"#7201a8\"],[0.3333333333333333,\"#9c179e\"],[0.4444444444444444,\"#bd3786\"],[0.5555555555555556,\"#d8576b\"],[0.6666666666666666,\"#ed7953\"],[0.7777777777777778,\"#fb9f3a\"],[0.8888888888888888,\"#fdca26\"],[1.0,\"#f0f921\"]],\"sequentialminus\":[[0.0,\"#0d0887\"],[0.1111111111111111,\"#46039f\"],[0.2222222222222222,\"#7201a8\"],[0.3333333333333333,\"#9c179e\"],[0.4444444444444444,\"#bd3786\"],[0.5555555555555556,\"#d8576b\"],[0.6666666666666666,\"#ed7953\"],[0.7777777777777778,\"#fb9f3a\"],[0.8888888888888888,\"#fdca26\"],[1.0,\"#f0f921\"]],\"diverging\":[[0,\"#8e0152\"],[0.1,\"#c51b7d\"],[0.2,\"#de77ae\"],[0.3,\"#f1b6da\"],[0.4,\"#fde0ef\"],[0.5,\"#f7f7f7\"],[0.6,\"#e6f5d0\"],[0.7,\"#b8e186\"],[0.8,\"#7fbc41\"],[0.9,\"#4d9221\"],[1,\"#276419\"]]},\"xaxis\":{\"gridcolor\":\"white\",\"linecolor\":\"white\",\"ticks\":\"\",\"title\":{\"standoff\":15},\"zerolinecolor\":\"white\",\"automargin\":true,\"zerolinewidth\":2},\"yaxis\":{\"gridcolor\":\"white\",\"linecolor\":\"white\",\"ticks\":\"\",\"title\":{\"standoff\":15},\"zerolinecolor\":\"white\",\"automargin\":true,\"zerolinewidth\":2},\"scene\":{\"xaxis\":{\"backgroundcolor\":\"#E5ECF6\",\"gridcolor\":\"white\",\"linecolor\":\"white\",\"showbackground\":true,\"ticks\":\"\",\"zerolinecolor\":\"white\",\"gridwidth\":2},\"yaxis\":{\"backgroundcolor\":\"#E5ECF6\",\"gridcolor\":\"white\",\"linecolor\":\"white\",\"showbackground\":true,\"ticks\":\"\",\"zerolinecolor\":\"white\",\"gridwidth\":2},\"zaxis\":{\"backgroundcolor\":\"#E5ECF6\",\"gridcolor\":\"white\",\"linecolor\":\"white\",\"showbackground\":true,\"ticks\":\"\",\"zerolinecolor\":\"white\",\"gridwidth\":2}},\"shapedefaults\":{\"line\":{\"color\":\"#2a3f5f\"}},\"annotationdefaults\":{\"arrowcolor\":\"#2a3f5f\",\"arrowhead\":0,\"arrowwidth\":1},\"geo\":{\"bgcolor\":\"white\",\"landcolor\":\"#E5ECF6\",\"subunitcolor\":\"white\",\"showland\":true,\"showlakes\":true,\"lakecolor\":\"white\"},\"title\":{\"x\":0.05},\"mapbox\":{\"style\":\"light\"}}},\"xaxis\":{\"anchor\":\"y\",\"domain\":[0.0,1.0],\"title\":{\"text\":\"x\"}},\"yaxis\":{\"anchor\":\"x\",\"domain\":[0.0,1.0],\"title\":{\"text\":\"y\"}},\"legend\":{\"tracegroupgap\":0},\"title\":{\"text\":\"Principal Components\"},\"height\":700,\"width\":500},                        {\"responsive\": true}                    ).then(function(){\n",
       "                            \n",
       "var gd = document.getElementById('b19af05a-74e8-4d8e-a610-f6cee8380d33');\n",
       "var x = new MutationObserver(function (mutations, observer) {{\n",
       "        var display = window.getComputedStyle(gd).display;\n",
       "        if (!display || display === 'none') {{\n",
       "            console.log([gd, 'removed!']);\n",
       "            Plotly.purge(gd);\n",
       "            observer.disconnect();\n",
       "        }}\n",
       "}});\n",
       "\n",
       "// Listen for the removal of the full notebook cells\n",
       "var notebookContainer = gd.closest('#notebook-container');\n",
       "if (notebookContainer) {{\n",
       "    x.observe(notebookContainer, {childList: true});\n",
       "}}\n",
       "\n",
       "// Listen for the clearing of the current output cell\n",
       "var outputEl = gd.closest('.output');\n",
       "if (outputEl) {{\n",
       "    x.observe(outputEl, {childList: true});\n",
       "}}\n",
       "\n",
       "                        })                };                });            </script>        </div>"
      ]
     },
     "metadata": {},
     "output_type": "display_data"
    }
   ],
   "source": [
    "fig = px.scatter(x=PC[:,0],\n",
    "                 y = PC[:,1],\n",
    "                 title = f'Principal Components',\n",
    "                 width = 500,\n",
    "                 height = 700)\n",
    "fig.show() "
   ]
  },
  {
   "cell_type": "markdown",
   "id": "b74b000a-e070-4524-8877-b49bf2603141",
   "metadata": {},
   "source": [
    "We have what roughly looks like our original ellipse, but rotated. When we generated our synthetic viewpoints of the data, we lost information regarding spatial relationships. This is however not the issue. Recall that the points are not evenly distributed spatially (you can see some clustering at the ends in this plot), which causes this rotation. However, we can still detect the fact that the boundaries of the range of $y$ are approximately $3$ times that of $x$. In fact, the slope of the line from the origin through the top right corner appears to be approximately $3$. That is, $y \\approx 3x$ 'most of the time'. We can see from the truth $x(t)$ and $y(t)$ plots from the beginning of the notebook that when $x = \\pm3$, $y$ is increasing quickly to $\\pm 9$ and stays there until the slower $x$ dynamics push it over the corner to the next corner.\n",
    "\n",
    "Speaking of time, we can view the time dynamics that the principal components estimated.\n"
   ]
  },
  {
   "cell_type": "code",
   "execution_count": 30,
   "id": "845f3ad6-3a32-49b9-ba72-c29f73e57f08",
   "metadata": {},
   "outputs": [
    {
     "data": {
      "application/vnd.plotly.v1+json": {
       "config": {
        "plotlyServerURL": "https://plot.ly"
       },
       "data": [
        {
         "hovertemplate": "variable=x_pc(t)<br>t=%{x}<br>value=%{y}<extra></extra>",
         "legendgroup": "x_pc(t)",
         "line": {
          "color": "#636efa",
          "dash": "solid"
         },
         "marker": {
          "symbol": "circle"
         },
         "mode": "lines",
         "name": "x_pc(t)",
         "orientation": "v",
         "showlegend": true,
         "type": "scatter",
         "x": [
          0,
          1,
          2,
          3,
          4,
          5,
          6,
          7,
          8,
          9,
          10,
          11,
          12,
          13,
          14,
          15,
          16,
          17,
          18,
          19,
          20,
          21,
          22,
          23,
          24,
          25,
          26,
          27,
          28,
          29,
          30,
          31,
          32,
          33,
          34,
          35,
          36,
          37,
          38,
          39,
          40,
          41,
          42,
          43,
          44,
          45,
          46,
          47,
          48,
          49,
          50,
          51,
          52,
          53,
          54,
          55,
          56,
          57,
          58,
          59,
          60,
          61,
          62,
          63,
          64,
          65,
          66,
          67,
          68,
          69,
          70,
          71,
          72,
          73,
          74,
          75,
          76,
          77,
          78,
          79,
          80,
          81,
          82,
          83,
          84,
          85,
          86,
          87,
          88,
          89,
          90,
          91,
          92,
          93,
          94,
          95,
          96,
          97,
          98,
          99,
          100,
          101,
          102,
          103,
          104,
          105,
          106,
          107,
          108,
          109,
          110,
          111,
          112,
          113,
          114,
          115,
          116,
          117,
          118,
          119,
          120,
          121,
          122,
          123,
          124,
          125,
          126,
          127,
          128,
          129,
          130,
          131,
          132,
          133,
          134,
          135,
          136,
          137,
          138,
          139,
          140,
          141,
          142,
          143,
          144,
          145,
          146,
          147,
          148,
          149,
          150,
          151,
          152,
          153,
          154,
          155,
          156,
          157,
          158,
          159,
          160,
          161,
          162,
          163,
          164,
          165,
          166,
          167,
          168,
          169,
          170,
          171,
          172,
          173,
          174,
          175,
          176,
          177,
          178,
          179,
          180,
          181,
          182,
          183,
          184,
          185,
          186,
          187,
          188,
          189,
          190,
          191,
          192,
          193,
          194,
          195,
          196,
          197,
          198,
          199,
          200,
          201,
          202,
          203,
          204,
          205,
          206,
          207,
          208,
          209
         ],
         "xaxis": "x",
         "y": [
          -1.5708645338297482,
          -1.1050060190061997,
          -1.0440661450506166,
          -0.22372857341982433,
          0.9314285347980017,
          1.7674846317546025,
          2.078183933596386,
          2.3623050744960876,
          1.9636295313462102,
          2.1577030414093223,
          2.4693366529287326,
          1.877214152765018,
          0.8116000754690156,
          0.40560875961387155,
          -0.13724733877427564,
          -0.984990971744517,
          -1.6693896500613046,
          -2.5261185208308645,
          -2.460811607959994,
          -2.166811180636689,
          -2.4763034422138315,
          -1.732712976758276,
          -1.1784973102474623,
          -0.20934053485507786,
          -0.19642421630179707,
          1.1173492467476955,
          1.3208050807358047,
          1.3797403638558021,
          2.1927419012852907,
          2.2168714091948316,
          1.5936580615632887,
          2.4907342178633125,
          1.4849391634686655,
          1.078135780435557,
          0.30565893581893133,
          -0.029866491665131,
          -1.220288482603801,
          -1.624198057264773,
          -1.9825770787408343,
          -2.642559686237858,
          -2.2482847814169524,
          -1.977909117028061,
          -1.3846645095937498,
          -1.089916549941968,
          -0.7415274234632702,
          0.12215747062501758,
          0.8608628116012584,
          1.62951023218453,
          2.3501734751855685,
          1.6958807640296463,
          2.176883307773209,
          2.0326874459988575,
          2.0073313180707846,
          1.501185245349322,
          0.8586377033009185,
          -0.19118791567668905,
          -1.1259512243472682,
          -1.0420037424332023,
          -2.306239809328337,
          -2.332449701760671,
          -2.8116291933196904,
          -2.4938661905265285,
          -2.371260799986379,
          -2.1584450380127795,
          -1.560322773451988,
          -0.6665288613027723,
          0.4370136976648519,
          0.5514306079866717,
          1.322832722059096,
          2.502457557213331,
          2.3588621989792875,
          2.6702155073787006,
          2.6369437711702766,
          2.1941736796855165,
          2.0142577558410233,
          1.1431128397072263,
          0.1458127483839039,
          -0.7172916943738147,
          -1.2756606354646447,
          -1.8361473576225424,
          -2.282440331839346,
          -2.4386330954284063,
          -2.395486954815251,
          -2.112483734009792,
          -1.762638993092644,
          -1.0206774040541815,
          -0.024286757410984294,
          -0.10719789719844003,
          0.8270875545296297,
          1.3894855150185725,
          1.6856309975480148,
          2.581183736088023,
          2.4601690648588943,
          2.5276475317741287,
          1.5426523168019033,
          1.7389765713236507,
          0.9504935149539199,
          0.13735092613936756,
          -0.3330354048629189,
          -1.153960619338399,
          -1.6123082380048428,
          -2.711789024731025,
          -2.008509042376643,
          -2.6878928046249344,
          -2.2004943508832238,
          -1.7687191414081573,
          -0.9554122524661072,
          -0.0417112669760934,
          0.4827119856654716,
          0.9457450383804661,
          1.251882868980651,
          2.0489192288210383,
          2.1718064955581733,
          2.3756303108865797,
          2.1787978211135783,
          1.679692725997114,
          0.9727183406924615,
          0.6539262685708862,
          0.48201788006521123,
          -0.9707652419550884,
          -1.1396813926818583,
          -1.8930657731744172,
          -2.274591049428389,
          -2.3587051812300315,
          -2.0026829168321125,
          -1.8017627838298704,
          -1.7400151389610228,
          -0.7468358766124045,
          0.13663273232895828,
          0.3463687314681315,
          1.5955264481720366,
          1.7233595581721237,
          2.3490807196273975,
          2.294726692021884,
          2.339809734853592,
          2.385635455520834,
          2.069181820066741,
          1.4810726871030244,
          0.7526302751419591,
          -0.28644267144680635,
          -1.1475779102836272,
          -1.4192808208782717,
          -1.906976649773831,
          -2.3965394130580067,
          -2.089292005510857,
          -2.632155069055043,
          -2.005699515366052,
          -1.9186687202211288,
          -1.5567145109310223,
          -0.4110572526083486,
          0.7023716926688192,
          1.2586781848585116,
          1.7248407480761054,
          2.087770391364253,
          2.3535459177148086,
          2.759611917795979,
          2.3479371828293605,
          1.7453329583043082,
          1.399803005903154,
          0.584574224121754,
          0.32773369291150045,
          -0.6538816617560451,
          -1.356648780193297,
          -1.669468407016095,
          -2.2315099383123007,
          -2.271478050497638,
          -2.08812816664836,
          -1.945154252578036,
          -1.7359985240588833,
          -1.568511931137673,
          -0.5263794679979361,
          0.322172718599427,
          1.5598264282936873,
          1.4513586097657516,
          2.105363300879329,
          2.3129899573302826,
          2.1613454271239805,
          2.477003405571425,
          1.9801960586387655,
          1.7981910054384458,
          0.8712417576739993,
          -0.04252516414424695,
          -0.7634298879652613,
          -0.7406353994321021,
          -1.7564177361910411,
          -2.7041206238921207,
          -2.4571461631098277,
          -2.5161347880316685,
          -1.9727595338747022,
          -1.5842718979605246,
          -1.0664100961299,
          -0.33804902260092146,
          0.5171204711208803,
          0.9104282165883363,
          1.4722056660982092,
          2.6044688178189745,
          2.2690213120399556,
          2.466952709243445,
          1.4600625919313066,
          2.354093429892818,
          1.469959842370328,
          0.8687519100164095,
          -0.10917435915875567,
          -1.1382791208535796,
          -1.6908288504557512,
          -2.280649424620823,
          -2.2803073303349146,
          -2.7192670629113707,
          -2.464392733368994,
          -1.99982079071763
         ],
         "yaxis": "y"
        },
        {
         "hovertemplate": "variable=y_pc(t)<br>t=%{x}<br>value=%{y}<extra></extra>",
         "legendgroup": "y_pc(t)",
         "line": {
          "color": "#EF553B",
          "dash": "solid"
         },
         "marker": {
          "symbol": "circle"
         },
         "mode": "lines",
         "name": "y_pc(t)",
         "orientation": "v",
         "showlegend": true,
         "type": "scatter",
         "x": [
          0,
          1,
          2,
          3,
          4,
          5,
          6,
          7,
          8,
          9,
          10,
          11,
          12,
          13,
          14,
          15,
          16,
          17,
          18,
          19,
          20,
          21,
          22,
          23,
          24,
          25,
          26,
          27,
          28,
          29,
          30,
          31,
          32,
          33,
          34,
          35,
          36,
          37,
          38,
          39,
          40,
          41,
          42,
          43,
          44,
          45,
          46,
          47,
          48,
          49,
          50,
          51,
          52,
          53,
          54,
          55,
          56,
          57,
          58,
          59,
          60,
          61,
          62,
          63,
          64,
          65,
          66,
          67,
          68,
          69,
          70,
          71,
          72,
          73,
          74,
          75,
          76,
          77,
          78,
          79,
          80,
          81,
          82,
          83,
          84,
          85,
          86,
          87,
          88,
          89,
          90,
          91,
          92,
          93,
          94,
          95,
          96,
          97,
          98,
          99,
          100,
          101,
          102,
          103,
          104,
          105,
          106,
          107,
          108,
          109,
          110,
          111,
          112,
          113,
          114,
          115,
          116,
          117,
          118,
          119,
          120,
          121,
          122,
          123,
          124,
          125,
          126,
          127,
          128,
          129,
          130,
          131,
          132,
          133,
          134,
          135,
          136,
          137,
          138,
          139,
          140,
          141,
          142,
          143,
          144,
          145,
          146,
          147,
          148,
          149,
          150,
          151,
          152,
          153,
          154,
          155,
          156,
          157,
          158,
          159,
          160,
          161,
          162,
          163,
          164,
          165,
          166,
          167,
          168,
          169,
          170,
          171,
          172,
          173,
          174,
          175,
          176,
          177,
          178,
          179,
          180,
          181,
          182,
          183,
          184,
          185,
          186,
          187,
          188,
          189,
          190,
          191,
          192,
          193,
          194,
          195,
          196,
          197,
          198,
          199,
          200,
          201,
          202,
          203,
          204,
          205,
          206,
          207,
          208,
          209
         ],
         "xaxis": "x",
         "y": [
          -0.6642511673873228,
          -0.6818367586727512,
          -0.8576785865453553,
          -0.7644343735192269,
          -0.2778091392201745,
          -0.02976200595778522,
          0.021393133616264493,
          0.28550367294893975,
          0.1534053704905336,
          0.5622577930799475,
          1.0267450000150449,
          0.9026925156841314,
          0.6554093439394165,
          0.7423831089457429,
          0.8024845612683872,
          0.4227520300382269,
          0.11675219781314705,
          -0.2927371695889325,
          -0.3413834799021439,
          -0.448558451899821,
          -0.7847292436221179,
          -0.741577239827013,
          -0.6936509257442243,
          -0.5534862667507973,
          -0.6627523096061076,
          -0.19368500726578358,
          -0.17858793362478376,
          -0.2707252572700166,
          0.21119938210139122,
          0.38168405438035413,
          0.20844991979374855,
          0.859458869780193,
          0.700608099598934,
          0.7636518511413224,
          0.7530701772967701,
          0.7886507166860104,
          0.20931819035363813,
          0.09329190477574156,
          -0.06927028163711968,
          -0.4209378478426882,
          -0.5149504939566845,
          -0.6524124282602596,
          -0.5021136834865734,
          -0.8325378953833988,
          -0.8158692055493779,
          -0.5009104832494402,
          -0.3773275562610322,
          -0.07801648369132363,
          0.1441521192536689,
          0.026730045643154066,
          0.38215515140239176,
          0.4703574406475104,
          0.7586172718760834,
          0.839791480452035,
          0.7768632767867276,
          0.4016162225587827,
          0.17020007293332917,
          0.3842703558373775,
          -0.19970666273518445,
          -0.2745354529318349,
          -0.5499016797852002,
          -0.5442311976389801,
          -0.7683409990993701,
          -0.8955558259936702,
          -0.9142284722843004,
          -0.7299723288583705,
          -0.44159185746040963,
          -0.5964093909434183,
          -0.3200859830761982,
          0.33761454167482574,
          0.26360613538500477,
          0.6307925765984363,
          0.7218620460611886,
          0.8743497828978405,
          0.9052083935189943,
          0.8641037475498978,
          0.6411151476788095,
          0.26004437212499976,
          0.2620383594496678,
          0.03646244040537916,
          -0.22606931165119726,
          -0.3588874295735962,
          -0.5768156590909295,
          -0.6974598604399039,
          -0.7510207197439293,
          -0.7133750275571635,
          -0.517770983012342,
          -0.8490212868724939,
          -0.39897785938087915,
          -0.18676933253467287,
          -0.14688906230504117,
          0.33906955440235576,
          0.5923641237288275,
          0.6934118138006367,
          0.5612744249431055,
          0.9167212952973824,
          0.7364931647510247,
          0.5683496613185377,
          0.5897854115832912,
          0.3244514884804968,
          0.1758209249847985,
          -0.3869689294697758,
          -0.2553462362562239,
          -0.7229769951521232,
          -0.6495193329293758,
          -0.8106579838007137,
          -0.7146552075798205,
          -0.5940792819021362,
          -0.5462757656855233,
          -0.32059717912627145,
          -0.38564021829341166,
          0.14138651900257593,
          0.2840169368865564,
          0.5392887371578654,
          0.6909014923680741,
          0.5181743823648146,
          0.5653646790731928,
          0.6589771381590382,
          0.7778985396659592,
          0.20714815809292558,
          0.3591104091722735,
          0.05222206016215469,
          -0.2693309133061922,
          -0.40813206147831793,
          -0.3614714072091717,
          -0.5000933084992727,
          -0.9061070476893669,
          -0.6101875036928579,
          -0.5828381347093352,
          -0.5194447193397547,
          -0.12166620877134016,
          -0.050827217316575024,
          0.22588309241328997,
          0.2646311692679023,
          0.47384192088267063,
          0.5418141064860804,
          0.8275279780209378,
          0.7844533303886186,
          0.757165557334962,
          0.46601307516386864,
          0.22988892117369109,
          0.22200172712705502,
          0.06377665729181159,
          -0.19636684177937114,
          -0.3906691682046211,
          -0.70555530483204,
          -0.8041709093366165,
          -0.8492020638198983,
          -0.9933646101367373,
          -0.6745961601244157,
          -0.4656309086535224,
          -0.20098274197437116,
          -0.09299254369320675,
          0.0575741692601921,
          0.2964207344368426,
          0.7529762000918,
          0.6798622334185536,
          0.812197141944714,
          0.8585255822885919,
          0.7521272600080627,
          0.7886129395364957,
          0.4382582540286191,
          0.31974363436761966,
          0.06341023381715583,
          -0.1547748760923513,
          -0.3434708651341061,
          -0.42518624954414114,
          -0.6739656765223184,
          -0.8521156591276908,
          -0.9413043642022761,
          -0.6912689499909226,
          -0.5201948043866512,
          -0.14440310763050124,
          -0.12671278870258196,
          0.14094683598383517,
          0.25587974909829414,
          0.4306019184426278,
          0.7902463740753357,
          0.866433592038776,
          1.05253336954903,
          0.7757577820430004,
          0.44746963799899137,
          0.45654858328073616,
          0.5879895462773846,
          0.0859643100391353,
          -0.4540513216489356,
          -0.49839705554559394,
          -0.7214805768510093,
          -0.679482912690494,
          -0.6481056324747638,
          -0.8827901243599194,
          -0.7091169850875769,
          -0.4043061229042409,
          -0.4596428699791432,
          -0.17712657976890844,
          0.3460031435416565,
          0.40271461710277334,
          0.41095876059947534,
          0.291816635444516,
          1.0465216251911253,
          0.80667664300962,
          0.7483943352906348,
          0.5889927409664721,
          0.22153746577954941,
          0.042034913148927266,
          -0.0853644988108121,
          -0.20395538968378446,
          -0.5201278452424836,
          -0.6100904852519407,
          -0.7006815824444632
         ],
         "yaxis": "y"
        }
       ],
       "layout": {
        "autosize": true,
        "legend": {
         "title": {
          "text": "variable"
         },
         "tracegroupgap": 0
        },
        "template": {
         "data": {
          "bar": [
           {
            "error_x": {
             "color": "#2a3f5f"
            },
            "error_y": {
             "color": "#2a3f5f"
            },
            "marker": {
             "line": {
              "color": "#E5ECF6",
              "width": 0.5
             },
             "pattern": {
              "fillmode": "overlay",
              "size": 10,
              "solidity": 0.2
             }
            },
            "type": "bar"
           }
          ],
          "barpolar": [
           {
            "marker": {
             "line": {
              "color": "#E5ECF6",
              "width": 0.5
             },
             "pattern": {
              "fillmode": "overlay",
              "size": 10,
              "solidity": 0.2
             }
            },
            "type": "barpolar"
           }
          ],
          "carpet": [
           {
            "aaxis": {
             "endlinecolor": "#2a3f5f",
             "gridcolor": "white",
             "linecolor": "white",
             "minorgridcolor": "white",
             "startlinecolor": "#2a3f5f"
            },
            "baxis": {
             "endlinecolor": "#2a3f5f",
             "gridcolor": "white",
             "linecolor": "white",
             "minorgridcolor": "white",
             "startlinecolor": "#2a3f5f"
            },
            "type": "carpet"
           }
          ],
          "choropleth": [
           {
            "colorbar": {
             "outlinewidth": 0,
             "ticks": ""
            },
            "type": "choropleth"
           }
          ],
          "contour": [
           {
            "colorbar": {
             "outlinewidth": 0,
             "ticks": ""
            },
            "colorscale": [
             [
              0,
              "#0d0887"
             ],
             [
              0.1111111111111111,
              "#46039f"
             ],
             [
              0.2222222222222222,
              "#7201a8"
             ],
             [
              0.3333333333333333,
              "#9c179e"
             ],
             [
              0.4444444444444444,
              "#bd3786"
             ],
             [
              0.5555555555555556,
              "#d8576b"
             ],
             [
              0.6666666666666666,
              "#ed7953"
             ],
             [
              0.7777777777777778,
              "#fb9f3a"
             ],
             [
              0.8888888888888888,
              "#fdca26"
             ],
             [
              1,
              "#f0f921"
             ]
            ],
            "type": "contour"
           }
          ],
          "contourcarpet": [
           {
            "colorbar": {
             "outlinewidth": 0,
             "ticks": ""
            },
            "type": "contourcarpet"
           }
          ],
          "heatmap": [
           {
            "colorbar": {
             "outlinewidth": 0,
             "ticks": ""
            },
            "colorscale": [
             [
              0,
              "#0d0887"
             ],
             [
              0.1111111111111111,
              "#46039f"
             ],
             [
              0.2222222222222222,
              "#7201a8"
             ],
             [
              0.3333333333333333,
              "#9c179e"
             ],
             [
              0.4444444444444444,
              "#bd3786"
             ],
             [
              0.5555555555555556,
              "#d8576b"
             ],
             [
              0.6666666666666666,
              "#ed7953"
             ],
             [
              0.7777777777777778,
              "#fb9f3a"
             ],
             [
              0.8888888888888888,
              "#fdca26"
             ],
             [
              1,
              "#f0f921"
             ]
            ],
            "type": "heatmap"
           }
          ],
          "heatmapgl": [
           {
            "colorbar": {
             "outlinewidth": 0,
             "ticks": ""
            },
            "colorscale": [
             [
              0,
              "#0d0887"
             ],
             [
              0.1111111111111111,
              "#46039f"
             ],
             [
              0.2222222222222222,
              "#7201a8"
             ],
             [
              0.3333333333333333,
              "#9c179e"
             ],
             [
              0.4444444444444444,
              "#bd3786"
             ],
             [
              0.5555555555555556,
              "#d8576b"
             ],
             [
              0.6666666666666666,
              "#ed7953"
             ],
             [
              0.7777777777777778,
              "#fb9f3a"
             ],
             [
              0.8888888888888888,
              "#fdca26"
             ],
             [
              1,
              "#f0f921"
             ]
            ],
            "type": "heatmapgl"
           }
          ],
          "histogram": [
           {
            "marker": {
             "pattern": {
              "fillmode": "overlay",
              "size": 10,
              "solidity": 0.2
             }
            },
            "type": "histogram"
           }
          ],
          "histogram2d": [
           {
            "colorbar": {
             "outlinewidth": 0,
             "ticks": ""
            },
            "colorscale": [
             [
              0,
              "#0d0887"
             ],
             [
              0.1111111111111111,
              "#46039f"
             ],
             [
              0.2222222222222222,
              "#7201a8"
             ],
             [
              0.3333333333333333,
              "#9c179e"
             ],
             [
              0.4444444444444444,
              "#bd3786"
             ],
             [
              0.5555555555555556,
              "#d8576b"
             ],
             [
              0.6666666666666666,
              "#ed7953"
             ],
             [
              0.7777777777777778,
              "#fb9f3a"
             ],
             [
              0.8888888888888888,
              "#fdca26"
             ],
             [
              1,
              "#f0f921"
             ]
            ],
            "type": "histogram2d"
           }
          ],
          "histogram2dcontour": [
           {
            "colorbar": {
             "outlinewidth": 0,
             "ticks": ""
            },
            "colorscale": [
             [
              0,
              "#0d0887"
             ],
             [
              0.1111111111111111,
              "#46039f"
             ],
             [
              0.2222222222222222,
              "#7201a8"
             ],
             [
              0.3333333333333333,
              "#9c179e"
             ],
             [
              0.4444444444444444,
              "#bd3786"
             ],
             [
              0.5555555555555556,
              "#d8576b"
             ],
             [
              0.6666666666666666,
              "#ed7953"
             ],
             [
              0.7777777777777778,
              "#fb9f3a"
             ],
             [
              0.8888888888888888,
              "#fdca26"
             ],
             [
              1,
              "#f0f921"
             ]
            ],
            "type": "histogram2dcontour"
           }
          ],
          "mesh3d": [
           {
            "colorbar": {
             "outlinewidth": 0,
             "ticks": ""
            },
            "type": "mesh3d"
           }
          ],
          "parcoords": [
           {
            "line": {
             "colorbar": {
              "outlinewidth": 0,
              "ticks": ""
             }
            },
            "type": "parcoords"
           }
          ],
          "pie": [
           {
            "automargin": true,
            "type": "pie"
           }
          ],
          "scatter": [
           {
            "fillpattern": {
             "fillmode": "overlay",
             "size": 10,
             "solidity": 0.2
            },
            "type": "scatter"
           }
          ],
          "scatter3d": [
           {
            "line": {
             "colorbar": {
              "outlinewidth": 0,
              "ticks": ""
             }
            },
            "marker": {
             "colorbar": {
              "outlinewidth": 0,
              "ticks": ""
             }
            },
            "type": "scatter3d"
           }
          ],
          "scattercarpet": [
           {
            "marker": {
             "colorbar": {
              "outlinewidth": 0,
              "ticks": ""
             }
            },
            "type": "scattercarpet"
           }
          ],
          "scattergeo": [
           {
            "marker": {
             "colorbar": {
              "outlinewidth": 0,
              "ticks": ""
             }
            },
            "type": "scattergeo"
           }
          ],
          "scattergl": [
           {
            "marker": {
             "colorbar": {
              "outlinewidth": 0,
              "ticks": ""
             }
            },
            "type": "scattergl"
           }
          ],
          "scattermapbox": [
           {
            "marker": {
             "colorbar": {
              "outlinewidth": 0,
              "ticks": ""
             }
            },
            "type": "scattermapbox"
           }
          ],
          "scatterpolar": [
           {
            "marker": {
             "colorbar": {
              "outlinewidth": 0,
              "ticks": ""
             }
            },
            "type": "scatterpolar"
           }
          ],
          "scatterpolargl": [
           {
            "marker": {
             "colorbar": {
              "outlinewidth": 0,
              "ticks": ""
             }
            },
            "type": "scatterpolargl"
           }
          ],
          "scatterternary": [
           {
            "marker": {
             "colorbar": {
              "outlinewidth": 0,
              "ticks": ""
             }
            },
            "type": "scatterternary"
           }
          ],
          "surface": [
           {
            "colorbar": {
             "outlinewidth": 0,
             "ticks": ""
            },
            "colorscale": [
             [
              0,
              "#0d0887"
             ],
             [
              0.1111111111111111,
              "#46039f"
             ],
             [
              0.2222222222222222,
              "#7201a8"
             ],
             [
              0.3333333333333333,
              "#9c179e"
             ],
             [
              0.4444444444444444,
              "#bd3786"
             ],
             [
              0.5555555555555556,
              "#d8576b"
             ],
             [
              0.6666666666666666,
              "#ed7953"
             ],
             [
              0.7777777777777778,
              "#fb9f3a"
             ],
             [
              0.8888888888888888,
              "#fdca26"
             ],
             [
              1,
              "#f0f921"
             ]
            ],
            "type": "surface"
           }
          ],
          "table": [
           {
            "cells": {
             "fill": {
              "color": "#EBF0F8"
             },
             "line": {
              "color": "white"
             }
            },
            "header": {
             "fill": {
              "color": "#C8D4E3"
             },
             "line": {
              "color": "white"
             }
            },
            "type": "table"
           }
          ]
         },
         "layout": {
          "annotationdefaults": {
           "arrowcolor": "#2a3f5f",
           "arrowhead": 0,
           "arrowwidth": 1
          },
          "autotypenumbers": "strict",
          "coloraxis": {
           "colorbar": {
            "outlinewidth": 0,
            "ticks": ""
           }
          },
          "colorscale": {
           "diverging": [
            [
             0,
             "#8e0152"
            ],
            [
             0.1,
             "#c51b7d"
            ],
            [
             0.2,
             "#de77ae"
            ],
            [
             0.3,
             "#f1b6da"
            ],
            [
             0.4,
             "#fde0ef"
            ],
            [
             0.5,
             "#f7f7f7"
            ],
            [
             0.6,
             "#e6f5d0"
            ],
            [
             0.7,
             "#b8e186"
            ],
            [
             0.8,
             "#7fbc41"
            ],
            [
             0.9,
             "#4d9221"
            ],
            [
             1,
             "#276419"
            ]
           ],
           "sequential": [
            [
             0,
             "#0d0887"
            ],
            [
             0.1111111111111111,
             "#46039f"
            ],
            [
             0.2222222222222222,
             "#7201a8"
            ],
            [
             0.3333333333333333,
             "#9c179e"
            ],
            [
             0.4444444444444444,
             "#bd3786"
            ],
            [
             0.5555555555555556,
             "#d8576b"
            ],
            [
             0.6666666666666666,
             "#ed7953"
            ],
            [
             0.7777777777777778,
             "#fb9f3a"
            ],
            [
             0.8888888888888888,
             "#fdca26"
            ],
            [
             1,
             "#f0f921"
            ]
           ],
           "sequentialminus": [
            [
             0,
             "#0d0887"
            ],
            [
             0.1111111111111111,
             "#46039f"
            ],
            [
             0.2222222222222222,
             "#7201a8"
            ],
            [
             0.3333333333333333,
             "#9c179e"
            ],
            [
             0.4444444444444444,
             "#bd3786"
            ],
            [
             0.5555555555555556,
             "#d8576b"
            ],
            [
             0.6666666666666666,
             "#ed7953"
            ],
            [
             0.7777777777777778,
             "#fb9f3a"
            ],
            [
             0.8888888888888888,
             "#fdca26"
            ],
            [
             1,
             "#f0f921"
            ]
           ]
          },
          "colorway": [
           "#636efa",
           "#EF553B",
           "#00cc96",
           "#ab63fa",
           "#FFA15A",
           "#19d3f3",
           "#FF6692",
           "#B6E880",
           "#FF97FF",
           "#FECB52"
          ],
          "font": {
           "color": "#2a3f5f"
          },
          "geo": {
           "bgcolor": "white",
           "lakecolor": "white",
           "landcolor": "#E5ECF6",
           "showlakes": true,
           "showland": true,
           "subunitcolor": "white"
          },
          "hoverlabel": {
           "align": "left"
          },
          "hovermode": "closest",
          "mapbox": {
           "style": "light"
          },
          "paper_bgcolor": "white",
          "plot_bgcolor": "#E5ECF6",
          "polar": {
           "angularaxis": {
            "gridcolor": "white",
            "linecolor": "white",
            "ticks": ""
           },
           "bgcolor": "#E5ECF6",
           "radialaxis": {
            "gridcolor": "white",
            "linecolor": "white",
            "ticks": ""
           }
          },
          "scene": {
           "xaxis": {
            "backgroundcolor": "#E5ECF6",
            "gridcolor": "white",
            "gridwidth": 2,
            "linecolor": "white",
            "showbackground": true,
            "ticks": "",
            "zerolinecolor": "white"
           },
           "yaxis": {
            "backgroundcolor": "#E5ECF6",
            "gridcolor": "white",
            "gridwidth": 2,
            "linecolor": "white",
            "showbackground": true,
            "ticks": "",
            "zerolinecolor": "white"
           },
           "zaxis": {
            "backgroundcolor": "#E5ECF6",
            "gridcolor": "white",
            "gridwidth": 2,
            "linecolor": "white",
            "showbackground": true,
            "ticks": "",
            "zerolinecolor": "white"
           }
          },
          "shapedefaults": {
           "line": {
            "color": "#2a3f5f"
           }
          },
          "ternary": {
           "aaxis": {
            "gridcolor": "white",
            "linecolor": "white",
            "ticks": ""
           },
           "baxis": {
            "gridcolor": "white",
            "linecolor": "white",
            "ticks": ""
           },
           "bgcolor": "#E5ECF6",
           "caxis": {
            "gridcolor": "white",
            "linecolor": "white",
            "ticks": ""
           }
          },
          "title": {
           "x": 0.05
          },
          "xaxis": {
           "automargin": true,
           "gridcolor": "white",
           "linecolor": "white",
           "ticks": "",
           "title": {
            "standoff": 15
           },
           "zerolinecolor": "white",
           "zerolinewidth": 2
          },
          "yaxis": {
           "automargin": true,
           "gridcolor": "white",
           "linecolor": "white",
           "ticks": "",
           "title": {
            "standoff": 15
           },
           "zerolinecolor": "white",
           "zerolinewidth": 2
          }
         }
        },
        "title": {
         "text": "PC output over time"
        },
        "xaxis": {
         "anchor": "y",
         "autorange": true,
         "domain": [
          0,
          1
         ],
         "range": [
          0,
          209
         ],
         "title": {
          "text": "t"
         },
         "type": "linear"
        },
        "yaxis": {
         "anchor": "x",
         "autorange": true,
         "domain": [
          0,
          1
         ],
         "range": [
          -3.121142588381672,
          3.0691253128579605
         ],
         "title": {
          "text": "value"
         },
         "type": "linear"
        }
       }
      },
      "image/png": "[encoded data removed]",
      "text/html": [
       "<div>                            <div id=\"10cccd8e-6bce-4951-8f3f-a04eeb18b846\" class=\"plotly-graph-div\" style=\"height:525px; width:100%;\"></div>            <script type=\"text/javascript\">                require([\"plotly\"], function(Plotly) {                    window.PLOTLYENV=window.PLOTLYENV || {};                                    if (document.getElementById(\"10cccd8e-6bce-4951-8f3f-a04eeb18b846\")) {                    Plotly.newPlot(                        \"10cccd8e-6bce-4951-8f3f-a04eeb18b846\",                        [{\"hovertemplate\":\"variable=x_pc(t)\\u003cbr\\u003et=%{x}\\u003cbr\\u003evalue=%{y}\\u003cextra\\u003e\\u003c\\u002fextra\\u003e\",\"legendgroup\":\"x_pc(t)\",\"line\":{\"color\":\"#636efa\",\"dash\":\"solid\"},\"marker\":{\"symbol\":\"circle\"},\"mode\":\"lines\",\"name\":\"x_pc(t)\",\"orientation\":\"v\",\"showlegend\":true,\"x\":[0,1,2,3,4,5,6,7,8,9,10,11,12,13,14,15,16,17,18,19,20,21,22,23,24,25,26,27,28,29,30,31,32,33,34,35,36,37,38,39,40,41,42,43,44,45,46,47,48,49,50,51,52,53,54,55,56,57,58,59,60,61,62,63,64,65,66,67,68,69,70,71,72,73,74,75,76,77,78,79,80,81,82,83,84,85,86,87,88,89,90,91,92,93,94,95,96,97,98,99,100,101,102,103,104,105,106,107,108,109,110,111,112,113,114,115,116,117,118,119,120,121,122,123,124,125,126,127,128,129,130,131,132,133,134,135,136,137,138,139,140,141,142,143,144,145,146,147,148,149,150,151,152,153,154,155,156,157,158,159,160,161,162,163,164,165,166,167,168,169,170,171,172,173,174,175,176,177,178,179,180,181,182,183,184,185,186,187,188,189,190,191,192,193,194,195,196,197,198,199,200,201,202,203,204,205,206,207,208,209],\"xaxis\":\"x\",\"y\":[-1.5708645338297482,-1.1050060190061997,-1.0440661450506166,-0.22372857341982433,0.9314285347980017,1.7674846317546025,2.078183933596386,2.3623050744960876,1.9636295313462102,2.1577030414093223,2.4693366529287326,1.877214152765018,0.8116000754690156,0.40560875961387155,-0.13724733877427564,-0.984990971744517,-1.6693896500613046,-2.5261185208308645,-2.460811607959994,-2.166811180636689,-2.4763034422138315,-1.732712976758276,-1.1784973102474623,-0.20934053485507786,-0.19642421630179707,1.1173492467476955,1.3208050807358047,1.3797403638558021,2.1927419012852907,2.2168714091948316,1.5936580615632887,2.4907342178633125,1.4849391634686655,1.078135780435557,0.30565893581893133,-0.029866491665131,-1.220288482603801,-1.624198057264773,-1.9825770787408343,-2.642559686237858,-2.2482847814169524,-1.977909117028061,-1.3846645095937498,-1.089916549941968,-0.7415274234632702,0.12215747062501758,0.8608628116012584,1.62951023218453,2.3501734751855685,1.6958807640296463,2.176883307773209,2.0326874459988575,2.0073313180707846,1.501185245349322,0.8586377033009185,-0.19118791567668905,-1.1259512243472682,-1.0420037424332023,-2.306239809328337,-2.332449701760671,-2.8116291933196904,-2.4938661905265285,-2.371260799986379,-2.1584450380127795,-1.560322773451988,-0.6665288613027723,0.4370136976648519,0.5514306079866717,1.322832722059096,2.502457557213331,2.3588621989792875,2.6702155073787006,2.6369437711702766,2.1941736796855165,2.0142577558410233,1.1431128397072263,0.1458127483839039,-0.7172916943738147,-1.2756606354646447,-1.8361473576225424,-2.282440331839346,-2.4386330954284063,-2.395486954815251,-2.112483734009792,-1.762638993092644,-1.0206774040541815,-0.024286757410984294,-0.10719789719844003,0.8270875545296297,1.3894855150185725,1.6856309975480148,2.581183736088023,2.4601690648588943,2.5276475317741287,1.5426523168019033,1.7389765713236507,0.9504935149539199,0.13735092613936756,-0.3330354048629189,-1.153960619338399,-1.6123082380048428,-2.711789024731025,-2.008509042376643,-2.6878928046249344,-2.2004943508832238,-1.7687191414081573,-0.9554122524661072,-0.0417112669760934,0.4827119856654716,0.9457450383804661,1.251882868980651,2.0489192288210383,2.1718064955581733,2.3756303108865797,2.1787978211135783,1.679692725997114,0.9727183406924615,0.6539262685708862,0.48201788006521123,-0.9707652419550884,-1.1396813926818583,-1.8930657731744172,-2.274591049428389,-2.3587051812300315,-2.0026829168321125,-1.8017627838298704,-1.7400151389610228,-0.7468358766124045,0.13663273232895828,0.3463687314681315,1.5955264481720366,1.7233595581721237,2.3490807196273975,2.294726692021884,2.339809734853592,2.385635455520834,2.069181820066741,1.4810726871030244,0.7526302751419591,-0.28644267144680635,-1.1475779102836272,-1.4192808208782717,-1.906976649773831,-2.3965394130580067,-2.089292005510857,-2.632155069055043,-2.005699515366052,-1.9186687202211288,-1.5567145109310223,-0.4110572526083486,0.7023716926688192,1.2586781848585116,1.7248407480761054,2.087770391364253,2.3535459177148086,2.759611917795979,2.3479371828293605,1.7453329583043082,1.399803005903154,0.584574224121754,0.32773369291150045,-0.6538816617560451,-1.356648780193297,-1.669468407016095,-2.2315099383123007,-2.271478050497638,-2.08812816664836,-1.945154252578036,-1.7359985240588833,-1.568511931137673,-0.5263794679979361,0.322172718599427,1.5598264282936873,1.4513586097657516,2.105363300879329,2.3129899573302826,2.1613454271239805,2.477003405571425,1.9801960586387655,1.7981910054384458,0.8712417576739993,-0.04252516414424695,-0.7634298879652613,-0.7406353994321021,-1.7564177361910411,-2.7041206238921207,-2.4571461631098277,-2.5161347880316685,-1.9727595338747022,-1.5842718979605246,-1.0664100961299,-0.33804902260092146,0.5171204711208803,0.9104282165883363,1.4722056660982092,2.6044688178189745,2.2690213120399556,2.466952709243445,1.4600625919313066,2.354093429892818,1.469959842370328,0.8687519100164095,-0.10917435915875567,-1.1382791208535796,-1.6908288504557512,-2.280649424620823,-2.2803073303349146,-2.7192670629113707,-2.464392733368994,-1.99982079071763],\"yaxis\":\"y\",\"type\":\"scatter\"},{\"hovertemplate\":\"variable=y_pc(t)\\u003cbr\\u003et=%{x}\\u003cbr\\u003evalue=%{y}\\u003cextra\\u003e\\u003c\\u002fextra\\u003e\",\"legendgroup\":\"y_pc(t)\",\"line\":{\"color\":\"#EF553B\",\"dash\":\"solid\"},\"marker\":{\"symbol\":\"circle\"},\"mode\":\"lines\",\"name\":\"y_pc(t)\",\"orientation\":\"v\",\"showlegend\":true,\"x\":[0,1,2,3,4,5,6,7,8,9,10,11,12,13,14,15,16,17,18,19,20,21,22,23,24,25,26,27,28,29,30,31,32,33,34,35,36,37,38,39,40,41,42,43,44,45,46,47,48,49,50,51,52,53,54,55,56,57,58,59,60,61,62,63,64,65,66,67,68,69,70,71,72,73,74,75,76,77,78,79,80,81,82,83,84,85,86,87,88,89,90,91,92,93,94,95,96,97,98,99,100,101,102,103,104,105,106,107,108,109,110,111,112,113,114,115,116,117,118,119,120,121,122,123,124,125,126,127,128,129,130,131,132,133,134,135,136,137,138,139,140,141,142,143,144,145,146,147,148,149,150,151,152,153,154,155,156,157,158,159,160,161,162,163,164,165,166,167,168,169,170,171,172,173,174,175,176,177,178,179,180,181,182,183,184,185,186,187,188,189,190,191,192,193,194,195,196,197,198,199,200,201,202,203,204,205,206,207,208,209],\"xaxis\":\"x\",\"y\":[-0.6642511673873228,-0.6818367586727512,-0.8576785865453553,-0.7644343735192269,-0.2778091392201745,-0.02976200595778522,0.021393133616264493,0.28550367294893975,0.1534053704905336,0.5622577930799475,1.0267450000150449,0.9026925156841314,0.6554093439394165,0.7423831089457429,0.8024845612683872,0.4227520300382269,0.11675219781314705,-0.2927371695889325,-0.3413834799021439,-0.448558451899821,-0.7847292436221179,-0.741577239827013,-0.6936509257442243,-0.5534862667507973,-0.6627523096061076,-0.19368500726578358,-0.17858793362478376,-0.2707252572700166,0.21119938210139122,0.38168405438035413,0.20844991979374855,0.859458869780193,0.700608099598934,0.7636518511413224,0.7530701772967701,0.7886507166860104,0.20931819035363813,0.09329190477574156,-0.06927028163711968,-0.4209378478426882,-0.5149504939566845,-0.6524124282602596,-0.5021136834865734,-0.8325378953833988,-0.8158692055493779,-0.5009104832494402,-0.3773275562610322,-0.07801648369132363,0.1441521192536689,0.026730045643154066,0.38215515140239176,0.4703574406475104,0.7586172718760834,0.839791480452035,0.7768632767867276,0.4016162225587827,0.17020007293332917,0.3842703558373775,-0.19970666273518445,-0.2745354529318349,-0.5499016797852002,-0.5442311976389801,-0.7683409990993701,-0.8955558259936702,-0.9142284722843004,-0.7299723288583705,-0.44159185746040963,-0.5964093909434183,-0.3200859830761982,0.33761454167482574,0.26360613538500477,0.6307925765984363,0.7218620460611886,0.8743497828978405,0.9052083935189943,0.8641037475498978,0.6411151476788095,0.26004437212499976,0.2620383594496678,0.03646244040537916,-0.22606931165119726,-0.3588874295735962,-0.5768156590909295,-0.6974598604399039,-0.7510207197439293,-0.7133750275571635,-0.517770983012342,-0.8490212868724939,-0.39897785938087915,-0.18676933253467287,-0.14688906230504117,0.33906955440235576,0.5923641237288275,0.6934118138006367,0.5612744249431055,0.9167212952973824,0.7364931647510247,0.5683496613185377,0.5897854115832912,0.3244514884804968,0.1758209249847985,-0.3869689294697758,-0.2553462362562239,-0.7229769951521232,-0.6495193329293758,-0.8106579838007137,-0.7146552075798205,-0.5940792819021362,-0.5462757656855233,-0.32059717912627145,-0.38564021829341166,0.14138651900257593,0.2840169368865564,0.5392887371578654,0.6909014923680741,0.5181743823648146,0.5653646790731928,0.6589771381590382,0.7778985396659592,0.20714815809292558,0.3591104091722735,0.05222206016215469,-0.2693309133061922,-0.40813206147831793,-0.3614714072091717,-0.5000933084992727,-0.9061070476893669,-0.6101875036928579,-0.5828381347093352,-0.5194447193397547,-0.12166620877134016,-0.050827217316575024,0.22588309241328997,0.2646311692679023,0.47384192088267063,0.5418141064860804,0.8275279780209378,0.7844533303886186,0.757165557334962,0.46601307516386864,0.22988892117369109,0.22200172712705502,0.06377665729181159,-0.19636684177937114,-0.3906691682046211,-0.70555530483204,-0.8041709093366165,-0.8492020638198983,-0.9933646101367373,-0.6745961601244157,-0.4656309086535224,-0.20098274197437116,-0.09299254369320675,0.0575741692601921,0.2964207344368426,0.7529762000918,0.6798622334185536,0.812197141944714,0.8585255822885919,0.7521272600080627,0.7886129395364957,0.4382582540286191,0.31974363436761966,0.06341023381715583,-0.1547748760923513,-0.3434708651341061,-0.42518624954414114,-0.6739656765223184,-0.8521156591276908,-0.9413043642022761,-0.6912689499909226,-0.5201948043866512,-0.14440310763050124,-0.12671278870258196,0.14094683598383517,0.25587974909829414,0.4306019184426278,0.7902463740753357,0.866433592038776,1.05253336954903,0.7757577820430004,0.44746963799899137,0.45654858328073616,0.5879895462773846,0.0859643100391353,-0.4540513216489356,-0.49839705554559394,-0.7214805768510093,-0.679482912690494,-0.6481056324747638,-0.8827901243599194,-0.7091169850875769,-0.4043061229042409,-0.4596428699791432,-0.17712657976890844,0.3460031435416565,0.40271461710277334,0.41095876059947534,0.291816635444516,1.0465216251911253,0.80667664300962,0.7483943352906348,0.5889927409664721,0.22153746577954941,0.042034913148927266,-0.0853644988108121,-0.20395538968378446,-0.5201278452424836,-0.6100904852519407,-0.7006815824444632],\"yaxis\":\"y\",\"type\":\"scatter\"}],                        {\"template\":{\"data\":{\"histogram2dcontour\":[{\"type\":\"histogram2dcontour\",\"colorbar\":{\"outlinewidth\":0,\"ticks\":\"\"},\"colorscale\":[[0.0,\"#0d0887\"],[0.1111111111111111,\"#46039f\"],[0.2222222222222222,\"#7201a8\"],[0.3333333333333333,\"#9c179e\"],[0.4444444444444444,\"#bd3786\"],[0.5555555555555556,\"#d8576b\"],[0.6666666666666666,\"#ed7953\"],[0.7777777777777778,\"#fb9f3a\"],[0.8888888888888888,\"#fdca26\"],[1.0,\"#f0f921\"]]}],\"choropleth\":[{\"type\":\"choropleth\",\"colorbar\":{\"outlinewidth\":0,\"ticks\":\"\"}}],\"histogram2d\":[{\"type\":\"histogram2d\",\"colorbar\":{\"outlinewidth\":0,\"ticks\":\"\"},\"colorscale\":[[0.0,\"#0d0887\"],[0.1111111111111111,\"#46039f\"],[0.2222222222222222,\"#7201a8\"],[0.3333333333333333,\"#9c179e\"],[0.4444444444444444,\"#bd3786\"],[0.5555555555555556,\"#d8576b\"],[0.6666666666666666,\"#ed7953\"],[0.7777777777777778,\"#fb9f3a\"],[0.8888888888888888,\"#fdca26\"],[1.0,\"#f0f921\"]]}],\"heatmap\":[{\"type\":\"heatmap\",\"colorbar\":{\"outlinewidth\":0,\"ticks\":\"\"},\"colorscale\":[[0.0,\"#0d0887\"],[0.1111111111111111,\"#46039f\"],[0.2222222222222222,\"#7201a8\"],[0.3333333333333333,\"#9c179e\"],[0.4444444444444444,\"#bd3786\"],[0.5555555555555556,\"#d8576b\"],[0.6666666666666666,\"#ed7953\"],[0.7777777777777778,\"#fb9f3a\"],[0.8888888888888888,\"#fdca26\"],[1.0,\"#f0f921\"]]}],\"heatmapgl\":[{\"type\":\"heatmapgl\",\"colorbar\":{\"outlinewidth\":0,\"ticks\":\"\"},\"colorscale\":[[0.0,\"#0d0887\"],[0.1111111111111111,\"#46039f\"],[0.2222222222222222,\"#7201a8\"],[0.3333333333333333,\"#9c179e\"],[0.4444444444444444,\"#bd3786\"],[0.5555555555555556,\"#d8576b\"],[0.6666666666666666,\"#ed7953\"],[0.7777777777777778,\"#fb9f3a\"],[0.8888888888888888,\"#fdca26\"],[1.0,\"#f0f921\"]]}],\"contourcarpet\":[{\"type\":\"contourcarpet\",\"colorbar\":{\"outlinewidth\":0,\"ticks\":\"\"}}],\"contour\":[{\"type\":\"contour\",\"colorbar\":{\"outlinewidth\":0,\"ticks\":\"\"},\"colorscale\":[[0.0,\"#0d0887\"],[0.1111111111111111,\"#46039f\"],[0.2222222222222222,\"#7201a8\"],[0.3333333333333333,\"#9c179e\"],[0.4444444444444444,\"#bd3786\"],[0.5555555555555556,\"#d8576b\"],[0.6666666666666666,\"#ed7953\"],[0.7777777777777778,\"#fb9f3a\"],[0.8888888888888888,\"#fdca26\"],[1.0,\"#f0f921\"]]}],\"surface\":[{\"type\":\"surface\",\"colorbar\":{\"outlinewidth\":0,\"ticks\":\"\"},\"colorscale\":[[0.0,\"#0d0887\"],[0.1111111111111111,\"#46039f\"],[0.2222222222222222,\"#7201a8\"],[0.3333333333333333,\"#9c179e\"],[0.4444444444444444,\"#bd3786\"],[0.5555555555555556,\"#d8576b\"],[0.6666666666666666,\"#ed7953\"],[0.7777777777777778,\"#fb9f3a\"],[0.8888888888888888,\"#fdca26\"],[1.0,\"#f0f921\"]]}],\"mesh3d\":[{\"type\":\"mesh3d\",\"colorbar\":{\"outlinewidth\":0,\"ticks\":\"\"}}],\"scatter\":[{\"fillpattern\":{\"fillmode\":\"overlay\",\"size\":10,\"solidity\":0.2},\"type\":\"scatter\"}],\"parcoords\":[{\"type\":\"parcoords\",\"line\":{\"colorbar\":{\"outlinewidth\":0,\"ticks\":\"\"}}}],\"scatterpolargl\":[{\"type\":\"scatterpolargl\",\"marker\":{\"colorbar\":{\"outlinewidth\":0,\"ticks\":\"\"}}}],\"bar\":[{\"error_x\":{\"color\":\"#2a3f5f\"},\"error_y\":{\"color\":\"#2a3f5f\"},\"marker\":{\"line\":{\"color\":\"#E5ECF6\",\"width\":0.5},\"pattern\":{\"fillmode\":\"overlay\",\"size\":10,\"solidity\":0.2}},\"type\":\"bar\"}],\"scattergeo\":[{\"type\":\"scattergeo\",\"marker\":{\"colorbar\":{\"outlinewidth\":0,\"ticks\":\"\"}}}],\"scatterpolar\":[{\"type\":\"scatterpolar\",\"marker\":{\"colorbar\":{\"outlinewidth\":0,\"ticks\":\"\"}}}],\"histogram\":[{\"marker\":{\"pattern\":{\"fillmode\":\"overlay\",\"size\":10,\"solidity\":0.2}},\"type\":\"histogram\"}],\"scattergl\":[{\"type\":\"scattergl\",\"marker\":{\"colorbar\":{\"outlinewidth\":0,\"ticks\":\"\"}}}],\"scatter3d\":[{\"type\":\"scatter3d\",\"line\":{\"colorbar\":{\"outlinewidth\":0,\"ticks\":\"\"}},\"marker\":{\"colorbar\":{\"outlinewidth\":0,\"ticks\":\"\"}}}],\"scattermapbox\":[{\"type\":\"scattermapbox\",\"marker\":{\"colorbar\":{\"outlinewidth\":0,\"ticks\":\"\"}}}],\"scatterternary\":[{\"type\":\"scatterternary\",\"marker\":{\"colorbar\":{\"outlinewidth\":0,\"ticks\":\"\"}}}],\"scattercarpet\":[{\"type\":\"scattercarpet\",\"marker\":{\"colorbar\":{\"outlinewidth\":0,\"ticks\":\"\"}}}],\"carpet\":[{\"aaxis\":{\"endlinecolor\":\"#2a3f5f\",\"gridcolor\":\"white\",\"linecolor\":\"white\",\"minorgridcolor\":\"white\",\"startlinecolor\":\"#2a3f5f\"},\"baxis\":{\"endlinecolor\":\"#2a3f5f\",\"gridcolor\":\"white\",\"linecolor\":\"white\",\"minorgridcolor\":\"white\",\"startlinecolor\":\"#2a3f5f\"},\"type\":\"carpet\"}],\"table\":[{\"cells\":{\"fill\":{\"color\":\"#EBF0F8\"},\"line\":{\"color\":\"white\"}},\"header\":{\"fill\":{\"color\":\"#C8D4E3\"},\"line\":{\"color\":\"white\"}},\"type\":\"table\"}],\"barpolar\":[{\"marker\":{\"line\":{\"color\":\"#E5ECF6\",\"width\":0.5},\"pattern\":{\"fillmode\":\"overlay\",\"size\":10,\"solidity\":0.2}},\"type\":\"barpolar\"}],\"pie\":[{\"automargin\":true,\"type\":\"pie\"}]},\"layout\":{\"autotypenumbers\":\"strict\",\"colorway\":[\"#636efa\",\"#EF553B\",\"#00cc96\",\"#ab63fa\",\"#FFA15A\",\"#19d3f3\",\"#FF6692\",\"#B6E880\",\"#FF97FF\",\"#FECB52\"],\"font\":{\"color\":\"#2a3f5f\"},\"hovermode\":\"closest\",\"hoverlabel\":{\"align\":\"left\"},\"paper_bgcolor\":\"white\",\"plot_bgcolor\":\"#E5ECF6\",\"polar\":{\"bgcolor\":\"#E5ECF6\",\"angularaxis\":{\"gridcolor\":\"white\",\"linecolor\":\"white\",\"ticks\":\"\"},\"radialaxis\":{\"gridcolor\":\"white\",\"linecolor\":\"white\",\"ticks\":\"\"}},\"ternary\":{\"bgcolor\":\"#E5ECF6\",\"aaxis\":{\"gridcolor\":\"white\",\"linecolor\":\"white\",\"ticks\":\"\"},\"baxis\":{\"gridcolor\":\"white\",\"linecolor\":\"white\",\"ticks\":\"\"},\"caxis\":{\"gridcolor\":\"white\",\"linecolor\":\"white\",\"ticks\":\"\"}},\"coloraxis\":{\"colorbar\":{\"outlinewidth\":0,\"ticks\":\"\"}},\"colorscale\":{\"sequential\":[[0.0,\"#0d0887\"],[0.1111111111111111,\"#46039f\"],[0.2222222222222222,\"#7201a8\"],[0.3333333333333333,\"#9c179e\"],[0.4444444444444444,\"#bd3786\"],[0.5555555555555556,\"#d8576b\"],[0.6666666666666666,\"#ed7953\"],[0.7777777777777778,\"#fb9f3a\"],[0.8888888888888888,\"#fdca26\"],[1.0,\"#f0f921\"]],\"sequentialminus\":[[0.0,\"#0d0887\"],[0.1111111111111111,\"#46039f\"],[0.2222222222222222,\"#7201a8\"],[0.3333333333333333,\"#9c179e\"],[0.4444444444444444,\"#bd3786\"],[0.5555555555555556,\"#d8576b\"],[0.6666666666666666,\"#ed7953\"],[0.7777777777777778,\"#fb9f3a\"],[0.8888888888888888,\"#fdca26\"],[1.0,\"#f0f921\"]],\"diverging\":[[0,\"#8e0152\"],[0.1,\"#c51b7d\"],[0.2,\"#de77ae\"],[0.3,\"#f1b6da\"],[0.4,\"#fde0ef\"],[0.5,\"#f7f7f7\"],[0.6,\"#e6f5d0\"],[0.7,\"#b8e186\"],[0.8,\"#7fbc41\"],[0.9,\"#4d9221\"],[1,\"#276419\"]]},\"xaxis\":{\"gridcolor\":\"white\",\"linecolor\":\"white\",\"ticks\":\"\",\"title\":{\"standoff\":15},\"zerolinecolor\":\"white\",\"automargin\":true,\"zerolinewidth\":2},\"yaxis\":{\"gridcolor\":\"white\",\"linecolor\":\"white\",\"ticks\":\"\",\"title\":{\"standoff\":15},\"zerolinecolor\":\"white\",\"automargin\":true,\"zerolinewidth\":2},\"scene\":{\"xaxis\":{\"backgroundcolor\":\"#E5ECF6\",\"gridcolor\":\"white\",\"linecolor\":\"white\",\"showbackground\":true,\"ticks\":\"\",\"zerolinecolor\":\"white\",\"gridwidth\":2},\"yaxis\":{\"backgroundcolor\":\"#E5ECF6\",\"gridcolor\":\"white\",\"linecolor\":\"white\",\"showbackground\":true,\"ticks\":\"\",\"zerolinecolor\":\"white\",\"gridwidth\":2},\"zaxis\":{\"backgroundcolor\":\"#E5ECF6\",\"gridcolor\":\"white\",\"linecolor\":\"white\",\"showbackground\":true,\"ticks\":\"\",\"zerolinecolor\":\"white\",\"gridwidth\":2}},\"shapedefaults\":{\"line\":{\"color\":\"#2a3f5f\"}},\"annotationdefaults\":{\"arrowcolor\":\"#2a3f5f\",\"arrowhead\":0,\"arrowwidth\":1},\"geo\":{\"bgcolor\":\"white\",\"landcolor\":\"#E5ECF6\",\"subunitcolor\":\"white\",\"showland\":true,\"showlakes\":true,\"lakecolor\":\"white\"},\"title\":{\"x\":0.05},\"mapbox\":{\"style\":\"light\"}}},\"xaxis\":{\"anchor\":\"y\",\"domain\":[0.0,1.0],\"title\":{\"text\":\"t\"}},\"yaxis\":{\"anchor\":\"x\",\"domain\":[0.0,1.0],\"title\":{\"text\":\"value\"}},\"legend\":{\"title\":{\"text\":\"variable\"},\"tracegroupgap\":0},\"title\":{\"text\":\"PC output over time\"}},                        {\"responsive\": true}                    ).then(function(){\n",
       "                            \n",
       "var gd = document.getElementById('10cccd8e-6bce-4951-8f3f-a04eeb18b846');\n",
       "var x = new MutationObserver(function (mutations, observer) {{\n",
       "        var display = window.getComputedStyle(gd).display;\n",
       "        if (!display || display === 'none') {{\n",
       "            console.log([gd, 'removed!']);\n",
       "            Plotly.purge(gd);\n",
       "            observer.disconnect();\n",
       "        }}\n",
       "}});\n",
       "\n",
       "// Listen for the removal of the full notebook cells\n",
       "var notebookContainer = gd.closest('#notebook-container');\n",
       "if (notebookContainer) {{\n",
       "    x.observe(notebookContainer, {childList: true});\n",
       "}}\n",
       "\n",
       "// Listen for the clearing of the current output cell\n",
       "var outputEl = gd.closest('.output');\n",
       "if (outputEl) {{\n",
       "    x.observe(outputEl, {childList: true});\n",
       "}}\n",
       "\n",
       "                        })                };                });            </script>        </div>"
      ]
     },
     "metadata": {},
     "output_type": "display_data"
    }
   ],
   "source": [
    "t = np.arange(len(PC))\n",
    "\n",
    "fig = px.line({'t': t, 'x_pc(t)':PC[:,0], 'y_pc(t)': PC[:,1]}, x = 't', y = ['x_pc(t)', 'y_pc(t)'], title = f'PC output over time')\n",
    "fig.show()"
   ]
  },
  {
   "cell_type": "markdown",
   "id": "b5979057-a51b-4776-9743-d02e91d369fd",
   "metadata": {},
   "source": [
    "This is a pretty close approximation to the above $x(t)$ and $y(t)$ plots.\n",
    "\n",
    "In conclusion, PCA can provide a way to reduce the dimensionality of data while preserving key relationships and revealing interesting facts."
   ]
  }
 ],
 "metadata": {
  "kernelspec": {
   "display_name": "Python 3 (ipykernel)",
   "language": "python",
   "name": "python3"
  },
  "language_info": {
   "codemirror_mode": {
    "name": "ipython",
    "version": 3
   },
   "file_extension": ".py",
   "mimetype": "text/x-python",
   "name": "python",
   "nbconvert_exporter": "python",
   "pygments_lexer": "ipython3",
   "version": "3.12.7"
  }
 },
 "nbformat": 4,
 "nbformat_minor": 5
}
